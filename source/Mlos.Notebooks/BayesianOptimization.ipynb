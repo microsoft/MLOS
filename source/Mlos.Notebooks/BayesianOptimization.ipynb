{
 "cells": [
  {
   "cell_type": "code",
   "execution_count": 1,
   "metadata": {},
   "outputs": [
    {
     "name": "stderr",
     "output_type": "stream",
     "text": [
      "C:\\Users\\User\\anaconda3\\envs\\mlos\\lib\\site-packages\\ipykernel\\parentpoller.py:113: UserWarning: Parent poll failed.  If the frontend dies,\n",
      "                the kernel may be left running.  Please let us know\n",
      "                about your system (bitness, Python, etc.) at\n",
      "                ipython-dev@scipy.org\n",
      "  warnings.warn(\"\"\"Parent poll failed.  If the frontend dies,\n"
     ]
    }
   ],
   "source": [
    "import matplotlib.pyplot as plt\n",
    "import numpy as np\n",
    "import pandas as pd"
   ]
  },
  {
   "cell_type": "markdown",
   "metadata": {},
   "source": [
    "# Bayesian Optimization"
   ]
  },
  {
   "cell_type": "markdown",
   "metadata": {},
   "source": [
    "This notebook demonstrates the basic principles of [Bayesian Optimization (BO)](https://en.wikipedia.org/wiki/Bayesian_optimization) and how to use MLOS to perform BO.\n",
    "\n",
    "## Motivation\n",
    "\n",
    "In software performance engineering, the impact different (input) parameters (e.g. buffer size, worker thread count, etc.) can have on the (output) performance of a system for a given workload (input) can be modeled as a multidimensional function - one which we don't know the equation for apriori, but are instead trying to learn through careful sampling of the input space and experimentation (test/benchmark runs) to gather output points.\n",
    "Bayesian optimization is one technique for efficiently selecting the samples in the input space to learn the approximate shape of that function and find its optimum, i.,e. the parameters that lead to the best performance.\n",
    "In this example we use a synthetic (i.e. made-up) function that we can look at directly to stand in for a complex system with unknown characteristics.\n",
    "\n",
    "Bayesian Optimization is a [global optimization](https://en.wikipedia.org/wiki/Global_optimization) strategy, so a way to find the global optimum of a mathematical function that's not necessarily [convex](https://en.wikipedia.org/wiki/Convex_function). BO is a black-box optimization technique, meaning that it requires only function values and no other information like gradients.\n",
    "\n",
    "This is in contrast to other optimization strategies, such as gradient descent or conjugate gradient that require gradients and are only guaranteed to find a local optimum (if the function is assumed to be convex, this is also the global optimum).\n",
    "\n",
    "Finding the global optimum of a general non-convext function is NP-hard, which makes it impossible to provide effective convergence guarantees for any global optimization strategy, including Bayesian Optimization. However, BO has been found to be quite effective in the past."
   ]
  },
  {
   "cell_type": "markdown",
   "metadata": {},
   "source": [
    "## A synthetic example"
   ]
  },
  {
   "cell_type": "markdown",
   "metadata": {},
   "source": [
    "Let's take a simple synthetic example of a one-dimensional function that we assume is unknown.\n",
    "If we actually had access to the function, we could use more efficient techniques using calculus and would not be using Bayesian Optimization."
   ]
  },
  {
   "cell_type": "code",
   "execution_count": 2,
   "metadata": {},
   "outputs": [],
   "source": [
    "# define fake performance function\n",
    "# In an actual application, we would not have access to this function directly.\n",
    "# Instead, we could only measure the outcome by running an experiment, such as timing\n",
    "# a particular run of the system.\n",
    "def f(x):\n",
    "    return (6*x-2)**2*np.sin(12*x-4)"
   ]
  },
  {
   "cell_type": "markdown",
   "metadata": {},
   "source": [
    "In a real use case for global optimization, the function we want to optimize is usually only implicitly defined and very expensive to compute, such as training and evaluating a neural network, or timing the run of a large workload on a distributed database. Given the cost of evaluating the function, our goal is to find an optimum while keeping the number of function evaluations to a minimum.\n",
    "\n",
    "In this synthetic example, we actually know the function, so we can just plot it for illustration purposes:"
   ]
  },
  {
   "cell_type": "code",
   "execution_count": 3,
   "metadata": {},
   "outputs": [
    {
     "data": {
      "text/plain": [
       "Text(0, 0.5, 'Objective (i.e. performance)')"
      ]
     },
     "execution_count": 3,
     "metadata": {},
     "output_type": "execute_result"
    },
    {
     "data": {
      "image/png": "[encoded data removed]",
      "text/plain": [
       "<Figure size 432x288 with 1 Axes>"
      ]
     },
     "metadata": {
      "needs_background": "light"
     },
     "output_type": "display_data"
    }
   ],
   "source": [
    "# define a domain to evaluate\n",
    "line = np.linspace(0, 1)\n",
    "# evaluate function\n",
    "values = f(line)\n",
    "# plot function\n",
    "plt.plot(line, values)\n",
    "plt.xlabel(\"Input (parameter)\")\n",
    "plt.ylabel(\"Objective (i.e. performance)\")"
   ]
  },
  {
   "cell_type": "markdown",
   "metadata": {},
   "source": [
    "Our goal here is to find the global minimum of this function, assuming that we don't have direct access to the formula (given the formula, we could instead calculate the optimum quite precicely using methods from calculus instead). Usually, the function is too expensive to evaluate in such a manner, in particular in higher-dimensional spaces.\n",
    "\n",
    "Now, we use MLOS to construct an OptimizationProblem object that will encapsulate the function and the input space."
   ]
  },
  {
   "cell_type": "code",
   "execution_count": 4,
   "metadata": {},
   "outputs": [],
   "source": [
    "from mlos.Optimizers.OptimizationProblem import OptimizationProblem, Objective\n",
    "from mlos.Optimizers.BayesianOptimizer import BayesianOptimizer\n",
    "from mlos.Spaces import SimpleHypergrid, ContinuousDimension\n",
    "\n",
    "# single continuous input dimension between 0 and 1\n",
    "input_space = SimpleHypergrid(name=\"input\", dimensions=[ContinuousDimension(name=\"x\", min=0, max=1)])\n",
    "# define output space, we might not know the exact ranges\n",
    "output_space = SimpleHypergrid(name=\"objective\",\n",
    "                               dimensions=[ContinuousDimension(name=\"function_value\", min=-10, max=10)])\n",
    "\n",
    "# define optimization problem with input and output space and objective\n",
    "optimization_problem = OptimizationProblem(\n",
    "    parameter_space=input_space,\n",
    "    objective_space=output_space,\n",
    "    # we want to minimize the function\n",
    "    objectives=[Objective(name=\"function_value\", minimize=True)]\n",
    ")"
   ]
  },
  {
   "cell_type": "markdown",
   "metadata": {},
   "source": [
    "The way Bayesian Optimization (in particular what is known as sequential model-based optimization) works is by iterating the following steps:\n",
    "- Evaluate the function at a candidate point x_i (start with a random point x_0), observe f(x_i).\n",
    "- Build / update a **surrogate model** g_i of the objective function (here a Random Forest) using the pairs x_i, f(x_i) that we observed so far.\n",
    "- Pick the next data point to evaluate based on the updated model g_i using a criterion known as **acquisition function**.\n",
    "\n",
    "The idea is that eventually the surrogate model will provide a good approximation of the objective function, but it will be much faster to evaluate (i.e. by predicting with a Random Forest or Gaussian process or another trained machine learning model, instead of running a complex deployment). The acquisition function serves as a means to trade off exploration vs exploitation in collecting new data for building the surrogate model: it picks points that have a low (close to optimum) value of the surrogate model (and so are expected to have a low value of the actual objective). This is the \"exploitation\" of existing knowledge in the model. On the other hand, it also encourages exploring new areas in which there is a lot of uncertainty in the surrogate model, i.e. where we expect the surrogate model not to be very acurate yet."
   ]
  },
  {
   "cell_type": "markdown",
   "metadata": {},
   "source": [
    "This process is coordinated by the ``BayesianOptimizer`` object, which we will use to performe Bayesian Optimization with a random forest surrogate model. Details of this particular method can be found in [Hutter et. al. (2011)](https://www.cs.ubc.ca/~hutter/papers/11-LION5-SMAC.pdf). We're first configuring the model to refit after every iteration and use 10 trees for the random forest:"
   ]
  },
  {
   "cell_type": "code",
   "execution_count": 5,
   "metadata": {},
   "outputs": [],
   "source": [
    "from mlos.Optimizers.BayesianOptimizer import BayesianOptimizer, BayesianOptimizerConfig\n",
    "from mlos.Optimizers.RegressionModels.HomogeneousRandomForestRegressionModel import HomogeneousRandomForestRegressionModelConfig\n",
    "\n",
    "from mlos.Spaces import Point\n",
    "\n",
    "optimizer_config = BayesianOptimizerConfig.DEFAULT.copy()\n",
    "optimizer_config.experiment_designer_config_fraction_random_suggestions = .1\n",
    "random_forest_config = optimizer_config.homogeneous_random_forest_regression_model_config\n",
    "\n",
    "random_forest_config.decision_tree_regression_model_config.n_new_samples_before_refit = 1\n",
    "random_forest_config.decision_tree_regression_model_config.splitter = 'best'\n",
    "# right now we're sampling without replacement so we need to subsample to make the trees different when using the 'best' splitter\n",
    "random_forest_config.samples_fraction_per_estimator = .9\n",
    "random_forest_config.n_estimators = 10\n",
    "\n",
    "optimizer_config.experiment_designer_config.confidence_bound_utility_function_config.alpha = 0.1\n",
    "\n",
    "optimizer = BayesianOptimizer(optimization_problem, optimizer_config)"
   ]
  },
  {
   "cell_type": "markdown",
   "metadata": {},
   "source": [
    "Now, we can run the actual optimization which will carry out the steps outlined above."
   ]
  },
  {
   "cell_type": "code",
   "execution_count": 6,
   "metadata": {},
   "outputs": [
    {
     "name": "stdout",
     "output_type": "stream",
     "text": [
      "{'x': 0.17541269264801218} -0.8510165603918378\n",
      "{'x': 0.480913709175287} 0.7684232406186272\n",
      "{'x': 0.9660637353049126} 13.923595514697766\n",
      "{'x': 0.599688110301572} -0.13954487638915977\n",
      "{'x': 0.657252197967745} -2.562068656075098\n",
      "{'x': 0.47930657081517725} 0.7545797874976039\n",
      "{'x': 0.5572369124188329} 0.7927275526767186\n",
      "{'x': 0.4169790550228403} 0.2124565622737972\n",
      "{'x': 0.9438161727442966} 11.588396700551597\n",
      "{'x': 0.24679271856398266} -0.23230954552916283\n",
      "{'x': 0.29127300320772354} -0.030796649398039954\n",
      "{'x': 0.7568094096313009} -6.020637107900314\n",
      "{'x': 0.6908058262545883} -4.195382551491563\n",
      "{'x': 0.6477011549497518} -2.0984055031109357\n",
      "{'x': 0.7433805673602539} -5.922305077352223\n"
     ]
    }
   ],
   "source": [
    "def run_optimization(optimizer):\n",
    "    # suggest new value from optimizer\n",
    "    suggested_value = optimizer.suggest()\n",
    "    input_values_df = suggested_value.to_pandas()\n",
    "    # suggested value are dictionary-like, keys are input space parameter names\n",
    "    # evaluate target function\n",
    "    target_value = f(suggested_value['x'])\n",
    "    print(suggested_value, target_value)\n",
    "    \n",
    "    # build dataframes to \n",
    "    target_values_df = pd.DataFrame({'function_value': [target_value]})\n",
    "\n",
    "    optimizer.register(input_values_df, target_values_df)\n",
    "\n",
    "# run for some iterations\n",
    "n_iterations = 15\n",
    "for i in range(n_iterations):\n",
    "    run_optimization(optimizer)"
   ]
  },
  {
   "cell_type": "markdown",
   "metadata": {},
   "source": [
    "After 15 iterations, the model is likely to have captured the general shape, but probably not have found the actual optimum:"
   ]
  },
  {
   "cell_type": "code",
   "execution_count": 7,
   "metadata": {},
   "outputs": [
    {
     "data": {
      "text/plain": [
       "<matplotlib.legend.Legend at 0x22d7ffbbaf0>"
      ]
     },
     "execution_count": 7,
     "metadata": {},
     "output_type": "execute_result"
    },
    {
     "data": {
      "image/png": "[encoded data removed]",
      "text/plain": [
       "<Figure size 432x288 with 2 Axes>"
      ]
     },
     "metadata": {
      "needs_background": "light"
     },
     "output_type": "display_data"
    }
   ],
   "source": [
    "# evaluate the surrogate\n",
    "surrogate_predictions = optimizer.predict(pd.DataFrame({'x': line})).get_dataframe()\n",
    "# plot observations\n",
    "feature_values, target_values = optimizer.get_experiment_data()\n",
    "plt.scatter(feature_values, target_values, label='observed points')\n",
    "plt.colorbar()\n",
    "# plot true function (usually unknown)\n",
    "plt.plot(line, values, label='true function')\n",
    "# plot the surrogate\n",
    "plt.errorbar(x=line, y=surrogate_predictions['sample_mean'], yerr=np.sqrt(surrogate_predictions['predicted_value_variance']), label='surrogate predictions')\n",
    "plt.plot(line, -optimizer.experiment_designer.utility_function(pd.DataFrame({'x': line})), label='utility_function')\n",
    "plt.ylabel(\"Objective function (performance)\")\n",
    "plt.xlabel(\"Input variable\")\n",
    "plt.legend()"
   ]
  },
  {
   "cell_type": "markdown",
   "metadata": {},
   "source": [
    "We can run more iterations to improve the surrogate model and the optimum that is found:"
   ]
  },
  {
   "cell_type": "code",
   "execution_count": 8,
   "metadata": {},
   "outputs": [
    {
     "name": "stdout",
     "output_type": "stream",
     "text": [
      "{'x': 0.990244796357477} 15.528663885353051\n",
      "{'x': 0.8468123963783023} -1.149818963184237\n",
      "{'x': 0.32349771403934435} -0.00041009085764023455\n",
      "{'x': 0.8295080411981345} -2.864292692101212\n",
      "{'x': 0.47721820815824323} 0.7362729711107432\n",
      "{'x': 0.8501046147740627} -0.7867845959128675\n",
      "{'x': 0.8723116166543465} 1.9191130091826887\n",
      "{'x': 0.43309703228313956} 0.3335807052033726\n",
      "{'x': 0.8958663351666696} 5.130913179766662\n",
      "{'x': 0.8457450075246016} -1.2651269538818555\n",
      "{'x': 0.7981593061357506} -5.042205937853623\n",
      "{'x': 0.8388311491738134} -1.9824555853022836\n",
      "{'x': 0.9912250677338543} 15.568659488374738\n",
      "{'x': 0.3505657324285757} 0.0021949335020925286\n",
      "{'x': 0.8041568279966457} -4.722822309178047\n",
      "{'x': 0.6545934861891199} -2.431811590661345\n",
      "{'x': 0.9328090948141843} 10.21825424923689\n",
      "{'x': 0.8061682762253998} -4.605291088556691\n",
      "{'x': 0.9142560906765052} 7.713459555417368\n",
      "{'x': 0.5913370187988589} 0.10911326060041696\n",
      "{'x': 0.7070208052769921} -4.896865470186089\n",
      "{'x': 0.6842696181487558} -3.888418213952711\n",
      "{'x': 0.8225017041187471} -3.4587205769658684\n",
      "{'x': 0.04612391960853657} 0.8915287619731904\n",
      "{'x': 0.9661236005992506} 13.928901204200741\n",
      "{'x': 0.10307269884270698} -0.7052611402234336\n",
      "{'x': 0.8145104707258286} -4.062179414522818\n",
      "{'x': 0.8043274498148183} -4.7130557266697775\n",
      "{'x': 0.3340885356895975} 1.8606633835801886e-07\n",
      "{'x': 0.5032134694435382} 0.9273292093167991\n",
      "{'x': 0.9014159237325712} 5.9113127364336995\n",
      "{'x': 0.3072746097905651} -0.007520419902569228\n",
      "{'x': 0.8821022752192363} 3.224967037092594\n",
      "{'x': 0.740976477867284} -5.886292498998121\n",
      "{'x': 0.7405100739435745} -5.878697042775872\n",
      "{'x': 0.7342675602562555} -5.758703291071391\n",
      "{'x': 0.7326563483927372} -5.7223939614450225\n",
      "{'x': 0.7322822147039809} -5.713661171372781\n",
      "{'x': 0.5077896851863062} 0.9493729667468018\n",
      "{'x': 0.7319168524264884} -5.7050246854754185\n",
      "{'x': 0.7790922937790706} -5.751568787504405\n",
      "{'x': 0.7267098079819302} -5.570637781213259\n",
      "{'x': 0.996521594043228} 15.74746509506891\n",
      "{'x': 0.49407465497373393} 0.8711547672413932\n",
      "{'x': 0.05105680516863631} 0.6977875676911975\n",
      "{'x': 0.7249368717820412} -5.520242858923302\n",
      "{'x': 0.7810202546604342} -5.700636028649977\n",
      "{'x': 0.46972321629773994} 0.6682263695451737\n",
      "{'x': 0.917551154175079} 8.170373444344552\n",
      "{'x': 0.9845290338916438} 15.254021955941244\n"
     ]
    }
   ],
   "source": [
    "# run for more iterations\n",
    "n_iterations = 50\n",
    "for i in range(n_iterations):\n",
    "    run_optimization(optimizer)"
   ]
  },
  {
   "cell_type": "markdown",
   "metadata": {},
   "source": [
    "We can now visualize the surrogate model and optimization process again. The points are colored according to the iteration number, with dark blue points being early in the process and yellow points being later. You can see that at the end of the optimization, the points start to cluster around the optimum."
   ]
  },
  {
   "cell_type": "code",
   "execution_count": 9,
   "metadata": {},
   "outputs": [
    {
     "data": {
      "text/plain": [
       "<matplotlib.legend.Legend at 0x22d0d09fbb0>"
      ]
     },
     "execution_count": 9,
     "metadata": {},
     "output_type": "execute_result"
    },
    {
     "data": {
      "image/png": "[encoded data removed]",
      "text/plain": [
       "<Figure size 432x288 with 2 Axes>"
      ]
     },
     "metadata": {
      "needs_background": "light"
     },
     "output_type": "display_data"
    }
   ],
   "source": [
    "# evaluate the surrogate\n",
    "surrogate_predictions = optimizer.predict(pd.DataFrame({'x': line})).get_dataframe()\n",
    "# plot observations\n",
    "feature_values, target_values = optimizer.get_experiment_data()\n",
    "plt.scatter(feature_values, target_values, label='observed points')\n",
    "\n",
    "# plot true function (usually unknown)\n",
    "plt.plot(line, values, label='true function')\n",
    "# plot the surrogate\n",
    "plt.errorbar(x=line, y=surrogate_predictions['sample_mean'], yerr=np.sqrt(surrogate_predictions['predicted_value_variance']), label='surrogate predictions')\n",
    "plt.plot(line, -optimizer.experiment_designer.utility_function(pd.DataFrame({'x': line})), label='utility_function')\n",
    "ax = plt.gca()\n",
    "ax.set_ylabel(\"Objective function\")\n",
    "ax.set_xlabel(\"Input variable\")\n",
    "bins_axes = ax.twinx()\n",
    "bins_axes.set_ylabel(\"Points sampled\")\n",
    "optimizer._feature_values_df.hist(bins=20, ax=bins_axes, alpha=.3, color='k', label=\"count of querry points\")\n",
    "plt.legend()"
   ]
  },
  {
   "cell_type": "code",
   "execution_count": null,
   "metadata": {},
   "outputs": [],
   "source": []
  }
 ],
 "metadata": {
  "kernelspec": {
   "display_name": "Python [conda env:mlos]",
   "language": "python",
   "name": "conda-env-mlos-py"
  },
  "language_info": {
   "codemirror_mode": {
    "name": "ipython",
    "version": 3
   },
   "file_extension": ".py",
   "mimetype": "text/x-python",
   "name": "python",
   "nbconvert_exporter": "python",
   "pygments_lexer": "ipython3",
   "version": "3.8.3"
  }
 },
 "nbformat": 4,
 "nbformat_minor": 4
}
