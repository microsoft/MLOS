{
 "cells": [
  {
   "cell_type": "code",
   "execution_count": 1,
   "metadata": {},
   "outputs": [
    {
     "data": {
      "text/html": [
       "<style>.container { width:100% !important; }</style>"
      ],
      "text/plain": [
       "<IPython.core.display.HTML object>"
      ]
     },
     "metadata": {},
     "output_type": "display_data"
    }
   ],
   "source": [
    "from IPython.core.display import display, HTML\n",
    "import warnings\n",
    "display(HTML(\"<style>.container { width:100% !important; }</style>\"))\n",
    "warnings.simplefilter(\"ignore\")"
   ]
  },
  {
   "cell_type": "code",
   "execution_count": 2,
   "metadata": {},
   "outputs": [],
   "source": [
    "import matplotlib.pyplot as plt\n",
    "import numpy as np\n",
    "import pandas as pd\n",
    "from scipy.stats import t"
   ]
  },
  {
   "cell_type": "markdown",
   "metadata": {},
   "source": [
    "# Bayesian Optimization"
   ]
  },
  {
   "cell_type": "markdown",
   "metadata": {},
   "source": [
    "This notebook demonstrates the basic principles of [Bayesian Optimization (BO)](https://en.wikipedia.org/wiki/Bayesian_optimization) and how to use MLOS to perform BO.\n",
    "\n",
    "## Motivation\n",
    "\n",
    "In software performance engineering, the impact different (input) parameters (e.g. buffer size, worker thread count, etc.) can have on the (output) performance of a system for a given workload (input) can be modeled as a multidimensional function - one which we don't know the equation for apriori, but are instead trying to learn through careful sampling of the input space and experimentation (test/benchmark runs) to gather output points.\n",
    "Bayesian optimization is one technique for efficiently selecting the samples in the input space to learn the approximate shape of that function and find its optimum, i.,e. the parameters that lead to the best performance.\n",
    "In this example we use a synthetic (i.e. made-up) function that we can look at directly to stand in for a complex system with unknown characteristics.\n",
    "\n",
    "Bayesian Optimization is a [global optimization](https://en.wikipedia.org/wiki/Global_optimization) strategy, so a way to find the global optimum of a mathematical function that's not necessarily [convex](https://en.wikipedia.org/wiki/Convex_function). BO is a black-box optimization technique, meaning that it requires only function values and no other information like gradients.\n",
    "\n",
    "This is in contrast to other optimization strategies, such as gradient descent or conjugate gradient that require gradients and are only guaranteed to find a local optimum (if the function is assumed to be convex, this is also the global optimum).\n",
    "\n",
    "Finding the global optimum of a general non-convex function is NP-hard, which makes it impossible to provide effective convergence guarantees for any global optimization strategy, including Bayesian Optimization. However, BO has been found to be quite effective in the past."
   ]
  },
  {
   "cell_type": "markdown",
   "metadata": {},
   "source": [
    "## A synthetic example"
   ]
  },
  {
   "cell_type": "markdown",
   "metadata": {},
   "source": [
    "Let's take a simple synthetic example of a one-dimensional function that we assume is unknown.\n",
    "If we actually had access to the function, we could use more efficient techniques using calculus and would not be using Bayesian Optimization."
   ]
  },
  {
   "cell_type": "code",
   "execution_count": 3,
   "metadata": {},
   "outputs": [],
   "source": [
    "# define fake performance function\n",
    "# In an actual application, we would not have access to this function directly.\n",
    "# Instead, we could only measure the outcome by running an experiment, such as timing\n",
    "# a particular run of the system.\n",
    "def f(x):\n",
    "    return (6*x-2)**2*np.sin(12*x-4)"
   ]
  },
  {
   "cell_type": "markdown",
   "metadata": {},
   "source": [
    "In a real use case for global optimization, the function we want to optimize is usually only implicitly defined and very expensive to compute, such as training and evaluating a neural network, or timing the run of a large workload on a distributed database. Given the cost of evaluating the function, our goal is to find an optimum while keeping the number of function evaluations to a minimum.\n",
    "\n",
    "In this synthetic example, we actually know the function, so we can just plot it for illustration purposes:"
   ]
  },
  {
   "cell_type": "code",
   "execution_count": 4,
   "metadata": {},
   "outputs": [
    {
     "data": {
      "text/plain": [
       "Text(0,0.5,'Objective (i.e. performance)')"
      ]
     },
     "execution_count": 4,
     "metadata": {},
     "output_type": "execute_result"
    },
    {
     "data": {
      "image/png": "[encoded data removed]",
      "text/plain": [
       "<Figure size 432x288 with 1 Axes>"
      ]
     },
     "metadata": {},
     "output_type": "display_data"
    }
   ],
   "source": [
    "# define a domain to evaluate\n",
    "line = np.linspace(0, 1)\n",
    "# evaluate function\n",
    "values = f(line)\n",
    "# plot function\n",
    "plt.plot(line, values)\n",
    "plt.xlabel(\"Input (parameter)\")\n",
    "plt.ylabel(\"Objective (i.e. performance)\")"
   ]
  },
  {
   "cell_type": "markdown",
   "metadata": {},
   "source": [
    "Our goal here is to find the global minimum of this function, assuming that we don't have direct access to the formula (given the formula, we could instead calculate the optimum quite precicely using methods from calculus instead). Usually, the function is too expensive to evaluate in such a manner, in particular in higher-dimensional spaces.\n",
    "\n",
    "Now, we use MLOS to construct an OptimizationProblem object that will encapsulate the function and the input space."
   ]
  },
  {
   "cell_type": "code",
   "execution_count": 5,
   "metadata": {},
   "outputs": [],
   "source": [
    "from mlos.Optimizers.OptimizationProblem import OptimizationProblem, Objective\n",
    "from mlos.Optimizers.BayesianOptimizer import BayesianOptimizer\n",
    "from mlos.Spaces import SimpleHypergrid, ContinuousDimension\n",
    "\n",
    "# single continuous input dimension between 0 and 1\n",
    "input_space = SimpleHypergrid(name=\"input\", dimensions=[ContinuousDimension(name=\"x\", min=0, max=1)])\n",
    "# define output space, we might not know the exact ranges\n",
    "output_space = SimpleHypergrid(name=\"objective\",\n",
    "                               dimensions=[ContinuousDimension(name=\"function_value\", min=-10, max=10)])\n",
    "\n",
    "# define optimization problem with input and output space and objective\n",
    "optimization_problem = OptimizationProblem(\n",
    "    parameter_space=input_space,\n",
    "    objective_space=output_space,\n",
    "    # we want to minimize the function\n",
    "    objectives=[Objective(name=\"function_value\", minimize=True)]\n",
    ")"
   ]
  },
  {
   "cell_type": "markdown",
   "metadata": {},
   "source": [
    "The way Bayesian Optimization (in particular what is known as sequential model-based optimization) works is by iterating the following steps:\n",
    "- Evaluate the function at a candidate point x_i (start with a random point x_0), observe f(x_i).\n",
    "- Build / update a **surrogate model** g_i of the objective function (here a Random Forest) using the pairs x_i, f(x_i) that we observed so far.\n",
    "- Pick the next data point to evaluate based on the updated model g_i using a criterion known as **acquisition function**.\n",
    "\n",
    "The idea is that eventually the surrogate model will provide a good approximation of the objective function, but it will be much faster to evaluate (i.e. by predicting with a Random Forest or Gaussian process or another trained machine learning model, instead of running a complex deployment). The acquisition function serves as a means to trade off exploration vs exploitation in collecting new data for building the surrogate model: it picks points that have a low (close to optimum) value of the surrogate model (and so are expected to have a low value of the actual objective). This is the \"exploitation\" of existing knowledge in the model. On the other hand, it also encourages exploring new areas in which there is a lot of uncertainty in the surrogate model, i.e. where we expect the surrogate model not to be very acurate yet."
   ]
  },
  {
   "cell_type": "markdown",
   "metadata": {},
   "source": [
    "This process is coordinated by the ``BayesianOptimizer`` object, which we will use to perform Bayesian Optimization with a random forest surrogate model. Details of this particular method can be found in [Hutter et. al. (2011)](https://www.cs.ubc.ca/~hutter/papers/11-LION5-SMAC.pdf). We're first configuring the model to refit after every iteration and use 10 trees for the random forest:"
   ]
  },
  {
   "cell_type": "code",
   "execution_count": 6,
   "metadata": {},
   "outputs": [
    {
     "name": "stderr",
     "output_type": "stream",
     "text": [
      "09/26/2020 19:29:36 -   BayesianOptimizerFactory -    INFO - [BayesianOptimizerFactory.py:  41 -    create_local_optimizer() ] Creating a bayesian optimizer with config: {\n",
      "  \"surrogate_model_implementation\": \"HomogeneousRandomForestRegressionModel\",\n",
      "  \"experiment_designer_implementation\": \"ExperimentDesigner\",\n",
      "  \"min_samples_required_for_guided_design_of_experiments\": 10,\n",
      "  \"homogeneous_random_forest_regression_model_config.n_estimators\": 10,\n",
      "  \"homogeneous_random_forest_regression_model_config.features_fraction_per_estimator\": 1,\n",
      "  \"homogeneous_random_forest_regression_model_config.samples_fraction_per_estimator\": 0.9,\n",
      "  \"homogeneous_random_forest_regression_model_config.regressor_implementation\": \"DecisionTreeRegressionModel\",\n",
      "  \"homogeneous_random_forest_regression_model_config.decision_tree_regression_model_config.criterion\": \"mse\",\n",
      "  \"homogeneous_random_forest_regression_model_config.decision_tree_regression_model_config.splitter\": \"best\",\n",
      "  \"homogeneous_random_forest_regression_model_config.decision_tree_regression_model_config.max_depth\": 0,\n",
      "  \"homogeneous_random_forest_regression_model_config.decision_tree_regression_model_config.min_samples_split\": 2,\n",
      "  \"homogeneous_random_forest_regression_model_config.decision_tree_regression_model_config.min_samples_leaf\": 3,\n",
      "  \"homogeneous_random_forest_regression_model_config.decision_tree_regression_model_config.min_weight_fraction_leaf\": 0,\n",
      "  \"homogeneous_random_forest_regression_model_config.decision_tree_regression_model_config.max_features\": \"auto\",\n",
      "  \"homogeneous_random_forest_regression_model_config.decision_tree_regression_model_config.max_leaf_nodes\": 0,\n",
      "  \"homogeneous_random_forest_regression_model_config.decision_tree_regression_model_config.min_impurity_decrease\": 0,\n",
      "  \"homogeneous_random_forest_regression_model_config.decision_tree_regression_model_config.ccp_alpha\": 0,\n",
      "  \"homogeneous_random_forest_regression_model_config.decision_tree_regression_model_config.min_samples_to_fit\": 10,\n",
      "  \"homogeneous_random_forest_regression_model_config.decision_tree_regression_model_config.n_new_samples_before_refit\": 1,\n",
      "  \"homogeneous_random_forest_regression_model_config.bootstrap\": 1,\n",
      "  \"experiment_designer_config.utility_function_implementation\": \"ConfidenceBoundUtilityFunction\",\n",
      "  \"experiment_designer_config.numeric_optimizer_implementation\": \"RandomSearchOptimizer\",\n",
      "  \"experiment_designer_config.confidence_bound_utility_function_config.utility_function_name\": \"upper_confidence_bound_on_improvement\",\n",
      "  \"experiment_designer_config.confidence_bound_utility_function_config.alpha\": 0.1,\n",
      "  \"experiment_designer_config.random_search_optimizer_config.num_samples_per_iteration\": 1000,\n",
      "  \"experiment_designer_config.fraction_random_suggestions\": 0.5,\n",
      "  \"experiment_designer_config_fraction_random_suggestions\": 0.1\n",
      "}.\n"
     ]
    }
   ],
   "source": [
    "from mlos.Optimizers.BayesianOptimizerConfigStore import bayesian_optimizer_config_store\n",
    "from mlos.Optimizers.BayesianOptimizerFactory import BayesianOptimizerFactory\n",
    "from mlos.Spaces import Point\n",
    "\n",
    "# configure the optimizer, start from the default configuration\n",
    "optimizer_config = bayesian_optimizer_config_store.default\n",
    "# set the fraction of randomly sampled configuration to 10% of suggestions\n",
    "optimizer_config.experiment_designer_config.fraction_random_suggestions = .1\n",
    "# configure the random forest surrogate model\n",
    "random_forest_config = optimizer_config.homogeneous_random_forest_regression_model_config\n",
    "# refit the model after each observation\n",
    "random_forest_config.decision_tree_regression_model_config.n_new_samples_before_refit = 1\n",
    "# Use the best split in trees (not random as in extremely randomized trees)\n",
    "random_forest_config.decision_tree_regression_model_config.splitter = 'best'\n",
    "# right now we're sampling without replacement so we need to subsample\n",
    "# to make the trees different when using the 'best' splitter\n",
    "random_forest_config.samples_fraction_per_estimator = .9\n",
    "# Use 10 trees in the random forest (usually more are better, 10 makes it run pretty quickly)\n",
    "random_forest_config.n_estimators = 10\n",
    "# Set multiplier for the confidence bound\n",
    "optimizer_config.experiment_designer_config.confidence_bound_utility_function_config.alpha = 0.1\n",
    "\n",
    "optimizer_factory = BayesianOptimizerFactory()\n",
    "optimizer = optimizer_factory.create_local_optimizer(\n",
    "    optimization_problem=optimization_problem,\n",
    "    optimizer_config=optimizer_config\n",
    ")"
   ]
  },
  {
   "cell_type": "markdown",
   "metadata": {},
   "source": [
    "Now, we can run the actual optimization which will carry out the steps outlined above."
   ]
  },
  {
   "cell_type": "code",
   "execution_count": 7,
   "metadata": {},
   "outputs": [
    {
     "name": "stdout",
     "output_type": "stream",
     "text": [
      "{\"x\": 0.983092543436823} 15.17416093448022\n",
      "{\"x\": 0.8435385550792688} -1.4996779115157042\n",
      "{\"x\": 0.23007923495667082} -0.36288334233535546\n",
      "{\"x\": 0.15719066911289126} -0.9563346460889276\n",
      "{\"x\": 0.520939819354775} 0.9848498586246127\n",
      "{\"x\": 0.19141441981931262} -0.7187454908362136\n",
      "{\"x\": 0.8582062972543654} 0.15163828039842148\n",
      "{\"x\": 0.15134098015340036} -0.9751882528295707\n",
      "{\"x\": 0.11781845586576145} -0.8816797092480978\n",
      "{\"x\": 0.5836141907587765} 0.31070790925443953\n",
      "{\"x\": 0.686066698158629} -3.97383368468424\n",
      "{\"x\": 0.6204630856295394} -0.888327556915524\n",
      "{\"x\": 0.5350401764159637} 0.9670120759968829\n",
      "{\"x\": 0.7463592300760595} -5.959462466805426\n",
      "{\"x\": 0.9057244430736491} 6.518041099261522\n"
     ]
    }
   ],
   "source": [
    "def run_optimization(optimizer):\n",
    "    # suggest new value from optimizer\n",
    "    suggested_value = optimizer.suggest()\n",
    "    input_values_df = suggested_value.to_dataframe()\n",
    "    # suggested value are dictionary-like, keys are input space parameter names\n",
    "    # evaluate target function\n",
    "    target_value = f(suggested_value['x'])\n",
    "    print(suggested_value.to_json(), target_value)\n",
    "    \n",
    "    # build dataframes to \n",
    "    target_values_df = pd.DataFrame({'function_value': [target_value]})\n",
    "\n",
    "    optimizer.register(input_values_df, target_values_df)\n",
    "\n",
    "# run for some iterations\n",
    "n_iterations = 15\n",
    "for i in range(n_iterations):\n",
    "    run_optimization(optimizer)"
   ]
  },
  {
   "cell_type": "markdown",
   "metadata": {},
   "source": [
    "You can see that the hit rate is not always increasing, and that is for two reasons: first, the optimizer keeps exploring parts of the space in which there is uncertainty. Second, by default the BayesianOptimizer picks a fraction of points at random to increase exploration. This fraction is set as ``optimizer_config.experiment_designer_config_fraction_random_suggestions = .1`` above."
   ]
  },
  {
   "cell_type": "markdown",
   "metadata": {},
   "source": [
    "After 15 iterations, the model is likely to have captured the general shape, but probably not have found the actual optimum:"
   ]
  },
  {
   "cell_type": "code",
   "execution_count": 8,
   "metadata": {},
   "outputs": [
    {
     "data": {
      "text/plain": [
       "<matplotlib.legend.Legend at 0x1fbe2a58b00>"
      ]
     },
     "execution_count": 8,
     "metadata": {},
     "output_type": "execute_result"
    },
    {
     "data": {
      "image/png": "[encoded data removed]",
      "text/plain": [
       "<Figure size 432x288 with 1 Axes>"
      ]
     },
     "metadata": {},
     "output_type": "display_data"
    }
   ],
   "source": [
    "# evaluate the surrogate\n",
    "#\n",
    "surrogate_predictions = optimizer.predict(pd.DataFrame({'x': line})).get_dataframe()\n",
    "\n",
    "# plot observations\n",
    "#\n",
    "feature_values, target_values = optimizer.get_all_observations()\n",
    "plt.scatter(feature_values, target_values, label='observed points')\n",
    "\n",
    "# plot true function (usually unknown)\n",
    "#\n",
    "plt.plot(line, values, label='true function')\n",
    "\n",
    "# plot the surrogate\n",
    "#\n",
    "alpha = optimizer_config.experiment_designer_config.confidence_bound_utility_function_config.alpha\n",
    "t_values = t.ppf(1 - alpha / 2.0, surrogate_predictions['predicted_value_degrees_of_freedom'])\n",
    "ci_radii = t_values * np.sqrt(surrogate_predictions['predicted_value_variance'])\n",
    "value = surrogate_predictions['predicted_value']\n",
    "plt.plot(line, value, label='surrogate predictions g')\n",
    "plt.fill_between(line, value - ci_radii, value + ci_radii, alpha=.1)\n",
    "plt.plot(line, -optimizer.experiment_designer.utility_function(pd.DataFrame({'x': line})), ':', label='utility_function')\n",
    "plt.ylabel(\"Objective function f (performance)\")\n",
    "plt.xlabel(\"Input variable\")\n",
    "plt.legend()"
   ]
  },
  {
   "cell_type": "markdown",
   "metadata": {},
   "source": [
    "We can find the best value according to the current surrogate with the ``optimum`` method:"
   ]
  },
  {
   "cell_type": "code",
   "execution_count": 9,
   "metadata": {},
   "outputs": [
    {
     "data": {
      "text/plain": [
       "({\n",
       "   \"x\": 0.7463592300760595\n",
       " }, {\n",
       "   \"function_value\": -5.959462466805426\n",
       " })"
      ]
     },
     "execution_count": 9,
     "metadata": {},
     "output_type": "execute_result"
    }
   ],
   "source": [
    "optimizer.optimum()"
   ]
  },
  {
   "cell_type": "markdown",
   "metadata": {},
   "source": [
    "We can run more iterations to improve the surrogate model and the optimum that is found:"
   ]
  },
  {
   "cell_type": "code",
   "execution_count": 10,
   "metadata": {},
   "outputs": [
    {
     "name": "stdout",
     "output_type": "stream",
     "text": [
      "{\"x\": 0.473412447846017} 0.7021164245077595\n",
      "{\"x\": 0.6632242079785616} -2.8567197230243733\n",
      "{\"x\": 0.18807256140072703} -0.7483728822439081\n",
      "{\"x\": 0.4172371207492612} 0.21419007910211812\n",
      "{\"x\": 0.4946267758016123} 0.8749554960705916\n",
      "{\"x\": 0.6175708715122464} -0.7737011075417488\n",
      "{\"x\": 0.7443496510664342} -5.935312134676282\n",
      "{\"x\": 0.7439459529541941} -5.930000321904706\n",
      "{\"x\": 0.3767786032488877} 0.033842030625167815\n",
      "{\"x\": 0.3298466838855343} -1.8305512156868478e-05\n",
      "{\"x\": 0.14169507729653608} -0.9862030605731403\n",
      "{\"x\": 0.2111860703491355} -0.5341585508413712\n",
      "{\"x\": 0.7596100164652652} -6.017742850545829\n",
      "{\"x\": 0.8006992516779171} -4.9126248393567495\n",
      "{\"x\": 0.8109406889057383} -4.305536957072894\n",
      "{\"x\": 0.8181655852320083} -3.7961625204914613\n",
      "{\"x\": 0.2566480065634811} -0.16845997730008264\n",
      "{\"x\": 0.22836320880807248} -0.37762613491139096\n",
      "{\"x\": 0.8234842634097982} -3.378993806987811\n",
      "{\"x\": 0.1136365546027639} -0.8410156758386963\n",
      "{\"x\": 0.8515058915961442} -0.6289596894583336\n",
      "{\"x\": 0.5864306840092383} 0.2403755540305389\n",
      "{\"x\": 0.6530665956022451} -2.3573665797713597\n",
      "{\"x\": 0.6289697629244638} -1.2427732828786415\n",
      "{\"x\": 0.8239417825768095} -3.341461632283429\n",
      "{\"x\": 0.7333477284034062} -5.738233990022671\n",
      "{\"x\": 0.8315754575407727} -2.6775285696863467\n",
      "{\"x\": 0.5222880051350126} 0.9858420597039397\n",
      "{\"x\": 0.11642041423252358} -0.8688859210021689\n",
      "{\"x\": 0.4472894351503083} 0.4578657933743529\n",
      "{\"x\": 0.8527127293048408} -0.49149171666093044\n",
      "{\"x\": 0.7779341551755734} -5.779966997170833\n",
      "{\"x\": 0.7452511869304634} -5.946620760879891\n",
      "{\"x\": 0.5559819176453921} 0.8079207413333107\n",
      "{\"x\": 0.7494998662235278} -5.9894045479395\n",
      "{\"x\": 0.7139893782357419} -5.161987725383618\n",
      "{\"x\": 0.846796666877744} -1.15152680830581\n",
      "{\"x\": 0.6879805421463292} -4.063990746002142\n",
      "{\"x\": 0.7905230980834056} -5.381732629200189\n",
      "{\"x\": 0.4816517251028316} 0.7747029205006717\n",
      "{\"x\": 0.692753881917271} -4.284669550477883\n",
      "{\"x\": 0.9929490981264024} 15.633823386883824\n",
      "{\"x\": 0.7489069999749162} -5.984492737405131\n",
      "{\"x\": 0.7379839661326224} -5.834196772620266\n",
      "{\"x\": 0.7201435179072647} -5.372952605375765\n",
      "{\"x\": 0.8297734821402678} -2.840599351113572\n",
      "{\"x\": 0.14807885573973778} -0.9818647703658573\n",
      "{\"x\": 0.32904609824262243} -3.4027030163747833e-05\n",
      "{\"x\": 0.009055711748202966} 2.579698434938776\n",
      "{\"x\": 0.6368149488510908} -1.590145461988316\n"
     ]
    }
   ],
   "source": [
    "# run for more iterations\n",
    "n_iterations = 50\n",
    "for i in range(n_iterations):\n",
    "    run_optimization(optimizer)"
   ]
  },
  {
   "cell_type": "markdown",
   "metadata": {},
   "source": [
    "There is some improvement in the optimum:"
   ]
  },
  {
   "cell_type": "code",
   "execution_count": 11,
   "metadata": {},
   "outputs": [
    {
     "name": "stdout",
     "output_type": "stream",
     "text": [
      "{\"x\": 0.7596100164652652}\n",
      "{\"function_value\": -6.017742850545829}\n"
     ]
    }
   ],
   "source": [
    "best_observation_config, best_observation_value = optimizer.optimum()\n",
    "print(best_observation_config.to_json())\n",
    "print(best_observation_value.to_json())"
   ]
  },
  {
   "cell_type": "markdown",
   "metadata": {},
   "source": [
    "We can now visualize the surrogate model and optimization process again. The points are colored according to the iteration number, with dark blue points being early in the process and yellow points being later. You can see that at the end of the optimization, the points start to cluster around the optimum."
   ]
  },
  {
   "cell_type": "code",
   "execution_count": 12,
   "metadata": {},
   "outputs": [
    {
     "data": {
      "text/plain": [
       "<matplotlib.legend.Legend at 0x1fbe2a26828>"
      ]
     },
     "execution_count": 12,
     "metadata": {},
     "output_type": "execute_result"
    },
    {
     "data": {
      "image/png": "[encoded data removed]",
      "text/plain": [
       "<Figure size 432x288 with 2 Axes>"
      ]
     },
     "metadata": {},
     "output_type": "display_data"
    }
   ],
   "source": [
    "# evaluate the surrogate\n",
    "#\n",
    "surrogate_predictions = optimizer.predict(pd.DataFrame({'x': line})).get_dataframe()\n",
    "\n",
    "# plot observations\n",
    "#\n",
    "feature_values, target_values = optimizer.get_all_observations()\n",
    "plt.scatter(feature_values, target_values, label='observed points')\n",
    " \n",
    "# plot true function (usually unknown)\n",
    "#\n",
    "plt.plot(line, values, label='true function')\n",
    "\n",
    "# plot the surrogate\n",
    "#\n",
    "alpha = optimizer_config.experiment_designer_config.confidence_bound_utility_function_config.alpha\n",
    "t_values = t.ppf(1 - alpha / 2.0, surrogate_predictions['predicted_value_degrees_of_freedom'])\n",
    "ci_radii = t_values * np.sqrt(surrogate_predictions['predicted_value_variance'])\n",
    "value = surrogate_predictions['predicted_value']\n",
    "plt.plot(line, value, label='surrogate predictions g')\n",
    "plt.fill_between(line, value - ci_radii, value + ci_radii, alpha=.1)\n",
    "\n",
    "plt.plot(line, -optimizer.experiment_designer.utility_function(pd.DataFrame({'x': line})), ':', label='utility_function')\n",
    "ax = plt.gca()\n",
    "ax.set_ylabel(\"Objective function f\")\n",
    "ax.set_xlabel(\"Input variable\")\n",
    "bins_axes = ax.twinx()\n",
    "bins_axes.set_ylabel(\"Points sampled\")\n",
    "feature_values.hist(bins=20, ax=bins_axes, alpha=.3, color='k', label=\"count of querry points\")\n",
    "plt.legend()"
   ]
  },
  {
   "cell_type": "markdown",
   "metadata": {},
   "source": [
    "# Going further:\n",
    "\n",
    "1) Plot the optimum as a function of iterations. How long does it take for the optimization to converge? Is that stable over several random restarts?\n",
    "\n",
    "2) Does changing the search to a purely random search (setting ``optimizer_config.experiment_designer_config_fraction_random_suggestions = 1``) change how long the optimization takes to find the optimum?"
   ]
  }
 ],
 "metadata": {
  "kernelspec": {
   "display_name": "Python 3",
   "language": "python",
   "name": "python3"
  },
  "language_info": {
   "codemirror_mode": {
    "name": "ipython",
    "version": 3
   },
   "file_extension": ".py",
   "mimetype": "text/x-python",
   "name": "python",
   "nbconvert_exporter": "python",
   "pygments_lexer": "ipython3",
   "version": "3.7.6"
  }
 },
 "nbformat": 4,
 "nbformat_minor": 4
}
