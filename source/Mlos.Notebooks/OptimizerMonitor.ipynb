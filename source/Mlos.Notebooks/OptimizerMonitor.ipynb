{
 "cells": [
  {
   "cell_type": "markdown",
   "metadata": {},
   "source": [
    "# Goal\n",
    "\n",
    "The goal of this notebook is to provide a UI to a data scientist or dev 2.0 to interact with the optimizers residing in the optimizer microservice.\n",
    "\n",
    "## TODO\n",
    "1. Integrate Model Tomograph:\n",
    "    1. <s>Change Predict() to return a pandas df:</s>\n",
    "        1. <s> change change/eliminate the prediction class.</s>\n",
    "    1. Fix the individual models input spaces so that they reject invalid points.\n",
    "    1. Add color scale\n",
    "    1. Add cross-hairs\n",
    "\n",
    "1. Display current optimum:\n",
    "    1. Add this functionality to the grpc implementation.\n",
    "    \n",
    "1. Display parameter importance\n",
    "1. Display pareto frontier\n",
    "1. Allow data scientist/dev2.0 to export all data ingested by the optimizer:\n",
    "    1. Check in DataSet and DataSetView classes\n",
    "    1. Integrate the DataSet and DataSetView classes into the framework\n",
    "    \n",
    "1. Display Optimizer/Model robustness statistics:\n",
    "    1. Compute the model fit values: r\\**2, rmse, etc., during fit\n",
    "    1. Expose them over grpc\n",
    "1. Turn on logging to console in the service process."
   ]
  },
  {
   "cell_type": "code",
   "execution_count": null,
   "metadata": {},
   "outputs": [],
   "source": [
    "from IPython.core.display import display, HTML\n",
    "display(HTML(\"<style>.container { width:100% !important; }</style>\"))"
   ]
  },
  {
   "cell_type": "code",
   "execution_count": null,
   "metadata": {},
   "outputs": [],
   "source": [
    "import grpc\n",
    "from mlos.Grpc.OptimizerMonitor import OptimizerMonitor\n",
    "\n",
    "grpc_port = 50051\n",
    "\n",
    "optimizer_service_grpc_channel = grpc.insecure_channel(f'localhost:{grpc_port}')\n",
    "optimizer_monitor = OptimizerMonitor(grpc_channel=optimizer_service_grpc_channel)"
   ]
  },
  {
   "cell_type": "code",
   "execution_count": null,
   "metadata": {},
   "outputs": [],
   "source": [
    "for optimizer in optimizer_monitor.get_existing_optimizers():\n",
    "    print(optimizer.id)"
   ]
  },
  {
   "cell_type": "code",
   "execution_count": null,
   "metadata": {},
   "outputs": [],
   "source": [
    "optimizer = optimizer_monitor.get_optimizer_by_id(\"0\")"
   ]
  },
  {
   "cell_type": "code",
   "execution_count": null,
   "metadata": {
    "scrolled": false
   },
   "outputs": [],
   "source": [
    "from mlos.Tomograph.ModelTomograph import ModelTomograph\n",
    "\n",
    "tomograph = ModelTomograph(optimizer=optimizer)\n",
    "tomograph.plot()"
   ]
  }
 ],
 "metadata": {
  "kernelspec": {
   "display_name": "Python 3",
   "language": "python",
   "name": "python3"
  },
  "language_info": {
   "codemirror_mode": {
    "name": "ipython",
    "version": 3
   },
   "file_extension": ".py",
   "mimetype": "text/x-python",
   "name": "python",
   "nbconvert_exporter": "python",
   "pygments_lexer": "ipython3",
   "version": "3.7.4"
  }
 },
 "nbformat": 4,
 "nbformat_minor": 2
}
