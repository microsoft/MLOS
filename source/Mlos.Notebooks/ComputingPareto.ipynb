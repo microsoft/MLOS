{
 "cells": [
  {
   "cell_type": "markdown",
   "metadata": {},
   "source": [
    "# Goal\n",
    "\n",
    "The objective of this notebook is to demonstrate and visualize the computation of the pareto frontier."
   ]
  },
  {
   "cell_type": "code",
   "execution_count": 1,
   "metadata": {},
   "outputs": [],
   "source": [
    "import matplotlib.pyplot as plt\n",
    "import pandas as pd\n",
    "\n",
    "from mlos.Optimizers.OptimizationProblem import OptimizationProblem, Objective\n",
    "from mlos.Optimizers.ParetoFrontier import ParetoFrontier\n",
    "from mlos.Spaces import SimpleHypergrid, ContinuousDimension\n"
   ]
  },
  {
   "cell_type": "markdown",
   "metadata": {},
   "source": [
    "Let's put toghether a very simple set of points, two of which are on the frontier, one is technically on the frontier, but is dominated by the first two, and several other points are strictly dominated.\n",
    "\n",
    "Assuming we are trying to maximize both y1 and y2:\n",
    "* Pareto efficient points (y1,y2): (1,2), (2,1)\n",
    "* Points on the frontier line but dominated: (0.5, 2), (1,1), (2, 0.5)\n",
    "* Strictly dominated points: (0.5, 0.5), (0.5, 1), (0.5, 1.5), (1, 0.5), (1.5, 0.5)"
   ]
  },
  {
   "cell_type": "code",
   "execution_count": 2,
   "metadata": {},
   "outputs": [
    {
     "data": {
      "text/plain": [
       "Text(0.5, 0, 'y1')"
      ]
     },
     "execution_count": 2,
     "metadata": {},
     "output_type": "execute_result"
    },
    {
     "data": {
      "image/png": "[encoded data removed]",
      "text/plain": [
       "<Figure size 360x360 with 1 Axes>"
      ]
     },
     "metadata": {
      "needs_background": "light"
     },
     "output_type": "display_data"
    }
   ],
   "source": [
    "optimization_problem = OptimizationProblem(\n",
    "    parameter_space=None,\n",
    "    objective_space=SimpleHypergrid(\n",
    "        name=\"objectives\",\n",
    "        dimensions=[\n",
    "            ContinuousDimension(name='y1', min=0, max=5),\n",
    "            ContinuousDimension(name='y2', min=0, max=5)\n",
    "        ]\n",
    "    ),\n",
    "    objectives=[\n",
    "        Objective(name='y1', minimize=False),\n",
    "        Objective(name='y2', minimize=False)\n",
    "    ]\n",
    ")\n",
    "\n",
    "objectives_df = pd.DataFrame(\n",
    "    [\n",
    "        [1, 2],\n",
    "        [2, 1],\n",
    "        [0.5, 2],\n",
    "        [1, 1],\n",
    "        [2, 0.5],\n",
    "        [0.5, 0.5],\n",
    "        [0.5, 1],\n",
    "        [0.5, 1.5],\n",
    "        [1, 0.5],\n",
    "        [1.5, 0.5]\n",
    "    ],\n",
    "    columns=['y1', 'y2']\n",
    ")\n",
    "\n",
    "pareto_line = pd.DataFrame(\n",
    "    [\n",
    "        [0.5, 2],\n",
    "        [1, 2],\n",
    "        [1, 1],\n",
    "        [2, 1],\n",
    "        [2, 0.5],\n",
    "    ],\n",
    "    columns=['y1', 'y2']\n",
    ")\n",
    "\n",
    "pareto_df = ParetoFrontier.compute_pareto(optimization_problem, objectives_df)\n",
    "\n",
    "maybe_pareto_df = pd.DataFrame(\n",
    "    [\n",
    "        [0.5, 2],\n",
    "        [1, 1],\n",
    "        [2, 0.5],\n",
    "    ],\n",
    "    columns=['y1', 'y2']\n",
    ")\n",
    "\n",
    "\n",
    "\n",
    "plt.figure(figsize=(5, 5))\n",
    "plt.scatter(objectives_df['y1'], objectives_df['y2'], label=\"objectives\")\n",
    "plt.scatter(pareto_df['y1'], pareto_df['y2'], label=\"pareto\")\n",
    "plt.scatter(maybe_pareto_df['y1'], maybe_pareto_df['y2'], label=\"maybe??\")\n",
    "plt.plot(pareto_line['y1'], pareto_line['y2'], label=\"frontier line\")\n",
    "plt.legend()\n",
    "plt.ylabel('y2')\n",
    "plt.xlabel('y1')"
   ]
  }
 ],
 "metadata": {
  "kernelspec": {
   "display_name": "Python 3",
   "language": "python",
   "name": "python3"
  },
  "language_info": {
   "codemirror_mode": {
    "name": "ipython",
    "version": 3
   },
   "file_extension": ".py",
   "mimetype": "text/x-python",
   "name": "python",
   "nbconvert_exporter": "python",
   "pygments_lexer": "ipython3",
   "version": "3.8.3"
  }
 },
 "nbformat": 4,
 "nbformat_minor": 4
}
