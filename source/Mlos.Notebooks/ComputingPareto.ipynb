{
 "cells": [
  {
   "cell_type": "markdown",
   "metadata": {},
   "source": [
    "# Goal\n",
    "\n",
    "The objective of this notebook is to demonstrate and visualize the computation of the pareto frontier."
   ]
  },
  {
   "cell_type": "code",
   "execution_count": 1,
   "metadata": {},
   "outputs": [
    {
     "data": {
      "text/html": [
       "<style>.container { width:100% !important; }</style>"
      ],
      "text/plain": [
       "<IPython.core.display.HTML object>"
      ]
     },
     "metadata": {},
     "output_type": "display_data"
    }
   ],
   "source": [
    "from IPython.core.display import display, HTML\n",
    "display(HTML(\"<style>.container { width:100% !important; }</style>\"))"
   ]
  },
  {
   "cell_type": "code",
   "execution_count": 2,
   "metadata": {},
   "outputs": [],
   "source": [
    "import matplotlib.pyplot as plt\n",
    "import pandas as pd\n",
    "\n",
    "from mlos.Optimizers.OptimizationProblem import OptimizationProblem, Objective\n",
    "from mlos.Optimizers.ParetoFrontier import ParetoFrontier\n",
    "from mlos.Spaces import SimpleHypergrid, ContinuousDimension\n"
   ]
  },
  {
   "cell_type": "markdown",
   "metadata": {},
   "source": [
    "Let's put toghether a very simple set of points, two of which are on the frontier, one is technically on the frontier, but is dominated by the first two, and several other points are strictly dominated.\n",
    "\n",
    "Assuming we are trying to maximize both y1 and y2:\n",
    "* Pareto efficient points (y1,y2): (1,2), (2,1)\n",
    "* Points on the frontier line but dominated: (0.5, 2), (1,1), (2, 0.5)\n",
    "* Strictly dominated points: (0.5, 0.5), (0.5, 1), (0.5, 1.5), (1, 0.5), (1.5, 0.5)"
   ]
  },
  {
   "cell_type": "code",
   "execution_count": 4,
   "metadata": {},
   "outputs": [
    {
     "data": {
      "text/plain": [
       "Text(0.5, 0, 'y1')"
      ]
     },
     "execution_count": 4,
     "metadata": {},
     "output_type": "execute_result"
    }
   ],
   "source": [
    "optimization_problem = OptimizationProblem(\n",
    "    parameter_space=None,\n",
    "    objective_space=SimpleHypergrid(\n",
    "        name=\"objectives\",\n",
    "        dimensions=[\n",
    "            ContinuousDimension(name='y1', min=0, max=5),\n",
    "            ContinuousDimension(name='y2', min=0, max=5)\n",
    "        ]\n",
    "    ),\n",
    "    objectives=[\n",
    "        Objective(name='y1', minimize=False),\n",
    "        Objective(name='y2', minimize=False)\n",
    "    ]\n",
    ")\n",
    "\n",
    "objectives_df = pd.DataFrame(\n",
    "    [\n",
    "        [1, 2],\n",
    "        [2, 1],\n",
    "        [0.5, 2],\n",
    "        [1, 1],\n",
    "        [2, 0.5],\n",
    "        [0.5, 0.5],\n",
    "        [0.5, 1],\n",
    "        [0.5, 1.5],\n",
    "        [1, 0.5],\n",
    "        [1.5, 0.5]\n",
    "    ],\n",
    "    columns=['y1', 'y2']\n",
    ")\n",
    "\n",
    "pareto_line = pd.DataFrame(\n",
    "    [\n",
    "        [0.5, 2],\n",
    "        [1, 2],\n",
    "        [1, 1],\n",
    "        [2, 1],\n",
    "        [2, 0.5],\n",
    "    ],\n",
    "    columns=['y1', 'y2']\n",
    ")\n",
    "\n",
    "parameters_df = pd.DataFrame(index=objectives_df.index)\n",
    "\n",
    "pareto_frontier = ParetoFrontier(optimization_problem, objectives_df, parameters_df)\n",
    "pareto_df = pareto_frontier.pareto_df\n",
    "\n",
    "plt.figure(figsize=(5, 5))\n",
    "plt.scatter(objectives_df['y1'], objectives_df['y2'], label=\"objectives\")\n",
    "plt.scatter(pareto_df['y1'], pareto_df['y2'], label=\"pareto\")\n",
    "plt.plot(pareto_line['y1'], pareto_line['y2'], label=\"frontier line\")\n",
    "plt.legend()\n",
    "plt.ylabel('y2')\n",
    "plt.xlabel('y1')"
   ]
  },
  {
   "cell_type": "code",
   "execution_count": 5,
   "metadata": {},
   "outputs": [
    {
     "data": {
      "text/plain": [
       "Text(0.5, 0, 'y1')"
      ]
     },
     "execution_count": 5,
     "metadata": {},
     "output_type": "execute_result"
    }
   ],
   "source": [
    "# Let's see if we can determine if a point is dominated or not.\n",
    "#\n",
    "dominated_points_df = pd.DataFrame({\n",
    "    'y1': [0.8, 0.8, 1.6],\n",
    "    'y2': [0.8, 1.6, 0.8]\n",
    "})\n",
    "\n",
    "non_dominated_points_df = pd.DataFrame({\n",
    "    'y1': [0.8, 1.6, 2.6],\n",
    "    'y2': [2.6, 1.6, 0.8]\n",
    "})\n",
    "\n",
    "plt.figure(figsize=(5, 5))\n",
    "plt.scatter(objectives_df['y1'], objectives_df['y2'], label=\"objectives\")\n",
    "plt.scatter(pareto_df['y1'], pareto_df['y2'], label=\"pareto\")\n",
    "plt.scatter(dominated_points_df['y1'], dominated_points_df['y2'], label='dominated')\n",
    "plt.scatter(non_dominated_points_df['y1'], non_dominated_points_df['y2'], label='non dominated')\n",
    "plt.plot(pareto_line['y1'], pareto_line['y2'], label=\"frontier line\")\n",
    "plt.legend()\n",
    "plt.ylabel('y2')\n",
    "plt.xlabel('y1')"
   ]
  },
  {
   "cell_type": "code",
   "execution_count": 6,
   "metadata": {},
   "outputs": [
    {
     "data": {
      "text/plain": [
       "1    False\n",
       "4    False\n",
       "0    False\n",
       "3    False\n",
       "2    False\n",
       "dtype: bool"
      ]
     },
     "execution_count": 6,
     "metadata": {},
     "output_type": "execute_result"
    }
   ],
   "source": [
    "dominated_points_df.apply(lambda row: (row >= pareto_df).any(axis=1)).any(axis=1)\n"
   ]
  },
  {
   "cell_type": "code",
   "execution_count": 7,
   "metadata": {},
   "outputs": [
    {
     "data": {
      "text/html": [
       "<div>\n",
       "<style scoped>\n",
       "    .dataframe tbody tr th:only-of-type {\n",
       "        vertical-align: middle;\n",
       "    }\n",
       "\n",
       "    .dataframe tbody tr th {\n",
       "        vertical-align: top;\n",
       "    }\n",
       "\n",
       "    .dataframe thead th {\n",
       "        text-align: right;\n",
       "    }\n",
       "</style>\n",
       "<table border=\"1\" class=\"dataframe\">\n",
       "  <thead>\n",
       "    <tr style=\"text-align: right;\">\n",
       "      <th></th>\n",
       "      <th>y1</th>\n",
       "      <th>y2</th>\n",
       "    </tr>\n",
       "  </thead>\n",
       "  <tbody>\n",
       "    <tr>\n",
       "      <th>y1</th>\n",
       "      <td>False</td>\n",
       "      <td>False</td>\n",
       "    </tr>\n",
       "    <tr>\n",
       "      <th>y2</th>\n",
       "      <td>False</td>\n",
       "      <td>False</td>\n",
       "    </tr>\n",
       "    <tr>\n",
       "      <th>0</th>\n",
       "      <td>False</td>\n",
       "      <td>False</td>\n",
       "    </tr>\n",
       "    <tr>\n",
       "      <th>1</th>\n",
       "      <td>False</td>\n",
       "      <td>False</td>\n",
       "    </tr>\n",
       "    <tr>\n",
       "      <th>2</th>\n",
       "      <td>False</td>\n",
       "      <td>False</td>\n",
       "    </tr>\n",
       "  </tbody>\n",
       "</table>\n",
       "</div>"
      ],
      "text/plain": [
       "       y1     y2\n",
       "y1  False  False\n",
       "y2  False  False\n",
       "0   False  False\n",
       "1   False  False\n",
       "2   False  False"
      ]
     },
     "execution_count": 7,
     "metadata": {},
     "output_type": "execute_result"
    }
   ],
   "source": [
    "non_dominated_points_df.apply(lambda row: (row >= pareto_df).any(axis=0))"
   ]
  },
  {
   "cell_type": "code",
   "execution_count": 8,
   "metadata": {},
   "outputs": [
    {
     "data": {
      "text/plain": [
       "0    True\n",
       "1    True\n",
       "2    True\n",
       "dtype: bool"
      ]
     },
     "execution_count": 8,
     "metadata": {},
     "output_type": "execute_result"
    }
   ],
   "source": [
    "# dominated means that at least one point in the pareto is larger than the candidate point in every way.\n",
    "def is_not_dominated(objectives_df, pareto_df):\n",
    "    is_not_dominated = pd.Series([True for i in range(len(objectives_df.index))])\n",
    "    for idx, pareto_row in pareto_df.iterrows():\n",
    "        is_not_dominated = is_not_dominated & (objectives_df >= pareto_row).any(axis=1)\n",
    "    return is_not_dominated\n",
    "\n",
    "is_not_dominated(non_dominated_points_df, pareto_df)"
   ]
  },
  {
   "cell_type": "code",
   "execution_count": 9,
   "metadata": {},
   "outputs": [
    {
     "data": {
      "text/plain": [
       "0    False\n",
       "1    False\n",
       "2    False\n",
       "dtype: bool"
      ]
     },
     "execution_count": 9,
     "metadata": {},
     "output_type": "execute_result"
    }
   ],
   "source": [
    "is_not_dominated(dominated_points_df, pareto_df)"
   ]
  },
  {
   "cell_type": "code",
   "execution_count": 10,
   "metadata": {},
   "outputs": [
    {
     "data": {
      "text/html": [
       "<div>\n",
       "<style scoped>\n",
       "    .dataframe tbody tr th:only-of-type {\n",
       "        vertical-align: middle;\n",
       "    }\n",
       "\n",
       "    .dataframe tbody tr th {\n",
       "        vertical-align: top;\n",
       "    }\n",
       "\n",
       "    .dataframe thead th {\n",
       "        text-align: right;\n",
       "    }\n",
       "</style>\n",
       "<table border=\"1\" class=\"dataframe\">\n",
       "  <thead>\n",
       "    <tr style=\"text-align: right;\">\n",
       "      <th></th>\n",
       "      <th>y1</th>\n",
       "      <th>y2</th>\n",
       "    </tr>\n",
       "  </thead>\n",
       "  <tbody>\n",
       "    <tr>\n",
       "      <th>0</th>\n",
       "      <td>0.8</td>\n",
       "      <td>0.8</td>\n",
       "    </tr>\n",
       "    <tr>\n",
       "      <th>1</th>\n",
       "      <td>0.8</td>\n",
       "      <td>1.6</td>\n",
       "    </tr>\n",
       "    <tr>\n",
       "      <th>2</th>\n",
       "      <td>1.6</td>\n",
       "      <td>0.8</td>\n",
       "    </tr>\n",
       "    <tr>\n",
       "      <th>3</th>\n",
       "      <td>0.8</td>\n",
       "      <td>2.6</td>\n",
       "    </tr>\n",
       "    <tr>\n",
       "      <th>4</th>\n",
       "      <td>1.6</td>\n",
       "      <td>1.6</td>\n",
       "    </tr>\n",
       "    <tr>\n",
       "      <th>5</th>\n",
       "      <td>2.6</td>\n",
       "      <td>0.8</td>\n",
       "    </tr>\n",
       "  </tbody>\n",
       "</table>\n",
       "</div>"
      ],
      "text/plain": [
       "    y1   y2\n",
       "0  0.8  0.8\n",
       "1  0.8  1.6\n",
       "2  1.6  0.8\n",
       "3  0.8  2.6\n",
       "4  1.6  1.6\n",
       "5  2.6  0.8"
      ]
     },
     "execution_count": 10,
     "metadata": {},
     "output_type": "execute_result"
    }
   ],
   "source": [
    "mixed = pd.concat([dominated_points_df, non_dominated_points_df], axis=0, ignore_index=True)\n",
    "mixed"
   ]
  },
  {
   "cell_type": "code",
   "execution_count": 11,
   "metadata": {},
   "outputs": [],
   "source": [
    "assert not pareto_frontier.is_dominated(non_dominated_points_df).any()"
   ]
  },
  {
   "cell_type": "code",
   "execution_count": 12,
   "metadata": {},
   "outputs": [],
   "source": [
    "assert pareto_frontier.is_dominated(dominated_points_df).all()"
   ]
  },
  {
   "cell_type": "code",
   "execution_count": 13,
   "metadata": {},
   "outputs": [],
   "source": [
    "assert pareto_frontier.is_dominated(mixed).sum() == 3"
   ]
  },
  {
   "cell_type": "code",
   "execution_count": 15,
   "metadata": {},
   "outputs": [],
   "source": [
    "from mlos.Optimizers.BayesianOptimizerFactory import BayesianOptimizerFactory, bayesian_optimizer_config_store\n",
    "from mlos.OptimizerEvaluationTools.ObjectiveFunctionFactory import ObjectiveFunctionFactory\n",
    "from mlos.OptimizerEvaluationTools.SyntheticFunctions.Hypersphere import Hypersphere\n",
    "from mlos.Spaces import ContinuousDimension, DiscreteDimension, Point, SimpleHypergrid\n",
    "\n",
    "hypersphere_radius = 10\n",
    "\n",
    "objective_function_config = Point(\n",
    "    implementation=Hypersphere.__name__,\n",
    "    hypersphere_config=Point(\n",
    "        num_objectives=2,\n",
    "        minimize='none',\n",
    "        radius=hypersphere_radius\n",
    "    )\n",
    ")\n",
    "\n",
    "objective_function = ObjectiveFunctionFactory.create_objective_function(objective_function_config=objective_function_config)\n",
    "optimization_problem = objective_function.default_optimization_problem\n",
    "random_params_df = optimization_problem.parameter_space.random_dataframe(100)\n",
    "\n",
    "# Let's randomly subsample 10% of points in random_params_df and make those points pareto optimal.\n",
    "#\n",
    "optimal_points_index = random_params_df.sample(\n",
    "    frac=0.1,\n",
    "    replace=False,\n",
    "    axis='index'\n",
    ").index\n",
    "\n",
    "random_params_df.loc[optimal_points_index, ['radius']] = hypersphere_radius\n",
    "\n",
    "\n",
    "dominated_params_df = random_params_df.loc[optimal_points_index].copy()\n",
    "dominated_params_df['radius'] = 1\n",
    "dominated_points_df = objective_function.evaluate_dataframe(dataframe=dominated_params_df)\n",
    "\n",
    "non_dominated_params_df = random_params_df.loc[optimal_points_index].copy()\n",
    "non_dominated_params_df['radius'] = 11\n",
    "non_dominated_points_df = objective_function.evaluate_dataframe(dataframe=non_dominated_params_df)\n",
    "\n",
    "\n",
    "objectives_df = objective_function.evaluate_dataframe(dataframe=random_params_df)\n",
    "pareto_frontier = ParetoFrontier(\n",
    "    optimization_problem=optimization_problem,\n",
    "    objectives_df=objectives_df,\n",
    "    parameters_df=pd.DataFrame(index=objectives_df.index)\n",
    ")\n",
    "pareto_df = pareto_frontier.pareto_df"
   ]
  },
  {
   "cell_type": "code",
   "execution_count": 16,
   "metadata": {},
   "outputs": [],
   "source": [
    "assert pareto_frontier.is_dominated(dominated_points_df).all()"
   ]
  },
  {
   "cell_type": "code",
   "execution_count": 17,
   "metadata": {},
   "outputs": [],
   "source": [
    "assert not pareto_frontier.is_dominated(non_dominated_points_df).any()"
   ]
  },
  {
   "cell_type": "code",
   "execution_count": 20,
   "metadata": {},
   "outputs": [
    {
     "data": {
      "text/plain": [
       "Text(0.5, 0, 'y0')"
      ]
     },
     "execution_count": 20,
     "metadata": {},
     "output_type": "execute_result"
    }
   ],
   "source": [
    "plt.figure(figsize=(5, 5))\n",
    "#plt.scatter(objectives_df['y0'], objectives_df['y1'], label=\"objectives\")\n",
    "plt.scatter(pareto_df['y0'], pareto_df['y1'], label=\"pareto\")\n",
    "plt.scatter(dominated_points_df['y0'], dominated_points_df['y1'], label='dominated')\n",
    "plt.scatter(non_dominated_points_df['y0'], non_dominated_points_df['y1'], label='non dominated')\n",
    "plt.legend()\n",
    "plt.ylabel('y1')\n",
    "plt.xlabel('y0')"
   ]
  },
  {
   "cell_type": "code",
   "execution_count": null,
   "metadata": {},
   "outputs": [],
   "source": []
  }
 ],
 "metadata": {
  "kernelspec": {
   "display_name": "Python (mlos)",
   "language": "python",
   "name": "mlos"
  },
  "language_info": {
   "codemirror_mode": {
    "name": "ipython",
    "version": 3
   },
   "file_extension": ".py",
   "mimetype": "text/x-python",
   "name": "python",
   "nbconvert_exporter": "python",
   "pygments_lexer": "ipython3",
   "version": "3.7.10"
  }
 },
 "nbformat": 4,
 "nbformat_minor": 4
}
