{
 "cells": [
  {
   "cell_type": "markdown",
   "metadata": {},
   "source": [
    "# Connecting MLOS to a C++ application\n",
    "\n",
    "This notebook walks through connecting MLOS to a C++ application within a docker container.\n",
    "We will start a docker container, and run an MLOS Agent within it. The MLOS Agent will start the actual application, and communicate with it via a shared memory channel.\n",
    "In this example, the MLOS Agent controls the execution of the workloads on the application, and we will later connect to the agent to optimize the configuration of our application.\n",
    "\n",
    "The application is a \"SmartCache\" similar to the one in the SmartCacheOptimization notebook, though with some more parameters to tune.\n",
    "The source for this example is in the [`source/Examples/SmartCache`](https://github.com/Microsoft/MLOS/tree/main/source/Examples/SmartCache) folder."
   ]
  },
  {
   "cell_type": "markdown",
   "metadata": {},
   "source": [
    "## Building the application\n",
    "\n",
    "To build and run the necessary components for this example you need to create and run a docker image.\n",
    "To that end, open a separate terminal and go to the MLOS main folder. Within that folder, run the following commands:\n",
    "\n",
    "1. [Build the Docker image](https://microsoft.github.io/MLOS/documentation/01-Prerequisites/#build-the-docker-image) using the [`Dockerfile`](../../Dockerfile#mlos-github-tree-view) at the root of the repository.\n",
    "\n",
    "    ```shell\n",
    "    docker build --build-arg=UbuntuVersion=20.04 -t mlos-build-ubuntu-20.04 .\n",
    "    ```\n",
    "\n",
    "2. [Run the Docker image](https://microsoft.github.io/MLOS/documentation/02-Build/#create-a-new-container-instance) you just built.\n",
    "\n",
    "    ```shell\n",
    "    docker run -it -v $PWD:/src/MLOS -p 127.0.0.1:50051:50051/tcp \\\n",
    "        --name mlos-build mlos-build-ubuntu-20.04\n",
    "         \n",
    "    ```\n",
    "    This will open a shell inside the docker container.\n",
    "    We're also exposing port 50051 on the docker container to port 50051 of our host machine.\n",
    "    This will allow us later to connect to the optimizer that runs inside the docker container.\n",
    "\n",
    "3. Inside the container, [build the compiled software](https://microsoft.github.io/MLOS/documentation/02-Build/#cli-make) with `make`:\n",
    "\n",
    "    ```sh\n",
    "    make dotnet-build cmake-build cmake-install\n",
    "    ```"
   ]
  },
  {
   "cell_type": "markdown",
   "metadata": {},
   "source": [
    "The relevant output will be at:\n",
    "\n",
    "- Mlos.Agent.Server:\n",
    "\n",
    "    This file corresponds to the main entry point for MLOS, written in C#. You can find the source in\n",
    "    [`source/Mlos.Agent.Server/MlosAgentServer.cs`](https://github.com/Microsoft/MLOS/tree/main/source/Mlos.Agent.Server/MlosAgentServer.cs) and the binary at\n",
    "    `target/bin/Release/AnyCPU/Mlos.Agent.Server/Mlos.Agent.Server.dll`\n",
    "\n",
    "- SmartCache:\n",
    "\n",
    "    This is the C++ executable that implements the SmartCache and executes some workloads.\n",
    "    You can find the source in [`source/Examples/SmartCache/Main.cpp`](https://github.com/Microsoft/MLOS/tree/main/source/Examples/SmartCache/Main.cpp) and the binary at\n",
    "    `target/bin/Release/x86_64/SmartCache`\n",
    "\n",
    "- SmartCache.SettingsRegistry:\n",
    "\n",
    "    This is the C# code that declares the configuration options for the SmartCache component, and defines the communication\n",
    "    between the the MLOS Agent and the SmartCache component. You can find the source in\n",
    "    [`source/Examples/SmartCache/SmartCache.SettingsRegistry/AssemblyInitializer.cs`](https://github.com/Microsoft/MLOS/tree/main/source/Examples/SmartCache/SmartCache.SettingsRegistry/AssemblyInitializer.cs) and the binary at\n",
    "    `target/bin/Release/AnyCPU/SmartCache.SettingsRegistry.dll`\n",
    "        "
   ]
  },
  {
   "cell_type": "markdown",
   "metadata": {},
   "source": [
    "## Starting the MLOS Agent and executing the workloads:\n",
    "\n",
    "Within the docker container, we can now tell the agent where the configuration options are stored, by setting the `MLOS_SETTINGS_REGISTRY_PATH`.\n",
    "Then, we can run the MLOS Agent, which will in turn run the SmartCache executable.\n",
    "```sh\n",
    "tools/bin/dotnet target/bin/Release/AnyCPU/Mlos.Agent.Server/Mlos.Agent.Server.dll \\\n",
    "    --settings-registry-path target/bin/Release/AnyCPU \\\n",
    "    --executable target/bin/Release/x86_64/SmartCache\n",
    "```\n",
    "\n",
    "For a more detailed explanation of what's going on, please see the [SmartCache README](https://microsoft.github.io/MLOS/source/Examples/SmartCache#explanation).\n"
   ]
  },
  {
   "cell_type": "markdown",
   "metadata": {},
   "source": [
    "The main loop of ``SmartCache`` contains the following:\n",
    "\n",
    "```cpp\n",
    "    for (int observations = 0; observations < 100; observations++)\n",
    "    {\n",
    "        // run 100 observations\n",
    "        std::cout << \"observations: \" << observations << std::endl;\n",
    "\n",
    "        for (int i = 0; i < 20; i++)\n",
    "        {\n",
    "            // run a workload 20 times\n",
    "            CyclicalWorkload(2048, smartCache);\n",
    "        }\n",
    "\n",
    "        bool isConfigReady = false;\n",
    "        std::mutex waitForConfigMutex;\n",
    "        std::condition_variable waitForConfigCondVar;\n",
    "\n",
    "        // Setup a callback.\n",
    "        //\n",
    "        // OMMITTED\n",
    "        // [...]\n",
    "\n",
    "        // Send a request to obtain a new configuration.\n",
    "        SmartCache::RequestNewConfigurationMessage msg = { 0 };\n",
    "        mlosContext.SendTelemetryMessage(msg);\n",
    "        // wait for MLOS Agent so send a message with a new configuration\n",
    "        std::unique_lock<std::mutex> lock(waitForConfigMutex);\n",
    "        while (!isConfigReady)\n",
    "        {\n",
    "            waitForConfigCondVar.wait(lock);\n",
    "        }\n",
    "\n",
    "        config.Update();\n",
    "        smartCache.Reconfigure();\n",
    "    }\n",
    "```"
   ]
  },
  {
   "cell_type": "markdown",
   "metadata": {},
   "source": [
    "After each iteration, a TelemetryMessage is sent to the MLOS Agent, and the SmartCache blocks until it receives a new configuration to run the next workload.\n",
    "By default, the agent is not connected to any optimizer, and will not change the original configuration, so the workload will just run uninterrupted."
   ]
  },
  {
   "cell_type": "markdown",
   "metadata": {},
   "source": [
    "## Starting an Optimizer\n",
    "We can now also start an Optimizer service for the MLOS Agent to connect to so that we can actually optimize the parameters for this workload.\n",
    "As the optimizer is running in a separate process, we need to create a new shell on the running docker container using the following command:\n",
    "\n",
    "```shell\n",
    "docker exec -it mlos-build /bin/bash\n",
    "```\n",
    "\n",
    "Within the container, we now install the Python optimizer service:\n",
    "```shell\n",
    "pip install -e source/Mlos.Python/\n",
    "```\n",
    "\n",
    "And run it:\n",
    "```shell\n",
    "start_optimizer_microservice launch --port 50051\n",
    "```\n"
   ]
  },
  {
   "cell_type": "markdown",
   "metadata": {},
   "source": [
    "## Connecting the Agent to the Optimizer\n",
    "Now we can start the agent again, this time also pointing it to the optimizer:\n",
    "```sh\n",
    "tools/bin/dotnet target/bin/Release/AnyCPU/Mlos.Agent.Server/Mlos.Agent.Server.dll \\\n",
    "    --executable target/bin/Release/x86_64/SmartCache \\\n",
    "    --optimizer-uri http://localhost:50051\n",
    "```"
   ]
  },
  {
   "cell_type": "markdown",
   "metadata": {},
   "source": [
    "This will run the workload again, this time using the optimizer to suggest better configurations. You should see output both in the terminal the agent is running in and in the terminal the OptimizerMicroservice is running in."
   ]
  },
  {
   "cell_type": "markdown",
   "metadata": {},
   "source": [
    "## Inspecting results\n",
    "After (or even while) the optimization is running, we can connect to the optimizer via another GRPC channel.\n",
    "The optimizer is running within the docker container, but when we started docker, we exposed the port 50051 as the same port 50051 on the host machine (on which this notebook is running). So we can now connect to the optimizer within the docker container at `127.0.0.1:50051`.\n",
    "This assumes this notebook runs in an environment with the `mlos` Python package installed ([see the documentation](https://microsoft.github.io/MLOS/documentation/01-Prerequisites/#python-quickstart))."
   ]
  },
  {
   "cell_type": "code",
   "execution_count": 1,
   "metadata": {},
   "outputs": [
    {
     "data": {
      "text/plain": [
       "OptimizerMonitor(grpc_channel='127.0.0.1:50051')"
      ]
     },
     "execution_count": 1,
     "metadata": {},
     "output_type": "execute_result"
    }
   ],
   "source": [
    "from mlos.Grpc.OptimizerMonitor import OptimizerMonitor\n",
    "import grpc\n",
    "# create a grpc channel and instantiate the OptimizerMonitor\n",
    "channel = grpc.insecure_channel('127.0.0.1:50051')\n",
    "optimizer_monitor = OptimizerMonitor(grpc_channel=channel)\n",
    "optimizer_monitor"
   ]
  },
  {
   "cell_type": "code",
   "execution_count": 2,
   "metadata": {},
   "outputs": [
    {
     "data": {
      "text/plain": [
       "[<mlos.Grpc.BayesianOptimizerProxy.BayesianOptimizerProxy at 0x7fdff5578d90>]"
      ]
     },
     "execution_count": 2,
     "metadata": {},
     "output_type": "execute_result"
    }
   ],
   "source": [
    "# There should be one optimizer running in the docker container\n",
    "# corresponding to the C++ SmartCache optimization problem\n",
    "# An OptimizerMicroservice can run multiple optimizers, which would all be listed here\n",
    "optimizers = optimizer_monitor.get_existing_optimizers()\n",
    "optimizers"
   ]
  },
  {
   "cell_type": "markdown",
   "metadata": {},
   "source": [
    "We can now get the observations exactly the same way as for the Python example in `SmartCacheOptimization.ipynb`"
   ]
  },
  {
   "cell_type": "code",
   "execution_count": 3,
   "metadata": {},
   "outputs": [],
   "source": [
    "optimizer = optimizers[0]\n",
    "features_df, objectives_df =  optimizer.get_all_observations()"
   ]
  },
  {
   "cell_type": "code",
   "execution_count": 4,
   "metadata": {},
   "outputs": [
    {
     "data": {
      "text/html": [
       "<div>\n",
       "<style scoped>\n",
       "    .dataframe tbody tr th:only-of-type {\n",
       "        vertical-align: middle;\n",
       "    }\n",
       "\n",
       "    .dataframe tbody tr th {\n",
       "        vertical-align: top;\n",
       "    }\n",
       "\n",
       "    .dataframe thead th {\n",
       "        text-align: right;\n",
       "    }\n",
       "</style>\n",
       "<table border=\"1\" class=\"dataframe\">\n",
       "  <thead>\n",
       "    <tr style=\"text-align: right;\">\n",
       "      <th></th>\n",
       "      <th>cache_implementation</th>\n",
       "      <th>lru_cache_config.cache_size</th>\n",
       "      <th>mru_cache_config.cache_size</th>\n",
       "      <th>HitRate</th>\n",
       "    </tr>\n",
       "  </thead>\n",
       "  <tbody>\n",
       "    <tr>\n",
       "      <th>0</th>\n",
       "      <td>LeastRecentlyUsed</td>\n",
       "      <td>100.0</td>\n",
       "      <td>NaN</td>\n",
       "      <td>0.000000</td>\n",
       "    </tr>\n",
       "    <tr>\n",
       "      <th>1</th>\n",
       "      <td>MostRecentlyUsed</td>\n",
       "      <td>NaN</td>\n",
       "      <td>2352.0</td>\n",
       "      <td>0.950000</td>\n",
       "    </tr>\n",
       "    <tr>\n",
       "      <th>2</th>\n",
       "      <td>MostRecentlyUsed</td>\n",
       "      <td>NaN</td>\n",
       "      <td>1931.0</td>\n",
       "      <td>0.896165</td>\n",
       "    </tr>\n",
       "    <tr>\n",
       "      <th>3</th>\n",
       "      <td>LeastRecentlyUsed</td>\n",
       "      <td>3145.0</td>\n",
       "      <td>NaN</td>\n",
       "      <td>0.950000</td>\n",
       "    </tr>\n",
       "    <tr>\n",
       "      <th>4</th>\n",
       "      <td>LeastRecentlyUsed</td>\n",
       "      <td>2927.0</td>\n",
       "      <td>NaN</td>\n",
       "      <td>0.950000</td>\n",
       "    </tr>\n",
       "    <tr>\n",
       "      <th>...</th>\n",
       "      <td>...</td>\n",
       "      <td>...</td>\n",
       "      <td>...</td>\n",
       "      <td>...</td>\n",
       "    </tr>\n",
       "    <tr>\n",
       "      <th>95</th>\n",
       "      <td>LeastRecentlyUsed</td>\n",
       "      <td>3726.0</td>\n",
       "      <td>NaN</td>\n",
       "      <td>0.950000</td>\n",
       "    </tr>\n",
       "    <tr>\n",
       "      <th>96</th>\n",
       "      <td>LeastRecentlyUsed</td>\n",
       "      <td>3358.0</td>\n",
       "      <td>NaN</td>\n",
       "      <td>0.950000</td>\n",
       "    </tr>\n",
       "    <tr>\n",
       "      <th>97</th>\n",
       "      <td>MostRecentlyUsed</td>\n",
       "      <td>NaN</td>\n",
       "      <td>3321.0</td>\n",
       "      <td>0.950000</td>\n",
       "    </tr>\n",
       "    <tr>\n",
       "      <th>98</th>\n",
       "      <td>LeastRecentlyUsed</td>\n",
       "      <td>2081.0</td>\n",
       "      <td>NaN</td>\n",
       "      <td>0.950000</td>\n",
       "    </tr>\n",
       "    <tr>\n",
       "      <th>99</th>\n",
       "      <td>MostRecentlyUsed</td>\n",
       "      <td>NaN</td>\n",
       "      <td>372.0</td>\n",
       "      <td>0.172643</td>\n",
       "    </tr>\n",
       "  </tbody>\n",
       "</table>\n",
       "<p>100 rows × 4 columns</p>\n",
       "</div>"
      ],
      "text/plain": [
       "   cache_implementation  lru_cache_config.cache_size  \\\n",
       "0     LeastRecentlyUsed                        100.0   \n",
       "1      MostRecentlyUsed                          NaN   \n",
       "2      MostRecentlyUsed                          NaN   \n",
       "3     LeastRecentlyUsed                       3145.0   \n",
       "4     LeastRecentlyUsed                       2927.0   \n",
       "..                  ...                          ...   \n",
       "95    LeastRecentlyUsed                       3726.0   \n",
       "96    LeastRecentlyUsed                       3358.0   \n",
       "97     MostRecentlyUsed                          NaN   \n",
       "98    LeastRecentlyUsed                       2081.0   \n",
       "99     MostRecentlyUsed                          NaN   \n",
       "\n",
       "    mru_cache_config.cache_size   HitRate  \n",
       "0                           NaN  0.000000  \n",
       "1                        2352.0  0.950000  \n",
       "2                        1931.0  0.896165  \n",
       "3                           NaN  0.950000  \n",
       "4                           NaN  0.950000  \n",
       "..                          ...       ...  \n",
       "95                          NaN  0.950000  \n",
       "96                          NaN  0.950000  \n",
       "97                       3321.0  0.950000  \n",
       "98                          NaN  0.950000  \n",
       "99                        372.0  0.172643  \n",
       "\n",
       "[100 rows x 4 columns]"
      ]
     },
     "execution_count": 4,
     "metadata": {},
     "output_type": "execute_result"
    }
   ],
   "source": [
    "import pandas as pd\n",
    "features, targets = optimizer.get_all_observations()\n",
    "data = pd.concat([features, targets], axis=1)\n",
    "data"
   ]
  },
  {
   "cell_type": "code",
   "execution_count": 5,
   "metadata": {},
   "outputs": [
    {
     "data": {
      "text/plain": [
       "<matplotlib.legend.Legend at 0x7fdff453aad0>"
      ]
     },
     "execution_count": 5,
     "metadata": {},
     "output_type": "execute_result"
    },
    {
     "data": {
      "image/png": "[encoded data removed]",
      "text/plain": [
       "<Figure size 432x288 with 1 Axes>"
      ]
     },
     "metadata": {
      "needs_background": "light"
     },
     "output_type": "display_data"
    }
   ],
   "source": [
    "lru_data, mru_data = data.groupby('cache_implementation')\n",
    "\n",
    "import matplotlib.pyplot as plt\n",
    "line_lru = lru_data[1].plot(x='lru_cache_config.cache_size', y='HitRate', label='LRU', marker='o', linestyle='none', alpha=.6)\n",
    "mru_data[1].plot(x='mru_cache_config.cache_size', y='HitRate', label='MRU', marker='o', linestyle='none', alpha=.6, ax=plt.gca())\n",
    "plt.ylabel(\"Cache hitrate\")\n",
    "plt.xlabel(\"Cache Size\")\n",
    "plt.legend()"
   ]
  },
  {
   "cell_type": "markdown",
   "metadata": {},
   "source": [
    "# Going Further\n",
    "1. Instead of cache hit rate, use a metric based on runtime (e.g. latency, throughput, etc) as performance metric. Environment (context) sensitive metrics can also be measured (e.g. [time](https://bduvenhage.me/performance/2019/06/22/high-performance-timer.html). How does the signal from the runtime based metric compare to the application specific one (hit rate)? How consistent are the runtime results across multiple runs?\n",
    "2. Pick another widely used [cache replacement policy](https://en.wikipedia.org/wiki/Cache_replacement_policies) such as LFU and construct a synthetic workload on which you expect this strategy to work well. Implement the policy and workload as part of the SmartCache example, and add a new option to the ``SmartCache.SettingsRegistry\\AssemblyInitializer.cs``. Run the optimization again with your new workload. Does the optimizer find that your new policy performs best?"
   ]
  }
 ],
 "metadata": {
  "kernelspec": {
   "display_name": "Python [conda env:mlos_python_environment]",
   "language": "python",
   "name": "conda-env-mlos_python_environment-py"
  },
  "language_info": {
   "codemirror_mode": {
    "name": "ipython",
    "version": 3
   },
   "file_extension": ".py",
   "mimetype": "text/x-python",
   "name": "python",
   "nbconvert_exporter": "python",
   "pygments_lexer": "ipython3",
   "version": "3.7.9"
  }
 },
 "nbformat": 4,
 "nbformat_minor": 4
}
