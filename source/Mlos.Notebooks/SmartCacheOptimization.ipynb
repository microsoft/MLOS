{
 "cells": [
  {
   "cell_type": "markdown",
   "metadata": {},
   "source": [
    "# Optimizing Smart Cache with Bayesian Optimization\n",
    "\n",
    "The goal of this notebook is to optimize SmartCache using Bayesian Optimization approach.\n",
    "\n",
    "We're using a sequential model-based optimization approach, that consists of the following loop:\n",
    "1. Get suggested config from optimizer,\n",
    "2. Apply suggested config to ``SmartCache``,\n",
    "3. Execute a fixed workload,\n",
    "4. Collect the metrics from ``SmartCache``,\n",
    "5. Register an observation with the optimizer.\n"
   ]
  },
  {
   "cell_type": "code",
   "execution_count": 1,
   "metadata": {},
   "outputs": [],
   "source": [
    "# import the required classes and tools\n",
    "import grpc\n",
    "import pandas as pd\n",
    "import logging\n",
    "\n",
    "from mlos.Grpc.BayesianOptimizerFactory import BayesianOptimizerFactory\n",
    "from mlos.Logger import create_logger\n",
    "\n",
    "from mlos.Examples.SmartCache import HitRateMonitor, SmartCache, SmartCacheWorkloadGenerator, SmartCacheWorkloadLauncher\n",
    "from mlos.Mlos.SDK import MlosExperiment\n",
    "from mlos.Optimizers.OptimizationProblem import OptimizationProblem, Objective\n",
    "from mlos.Spaces import Point, SimpleHypergrid, ContinuousDimension\n",
    "\n",
    "# The optimizer will be in a remote process via grpc, we pick the port here:\n",
    "grpc_port = 50051"
   ]
  },
  {
   "cell_type": "markdown",
   "metadata": {},
   "source": [
    "Launch the optimizer service in a different process:"
   ]
  },
  {
   "cell_type": "code",
   "execution_count": 2,
   "metadata": {},
   "outputs": [],
   "source": [
    "import subprocess\n",
    "optimizer_microservice = subprocess.Popen(f\"start_optimizer_microservice launch --port {grpc_port}\", shell=True)"
   ]
  },
  {
   "cell_type": "markdown",
   "metadata": {},
   "source": [
    "Now the optimizer service that runs the surrogate model and suggests new points is started in the background.\n",
    "Next, we instantiate an object that connects to it over grpc using the ``BayesianOptimizerFactory``."
   ]
  },
  {
   "cell_type": "code",
   "execution_count": 3,
   "metadata": {},
   "outputs": [],
   "source": [
    "logger = create_logger('Optimizing Smart Cache', logging_level=logging.WARN)\n",
    "optimizer_service_grpc_channel = grpc.insecure_channel(f'localhost:{grpc_port}')\n",
    "bayesian_optimizer_factory = BayesianOptimizerFactory(grpc_channel=optimizer_service_grpc_channel, logger=logger)"
   ]
  },
  {
   "cell_type": "markdown",
   "metadata": {},
   "source": [
    "# The optimization problem"
   ]
  },
  {
   "cell_type": "markdown",
   "metadata": {},
   "source": [
    "Then we can instantiate our optimization problem. We want to optimize the configuration of the ``SmartCache`` component that contains two implementations: an LRU (least recently used) cache and an MRU cache (most recently used).\n",
    "The ``SmartCache`` component has two parameters that we can adjust, the type of cache and the cache size. We are using some synthetic workloads for the cache and try to find what the optimum configuration for each workload is.\n",
    "\n",
    "Here, we measure 'optimum' by the number of cache hits. Another option would be to measure runtime; however, this is a toy example with a trivial workload and there is likely substantial runtime difference.\n",
    "The parameter search space is declared in ``SmartCache.parameter_search_space``:"
   ]
  },
  {
   "cell_type": "code",
   "execution_count": 4,
   "metadata": {},
   "outputs": [
    {
     "data": {
      "text/plain": [
       "smart_cache_config\n",
       "implementation: [LRU, MRU]\n",
       "lru_cache_config.cache_size: {1, 1 + 1, ... , 4096}\n",
       "mru_cache_config.cache_size: {1, 1 + 1, ... , 4096}"
      ]
     },
     "execution_count": 4,
     "metadata": {},
     "output_type": "execute_result"
    }
   ],
   "source": [
    "SmartCache.parameter_search_space"
   ]
  },
  {
   "cell_type": "markdown",
   "metadata": {},
   "source": [
    "The optimization problem is constructed using this parameter space as the input to optimize, and defines a single continuous objective, 'hit_rate' between 0 and 1."
   ]
  },
  {
   "cell_type": "code",
   "execution_count": 5,
   "metadata": {},
   "outputs": [],
   "source": [
    "# Optimization Problem\n",
    "#\n",
    "optimization_problem = OptimizationProblem(\n",
    "    parameter_space=SmartCache.parameter_search_space,\n",
    "    objective_space=SimpleHypergrid(name=\"objectives\", dimensions=[ContinuousDimension(name=\"hit_rate\", min=0, max=1)]),\n",
    "    objectives=[Objective(name=\"hit_rate\", minimize=False)]\n",
    ")\n",
    "# create an optimizer proxy that connects to the remote optimizer via grpc:\n",
    "optimizer = bayesian_optimizer_factory.create_remote_optimizer(optimization_problem=optimization_problem)"
   ]
  },
  {
   "cell_type": "markdown",
   "metadata": {},
   "source": [
    "# Defining workloads\n",
    "Now we can instantiate our workloads and stand up the MLOS infrastructure, both of which are orchestrated by``SmartCacheWorkloadLauncher``. The MLOS infrastructure consists of the MlosAgent and a communication channel, which are available to both the ``SmartCacheWorkloadGenerator`` and the ``SmartCache``.\n",
    "The ``SmartCacheWorkloadLauncher`` launches workloads in ``SmartCacheWorkloadGenerator`` in a separate thread, which will actually generate and run the workloads for the smart cache.\n",
    "The SmartCacheWorkloadLauncher also connects the ``SmartCacheWorkLloadGenerator`` to the optimization problem via a ``MlosAgent`` that will consume the configurations."
   ]
  },
  {
   "cell_type": "code",
   "execution_count": 6,
   "metadata": {},
   "outputs": [],
   "source": [
    "workload_launcher = SmartCacheWorkloadLauncher(logger=logger)\n",
    "mlos_agent = workload_launcher.mlos_agent"
   ]
  },
  {
   "cell_type": "markdown",
   "metadata": {},
   "source": [
    "We set up the agent to consume configurations for the ``SmartCacheWorkloadGenerator``, and we configure the workload to be sequential keys from a range from 0 to 2048."
   ]
  },
  {
   "cell_type": "code",
   "execution_count": 7,
   "metadata": {},
   "outputs": [],
   "source": [
    "mlos_agent.set_configuration(\n",
    "    component_type=SmartCacheWorkloadGenerator,\n",
    "    new_config_values=Point(\n",
    "        workload_type='sequential_key_from_range',\n",
    "        sequential_key_from_range_config=Point(\n",
    "            min=0,\n",
    "            range_width=2048\n",
    "        )\n",
    "    )\n",
    ")"
   ]
  },
  {
   "cell_type": "markdown",
   "metadata": {},
   "source": [
    "# Launching the experiment (measurement)\n",
    "Now we build the experiment, which collects hit-rate statistics from the ``SmartCacheWorkloadGenerator`` via the ``HitRateMonitor``. This architecture reflects the native architecture for the C++ interface in which communication is done via shared memory between MLOS and the worker."
   ]
  },
  {
   "cell_type": "code",
   "execution_count": 8,
   "metadata": {},
   "outputs": [],
   "source": [
    "hit_rate_monitor = HitRateMonitor()\n",
    "smart_cache_experiment = MlosExperiment(\n",
    "    smart_component_types=[SmartCache],\n",
    "    telemetry_aggregators=[hit_rate_monitor]\n",
    ")\n",
    "mlos_agent.start_experiment(smart_cache_experiment)"
   ]
  },
  {
   "cell_type": "markdown",
   "metadata": {},
   "source": [
    "# Performing the optimization\n",
    "Now that we have all the pieces in place, we can iterate our main optimization loop.\n",
    "Our workload will run in the same process as this notebook, but in a separate thread, which we block on.\n",
    "In a real example, the workload might run completely independent of our optimization procedure.\n",
    "\n",
    "We run the optimization for 20 iterations, in each of which we obtain a new configuration from the optimizer (that interfaces the remote optimizer service).\n",
    "The configuration is passed to ``SmartCacheWorkloadGenerator`` via the ``MlosAgent``, after which we start a blocking workload for 0.2 seconds.\n",
    "Then, the hit-rate (our objective) is read from the ``HitRateMonitor`` and the suggested configuration together with the resulting hit-rate are passed to the optimizer."
   ]
  },
  {
   "cell_type": "code",
   "execution_count": 9,
   "metadata": {
    "scrolled": true
   },
   "outputs": [
    {
     "name": "stdout",
     "output_type": "stream",
     "text": [
      "[1/100] current_config: {'implementation': 'MRU', 'mru_cache_config.cache_size': 1762}, hit_rate: 0.803273980478056\n",
      "[2/100] current_config: {'implementation': 'MRU', 'mru_cache_config.cache_size': 3533}, hit_rate: 0.9546189811439514\n",
      "[3/100] current_config: {'implementation': 'LRU', 'lru_cache_config.cache_size': 749}, hit_rate: 0.0004821605590732109\n",
      "[4/100] current_config: {'implementation': 'LRU', 'lru_cache_config.cache_size': 90}, hit_rate: 1.56128024956108e-10\n",
      "[5/100] current_config: {'implementation': 'MRU', 'mru_cache_config.cache_size': 3821}, hit_rate: 0.9461024264449155\n",
      "[6/100] current_config: {'implementation': 'LRU', 'lru_cache_config.cache_size': 2281}, hit_rate: 0.9529087146481281\n",
      "[7/100] current_config: {'implementation': 'MRU', 'mru_cache_config.cache_size': 480}, hit_rate: 0.21993916092406937\n",
      "[8/100] current_config: {'implementation': 'MRU', 'mru_cache_config.cache_size': 3909}, hit_rate: 0.9428906053946379\n",
      "[9/100] current_config: {'implementation': 'LRU', 'lru_cache_config.cache_size': 1717}, hit_rate: 4.275331336350863e-10\n",
      "[10/100] current_config: {'implementation': 'MRU', 'mru_cache_config.cache_size': 2544}, hit_rate: 0.9502706113644572\n",
      "[11/100] current_config: {'implementation': 'LRU', 'lru_cache_config.cache_size': 569}, hit_rate: 4.401408448766986e-10\n",
      "[12/100] current_config: {'implementation': 'LRU', 'lru_cache_config.cache_size': 2203}, hit_rate: 0.9446276969679168\n",
      "[13/100] current_config: {'implementation': 'MRU', 'mru_cache_config.cache_size': 3330}, hit_rate: 0.9550857493759576\n",
      "[14/100] current_config: {'implementation': 'MRU', 'mru_cache_config.cache_size': 2270.0}, hit_rate: 0.9538458071360096\n",
      "[15/100] current_config: {'implementation': 'LRU', 'lru_cache_config.cache_size': 3224.0}, hit_rate: 0.9467775467789299\n",
      "[16/100] current_config: {'implementation': 'LRU', 'lru_cache_config.cache_size': 2531}, hit_rate: 0.9539433737388638\n",
      "[17/100] current_config: {'implementation': 'LRU', 'lru_cache_config.cache_size': 583.0}, hit_rate: 4.2372881337977594e-10\n",
      "[18/100] current_config: {'implementation': 'LRU', 'lru_cache_config.cache_size': 2333.0}, hit_rate: 0.9485155484062315\n",
      "[19/100] current_config: {'implementation': 'MRU', 'mru_cache_config.cache_size': 2948}, hit_rate: 0.9529206225155072\n",
      "[20/100] current_config: {'implementation': 'MRU', 'mru_cache_config.cache_size': 2684.0}, hit_rate: 0.9467332501054221\n",
      "[21/100] current_config: {'implementation': 'LRU', 'lru_cache_config.cache_size': 2554.0}, hit_rate: 0.9521528864810375\n",
      "[22/100] current_config: {'implementation': 'LRU', 'lru_cache_config.cache_size': 3368.0}, hit_rate: 0.9430763244220614\n",
      "[23/100] current_config: {'implementation': 'MRU', 'mru_cache_config.cache_size': 3433}, hit_rate: 0.9550226204604246\n",
      "[24/100] current_config: {'implementation': 'LRU', 'lru_cache_config.cache_size': 36}, hit_rate: 1.0014019626475663e-10\n",
      "[25/100] current_config: {'implementation': 'MRU', 'mru_cache_config.cache_size': 1959}, hit_rate: 0.8999526823238909\n",
      "[26/100] current_config: {'implementation': 'LRU', 'lru_cache_config.cache_size': 3115}, hit_rate: 0.9508283313337136\n",
      "[27/100] current_config: {'implementation': 'LRU', 'lru_cache_config.cache_size': 4066.0}, hit_rate: 0.9419353009571054\n",
      "[28/100] current_config: {'implementation': 'MRU', 'mru_cache_config.cache_size': 1118.0}, hit_rate: 0.5172602509254332\n",
      "[29/100] current_config: {'implementation': 'LRU', 'lru_cache_config.cache_size': 506}, hit_rate: 3.990422983244045e-10\n",
      "[30/100] current_config: {'implementation': 'LRU', 'lru_cache_config.cache_size': 2642}, hit_rate: 0.9508908232033453\n",
      "[31/100] current_config: {'implementation': 'LRU', 'lru_cache_config.cache_size': 2028}, hit_rate: 3.924646780249354e-10\n",
      "[32/100] current_config: {'implementation': 'LRU', 'lru_cache_config.cache_size': 1681.0}, hit_rate: 4.5392646370679687e-10\n",
      "[33/100] current_config: {'implementation': 'MRU', 'mru_cache_config.cache_size': 1224}, hit_rate: 0.5626751432697865\n",
      "[34/100] current_config: {'implementation': 'MRU', 'mru_cache_config.cache_size': 1718}, hit_rate: 0.7922665190170953\n",
      "[35/100] current_config: {'implementation': 'LRU', 'lru_cache_config.cache_size': 465}, hit_rate: 3.966679887359508e-10\n",
      "[36/100] current_config: {'implementation': 'LRU', 'lru_cache_config.cache_size': 2475}, hit_rate: 0.9492113877604104\n",
      "[37/100] current_config: {'implementation': 'LRU', 'lru_cache_config.cache_size': 2379.0}, hit_rate: 0.9545353638512957\n",
      "[38/100] current_config: {'implementation': 'MRU', 'mru_cache_config.cache_size': 3226}, hit_rate: 0.952769706195453\n",
      "[39/100] current_config: {'implementation': 'LRU', 'lru_cache_config.cache_size': 2096}, hit_rate: 0.9477551020421491\n",
      "[40/100] current_config: {'implementation': 'LRU', 'lru_cache_config.cache_size': 1794}, hit_rate: 4.2337002522295936e-10\n",
      "[41/100] current_config: {'implementation': 'MRU', 'mru_cache_config.cache_size': 209}, hit_rate: 0.09295792638109188\n",
      "[42/100] current_config: {'implementation': 'LRU', 'lru_cache_config.cache_size': 3321}, hit_rate: 0.9483727847954733\n",
      "[43/100] current_config: {'implementation': 'MRU', 'mru_cache_config.cache_size': 1791.0}, hit_rate: 0.8279617941175232\n",
      "[44/100] current_config: {'implementation': 'LRU', 'lru_cache_config.cache_size': 1292}, hit_rate: 4.710315588925899e-10\n",
      "[45/100] current_config: {'implementation': 'LRU', 'lru_cache_config.cache_size': 403}, hit_rate: 3.610108301945809e-10\n",
      "[46/100] current_config: {'implementation': 'MRU', 'mru_cache_config.cache_size': 1888.0}, hit_rate: 0.8674538654178401\n",
      "[47/100] current_config: {'implementation': 'LRU', 'lru_cache_config.cache_size': 499}, hit_rate: 4.1928721156424014e-10\n",
      "[48/100] current_config: {'implementation': 'LRU', 'lru_cache_config.cache_size': 1083}, hit_rate: 5.055611726463289e-10\n",
      "[49/100] current_config: {'implementation': 'MRU', 'mru_cache_config.cache_size': 1841.0}, hit_rate: 0.8482703957468077\n",
      "[50/100] current_config: {'implementation': 'LRU', 'lru_cache_config.cache_size': 534}, hit_rate: 4.206983590994117e-10\n",
      "[51/100] current_config: {'implementation': 'LRU', 'lru_cache_config.cache_size': 1935.0}, hit_rate: 4.0700040683475767e-10\n",
      "[52/100] current_config: {'implementation': 'MRU', 'mru_cache_config.cache_size': 1604}, hit_rate: 0.7375007941129058\n",
      "[53/100] current_config: {'implementation': 'LRU', 'lru_cache_config.cache_size': 1964.0}, hit_rate: 4.0257648937094346e-10\n",
      "[54/100] current_config: {'implementation': 'LRU', 'lru_cache_config.cache_size': 2062.0}, hit_rate: 0.9504584048973014\n",
      "[55/100] current_config: {'implementation': 'LRU', 'lru_cache_config.cache_size': 1997.0}, hit_rate: 3.9478878784256265e-10\n",
      "[56/100] current_config: {'implementation': 'MRU', 'mru_cache_config.cache_size': 2643}, hit_rate: 0.9485000125745342\n",
      "[57/100] current_config: {'implementation': 'MRU', 'mru_cache_config.cache_size': 2006}, hit_rate: 0.929302607031181\n",
      "[58/100] current_config: {'implementation': 'MRU', 'mru_cache_config.cache_size': 1637}, hit_rate: 0.7465599550776972\n",
      "[59/100] current_config: {'implementation': 'MRU', 'mru_cache_config.cache_size': 1783}, hit_rate: 0.8251730753239033\n",
      "[60/100] current_config: {'implementation': 'LRU', 'lru_cache_config.cache_size': 1311}, hit_rate: 4.659832243867739e-10\n",
      "[61/100] current_config: {'implementation': 'LRU', 'lru_cache_config.cache_size': 3499}, hit_rate: 0.9504332252299135\n",
      "[62/100] current_config: {'implementation': 'LRU', 'lru_cache_config.cache_size': 2347}, hit_rate: 0.9516068052941492\n",
      "[63/100] current_config: {'implementation': 'LRU', 'lru_cache_config.cache_size': 1986.0}, hit_rate: 3.99361022204728e-10\n",
      "[64/100] current_config: {'implementation': 'LRU', 'lru_cache_config.cache_size': 1940.0}, hit_rate: 4.0617384223957196e-10\n",
      "[65/100] current_config: {'implementation': 'MRU', 'mru_cache_config.cache_size': 3058}, hit_rate: 0.9471988037242581\n",
      "[66/100] current_config: {'implementation': 'LRU', 'lru_cache_config.cache_size': 1349}, hit_rate: 4.705882350726643e-10\n",
      "[67/100] current_config: {'implementation': 'LRU', 'lru_cache_config.cache_size': 2938}, hit_rate: 0.9516365182082928\n",
      "[68/100] current_config: {'implementation': 'LRU', 'lru_cache_config.cache_size': 2259}, hit_rate: 0.9491420199173274\n",
      "[69/100] current_config: {'implementation': 'LRU', 'lru_cache_config.cache_size': 2000.0}, hit_rate: 3.9588281852894586e-10\n",
      "[70/100] current_config: {'implementation': 'MRU', 'mru_cache_config.cache_size': 2968}, hit_rate: 0.9516388023058553\n",
      "[71/100] current_config: {'implementation': 'MRU', 'mru_cache_config.cache_size': 3283}, hit_rate: 0.9474642793025815\n",
      "[72/100] current_config: {'implementation': 'LRU', 'lru_cache_config.cache_size': 675}, hit_rate: 4.597701147311402e-10\n",
      "[73/100] current_config: {'implementation': 'MRU', 'mru_cache_config.cache_size': 624}, hit_rate: 0.27227533464778614\n",
      "[74/100] current_config: {'implementation': 'LRU', 'lru_cache_config.cache_size': 2181.0}, hit_rate: 0.9515415375162307\n",
      "[75/100] current_config: {'implementation': 'LRU', 'lru_cache_config.cache_size': 2217.0}, hit_rate: 0.9453414822934868\n",
      "[76/100] current_config: {'implementation': 'LRU', 'lru_cache_config.cache_size': 1661}, hit_rate: 4.4228217583269255e-10\n",
      "[77/100] current_config: {'implementation': 'LRU', 'lru_cache_config.cache_size': 2238.0}, hit_rate: 0.9495678297926674\n",
      "[78/100] current_config: {'implementation': 'MRU', 'mru_cache_config.cache_size': 3256}, hit_rate: 0.9467996674993039\n",
      "[79/100] current_config: {'implementation': 'MRU', 'mru_cache_config.cache_size': 3254}, hit_rate: 0.9495641038282627\n",
      "[80/100] current_config: {'implementation': 'MRU', 'mru_cache_config.cache_size': 607}, hit_rate: 0.2633847274940279\n",
      "[81/100] current_config: {'implementation': 'LRU', 'lru_cache_config.cache_size': 3392}, hit_rate: 0.9506506024108277\n",
      "[82/100] current_config: {'implementation': 'LRU', 'lru_cache_config.cache_size': 1351}, hit_rate: 4.737091423620516e-10\n",
      "[83/100] current_config: {'implementation': 'MRU', 'mru_cache_config.cache_size': 3896}, hit_rate: 0.9482161369453534\n",
      "[84/100] current_config: {'implementation': 'LRU', 'lru_cache_config.cache_size': 2210.0}, hit_rate: 0.9514381239192982\n",
      "[85/100] current_config: {'implementation': 'MRU', 'mru_cache_config.cache_size': 3761}, hit_rate: 0.9438103599664232\n",
      "[86/100] current_config: {'implementation': 'LRU', 'lru_cache_config.cache_size': 2219.0}, hit_rate: 0.9496842984558955\n",
      "[87/100] current_config: {'implementation': 'LRU', 'lru_cache_config.cache_size': 3263}, hit_rate: 0.9456677455312339\n",
      "[88/100] current_config: {'implementation': 'MRU', 'mru_cache_config.cache_size': 495}, hit_rate: 0.22521085028349608\n",
      "[89/100] current_config: {'implementation': 'LRU', 'lru_cache_config.cache_size': 2172.0}, hit_rate: 0.9517060862604828\n",
      "[90/100] current_config: {'implementation': 'MRU', 'mru_cache_config.cache_size': 3359}, hit_rate: 0.9438473349434128\n",
      "[91/100] current_config: {'implementation': 'LRU', 'lru_cache_config.cache_size': 2196.0}, hit_rate: 0.950671997688938\n",
      "[92/100] current_config: {'implementation': 'LRU', 'lru_cache_config.cache_size': 2164.0}, hit_rate: 0.9488575352740952\n",
      "[93/100] current_config: {'implementation': 'LRU', 'lru_cache_config.cache_size': 2167.0}, hit_rate: 0.951425454201617\n",
      "[94/100] current_config: {'implementation': 'LRU', 'lru_cache_config.cache_size': 3987}, hit_rate: 0.9451497134301475\n",
      "[95/100] current_config: {'implementation': 'MRU', 'mru_cache_config.cache_size': 1791}, hit_rate: 0.8274582018055812\n",
      "[96/100] current_config: {'implementation': 'LRU', 'lru_cache_config.cache_size': 2128.0}, hit_rate: 0.9472028873434596\n",
      "[97/100] current_config: {'implementation': 'LRU', 'lru_cache_config.cache_size': 2526}, hit_rate: 0.9513053402455821\n",
      "[98/100] current_config: {'implementation': 'MRU', 'mru_cache_config.cache_size': 3836}, hit_rate: 0.9471674749781455\n",
      "[99/100] current_config: {'implementation': 'LRU', 'lru_cache_config.cache_size': 2093.0}, hit_rate: 0.9514058607200995\n",
      "[100/100] current_config: {'implementation': 'LRU', 'lru_cache_config.cache_size': 2148.0}, hit_rate: 0.9452362488984347\n"
     ]
    }
   ],
   "source": [
    "num_iterations = 100\n",
    "data = []\n",
    "for i in range(num_iterations):\n",
    "    # suggest runs a 'cheap' search on the surrogate model to find a good candidate configuration\n",
    "    new_config_values = optimizer.suggest()\n",
    "    # set_configuration communicates the proposed configuration to the SmartCache\n",
    "    mlos_agent.set_configuration(component_type=SmartCache, new_config_values=new_config_values)\n",
    "    hit_rate_monitor.reset()\n",
    "    # start_workload will actually run the worker, here for 0.2 seconds\n",
    "    workload_launcher.start_workload(duration_s=0.2, block=True)\n",
    "    # obtain hit-rate as quality measure for configuration\n",
    "    hit_rate = hit_rate_monitor.get_hit_rate()\n",
    "    objectives_df = pd.DataFrame({'hit_rate': [hit_rate]})\n",
    "    # pass configuration and observed hit-rate to the optimizer to update the surrogate model\n",
    "    features_df = new_config_values.to_dataframe()\n",
    "    optimizer.register(features_df, objectives_df)\n",
    "    data.append((features_df, objectives_df))\n",
    "    print(f\"[{i+1}/{num_iterations}] current_config: {new_config_values}, hit_rate: {hit_rate}\")"
   ]
  },
  {
   "cell_type": "markdown",
   "metadata": {},
   "source": [
    "# Analyzing results\n",
    "\n",
    "For a cyclical workload with 2048 keys, we assume that a MRU cache with a size of at least 2048 will perform best, and get 100% hits once the cache is filled.\n",
    "Now lets see the suggestions and results from the current experiment."
   ]
  },
  {
   "cell_type": "code",
   "execution_count": 10,
   "metadata": {},
   "outputs": [
    {
     "data": {
      "text/html": [
       "<div>\n",
       "<style scoped>\n",
       "    .dataframe tbody tr th:only-of-type {\n",
       "        vertical-align: middle;\n",
       "    }\n",
       "\n",
       "    .dataframe tbody tr th {\n",
       "        vertical-align: top;\n",
       "    }\n",
       "\n",
       "    .dataframe thead th {\n",
       "        text-align: right;\n",
       "    }\n",
       "</style>\n",
       "<table border=\"1\" class=\"dataframe\">\n",
       "  <thead>\n",
       "    <tr style=\"text-align: right;\">\n",
       "      <th></th>\n",
       "      <th>implementation</th>\n",
       "      <th>mru_cache_config.cache_size</th>\n",
       "      <th>lru_cache_config.cache_size</th>\n",
       "      <th>hit_rate</th>\n",
       "    </tr>\n",
       "  </thead>\n",
       "  <tbody>\n",
       "    <tr>\n",
       "      <th>0</th>\n",
       "      <td>MRU</td>\n",
       "      <td>1762.0</td>\n",
       "      <td>NaN</td>\n",
       "      <td>8.032740e-01</td>\n",
       "    </tr>\n",
       "    <tr>\n",
       "      <th>1</th>\n",
       "      <td>MRU</td>\n",
       "      <td>3533.0</td>\n",
       "      <td>NaN</td>\n",
       "      <td>9.546190e-01</td>\n",
       "    </tr>\n",
       "    <tr>\n",
       "      <th>2</th>\n",
       "      <td>LRU</td>\n",
       "      <td>NaN</td>\n",
       "      <td>749.0</td>\n",
       "      <td>4.821606e-04</td>\n",
       "    </tr>\n",
       "    <tr>\n",
       "      <th>3</th>\n",
       "      <td>LRU</td>\n",
       "      <td>NaN</td>\n",
       "      <td>90.0</td>\n",
       "      <td>1.561280e-10</td>\n",
       "    </tr>\n",
       "    <tr>\n",
       "      <th>4</th>\n",
       "      <td>MRU</td>\n",
       "      <td>3821.0</td>\n",
       "      <td>NaN</td>\n",
       "      <td>9.461024e-01</td>\n",
       "    </tr>\n",
       "    <tr>\n",
       "      <th>...</th>\n",
       "      <td>...</td>\n",
       "      <td>...</td>\n",
       "      <td>...</td>\n",
       "      <td>...</td>\n",
       "    </tr>\n",
       "    <tr>\n",
       "      <th>95</th>\n",
       "      <td>LRU</td>\n",
       "      <td>NaN</td>\n",
       "      <td>2128.0</td>\n",
       "      <td>9.472029e-01</td>\n",
       "    </tr>\n",
       "    <tr>\n",
       "      <th>96</th>\n",
       "      <td>LRU</td>\n",
       "      <td>NaN</td>\n",
       "      <td>2526.0</td>\n",
       "      <td>9.513053e-01</td>\n",
       "    </tr>\n",
       "    <tr>\n",
       "      <th>97</th>\n",
       "      <td>MRU</td>\n",
       "      <td>3836.0</td>\n",
       "      <td>NaN</td>\n",
       "      <td>9.471675e-01</td>\n",
       "    </tr>\n",
       "    <tr>\n",
       "      <th>98</th>\n",
       "      <td>LRU</td>\n",
       "      <td>NaN</td>\n",
       "      <td>2093.0</td>\n",
       "      <td>9.514059e-01</td>\n",
       "    </tr>\n",
       "    <tr>\n",
       "      <th>99</th>\n",
       "      <td>LRU</td>\n",
       "      <td>NaN</td>\n",
       "      <td>2148.0</td>\n",
       "      <td>9.452362e-01</td>\n",
       "    </tr>\n",
       "  </tbody>\n",
       "</table>\n",
       "<p>100 rows × 4 columns</p>\n",
       "</div>"
      ],
      "text/plain": [
       "   implementation  mru_cache_config.cache_size  lru_cache_config.cache_size  \\\n",
       "0             MRU                       1762.0                          NaN   \n",
       "1             MRU                       3533.0                          NaN   \n",
       "2             LRU                          NaN                        749.0   \n",
       "3             LRU                          NaN                         90.0   \n",
       "4             MRU                       3821.0                          NaN   \n",
       "..            ...                          ...                          ...   \n",
       "95            LRU                          NaN                       2128.0   \n",
       "96            LRU                          NaN                       2526.0   \n",
       "97            MRU                       3836.0                          NaN   \n",
       "98            LRU                          NaN                       2093.0   \n",
       "99            LRU                          NaN                       2148.0   \n",
       "\n",
       "        hit_rate  \n",
       "0   8.032740e-01  \n",
       "1   9.546190e-01  \n",
       "2   4.821606e-04  \n",
       "3   1.561280e-10  \n",
       "4   9.461024e-01  \n",
       "..           ...  \n",
       "95  9.472029e-01  \n",
       "96  9.513053e-01  \n",
       "97  9.471675e-01  \n",
       "98  9.514059e-01  \n",
       "99  9.452362e-01  \n",
       "\n",
       "[100 rows x 4 columns]"
      ]
     },
     "execution_count": 10,
     "metadata": {},
     "output_type": "execute_result"
    }
   ],
   "source": [
    "# some pandas wrangling\n",
    "\n",
    "features, targets = zip(*data)\n",
    "data = pd.concat(features, ignore_index=True)\n",
    "data['hit_rate'] = pd.concat(targets, ignore_index=True)\n",
    "data"
   ]
  },
  {
   "cell_type": "code",
   "execution_count": 11,
   "metadata": {},
   "outputs": [
    {
     "data": {
      "text/plain": [
       "<matplotlib.legend.Legend at 0x7f0856660b10>"
      ]
     },
     "execution_count": 11,
     "metadata": {},
     "output_type": "execute_result"
    },
    {
     "data": {
      "image/png": "[encoded data removed]",
      "text/plain": [
       "<Figure size 432x288 with 1 Axes>"
      ]
     },
     "metadata": {
      "needs_background": "light"
     },
     "output_type": "display_data"
    }
   ],
   "source": [
    "# group by implementation, then plot\n",
    "lru_data, mru_data = data.groupby('implementation')\n",
    "\n",
    "import matplotlib.pyplot as plt\n",
    "line_lru = lru_data[1].plot(x='lru_cache_config.cache_size', y='hit_rate', label='LRU', marker='o', linestyle='none', alpha=.6)\n",
    "mru_data[1].plot(x='mru_cache_config.cache_size', y='hit_rate', label='MRU', marker='o', linestyle='none', alpha=.6, ax=plt.gca())\n",
    "plt.ylabel(\"Cache hitrate\")\n",
    "plt.xlabel(\"Cache Size\")\n",
    "plt.legend()"
   ]
  },
  {
   "cell_type": "markdown",
   "metadata": {},
   "source": [
    "We can see that if the cache size is over 2048 keys, it means everything can fit into the cache and the strategy does not matter.\n",
    "However, for smaller cache sizes, the MRU strategy has an obvious advantage over the LRU strategy."
   ]
  },
  {
   "cell_type": "markdown",
   "metadata": {},
   "source": [
    "# Going Further\n",
    "\n",
    "1) Log how the optimum evolves over time. How many iterations are needed?\n",
    "\n",
    "2) Can you adjust options in the Optimizer to improve convergence (see the BayesianOptimization notebook for suggestions).\n",
    "\n",
    "3) Choose a different workload in the ``SmartCacheWorkloadGenerator``. How do the workloads change the optimum strategy?"
   ]
  },
  {
   "cell_type": "markdown",
   "metadata": {},
   "source": [
    "# Clean up\n",
    "We need to stop all processes & separate threads after running the experiments:"
   ]
  },
  {
   "cell_type": "code",
   "execution_count": 12,
   "metadata": {},
   "outputs": [],
   "source": [
    "# Clean up\n",
    "#\n",
    "mlos_agent.stop_experiment(smart_cache_experiment)\n",
    "mlos_agent.stop_all()\n",
    "\n",
    "# Stop the optimizer service\n",
    "import signal\n",
    "optimizer_microservice.send_signal(signal.SIGTERM)"
   ]
  }
 ],
 "metadata": {
  "kernelspec": {
   "display_name": "Python [conda env:mlos_python_environment]",
   "language": "python",
   "name": "conda-env-mlos_python_environment-py"
  },
  "language_info": {
   "codemirror_mode": {
    "name": "ipython",
    "version": 3
   },
   "file_extension": ".py",
   "mimetype": "text/x-python",
   "name": "python",
   "nbconvert_exporter": "python",
   "pygments_lexer": "ipython3",
   "version": "3.7.9"
  }
 },
 "nbformat": 4,
 "nbformat_minor": 4
}
