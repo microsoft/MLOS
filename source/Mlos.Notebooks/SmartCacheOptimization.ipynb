{
 "cells": [
  {
   "cell_type": "markdown",
   "metadata": {},
   "source": [
    "# Optimizing Smart Cache with Bayesian Optimization\n",
    "\n",
    "The goal of this notebook is to optimize SmartCache using Bayesian Optimization approach.\n",
    "\n",
    "We're using a sequential model-based optimization approach, that consists of the following loop:\n",
    "1. Get suggested config from optimizer,\n",
    "2. Apply suggested config to ``SmartCache``,\n",
    "3. Execute a fixed workload,\n",
    "4. Collect the metrics from ``SmartCache``,\n",
    "5. Register an observation with the optimizer.\n"
   ]
  },
  {
   "cell_type": "code",
   "execution_count": 1,
   "metadata": {},
   "outputs": [],
   "source": [
    "# import the required classes and tools\n",
    "import grpc\n",
    "import pandas as pd\n",
    "import logging\n",
    "\n",
    "from mlos.Logger import create_logger\n",
    "\n",
    "from mlos.Examples.SmartCache import HitRateMonitor, SmartCache, SmartCacheWorkloadGenerator, SmartCacheWorkloadLauncher\n",
    "from mlos.Mlos.SDK import MlosExperiment\n",
    "from mlos.Optimizers.BayesianOptimizerFactory import BayesianOptimizerFactory\n",
    "from mlos.Optimizers.OptimizationProblem import OptimizationProblem, Objective\n",
    "from mlos.Spaces import Point, SimpleHypergrid, ContinuousDimension\n",
    "\n",
    "# The optimizer will be in a remote process via grpc, we pick the port here:\n",
    "grpc_port = 50051"
   ]
  },
  {
   "cell_type": "markdown",
   "metadata": {},
   "source": [
    "Launch the optimizer service in a different process:"
   ]
  },
  {
   "cell_type": "code",
   "execution_count": 2,
   "metadata": {},
   "outputs": [],
   "source": [
    "import subprocess\n",
    "optimizer_microservice = subprocess.Popen(f\"start_optimizer_microservice launch --port {grpc_port}\", shell=True)"
   ]
  },
  {
   "cell_type": "markdown",
   "metadata": {},
   "source": [
    "Now the optimizer service that runs the surrogate model and suggests new points is started in the background.\n",
    "Next, we instantiate an object that connects to it over grpc using the ``BayesianOptimizerFactory``."
   ]
  },
  {
   "cell_type": "code",
   "execution_count": 3,
   "metadata": {},
   "outputs": [],
   "source": [
    "logger = create_logger('Optimizing Smart Cache', logging_level=logging.WARN)\n",
    "optimizer_service_grpc_channel = grpc.insecure_channel(f'localhost:{grpc_port}')\n",
    "bayesian_optimizer_factory = BayesianOptimizerFactory(grpc_channel=optimizer_service_grpc_channel, logger=logger)"
   ]
  },
  {
   "cell_type": "markdown",
   "metadata": {},
   "source": [
    "# The optimization problem"
   ]
  },
  {
   "cell_type": "markdown",
   "metadata": {},
   "source": [
    "Then we can instantiate our optimization problem. We want to optimize the configuration of the ``SmartCache`` component that contains two implementations: an LRU (least recently used) cache and an MRU cache (most recently used).\n",
    "The ``SmartCache`` component has two parameters that we can adjust, the type of cache and the cache size. We are using some synthetic workloads for the cache and try to find what the optimum configuration for each workload is.\n",
    "\n",
    "Here, we measure 'optimum' by the number of cache hits. Another option would be to measure runtime; however, this is a toy example with a trivial workload and there is likely substantial runtime difference.\n",
    "The parameter search space is declared in ``SmartCache.parameter_search_space``:"
   ]
  },
  {
   "cell_type": "code",
   "execution_count": 4,
   "metadata": {},
   "outputs": [
    {
     "data": {
      "text/plain": [
       "  Name: smart_cache_config\n",
       "  Dimensions:\n",
       "    implementation: {LRU, MRU}\n",
       "\n",
       "  IF implementation IN {LRU} THEN (\n",
       "    Name: lru_cache_config\n",
       "    Dimensions:\n",
       "      cache_size: {1, 2, ... , 4096}\n",
       "  )\n",
       "\n",
       "  IF implementation IN {MRU} THEN (\n",
       "    Name: mru_cache_config\n",
       "    Dimensions:\n",
       "      cache_size: {1, 2, ... , 4096}\n",
       "  )"
      ]
     },
     "execution_count": 4,
     "metadata": {},
     "output_type": "execute_result"
    }
   ],
   "source": [
    "SmartCache.parameter_search_space"
   ]
  },
  {
   "cell_type": "markdown",
   "metadata": {},
   "source": [
    "The optimization problem is constructed using this parameter space as the input to optimize, and defines a single continuous objective, 'hit_rate' between 0 and 1."
   ]
  },
  {
   "cell_type": "code",
   "execution_count": 5,
   "metadata": {},
   "outputs": [],
   "source": [
    "# Optimization Problem\n",
    "#\n",
    "optimization_problem = OptimizationProblem(\n",
    "    parameter_space=SmartCache.parameter_search_space,\n",
    "    objective_space=SimpleHypergrid(name=\"objectives\", dimensions=[ContinuousDimension(name=\"hit_rate\", min=0, max=1)]),\n",
    "    objectives=[Objective(name=\"hit_rate\", minimize=False)]\n",
    ")\n",
    "# create an optimizer proxy that connects to the remote optimizer via grpc:\n",
    "# here we could also configure the optimizer\n",
    "optimizer = bayesian_optimizer_factory.create_remote_optimizer(optimization_problem=optimization_problem)"
   ]
  },
  {
   "cell_type": "markdown",
   "metadata": {},
   "source": [
    "# Defining workloads\n",
    "Now we can instantiate our workloads and stand up the MLOS infrastructure, both of which are orchestrated by``SmartCacheWorkloadLauncher``. The MLOS infrastructure consists of the MlosAgent and a communication channel, which are available to both the ``SmartCacheWorkloadGenerator`` and the ``SmartCache``.\n",
    "The ``SmartCacheWorkloadLauncher`` launches workloads in ``SmartCacheWorkloadGenerator`` in a separate thread, which will actually generate and run the workloads for the smart cache.\n",
    "The SmartCacheWorkloadLauncher also connects the ``SmartCacheWorkLloadGenerator`` to the optimization problem via a ``MlosAgent`` that will consume the configurations."
   ]
  },
  {
   "cell_type": "code",
   "execution_count": 6,
   "metadata": {},
   "outputs": [],
   "source": [
    "workload_launcher = SmartCacheWorkloadLauncher(logger=logger)\n",
    "mlos_agent = workload_launcher.mlos_agent"
   ]
  },
  {
   "cell_type": "markdown",
   "metadata": {},
   "source": [
    "We set up the agent to consume configurations for the ``SmartCacheWorkloadGenerator``, and we configure the workload to be sequential keys from a range from 0 to 2048."
   ]
  },
  {
   "cell_type": "code",
   "execution_count": 7,
   "metadata": {},
   "outputs": [],
   "source": [
    "mlos_agent.set_configuration(\n",
    "    component_type=SmartCacheWorkloadGenerator,\n",
    "    new_config_values=Point(\n",
    "        workload_type='cyclical_key_from_range',\n",
    "        cyclical_key_from_range_config=Point(\n",
    "            min=0,\n",
    "            range_width=2048\n",
    "        )\n",
    "    )\n",
    ")"
   ]
  },
  {
   "cell_type": "markdown",
   "metadata": {},
   "source": [
    "# Launching the experiment (measurement)\n",
    "Now we build the experiment, which collects hit-rate statistics from the ``SmartCacheWorkloadGenerator`` via the ``HitRateMonitor``. This architecture reflects the native architecture for the C++ interface in which communication is done via shared memory between MLOS and the worker."
   ]
  },
  {
   "cell_type": "code",
   "execution_count": 8,
   "metadata": {},
   "outputs": [],
   "source": [
    "hit_rate_monitor = HitRateMonitor()\n",
    "smart_cache_experiment = MlosExperiment(\n",
    "    smart_component_types=[SmartCache],\n",
    "    telemetry_aggregators=[hit_rate_monitor]\n",
    ")\n",
    "mlos_agent.start_experiment(smart_cache_experiment)"
   ]
  },
  {
   "cell_type": "markdown",
   "metadata": {},
   "source": [
    "# Performing the optimization\n",
    "Now that we have all the pieces in place, we can iterate our main optimization loop.\n",
    "Our workload will run in the same process as this notebook, but in a separate thread, which we block on.\n",
    "In a real example, the workload might run completely independent of our optimization procedure.\n",
    "\n",
    "We run the optimization for 20 iterations, in each of which we obtain a new configuration from the optimizer (that interfaces the remote optimizer service).\n",
    "The configuration is passed to ``SmartCacheWorkloadGenerator`` via the ``MlosAgent``, after which we start a blocking workload for 0.2 seconds.\n",
    "Then, the hit-rate (our objective) is read from the ``HitRateMonitor`` and the suggested configuration together with the resulting hit-rate are passed to the optimizer."
   ]
  },
  {
   "cell_type": "code",
   "execution_count": 9,
   "metadata": {
    "scrolled": true
   },
   "outputs": [
    {
     "name": "stdout",
     "output_type": "stream",
     "text": [
      "[1/100] current_config: {\"implementation\": \"LRU\", \"lru_cache_config.cache_size\": 265}, hit_rate: 0.000\n",
      "[2/100] current_config: {\"implementation\": \"LRU\", \"lru_cache_config.cache_size\": 2013}, hit_rate: 0.000\n",
      "[3/100] current_config: {\"implementation\": \"LRU\", \"lru_cache_config.cache_size\": 630}, hit_rate: 0.000\n",
      "[4/100] current_config: {\"implementation\": \"MRU\", \"mru_cache_config.cache_size\": 1884}, hit_rate: 0.862\n",
      "[5/100] current_config: {\"implementation\": \"LRU\", \"lru_cache_config.cache_size\": 2041}, hit_rate: 0.000\n",
      "[6/100] current_config: {\"implementation\": \"LRU\", \"lru_cache_config.cache_size\": 3969}, hit_rate: 0.951\n",
      "[7/100] current_config: {\"implementation\": \"MRU\", \"mru_cache_config.cache_size\": 286}, hit_rate: 0.127\n",
      "[8/100] current_config: {\"implementation\": \"MRU\", \"mru_cache_config.cache_size\": 3323}, hit_rate: 0.953\n",
      "[9/100] current_config: {\"implementation\": \"MRU\", \"mru_cache_config.cache_size\": 1656}, hit_rate: 0.760\n",
      "[10/100] current_config: {\"implementation\": \"LRU\", \"lru_cache_config.cache_size\": 198}, hit_rate: 0.000\n",
      "[11/100] current_config: {\"implementation\": \"MRU\", \"mru_cache_config.cache_size\": 3591}, hit_rate: 0.939\n",
      "[12/100] current_config: {\"implementation\": \"MRU\", \"mru_cache_config.cache_size\": 1854}, hit_rate: 0.855\n",
      "[13/100] current_config: {\"implementation\": \"LRU\", \"lru_cache_config.cache_size\": 1381}, hit_rate: 0.000\n",
      "[14/100] current_config: {\"implementation\": \"LRU\", \"lru_cache_config.cache_size\": 528}, hit_rate: 0.000\n",
      "[15/100] current_config: {\"implementation\": \"MRU\", \"mru_cache_config.cache_size\": 4023}, hit_rate: 0.952\n",
      "[16/100] current_config: {\"implementation\": \"LRU\", \"lru_cache_config.cache_size\": 2829}, hit_rate: 0.958\n",
      "[17/100] current_config: {\"implementation\": \"LRU\", \"lru_cache_config.cache_size\": 3562}, hit_rate: 0.950\n",
      "[18/100] current_config: {\"implementation\": \"MRU\", \"mru_cache_config.cache_size\": 2021}, hit_rate: 0.946\n",
      "[19/100] current_config: {\"implementation\": \"MRU\", \"mru_cache_config.cache_size\": 3892}, hit_rate: 0.938\n",
      "[20/100] current_config: {\"implementation\": \"MRU\", \"mru_cache_config.cache_size\": 1352}, hit_rate: 0.611\n",
      "[21/100] current_config: {\"implementation\": \"MRU\", \"mru_cache_config.cache_size\": 1596}, hit_rate: 0.729\n",
      "[22/100] current_config: {\"implementation\": \"MRU\", \"mru_cache_config.cache_size\": 1635}, hit_rate: 0.713\n",
      "[23/100] current_config: {\"implementation\": \"MRU\", \"mru_cache_config.cache_size\": 1671}, hit_rate: 0.766\n",
      "[24/100] current_config: {\"implementation\": \"MRU\", \"mru_cache_config.cache_size\": 3762}, hit_rate: 0.954\n",
      "[25/100] current_config: {\"implementation\": \"MRU\", \"mru_cache_config.cache_size\": 10}, hit_rate: 0.004\n",
      "[26/100] current_config: {\"implementation\": \"MRU\", \"mru_cache_config.cache_size\": 2022}, hit_rate: 0.943\n",
      "[27/100] current_config: {\"implementation\": \"LRU\", \"lru_cache_config.cache_size\": 382}, hit_rate: 0.000\n",
      "[28/100] current_config: {\"implementation\": \"LRU\", \"lru_cache_config.cache_size\": 2908}, hit_rate: 0.949\n",
      "[29/100] current_config: {\"implementation\": \"LRU\", \"lru_cache_config.cache_size\": 2932}, hit_rate: 0.933\n",
      "[30/100] current_config: {\"implementation\": \"LRU\", \"lru_cache_config.cache_size\": 2949}, hit_rate: 0.950\n",
      "[31/100] current_config: {\"implementation\": \"LRU\", \"lru_cache_config.cache_size\": 2938}, hit_rate: 0.934\n",
      "[32/100] current_config: {\"implementation\": \"LRU\", \"lru_cache_config.cache_size\": 2873}, hit_rate: 0.949\n",
      "[33/100] current_config: {\"implementation\": \"LRU\", \"lru_cache_config.cache_size\": 2896}, hit_rate: 0.958\n",
      "[34/100] current_config: {\"implementation\": \"LRU\", \"lru_cache_config.cache_size\": 2996}, hit_rate: 0.953\n",
      "[35/100] current_config: {\"implementation\": \"LRU\", \"lru_cache_config.cache_size\": 1945}, hit_rate: 0.000\n",
      "[36/100] current_config: {\"implementation\": \"LRU\", \"lru_cache_config.cache_size\": 2260}, hit_rate: 0.949\n",
      "[37/100] current_config: {\"implementation\": \"MRU\", \"mru_cache_config.cache_size\": 2872}, hit_rate: 0.956\n",
      "[38/100] current_config: {\"implementation\": \"LRU\", \"lru_cache_config.cache_size\": 2917}, hit_rate: 0.950\n",
      "[39/100] current_config: {\"implementation\": \"LRU\", \"lru_cache_config.cache_size\": 1032}, hit_rate: 0.000\n",
      "[40/100] current_config: {\"implementation\": \"LRU\", \"lru_cache_config.cache_size\": 2351}, hit_rate: 0.957\n",
      "[41/100] current_config: {\"implementation\": \"LRU\", \"lru_cache_config.cache_size\": 3178}, hit_rate: 0.953\n",
      "[42/100] current_config: {\"implementation\": \"LRU\", \"lru_cache_config.cache_size\": 2407}, hit_rate: 0.959\n",
      "[43/100] current_config: {\"implementation\": \"MRU\", \"mru_cache_config.cache_size\": 3321}, hit_rate: 0.951\n",
      "[44/100] current_config: {\"implementation\": \"LRU\", \"lru_cache_config.cache_size\": 2686}, hit_rate: 0.953\n",
      "[45/100] current_config: {\"implementation\": \"MRU\", \"mru_cache_config.cache_size\": 319}, hit_rate: 0.139\n",
      "[46/100] current_config: {\"implementation\": \"LRU\", \"lru_cache_config.cache_size\": 2323}, hit_rate: 0.957\n",
      "[47/100] current_config: {\"implementation\": \"LRU\", \"lru_cache_config.cache_size\": 2263}, hit_rate: 0.951\n",
      "[48/100] current_config: {\"implementation\": \"MRU\", \"mru_cache_config.cache_size\": 1596}, hit_rate: 0.729\n",
      "[49/100] current_config: {\"implementation\": \"MRU\", \"mru_cache_config.cache_size\": 3892}, hit_rate: 0.951\n",
      "[50/100] current_config: {\"implementation\": \"LRU\", \"lru_cache_config.cache_size\": 2168}, hit_rate: 0.955\n",
      "[51/100] current_config: {\"implementation\": \"LRU\", \"lru_cache_config.cache_size\": 2351}, hit_rate: 0.951\n",
      "[52/100] current_config: {\"implementation\": \"LRU\", \"lru_cache_config.cache_size\": 2248}, hit_rate: 0.958\n",
      "[53/100] current_config: {\"implementation\": \"LRU\", \"lru_cache_config.cache_size\": 2099}, hit_rate: 0.954\n",
      "[54/100] current_config: {\"implementation\": \"MRU\", \"mru_cache_config.cache_size\": 393}, hit_rate: 0.169\n",
      "[55/100] current_config: {\"implementation\": \"MRU\", \"mru_cache_config.cache_size\": 2391}, hit_rate: 0.952\n",
      "[56/100] current_config: {\"implementation\": \"LRU\", \"lru_cache_config.cache_size\": 2102}, hit_rate: 0.959\n",
      "[57/100] current_config: {\"implementation\": \"LRU\", \"lru_cache_config.cache_size\": 3240}, hit_rate: 0.951\n",
      "[58/100] current_config: {\"implementation\": \"LRU\", \"lru_cache_config.cache_size\": 3361}, hit_rate: 0.956\n",
      "[59/100] current_config: {\"implementation\": \"MRU\", \"mru_cache_config.cache_size\": 1135}, hit_rate: 0.518\n",
      "[60/100] current_config: {\"implementation\": \"LRU\", \"lru_cache_config.cache_size\": 2096}, hit_rate: 0.952\n",
      "[61/100] current_config: {\"implementation\": \"LRU\", \"lru_cache_config.cache_size\": 2102}, hit_rate: 0.950\n",
      "[62/100] current_config: {\"implementation\": \"LRU\", \"lru_cache_config.cache_size\": 2100}, hit_rate: 0.958\n",
      "[63/100] current_config: {\"implementation\": \"LRU\", \"lru_cache_config.cache_size\": 2099}, hit_rate: 0.919\n",
      "[64/100] current_config: {\"implementation\": \"MRU\", \"mru_cache_config.cache_size\": 1404}, hit_rate: 0.608\n",
      "[65/100] current_config: {\"implementation\": \"LRU\", \"lru_cache_config.cache_size\": 2100}, hit_rate: 0.954\n",
      "[66/100] current_config: {\"implementation\": \"LRU\", \"lru_cache_config.cache_size\": 2091}, hit_rate: 0.949\n",
      "[67/100] current_config: {\"implementation\": \"MRU\", \"mru_cache_config.cache_size\": 3551}, hit_rate: 0.958\n",
      "[68/100] current_config: {\"implementation\": \"LRU\", \"lru_cache_config.cache_size\": 2060}, hit_rate: 0.950\n",
      "[69/100] current_config: {\"implementation\": \"LRU\", \"lru_cache_config.cache_size\": 1553}, hit_rate: 0.000\n",
      "[70/100] current_config: {\"implementation\": \"LRU\", \"lru_cache_config.cache_size\": 2267}, hit_rate: 0.954\n",
      "[71/100] current_config: {\"implementation\": \"LRU\", \"lru_cache_config.cache_size\": 2068}, hit_rate: 0.954\n",
      "[72/100] current_config: {\"implementation\": \"LRU\", \"lru_cache_config.cache_size\": 1752}, hit_rate: 0.000\n",
      "[73/100] current_config: {\"implementation\": \"MRU\", \"mru_cache_config.cache_size\": 194}, hit_rate: 0.087\n",
      "[74/100] current_config: {\"implementation\": \"MRU\", \"mru_cache_config.cache_size\": 949}, hit_rate: 0.439\n",
      "[75/100] current_config: {\"implementation\": \"MRU\", \"mru_cache_config.cache_size\": 2010}, hit_rate: 0.930\n",
      "[76/100] current_config: {\"implementation\": \"LRU\", \"lru_cache_config.cache_size\": 2073}, hit_rate: 0.958\n",
      "[77/100] current_config: {\"implementation\": \"LRU\", \"lru_cache_config.cache_size\": 2058}, hit_rate: 0.948\n",
      "[78/100] current_config: {\"implementation\": \"LRU\", \"lru_cache_config.cache_size\": 2068}, hit_rate: 0.951\n",
      "[79/100] current_config: {\"implementation\": \"LRU\", \"lru_cache_config.cache_size\": 2058}, hit_rate: 0.958\n",
      "[80/100] current_config: {\"implementation\": \"LRU\", \"lru_cache_config.cache_size\": 2062}, hit_rate: 0.952\n",
      "[81/100] current_config: {\"implementation\": \"MRU\", \"mru_cache_config.cache_size\": 234}, hit_rate: 0.103\n",
      "[82/100] current_config: {\"implementation\": \"LRU\", \"lru_cache_config.cache_size\": 2044}, hit_rate: 0.000\n",
      "[83/100] current_config: {\"implementation\": \"LRU\", \"lru_cache_config.cache_size\": 428}, hit_rate: 0.000\n",
      "[84/100] current_config: {\"implementation\": \"MRU\", \"mru_cache_config.cache_size\": 546}, hit_rate: 0.250\n",
      "[85/100] current_config: {\"implementation\": \"LRU\", \"lru_cache_config.cache_size\": 1954}, hit_rate: 0.000\n",
      "[86/100] current_config: {\"implementation\": \"MRU\", \"mru_cache_config.cache_size\": 2741}, hit_rate: 0.949\n",
      "[87/100] current_config: {\"implementation\": \"LRU\", \"lru_cache_config.cache_size\": 2026}, hit_rate: 0.000\n",
      "[88/100] current_config: {\"implementation\": \"MRU\", \"mru_cache_config.cache_size\": 3208}, hit_rate: 0.958\n",
      "[89/100] current_config: {\"implementation\": \"MRU\", \"mru_cache_config.cache_size\": 698}, hit_rate: 0.312\n",
      "[90/100] current_config: {\"implementation\": \"LRU\", \"lru_cache_config.cache_size\": 2049}, hit_rate: 0.957\n",
      "[91/100] current_config: {\"implementation\": \"LRU\", \"lru_cache_config.cache_size\": 2026}, hit_rate: 0.000\n",
      "[92/100] current_config: {\"implementation\": \"LRU\", \"lru_cache_config.cache_size\": 2049}, hit_rate: 0.952\n",
      "[93/100] current_config: {\"implementation\": \"LRU\", \"lru_cache_config.cache_size\": 2041}, hit_rate: 0.000\n",
      "[94/100] current_config: {\"implementation\": \"MRU\", \"mru_cache_config.cache_size\": 2773}, hit_rate: 0.956\n",
      "[95/100] current_config: {\"implementation\": \"LRU\", \"lru_cache_config.cache_size\": 2043}, hit_rate: 0.000\n",
      "[96/100] current_config: {\"implementation\": \"LRU\", \"lru_cache_config.cache_size\": 1976}, hit_rate: 0.000\n",
      "[97/100] current_config: {\"implementation\": \"LRU\", \"lru_cache_config.cache_size\": 1425}, hit_rate: 0.000\n",
      "[98/100] current_config: {\"implementation\": \"MRU\", \"mru_cache_config.cache_size\": 1024}, hit_rate: 0.465\n",
      "[99/100] current_config: {\"implementation\": \"MRU\", \"mru_cache_config.cache_size\": 2903}, hit_rate: 0.957\n",
      "[100/100] current_config: {\"implementation\": \"MRU\", \"mru_cache_config.cache_size\": 205}, hit_rate: 0.089\n"
     ]
    }
   ],
   "source": [
    "num_iterations = 100\n",
    "data = []\n",
    "for i in range(num_iterations):\n",
    "    # suggest runs a 'cheap' search on the surrogate model to find a good candidate configuration\n",
    "    new_config_values = optimizer.suggest()\n",
    "    # set_configuration communicates the proposed configuration to the SmartCache\n",
    "    mlos_agent.set_configuration(component_type=SmartCache, new_config_values=new_config_values)\n",
    "    hit_rate_monitor.reset()\n",
    "    # start_workload will actually run the worker, here for 0.2 seconds\n",
    "    workload_launcher.start_workload(duration_s=0.2, block=True)\n",
    "    # obtain hit-rate as quality measure for configuration\n",
    "    hit_rate = hit_rate_monitor.get_hit_rate()\n",
    "    objectives_df = pd.DataFrame({'hit_rate': [hit_rate]})\n",
    "    # pass configuration and observed hit-rate to the optimizer to update the surrogate model\n",
    "    features_df = new_config_values.to_dataframe()\n",
    "    optimizer.register(features_df, objectives_df)\n",
    "    print(f\"[{i+1}/{num_iterations}] current_config: {new_config_values.to_json()}, hit_rate: {hit_rate:.3f}\")"
   ]
  },
  {
   "cell_type": "markdown",
   "metadata": {},
   "source": [
    "# Analyzing results\n",
    "\n",
    "For a cyclical workload with 2048 keys, we assume that a MRU cache with a size of at least 2048 will perform best, and get 100% hits once the cache is filled.\n",
    "Now lets see the suggestions and results from the current experiment."
   ]
  },
  {
   "cell_type": "code",
   "execution_count": 10,
   "metadata": {},
   "outputs": [
    {
     "data": {
      "text/html": [
       "<div>\n",
       "<style scoped>\n",
       "    .dataframe tbody tr th:only-of-type {\n",
       "        vertical-align: middle;\n",
       "    }\n",
       "\n",
       "    .dataframe tbody tr th {\n",
       "        vertical-align: top;\n",
       "    }\n",
       "\n",
       "    .dataframe thead th {\n",
       "        text-align: right;\n",
       "    }\n",
       "</style>\n",
       "<table border=\"1\" class=\"dataframe\">\n",
       "  <thead>\n",
       "    <tr style=\"text-align: right;\">\n",
       "      <th></th>\n",
       "      <th>implementation</th>\n",
       "      <th>lru_cache_config.cache_size</th>\n",
       "      <th>mru_cache_config.cache_size</th>\n",
       "      <th>hit_rate</th>\n",
       "    </tr>\n",
       "  </thead>\n",
       "  <tbody>\n",
       "    <tr>\n",
       "      <th>0</th>\n",
       "      <td>LRU</td>\n",
       "      <td>265.0</td>\n",
       "      <td>NaN</td>\n",
       "      <td>2.911210e-10</td>\n",
       "    </tr>\n",
       "    <tr>\n",
       "      <th>1</th>\n",
       "      <td>LRU</td>\n",
       "      <td>2013.0</td>\n",
       "      <td>NaN</td>\n",
       "      <td>4.093330e-10</td>\n",
       "    </tr>\n",
       "    <tr>\n",
       "      <th>2</th>\n",
       "      <td>LRU</td>\n",
       "      <td>630.0</td>\n",
       "      <td>NaN</td>\n",
       "      <td>4.675080e-10</td>\n",
       "    </tr>\n",
       "    <tr>\n",
       "      <th>3</th>\n",
       "      <td>MRU</td>\n",
       "      <td>NaN</td>\n",
       "      <td>1884.0</td>\n",
       "      <td>8.619243e-01</td>\n",
       "    </tr>\n",
       "    <tr>\n",
       "      <th>4</th>\n",
       "      <td>LRU</td>\n",
       "      <td>2041.0</td>\n",
       "      <td>NaN</td>\n",
       "      <td>3.941660e-10</td>\n",
       "    </tr>\n",
       "    <tr>\n",
       "      <th>...</th>\n",
       "      <td>...</td>\n",
       "      <td>...</td>\n",
       "      <td>...</td>\n",
       "      <td>...</td>\n",
       "    </tr>\n",
       "    <tr>\n",
       "      <th>95</th>\n",
       "      <td>LRU</td>\n",
       "      <td>1976.0</td>\n",
       "      <td>NaN</td>\n",
       "      <td>4.048580e-10</td>\n",
       "    </tr>\n",
       "    <tr>\n",
       "      <th>96</th>\n",
       "      <td>LRU</td>\n",
       "      <td>1425.0</td>\n",
       "      <td>NaN</td>\n",
       "      <td>4.732610e-10</td>\n",
       "    </tr>\n",
       "    <tr>\n",
       "      <th>97</th>\n",
       "      <td>MRU</td>\n",
       "      <td>NaN</td>\n",
       "      <td>1024.0</td>\n",
       "      <td>4.645777e-01</td>\n",
       "    </tr>\n",
       "    <tr>\n",
       "      <th>98</th>\n",
       "      <td>MRU</td>\n",
       "      <td>NaN</td>\n",
       "      <td>2903.0</td>\n",
       "      <td>9.574132e-01</td>\n",
       "    </tr>\n",
       "    <tr>\n",
       "      <th>99</th>\n",
       "      <td>MRU</td>\n",
       "      <td>NaN</td>\n",
       "      <td>205.0</td>\n",
       "      <td>8.882438e-02</td>\n",
       "    </tr>\n",
       "  </tbody>\n",
       "</table>\n",
       "<p>100 rows × 4 columns</p>\n",
       "</div>"
      ],
      "text/plain": [
       "   implementation  lru_cache_config.cache_size  mru_cache_config.cache_size  \\\n",
       "0             LRU                        265.0                          NaN   \n",
       "1             LRU                       2013.0                          NaN   \n",
       "2             LRU                        630.0                          NaN   \n",
       "3             MRU                          NaN                       1884.0   \n",
       "4             LRU                       2041.0                          NaN   \n",
       "..            ...                          ...                          ...   \n",
       "95            LRU                       1976.0                          NaN   \n",
       "96            LRU                       1425.0                          NaN   \n",
       "97            MRU                          NaN                       1024.0   \n",
       "98            MRU                          NaN                       2903.0   \n",
       "99            MRU                          NaN                        205.0   \n",
       "\n",
       "        hit_rate  \n",
       "0   2.911210e-10  \n",
       "1   4.093330e-10  \n",
       "2   4.675080e-10  \n",
       "3   8.619243e-01  \n",
       "4   3.941660e-10  \n",
       "..           ...  \n",
       "95  4.048580e-10  \n",
       "96  4.732610e-10  \n",
       "97  4.645777e-01  \n",
       "98  9.574132e-01  \n",
       "99  8.882438e-02  \n",
       "\n",
       "[100 rows x 4 columns]"
      ]
     },
     "execution_count": 10,
     "metadata": {},
     "output_type": "execute_result"
    }
   ],
   "source": [
    "# some pandas wrangling\n",
    "features, targets = optimizer.get_all_observations()\n",
    "data = pd.concat([features, targets], axis=1)\n",
    "data"
   ]
  },
  {
   "cell_type": "code",
   "execution_count": 11,
   "metadata": {},
   "outputs": [
    {
     "data": {
      "text/plain": [
       "<matplotlib.legend.Legend at 0x7f24bb8a23d0>"
      ]
     },
     "execution_count": 11,
     "metadata": {},
     "output_type": "execute_result"
    },
    {
     "data": {
      "image/png": "[encoded data removed]",
      "text/plain": [
       "<Figure size 432x288 with 1 Axes>"
      ]
     },
     "metadata": {
      "needs_background": "light"
     },
     "output_type": "display_data"
    }
   ],
   "source": [
    "# group by implementation, then plot\n",
    "lru_data, mru_data = data.groupby('implementation')\n",
    "\n",
    "import matplotlib.pyplot as plt\n",
    "line_lru = lru_data[1].plot(x='lru_cache_config.cache_size', y='hit_rate', label='LRU', marker='o', linestyle='none', alpha=.6)\n",
    "mru_data[1].plot(x='mru_cache_config.cache_size', y='hit_rate', label='MRU', marker='o', linestyle='none', alpha=.6, ax=plt.gca())\n",
    "plt.ylabel(\"Cache hitrate\")\n",
    "plt.xlabel(\"Cache Size\")\n",
    "plt.legend()"
   ]
  },
  {
   "cell_type": "markdown",
   "metadata": {},
   "source": [
    "We can see that if the cache size is over 2048 keys, it means everything can fit into the cache and the strategy does not matter.\n",
    "However, for smaller cache sizes, the MRU strategy has an obvious advantage over the LRU strategy."
   ]
  },
  {
   "cell_type": "markdown",
   "metadata": {},
   "source": [
    "# Going Further\n",
    "\n",
    "1) Log how the optimum evolves over time. How many iterations are needed?\n",
    "\n",
    "2) Can you adjust options in the Optimizer to improve convergence (see the BayesianOptimization notebook for suggestions).\n",
    "\n",
    "3) Choose a different workload in the ``SmartCacheWorkloadGenerator``. How do the workloads change the optimum strategy?"
   ]
  },
  {
   "cell_type": "markdown",
   "metadata": {},
   "source": [
    "# Clean up\n",
    "We need to stop all processes & separate threads after running the experiments:"
   ]
  },
  {
   "cell_type": "code",
   "execution_count": 12,
   "metadata": {},
   "outputs": [],
   "source": [
    "# Clean up\n",
    "#\n",
    "mlos_agent.stop_experiment(smart_cache_experiment)\n",
    "mlos_agent.stop_all()\n",
    "\n",
    "# Stop the optimizer service\n",
    "import signal\n",
    "optimizer_microservice.send_signal(signal.SIGTERM)"
   ]
  }
 ],
 "metadata": {
  "kernelspec": {
   "display_name": "Python [conda env:mlos_python_environment]",
   "language": "python",
   "name": "conda-env-mlos_python_environment-py"
  },
  "language_info": {
   "codemirror_mode": {
    "name": "ipython",
    "version": 3
   },
   "file_extension": ".py",
   "mimetype": "text/x-python",
   "name": "python",
   "nbconvert_exporter": "python",
   "pygments_lexer": "ipython3",
   "version": "3.7.9"
  }
 },
 "nbformat": 4,
 "nbformat_minor": 4
}
