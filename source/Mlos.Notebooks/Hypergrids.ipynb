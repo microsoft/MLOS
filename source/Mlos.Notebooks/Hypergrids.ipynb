{
 "cells": [
  {
   "cell_type": "code",
   "execution_count": 1,
   "metadata": {},
   "outputs": [],
   "source": [
    "from IPython.core.display import display, HTML\n",
    "display(HTML(\"<style>.container { width:100% !important; }</style>\"))"
   ]
  },
  {
   "cell_type": "markdown",
   "metadata": {},
   "source": [
    "# Goal\n",
    "The objective of this notebook is to:\n",
    "1. describe the __motivation__ behind developing hypergrids,\n",
    "1. describe the __requirements__,\n",
    "1. explain __how__ we implemented them,\n",
    "1. and to __demonstrate hypergrid usage__."
   ]
  },
  {
   "cell_type": "markdown",
   "metadata": {},
   "source": [
    "# Intended Audience\n",
    "\n",
    "This document has been authored for the benefit of all users of and contributors to the MLOS project."
   ]
  },
  {
   "cell_type": "markdown",
   "metadata": {},
   "source": [
    "# Motivation\n",
    "\n",
    "## Describing search space is fundamental\n",
    "Every optimizer we have examined (SMAC, Hypermapper, bayes_opt, scipy) requires that we describe the search space for the optimizer to explore. They all differed in the exact representation and functionality but it quickly became apparent that the description of the search space (or the domain) is a fundamental part of any optimizers API.\n",
    "\n",
    "__Requirement 1__: Hypergrids are meant to provide a superset of the union of the functionality provided by the aforementioned optimizers' search spaces. We also need to be able to build adapters that would translate a hypergrid into each optimizers search space representation.\n",
    "\n",
    "## Hypergrids usage\n",
    "\n",
    "Hypergrids are used throughout the optimization process. \n",
    "\n",
    "### Smart component\n",
    "Smart components are parameterizable. The value for each parameter belongs to a set of legal values - forming one of the dimensions of the search space - let's call that a _parameter dimension_. Thus, the search space for the entire component is a subset of the cross product of all its _parameter dimensions_.\n",
    "\n",
    "__Requirement 2__: Hypergrids must provide an efficient way of representing a componet's parameter search space.\n",
    "\n",
    "Nota Bene: A smart component might provide multiple alternative and mutually exclusive implementations of data structures or algorithms (e.g. spinlocks have Exponential Backoff and Optimistic _algorithmType_). These alternatives are further configured by disjoint sets of parameters. Which set of parameters is meaningful is determined by the \"switch\" parameter. \n",
    "\n",
    "In the case of smart spinlocks: choosing the \"Optimistic\" algorithm makes the _minSpinCount_ and _maxSpinCount_ parameters meaningless, but _aquireSpinCount_ meaningful. Thus the _algorithmType_ is a switch that toggles between those two sets of parameters.\n",
    "\n",
    "This yields our next requirements:\n",
    "\n",
    "__Requirement 3__: Hypergrids must provide an efficient way to describe disjoint parameter spaces.\n",
    "\n",
    "__Requirement 4__: Hypergrids must allow to specify constrains between parameters. For example: ```minSpinCount < maxSpinCount```, or even: ```minSpinCount < maxSpinCount / 10```.\n",
    "\n",
    "### Target system\n",
    "MLOS enabled systems (such as SQL Server) will in general contain multiple smart components. Each smart component's search space is described by its own Hypergrid. It's possible that two completely unrelated components will have parameters with the same name (e.g. \"n\", \"size\", or \"timeout\"). The entire system's search space is a subset of the cartesian product of its constituent smart components' Hypergrids.\n",
    "\n",
    "\n",
    "__Requirement 5__: Hypergrids must handle parameter name collisions between different components in the same system.\n",
    "\n",
    "__Requirement 6__: Hypergrids must efficiently represent a cartesian product of two or more Hypergrids.\n",
    "\n",
    "\n",
    "### Optimization problem description\n",
    "Each optimization problem is described by a parameter space (a Hypergrid), a context space (a Hypergrid), an objective space (a Hypergrid) among other things. \n",
    "\n",
    "### Bayesian Optimizer\n",
    "The MLOS Bayesian Optimizer uses Hypergrids throughout its stack:\n",
    "1. In the surrogate models - Hypergrids describe each model's input and output spaces.\n",
    "1. In the utility function optimizer - Hypergrids describe the set of legal configurations that this optimizer can suggest. Hypergrids are also used to check if any given configuration is legal.\n",
    "1. In the random config generation - Hypergrids are used to efficiently generate random legal configurations.\n",
    "\n",
    "__Requirement 7__: Hypergrids must efficiently determine if a given configuration is legal.\n",
    "\n",
    "__Requirement 8__: Hypergrids must support efficient generation of random configurations according to a distribution specified by the caller.\n",
    "\n",
    "### Model Tomograph\n",
    "Model Tomograph is used to display the internal state of the model over time. It uses Hypergrids to determine the axes, scales and labels for heatmaps describing any two dimensions. It also uses Hypergrids to generate linspaces (and meshgrids) along each dimension (and each pair of dimensions).\n",
    "\n",
    "__Requirement 9__: Hypergrids must support efficient generation of linspaces and meshgrids.\n",
    "\n",
    "### A note on efficiency\n",
    "We have stressed efficiency in almost all of the requirements. Hypergrids are fundamental to many aspects of the Bayesian Optimizer's operations and functions such as random() or \\__contains\\__() can be invoked thousands or millions of times per iteration - almost always on the critical path.\n"
   ]
  },
  {
   "cell_type": "markdown",
   "metadata": {},
   "source": [
    "# Implementation\n",
    "\n",
    "## Sets, sets, sets\n",
    "A value of a given parameter belongs to a __set__ of legal values. \n",
    "All legal configurations for a component are a __subset__ of the __cartesian product__ of each parameter's __set__ of legal values.\n",
    "For any given parameter value or configuration we must check if it belongs to a __set__ of legal values.\n",
    "We must be able to generate a random configuration from a __set__ of legal configurations.\n",
    "\n",
    "The idea of sets and set algebra pervades our requirements through and through. Consequently, it also pervades our implementation."
   ]
  },
  {
   "cell_type": "markdown",
   "metadata": {},
   "source": [
    "# Dimensions"
   ]
  },
  {
   "cell_type": "markdown",
   "metadata": {},
   "source": [
    "## Dimensions are sets\n",
    "\n",
    "Each parameter can assume a value that belongs to a set of legal values. We represet such a set by one of the following Dimension classes:\n",
    "\n",
    "* ContinuousDimension - to describe continuous domains.\n",
    "* DiscreteDimension - should be renamed to IntegerDimension.\n",
    "* CategoricalDimension - represents an unordered set of discrete legal values (e.g. colors: {red, blue, black})\n",
    "* OrdinalDimension - represents an ordered set of discrete legal values (e.g. {bad, medium, good})\n",
    "\n",
    "Each of them implements set operations: union, difference, intersection. The results of such operations can further give rise to:\n",
    "* CompositeDimension\n",
    "* EmptyDimension"
   ]
  },
  {
   "cell_type": "markdown",
   "metadata": {},
   "source": [
    "## Dimension Usage\n",
    "\n",
    "The following examples demonstrate construction and basic usage of the various Dimension classes. Further examples can be found in `<MLOS_ROOT>/source/Mlos.Python/mlos/Spaces/unit_tests`."
   ]
  },
  {
   "cell_type": "code",
   "execution_count": 2,
   "metadata": {},
   "outputs": [],
   "source": [
    "from mlos.Spaces import ContinuousDimension, DiscreteDimension, OrdinalDimension, CategoricalDimension"
   ]
  },
  {
   "cell_type": "markdown",
   "metadata": {},
   "source": [
    "#### Continuous [0, 10] dimension"
   ]
  },
  {
   "cell_type": "code",
   "execution_count": 3,
   "metadata": {},
   "outputs": [
    {
     "name": "stdout",
     "output_type": "stream",
     "text": [
      "x: [0.00, 10.00] <- note the square brackets '[]', they indicate that the endpoints are in the set.\n"
     ]
    }
   ],
   "source": [
    "zero_to_ten = ContinuousDimension(name='x', min=0, max=10)\n",
    "print(zero_to_ten, \"<- note the square brackets '[]', they indicate that the endpoints are in the set.\")"
   ]
  },
  {
   "cell_type": "code",
   "execution_count": 4,
   "metadata": {},
   "outputs": [],
   "source": [
    "assert 0 in zero_to_ten"
   ]
  },
  {
   "cell_type": "code",
   "execution_count": 5,
   "metadata": {},
   "outputs": [],
   "source": [
    "assert 5 in zero_to_ten"
   ]
  },
  {
   "cell_type": "code",
   "execution_count": 6,
   "metadata": {},
   "outputs": [],
   "source": [
    "assert 11 not in zero_to_ten"
   ]
  },
  {
   "cell_type": "markdown",
   "metadata": {},
   "source": [
    "#### Continuous (1, 5) dimension"
   ]
  },
  {
   "cell_type": "code",
   "execution_count": 7,
   "metadata": {},
   "outputs": [
    {
     "name": "stdout",
     "output_type": "stream",
     "text": [
      "x: (1.00, 5.00) <- note the parentheses '()', they indicate that the endpoints are not in the set.\n"
     ]
    }
   ],
   "source": [
    "one_to_five_exclusive = ContinuousDimension(name='x', min=1, max=5, include_min=False, include_max=False)\n",
    "print(one_to_five_exclusive, \"<- note the parentheses '()', they indicate that the endpoints are not in the set.\")"
   ]
  },
  {
   "cell_type": "code",
   "execution_count": 8,
   "metadata": {},
   "outputs": [],
   "source": [
    "assert 1 not in one_to_five_exclusive"
   ]
  },
  {
   "cell_type": "code",
   "execution_count": 9,
   "metadata": {},
   "outputs": [],
   "source": [
    "assert 3 in one_to_five_exclusive"
   ]
  },
  {
   "cell_type": "code",
   "execution_count": 10,
   "metadata": {},
   "outputs": [],
   "source": [
    "assert 5 not in one_to_five_exclusive"
   ]
  },
  {
   "cell_type": "markdown",
   "metadata": {},
   "source": [
    "#### Set operations on continuous dimensions"
   ]
  },
  {
   "cell_type": "code",
   "execution_count": 11,
   "metadata": {},
   "outputs": [],
   "source": [
    "# Containment.\n",
    "#\n",
    "assert one_to_five_exclusive in zero_to_ten"
   ]
  },
  {
   "cell_type": "code",
   "execution_count": 12,
   "metadata": {},
   "outputs": [
    {
     "data": {
      "text/plain": [
       "x: [0.00, 1.00] UNION [5.00, 10.00]"
      ]
     },
     "execution_count": 12,
     "metadata": {},
     "output_type": "execute_result"
    }
   ],
   "source": [
    "zero_to_ten.difference(one_to_five_exclusive)"
   ]
  },
  {
   "cell_type": "code",
   "execution_count": 13,
   "metadata": {},
   "outputs": [
    {
     "data": {
      "text/plain": [
       "x: [0.00, 10.00]"
      ]
     },
     "execution_count": 13,
     "metadata": {},
     "output_type": "execute_result"
    }
   ],
   "source": [
    "zero_to_ten.union(one_to_five_exclusive)"
   ]
  },
  {
   "cell_type": "code",
   "execution_count": 14,
   "metadata": {},
   "outputs": [
    {
     "data": {
      "text/plain": [
       "x: (1.00, 5.00)"
      ]
     },
     "execution_count": 14,
     "metadata": {},
     "output_type": "execute_result"
    }
   ],
   "source": [
    "zero_to_ten.intersection(one_to_five_exclusive)"
   ]
  },
  {
   "cell_type": "markdown",
   "metadata": {},
   "source": [
    "Set operations can be chained:"
   ]
  },
  {
   "cell_type": "code",
   "execution_count": 15,
   "metadata": {},
   "outputs": [
    {
     "name": "stdout",
     "output_type": "stream",
     "text": [
      "x: (0.00, 1.00) UNION (5.00, 10.00] UNION [20.00, 21.00) UNION (25.00, 30.00] UNION [40.00, 50.00)\n"
     ]
    }
   ],
   "source": [
    "some_complicated_dimension = ContinuousDimension(name='x', min=0, max=10).union(\n",
    "    ContinuousDimension(name='x', min=20, max=30)\n",
    ").union(\n",
    "    ContinuousDimension(name='x', min=40, max=50)\n",
    ").difference(\n",
    "    ContinuousDimension(name='x', min=1, max=5)\n",
    ").difference(\n",
    "    ContinuousDimension(name='x', min=21, max=25)\n",
    ").intersection(\n",
    "    ContinuousDimension(name='x', min=0, max=50, include_min=False, include_max=False)\n",
    ")\n",
    "print(some_complicated_dimension)"
   ]
  },
  {
   "cell_type": "code",
   "execution_count": 16,
   "metadata": {},
   "outputs": [],
   "source": [
    "assert 0 not in some_complicated_dimension"
   ]
  },
  {
   "cell_type": "code",
   "execution_count": 17,
   "metadata": {},
   "outputs": [],
   "source": [
    "assert 0.5 in some_complicated_dimension"
   ]
  },
  {
   "cell_type": "code",
   "execution_count": 18,
   "metadata": {},
   "outputs": [],
   "source": [
    "assert 45 in some_complicated_dimension"
   ]
  },
  {
   "cell_type": "markdown",
   "metadata": {},
   "source": [
    "#### Generating random value from dimension\n",
    "For a continuous dimension we can easily generate a random value. Note that the distribution from which we draw the random value is not an inherent property of the dimension. Right now, the call to .random() returns draws from a uniform distribution over all values in the dimension, but down the road we plan to add an argument to the .random() function so that the caller can specify the distribution."
   ]
  },
  {
   "cell_type": "code",
   "execution_count": 19,
   "metadata": {},
   "outputs": [
    {
     "data": {
      "text/plain": [
       "[3.5766689247123997,\n",
       " 1.5696057340100456,\n",
       " 4.552937576298108,\n",
       " 8.54933294213393,\n",
       " 6.082081676460877,\n",
       " 3.35230235202159,\n",
       " 0.9831877589704241,\n",
       " 8.886239710348544,\n",
       " 7.843159341455794,\n",
       " 0.7968869903132036]"
      ]
     },
     "execution_count": 19,
     "metadata": {},
     "output_type": "execute_result"
    }
   ],
   "source": [
    "[zero_to_ten.random() for _ in range(10)]"
   ]
  },
  {
   "cell_type": "markdown",
   "metadata": {},
   "source": [
    "However, note that `some_complicated_dimension` is in fact a union of multiple chunks:"
   ]
  },
  {
   "cell_type": "code",
   "execution_count": 20,
   "metadata": {},
   "outputs": [
    {
     "name": "stdout",
     "output_type": "stream",
     "text": [
      "x: (0.00, 1.00) UNION (5.00, 10.00] UNION [20.00, 21.00) UNION (25.00, 30.00] UNION [40.00, 50.00)\n"
     ]
    }
   ],
   "source": [
    "print(some_complicated_dimension)"
   ]
  },
  {
   "cell_type": "markdown",
   "metadata": {},
   "source": [
    "It's called a composite dimension and is a result of union, difference, and intersection operations on continuous dimensions.\n",
    "\n",
    "However, random number generation in composite dimension has not been implemented yet."
   ]
  },
  {
   "cell_type": "code",
   "execution_count": 21,
   "metadata": {},
   "outputs": [
    {
     "name": "stdout",
     "output_type": "stream",
     "text": [
      "Not implemented!\n"
     ]
    }
   ],
   "source": [
    "try:\n",
    "    some_complicated_dimension.random()\n",
    "except NotImplementedError as e:\n",
    "    print(\"Not implemented!\")"
   ]
  },
  {
   "cell_type": "markdown",
   "metadata": {},
   "source": [
    "It is neither difficult nor urgent to implement. \n",
    "\n",
    "The complication arises, because a composite dimension is built atop an interval tree of ContinuousDimension objects, referred to in the code as chunks. To sample uniformly from such a composite dimension, we must know the sizes of each chunk and sample from each chunk with a probability proportional to its size."
   ]
  },
  {
   "cell_type": "markdown",
   "metadata": {},
   "source": [
    "### Discrete Dimension\n",
    "\n",
    "Represents a set of integers."
   ]
  },
  {
   "cell_type": "code",
   "execution_count": 22,
   "metadata": {},
   "outputs": [
    {
     "name": "stdout",
     "output_type": "stream",
     "text": [
      "x: {1, 2}\n",
      "x: {1, 2, 3}\n",
      "x: {10, 11, ... , 20}\n",
      "x: {1, 2, ... , 100}\n"
     ]
    }
   ],
   "source": [
    "one_two = DiscreteDimension(name='x', min=1, max=2)\n",
    "one_two_three = DiscreteDimension(name='x', min=1, max=3)\n",
    "ten_to_twenty = DiscreteDimension(name='x', min=10, max=20)\n",
    "one_to_hundred = DiscreteDimension(name='x', min=1, max=100)\n",
    "\n",
    "print(one_two)\n",
    "print(one_two_three)\n",
    "print(ten_to_twenty)\n",
    "print(one_to_hundred)"
   ]
  },
  {
   "cell_type": "code",
   "execution_count": 23,
   "metadata": {},
   "outputs": [],
   "source": [
    "assert 1 in one_two\n",
    "assert 1 in one_two_three\n",
    "assert 5 in one_to_hundred\n",
    "assert 5 not in one_two\n",
    "assert 5 not in ten_to_twenty\n",
    "assert 15 in ten_to_twenty"
   ]
  },
  {
   "cell_type": "markdown",
   "metadata": {},
   "source": [
    "#### Set operations on discrete dimensions"
   ]
  },
  {
   "cell_type": "code",
   "execution_count": 24,
   "metadata": {},
   "outputs": [
    {
     "data": {
      "text/plain": [
       "x: {1, 2} UNION {10, 11, ... , 20}"
      ]
     },
     "execution_count": 24,
     "metadata": {},
     "output_type": "execute_result"
    }
   ],
   "source": [
    "one_two.union(ten_to_twenty)"
   ]
  },
  {
   "cell_type": "code",
   "execution_count": 25,
   "metadata": {},
   "outputs": [],
   "source": [
    "assert 15 in one_two.union(ten_to_twenty)"
   ]
  },
  {
   "cell_type": "code",
   "execution_count": 26,
   "metadata": {},
   "outputs": [
    {
     "data": {
      "text/plain": [
       "x: {1, 2, ... , 9} UNION {21, 22, ... , 100}"
      ]
     },
     "execution_count": 26,
     "metadata": {},
     "output_type": "execute_result"
    }
   ],
   "source": [
    "one_to_hundred.difference(ten_to_twenty)"
   ]
  },
  {
   "cell_type": "code",
   "execution_count": 27,
   "metadata": {},
   "outputs": [],
   "source": [
    "assert 15 not in one_to_hundred.difference(ten_to_twenty)\n",
    "assert 50 in one_to_hundred.difference(ten_to_twenty)"
   ]
  },
  {
   "cell_type": "code",
   "execution_count": 28,
   "metadata": {},
   "outputs": [
    {
     "data": {
      "text/plain": [
       "x: {10, 11, ... , 20}"
      ]
     },
     "execution_count": 28,
     "metadata": {},
     "output_type": "execute_result"
    }
   ],
   "source": [
    "one_to_hundred.intersection(ten_to_twenty)"
   ]
  },
  {
   "cell_type": "code",
   "execution_count": 29,
   "metadata": {},
   "outputs": [],
   "source": [
    "assert one_to_hundred.intersection(ten_to_twenty) == ten_to_twenty"
   ]
  },
  {
   "cell_type": "markdown",
   "metadata": {},
   "source": [
    "#### Generating random value from discrete dimension"
   ]
  },
  {
   "cell_type": "code",
   "execution_count": 30,
   "metadata": {},
   "outputs": [
    {
     "name": "stdout",
     "output_type": "stream",
     "text": [
      "[39, 1, 16, 69, 27, 2, 8, 56, 78, 58]\n"
     ]
    }
   ],
   "source": [
    "print([one_to_hundred.random() for _ in range(10)])"
   ]
  },
  {
   "cell_type": "markdown",
   "metadata": {},
   "source": [
    "### CategoricalDimension"
   ]
  },
  {
   "cell_type": "code",
   "execution_count": 31,
   "metadata": {},
   "outputs": [
    {
     "name": "stdout",
     "output_type": "stream",
     "text": [
      "Generating 10 random algorithm values:\n",
      "\t[1/10] Random algorithm type: Optimistic\n",
      "\t[2/10] Random algorithm type: Optimistic\n",
      "\t[3/10] Random algorithm type: ExponentialBackOff\n",
      "\t[4/10] Random algorithm type: Optimistic\n",
      "\t[5/10] Random algorithm type: ExponentialBackOff\n",
      "\t[6/10] Random algorithm type: Optimistic\n",
      "\t[7/10] Random algorithm type: Optimistic\n",
      "\t[8/10] Random algorithm type: Optimistic\n",
      "\t[9/10] Random algorithm type: Optimistic\n",
      "\t[10/10] Random algorithm type: Optimistic\n"
     ]
    }
   ],
   "source": [
    "# Create a dimension corresponding to our algorithm type\n",
    "#\n",
    "spinlock_algorithm_type_dimension = CategoricalDimension(name=\"spinlock_algorithm_type\", values=[\"Optimistic\", \"ExponentialBackOff\"])\n",
    "\n",
    "# Create a few random parameter values\n",
    "#\n",
    "num_values = 10\n",
    "print(f\"Generating {num_values} random algorithm values:\")\n",
    "for i in range(num_values):\n",
    "    print(f\"\\t[{i+1}/{num_values}] Random algorithm type: {spinlock_algorithm_type_dimension.random()}\")"
   ]
  },
  {
   "cell_type": "markdown",
   "metadata": {},
   "source": [
    "### Ordinal Dimension\n",
    "\n",
    "Ordinal dimension subclasses from CategoricalDimension and the only difference is that it maintains ordering. The reason for its existence is that some models can leverage the fact that values in the set are ordered. For example: for categorical dimensions (unordered) we sometimes perform one-hot-encoding before feeding them into the model. For ordinal dimensions however, we may achieve better results by simply assigning monotonically increasing integers to values in the set."
   ]
  },
  {
   "cell_type": "code",
   "execution_count": 32,
   "metadata": {},
   "outputs": [
    {
     "name": "stdout",
     "output_type": "stream",
     "text": [
      "quality: {good, better, best}\n",
      "difficulty: {easy, hard, np-complete}\n"
     ]
    }
   ],
   "source": [
    "quality = OrdinalDimension(name='quality', ordered_values=['good', 'better', 'best'])\n",
    "difficulty = OrdinalDimension(name='difficulty', ordered_values=['easy', 'hard', 'np-complete'])\n",
    "print(quality)\n",
    "print(difficulty)"
   ]
  },
  {
   "cell_type": "markdown",
   "metadata": {},
   "source": [
    "# Hypergrids\n",
    "A simple hypergrid is a representation of a search space. It is a cartesian product of dimensions, and therefore also a set.\n",
    "\n",
    "A few words on the etymology:\n",
    "* hyper - for hyperdimensional, like hypercubes and hyperplanes\n",
    "* grid - if we only allowed continuous dimensions, the word hypercube would aptly describe the set of allowed configurations. But since we allow for Discrete (Integer), Categorical, and Ordinal dimensions, we end up with a hyperdimensional grid. \n",
    "\n",
    "Ergo: hypergrid.\n",
    "\n",
    "<sub>In the name of completeness, let us also point out that a hierarchical hypergrid is only a subset of the cartesian product of all of its dimensions.</sub>"
   ]
  },
  {
   "cell_type": "markdown",
   "metadata": {},
   "source": [
    "## Flat Hypergrids\n",
    "\n",
    "First, let's import a flat hypergrid with several dimensions. This document has nothing to do with glowworm swarm optimization, we are merely using this hypergrid as an example."
   ]
  },
  {
   "cell_type": "code",
   "execution_count": 33,
   "metadata": {},
   "outputs": [
    {
     "name": "stdout",
     "output_type": "stream",
     "text": [
      "  Name: glow_worm_swarm_optimizer_config\n",
      "  Dimensions:\n",
      "    num_initial_points_multiplier: {1, 2, ... , 10}\n",
      "    num_worms: {1, 2, ... , 1000}\n",
      "    num_iterations: {1, 2, ... , 1000}\n",
      "    luciferin_decay_constant: [0.00, 1.00]\n",
      "    luciferin_enhancement_constant: [0.00, 1.00]\n",
      "    step_size: [0.00, 1.00]\n",
      "    initial_decision_radius: (0.00, 1.00]\n",
      "    max_sensory_radius: [0.50, 10.00]\n",
      "    desired_num_neighbors: {1, 2, ... , 100}\n",
      "    decision_radius_adjustment_constant: [0.00, 1.00]\n"
     ]
    }
   ],
   "source": [
    "from mlos.Optimizers.ExperimentDesigner.UtilityFunctionOptimizers.GlowWormSwarmOptimizer import glow_worm_swarm_optimizer_config_store\n",
    "print(glow_worm_swarm_optimizer_config_store.parameter_space)"
   ]
  },
  {
   "cell_type": "markdown",
   "metadata": {},
   "source": [
    "### Defining a flat Hypergrid\n",
    "... is as simple as providing its name and the dimensions comprising it. Let's reproduce the hypergrid from above."
   ]
  },
  {
   "cell_type": "code",
   "execution_count": 34,
   "metadata": {},
   "outputs": [],
   "source": [
    "from mlos.Spaces import Point, SimpleHypergrid\n",
    "\n",
    "glow_worm_config_space = SimpleHypergrid(\n",
    "    name=\"glow_worm_swarm_optimizer_config\",\n",
    "    dimensions=[\n",
    "        DiscreteDimension(name=\"num_initial_points_multiplier\", min=1, max=10),\n",
    "        DiscreteDimension(name=\"num_worms\", min=1, max=1000),\n",
    "        DiscreteDimension(name=\"num_iterations\", min=1, max=1000),\n",
    "        ContinuousDimension(name=\"luciferin_decay_constant\", min=0, max=1),\n",
    "        ContinuousDimension(name=\"luciferin_enhancement_constant\", min=0, max=1),\n",
    "        ContinuousDimension(name=\"step_size\", min=0, max=1),  # TODO: make this adaptive\n",
    "        ContinuousDimension(name=\"initial_decision_radius\", min=0, max=1, include_min=False),\n",
    "        ContinuousDimension(name=\"max_sensory_radius\", min=0.5, max=10),\n",
    "        DiscreteDimension(name=\"desired_num_neighbors\", min=1, max=100),\n",
    "        ContinuousDimension(name=\"decision_radius_adjustment_constant\", min=0, max=1)\n",
    "    ]\n",
    ")"
   ]
  },
  {
   "cell_type": "code",
   "execution_count": 35,
   "metadata": {},
   "outputs": [
    {
     "name": "stdout",
     "output_type": "stream",
     "text": [
      "  Name: glow_worm_swarm_optimizer_config\n",
      "  Dimensions:\n",
      "    num_initial_points_multiplier: {1, 2, ... , 10}\n",
      "    num_worms: {1, 2, ... , 1000}\n",
      "    num_iterations: {1, 2, ... , 1000}\n",
      "    luciferin_decay_constant: [0.00, 1.00]\n",
      "    luciferin_enhancement_constant: [0.00, 1.00]\n",
      "    step_size: [0.00, 1.00]\n",
      "    initial_decision_radius: (0.00, 1.00]\n",
      "    max_sensory_radius: [0.50, 10.00]\n",
      "    desired_num_neighbors: {1, 2, ... , 100}\n",
      "    decision_radius_adjustment_constant: [0.00, 1.00]\n"
     ]
    }
   ],
   "source": [
    "print(glow_worm_config_space)"
   ]
  },
  {
   "cell_type": "code",
   "execution_count": 36,
   "metadata": {},
   "outputs": [],
   "source": [
    "# Let's convince ourselves that they are the same.\n",
    "#\n",
    "assert str(glow_worm_config_space) == str(glow_worm_swarm_optimizer_config_store.parameter_space)"
   ]
  },
  {
   "cell_type": "markdown",
   "metadata": {},
   "source": [
    "#### Generating a random point from a hypergrid\n",
    "Lot's of components throughout the code depend our ability to efficiently generate random, valid configurations. Hypergrids provide this functionality for individual points, and for entire dataframes.\n"
   ]
  },
  {
   "cell_type": "code",
   "execution_count": 37,
   "metadata": {},
   "outputs": [
    {
     "name": "stdout",
     "output_type": "stream",
     "text": [
      "<class 'mlos.Spaces.Point.Point'>\n",
      "{\n",
      "  \"num_initial_points_multiplier\": 2,\n",
      "  \"num_worms\": 358,\n",
      "  \"num_iterations\": 308,\n",
      "  \"luciferin_decay_constant\": 0.9900770752974355,\n",
      "  \"luciferin_enhancement_constant\": 0.9223858636961079,\n",
      "  \"step_size\": 0.09008589662723443,\n",
      "  \"initial_decision_radius\": 0.4513730247648293,\n",
      "  \"max_sensory_radius\": 7.6104082050811215,\n",
      "  \"desired_num_neighbors\": 92,\n",
      "  \"decision_radius_adjustment_constant\": 0.39733626710091496\n",
      "}\n"
     ]
    }
   ],
   "source": [
    "# Single point - converting to json makes it easier to read.\n",
    "#\n",
    "random_point = glow_worm_config_space.random()\n",
    "print(type(random_point))\n",
    "print(random_point.to_json(indent=2))"
   ]
  },
  {
   "cell_type": "markdown",
   "metadata": {},
   "source": [
    "#### Generating Random DataFrames\n",
    "Since most of the optimizer's components can __operate on batches of data much more efficiently than on individual points__."
   ]
  },
  {
   "cell_type": "code",
   "execution_count": 38,
   "metadata": {},
   "outputs": [
    {
     "data": {
      "text/html": [
       "<div>\n",
       "<style scoped>\n",
       "    .dataframe tbody tr th:only-of-type {\n",
       "        vertical-align: middle;\n",
       "    }\n",
       "\n",
       "    .dataframe tbody tr th {\n",
       "        vertical-align: top;\n",
       "    }\n",
       "\n",
       "    .dataframe thead th {\n",
       "        text-align: right;\n",
       "    }\n",
       "</style>\n",
       "<table border=\"1\" class=\"dataframe\">\n",
       "  <thead>\n",
       "    <tr style=\"text-align: right;\">\n",
       "      <th></th>\n",
       "      <th>num_initial_points_multiplier</th>\n",
       "      <th>num_worms</th>\n",
       "      <th>num_iterations</th>\n",
       "      <th>luciferin_decay_constant</th>\n",
       "      <th>luciferin_enhancement_constant</th>\n",
       "      <th>step_size</th>\n",
       "      <th>initial_decision_radius</th>\n",
       "      <th>max_sensory_radius</th>\n",
       "      <th>desired_num_neighbors</th>\n",
       "      <th>decision_radius_adjustment_constant</th>\n",
       "    </tr>\n",
       "  </thead>\n",
       "  <tbody>\n",
       "    <tr>\n",
       "      <th>0</th>\n",
       "      <td>3</td>\n",
       "      <td>858</td>\n",
       "      <td>16</td>\n",
       "      <td>0.687969</td>\n",
       "      <td>0.305402</td>\n",
       "      <td>0.767388</td>\n",
       "      <td>0.028630</td>\n",
       "      <td>4.658216</td>\n",
       "      <td>98</td>\n",
       "      <td>0.237023</td>\n",
       "    </tr>\n",
       "    <tr>\n",
       "      <th>1</th>\n",
       "      <td>4</td>\n",
       "      <td>97</td>\n",
       "      <td>791</td>\n",
       "      <td>0.106594</td>\n",
       "      <td>0.986211</td>\n",
       "      <td>0.038526</td>\n",
       "      <td>0.399608</td>\n",
       "      <td>5.160340</td>\n",
       "      <td>41</td>\n",
       "      <td>0.734487</td>\n",
       "    </tr>\n",
       "    <tr>\n",
       "      <th>2</th>\n",
       "      <td>3</td>\n",
       "      <td>446</td>\n",
       "      <td>737</td>\n",
       "      <td>0.465471</td>\n",
       "      <td>0.853240</td>\n",
       "      <td>0.403752</td>\n",
       "      <td>0.660720</td>\n",
       "      <td>0.810461</td>\n",
       "      <td>57</td>\n",
       "      <td>0.526858</td>\n",
       "    </tr>\n",
       "    <tr>\n",
       "      <th>3</th>\n",
       "      <td>4</td>\n",
       "      <td>171</td>\n",
       "      <td>857</td>\n",
       "      <td>0.344040</td>\n",
       "      <td>0.186406</td>\n",
       "      <td>0.151722</td>\n",
       "      <td>0.299323</td>\n",
       "      <td>4.606827</td>\n",
       "      <td>4</td>\n",
       "      <td>0.028664</td>\n",
       "    </tr>\n",
       "    <tr>\n",
       "      <th>4</th>\n",
       "      <td>8</td>\n",
       "      <td>718</td>\n",
       "      <td>800</td>\n",
       "      <td>0.952037</td>\n",
       "      <td>0.869736</td>\n",
       "      <td>0.957513</td>\n",
       "      <td>0.578656</td>\n",
       "      <td>9.504716</td>\n",
       "      <td>5</td>\n",
       "      <td>0.492985</td>\n",
       "    </tr>\n",
       "    <tr>\n",
       "      <th>5</th>\n",
       "      <td>10</td>\n",
       "      <td>710</td>\n",
       "      <td>52</td>\n",
       "      <td>0.286364</td>\n",
       "      <td>0.526632</td>\n",
       "      <td>0.742756</td>\n",
       "      <td>0.646780</td>\n",
       "      <td>1.208530</td>\n",
       "      <td>15</td>\n",
       "      <td>0.736332</td>\n",
       "    </tr>\n",
       "    <tr>\n",
       "      <th>6</th>\n",
       "      <td>1</td>\n",
       "      <td>393</td>\n",
       "      <td>601</td>\n",
       "      <td>0.981068</td>\n",
       "      <td>0.042705</td>\n",
       "      <td>0.475467</td>\n",
       "      <td>0.492001</td>\n",
       "      <td>0.739042</td>\n",
       "      <td>33</td>\n",
       "      <td>0.529902</td>\n",
       "    </tr>\n",
       "    <tr>\n",
       "      <th>7</th>\n",
       "      <td>3</td>\n",
       "      <td>221</td>\n",
       "      <td>465</td>\n",
       "      <td>0.448932</td>\n",
       "      <td>0.040731</td>\n",
       "      <td>0.274861</td>\n",
       "      <td>0.616297</td>\n",
       "      <td>8.307484</td>\n",
       "      <td>9</td>\n",
       "      <td>0.095790</td>\n",
       "    </tr>\n",
       "    <tr>\n",
       "      <th>8</th>\n",
       "      <td>2</td>\n",
       "      <td>559</td>\n",
       "      <td>204</td>\n",
       "      <td>0.247446</td>\n",
       "      <td>0.587054</td>\n",
       "      <td>0.914082</td>\n",
       "      <td>0.258602</td>\n",
       "      <td>2.372909</td>\n",
       "      <td>77</td>\n",
       "      <td>0.431750</td>\n",
       "    </tr>\n",
       "    <tr>\n",
       "      <th>9</th>\n",
       "      <td>10</td>\n",
       "      <td>20</td>\n",
       "      <td>435</td>\n",
       "      <td>0.256607</td>\n",
       "      <td>0.286974</td>\n",
       "      <td>0.853695</td>\n",
       "      <td>0.252879</td>\n",
       "      <td>2.840333</td>\n",
       "      <td>68</td>\n",
       "      <td>0.249751</td>\n",
       "    </tr>\n",
       "  </tbody>\n",
       "</table>\n",
       "</div>"
      ],
      "text/plain": [
       "   num_initial_points_multiplier  num_worms  num_iterations  \\\n",
       "0                              3        858              16   \n",
       "1                              4         97             791   \n",
       "2                              3        446             737   \n",
       "3                              4        171             857   \n",
       "4                              8        718             800   \n",
       "5                             10        710              52   \n",
       "6                              1        393             601   \n",
       "7                              3        221             465   \n",
       "8                              2        559             204   \n",
       "9                             10         20             435   \n",
       "\n",
       "   luciferin_decay_constant  luciferin_enhancement_constant  step_size  \\\n",
       "0                  0.687969                        0.305402   0.767388   \n",
       "1                  0.106594                        0.986211   0.038526   \n",
       "2                  0.465471                        0.853240   0.403752   \n",
       "3                  0.344040                        0.186406   0.151722   \n",
       "4                  0.952037                        0.869736   0.957513   \n",
       "5                  0.286364                        0.526632   0.742756   \n",
       "6                  0.981068                        0.042705   0.475467   \n",
       "7                  0.448932                        0.040731   0.274861   \n",
       "8                  0.247446                        0.587054   0.914082   \n",
       "9                  0.256607                        0.286974   0.853695   \n",
       "\n",
       "   initial_decision_radius  max_sensory_radius  desired_num_neighbors  \\\n",
       "0                 0.028630            4.658216                     98   \n",
       "1                 0.399608            5.160340                     41   \n",
       "2                 0.660720            0.810461                     57   \n",
       "3                 0.299323            4.606827                      4   \n",
       "4                 0.578656            9.504716                      5   \n",
       "5                 0.646780            1.208530                     15   \n",
       "6                 0.492001            0.739042                     33   \n",
       "7                 0.616297            8.307484                      9   \n",
       "8                 0.258602            2.372909                     77   \n",
       "9                 0.252879            2.840333                     68   \n",
       "\n",
       "   decision_radius_adjustment_constant  \n",
       "0                             0.237023  \n",
       "1                             0.734487  \n",
       "2                             0.526858  \n",
       "3                             0.028664  \n",
       "4                             0.492985  \n",
       "5                             0.736332  \n",
       "6                             0.529902  \n",
       "7                             0.095790  \n",
       "8                             0.431750  \n",
       "9                             0.249751  "
      ]
     },
     "execution_count": 38,
     "metadata": {},
     "output_type": "execute_result"
    }
   ],
   "source": [
    "# Entire dataframe\n",
    "#\n",
    "glow_worm_config_space.random_dataframe(num_samples=10)"
   ]
  },
  {
   "cell_type": "markdown",
   "metadata": {},
   "source": [
    "##### A note on distribution\n",
    "In a flat hypergrid the points are sampled uniformly across the entire hypergrid."
   ]
  },
  {
   "cell_type": "markdown",
   "metadata": {},
   "source": [
    "### Testing containment\n",
    "\n",
    "A very useful feature is to test whether a given point belongs to a hypergrid or not. An ability to test whether a dataframe belongs to a hypergrid might be useful, but we have not seen the need to implement it yet."
   ]
  },
  {
   "cell_type": "code",
   "execution_count": 39,
   "metadata": {},
   "outputs": [],
   "source": [
    "valid_point = glow_worm_config_space.random()\n",
    "assert valid_point in glow_worm_config_space"
   ]
  },
  {
   "cell_type": "code",
   "execution_count": 40,
   "metadata": {},
   "outputs": [],
   "source": [
    "# And now let's construct an invalid point.\n",
    "#\n",
    "invalid_point = valid_point.copy()\n",
    "\n",
    "# This dimension has to be positive so let's set it to zero.\n",
    "#\n",
    "invalid_point.num_initial_points_multiplier = 0\n",
    "\n",
    "# And finally test.\n",
    "#\n",
    "assert invalid_point not in glow_worm_config_space"
   ]
  },
  {
   "cell_type": "markdown",
   "metadata": {},
   "source": [
    "##### Converting between a Point and a DataFrame\n",
    "A point can be trivially converted to a DataFrame. The reverse is also possible for DataFrames of length 1.  "
   ]
  },
  {
   "cell_type": "code",
   "execution_count": 41,
   "metadata": {},
   "outputs": [
    {
     "data": {
      "text/html": [
       "<div>\n",
       "<style scoped>\n",
       "    .dataframe tbody tr th:only-of-type {\n",
       "        vertical-align: middle;\n",
       "    }\n",
       "\n",
       "    .dataframe tbody tr th {\n",
       "        vertical-align: top;\n",
       "    }\n",
       "\n",
       "    .dataframe thead th {\n",
       "        text-align: right;\n",
       "    }\n",
       "</style>\n",
       "<table border=\"1\" class=\"dataframe\">\n",
       "  <thead>\n",
       "    <tr style=\"text-align: right;\">\n",
       "      <th></th>\n",
       "      <th>num_initial_points_multiplier</th>\n",
       "      <th>num_worms</th>\n",
       "      <th>num_iterations</th>\n",
       "      <th>luciferin_decay_constant</th>\n",
       "      <th>luciferin_enhancement_constant</th>\n",
       "      <th>step_size</th>\n",
       "      <th>initial_decision_radius</th>\n",
       "      <th>max_sensory_radius</th>\n",
       "      <th>desired_num_neighbors</th>\n",
       "      <th>decision_radius_adjustment_constant</th>\n",
       "    </tr>\n",
       "  </thead>\n",
       "  <tbody>\n",
       "    <tr>\n",
       "      <th>0</th>\n",
       "      <td>1</td>\n",
       "      <td>152</td>\n",
       "      <td>555</td>\n",
       "      <td>0.153657</td>\n",
       "      <td>0.377911</td>\n",
       "      <td>0.317738</td>\n",
       "      <td>0.569483</td>\n",
       "      <td>9.303174</td>\n",
       "      <td>76</td>\n",
       "      <td>0.128463</td>\n",
       "    </tr>\n",
       "  </tbody>\n",
       "</table>\n",
       "</div>"
      ],
      "text/plain": [
       "   num_initial_points_multiplier  num_worms  num_iterations  \\\n",
       "0                              1        152             555   \n",
       "\n",
       "   luciferin_decay_constant  luciferin_enhancement_constant  step_size  \\\n",
       "0                  0.153657                        0.377911   0.317738   \n",
       "\n",
       "   initial_decision_radius  max_sensory_radius  desired_num_neighbors  \\\n",
       "0                 0.569483            9.303174                     76   \n",
       "\n",
       "   decision_radius_adjustment_constant  \n",
       "0                             0.128463  "
      ]
     },
     "execution_count": 41,
     "metadata": {},
     "output_type": "execute_result"
    }
   ],
   "source": [
    "valid_point_df = valid_point.to_dataframe()\n",
    "valid_point_df"
   ]
  },
  {
   "cell_type": "code",
   "execution_count": 42,
   "metadata": {},
   "outputs": [
    {
     "name": "stdout",
     "output_type": "stream",
     "text": [
      "{\n",
      "  \"num_initial_points_multiplier\": 1,\n",
      "  \"num_worms\": 152,\n",
      "  \"num_iterations\": 555,\n",
      "  \"luciferin_decay_constant\": 0.15365722568855145,\n",
      "  \"luciferin_enhancement_constant\": 0.37791076794294753,\n",
      "  \"step_size\": 0.31773792022806624,\n",
      "  \"initial_decision_radius\": 0.5694825895867698,\n",
      "  \"max_sensory_radius\": 9.303174124340375,\n",
      "  \"desired_num_neighbors\": 76,\n",
      "  \"decision_radius_adjustment_constant\": 0.12846263991018636\n",
      "}\n"
     ]
    }
   ],
   "source": [
    "reconstructed_valid_point = Point.from_dataframe(valid_point_df)\n",
    "print(reconstructed_valid_point.to_json(indent=2))"
   ]
  },
  {
   "cell_type": "markdown",
   "metadata": {},
   "source": [
    "#### Equality between two points\n"
   ]
  },
  {
   "cell_type": "code",
   "execution_count": 43,
   "metadata": {},
   "outputs": [],
   "source": [
    "assert valid_point == reconstructed_valid_point"
   ]
  },
  {
   "cell_type": "code",
   "execution_count": 44,
   "metadata": {},
   "outputs": [],
   "source": [
    "assert valid_point != invalid_point"
   ]
  },
  {
   "cell_type": "markdown",
   "metadata": {},
   "source": [
    "# Hierarchical Hypergrids\n",
    "\n",
    "Flat Hypergrids are powerful, but we can do better. Consider a situation when we want to ask the optimizer to choose one of the available algorithm implementations, and then optimize its parameters. Such multi-level optimization is pretty hard to begin with so we need to give the optimizer every advantage we can afford. This is where hierarchical hypergrids come into picture. They allow the developer to group parameters by the the implementation they pertain to.  "
   ]
  },
  {
   "cell_type": "markdown",
   "metadata": {},
   "source": [
    "### What the world looks like without hierarchical hypergrids\n",
    "\n",
    "One of our internal use-cases for MLOS is an optimization of spinlocks. We have two alternative back off policies: Optimistic, and ExponentialBackOff. They are governed by two distinct set of parameters. If we were forced to use a flat hypergrid we would have to describe them as follows:"
   ]
  },
  {
   "cell_type": "code",
   "execution_count": 45,
   "metadata": {},
   "outputs": [
    {
     "name": "stdout",
     "output_type": "stream",
     "text": [
      "  Name: SpinlockParameterSpace\n",
      "  Dimensions:\n",
      "    backOffPolicy: {Optimistic, ExponentialBackOff}\n",
      "    shortBackOffMilliSeconds: {1, 2, ... , 32768}\n",
      "    longBackOffMilliSeconds: {1, 2, ... , 32768}\n",
      "    longBackOffWaitMilliSeconds: {1, 2, ... , 32768}\n",
      "    minSpinCount: {1, 2, ... , 1048576}\n",
      "    maxSpinCount: {1, 2, ... , 1048576}\n",
      "    maxBackOffAttempts: {1, 2, ... , 1048576}\n",
      "    acquireSpinCount: {1, 2, ... , 1048576}\n"
     ]
    },
    {
     "data": {
      "text/html": [
       "<div>\n",
       "<style scoped>\n",
       "    .dataframe tbody tr th:only-of-type {\n",
       "        vertical-align: middle;\n",
       "    }\n",
       "\n",
       "    .dataframe tbody tr th {\n",
       "        vertical-align: top;\n",
       "    }\n",
       "\n",
       "    .dataframe thead th {\n",
       "        text-align: right;\n",
       "    }\n",
       "</style>\n",
       "<table border=\"1\" class=\"dataframe\">\n",
       "  <thead>\n",
       "    <tr style=\"text-align: right;\">\n",
       "      <th></th>\n",
       "      <th>backOffPolicy</th>\n",
       "      <th>shortBackOffMilliSeconds</th>\n",
       "      <th>longBackOffMilliSeconds</th>\n",
       "      <th>longBackOffWaitMilliSeconds</th>\n",
       "      <th>minSpinCount</th>\n",
       "      <th>maxSpinCount</th>\n",
       "      <th>maxBackOffAttempts</th>\n",
       "      <th>acquireSpinCount</th>\n",
       "    </tr>\n",
       "  </thead>\n",
       "  <tbody>\n",
       "    <tr>\n",
       "      <th>0</th>\n",
       "      <td>ExponentialBackOff</td>\n",
       "      <td>2946</td>\n",
       "      <td>12579</td>\n",
       "      <td>6304</td>\n",
       "      <td>187462</td>\n",
       "      <td>87515</td>\n",
       "      <td>284522</td>\n",
       "      <td>993971</td>\n",
       "    </tr>\n",
       "    <tr>\n",
       "      <th>1</th>\n",
       "      <td>Optimistic</td>\n",
       "      <td>13864</td>\n",
       "      <td>13366</td>\n",
       "      <td>24815</td>\n",
       "      <td>328306</td>\n",
       "      <td>691362</td>\n",
       "      <td>107536</td>\n",
       "      <td>39941</td>\n",
       "    </tr>\n",
       "    <tr>\n",
       "      <th>2</th>\n",
       "      <td>ExponentialBackOff</td>\n",
       "      <td>22921</td>\n",
       "      <td>7388</td>\n",
       "      <td>32139</td>\n",
       "      <td>632675</td>\n",
       "      <td>702987</td>\n",
       "      <td>705257</td>\n",
       "      <td>458266</td>\n",
       "    </tr>\n",
       "    <tr>\n",
       "      <th>3</th>\n",
       "      <td>ExponentialBackOff</td>\n",
       "      <td>11956</td>\n",
       "      <td>11878</td>\n",
       "      <td>1418</td>\n",
       "      <td>699402</td>\n",
       "      <td>571799</td>\n",
       "      <td>60422</td>\n",
       "      <td>974550</td>\n",
       "    </tr>\n",
       "    <tr>\n",
       "      <th>4</th>\n",
       "      <td>Optimistic</td>\n",
       "      <td>30735</td>\n",
       "      <td>8617</td>\n",
       "      <td>372</td>\n",
       "      <td>429390</td>\n",
       "      <td>963677</td>\n",
       "      <td>134452</td>\n",
       "      <td>829088</td>\n",
       "    </tr>\n",
       "    <tr>\n",
       "      <th>5</th>\n",
       "      <td>ExponentialBackOff</td>\n",
       "      <td>19018</td>\n",
       "      <td>12011</td>\n",
       "      <td>18490</td>\n",
       "      <td>857830</td>\n",
       "      <td>767457</td>\n",
       "      <td>967221</td>\n",
       "      <td>832317</td>\n",
       "    </tr>\n",
       "    <tr>\n",
       "      <th>6</th>\n",
       "      <td>ExponentialBackOff</td>\n",
       "      <td>27950</td>\n",
       "      <td>15199</td>\n",
       "      <td>18661</td>\n",
       "      <td>791411</td>\n",
       "      <td>258958</td>\n",
       "      <td>156595</td>\n",
       "      <td>379946</td>\n",
       "    </tr>\n",
       "    <tr>\n",
       "      <th>7</th>\n",
       "      <td>ExponentialBackOff</td>\n",
       "      <td>27957</td>\n",
       "      <td>14241</td>\n",
       "      <td>6528</td>\n",
       "      <td>291060</td>\n",
       "      <td>646112</td>\n",
       "      <td>912766</td>\n",
       "      <td>15046</td>\n",
       "    </tr>\n",
       "    <tr>\n",
       "      <th>8</th>\n",
       "      <td>ExponentialBackOff</td>\n",
       "      <td>15492</td>\n",
       "      <td>9594</td>\n",
       "      <td>26207</td>\n",
       "      <td>178198</td>\n",
       "      <td>424347</td>\n",
       "      <td>769105</td>\n",
       "      <td>69708</td>\n",
       "    </tr>\n",
       "    <tr>\n",
       "      <th>9</th>\n",
       "      <td>Optimistic</td>\n",
       "      <td>9884</td>\n",
       "      <td>11310</td>\n",
       "      <td>7888</td>\n",
       "      <td>653120</td>\n",
       "      <td>466989</td>\n",
       "      <td>802738</td>\n",
       "      <td>192278</td>\n",
       "    </tr>\n",
       "  </tbody>\n",
       "</table>\n",
       "</div>"
      ],
      "text/plain": [
       "        backOffPolicy  shortBackOffMilliSeconds  longBackOffMilliSeconds  \\\n",
       "0  ExponentialBackOff                      2946                    12579   \n",
       "1          Optimistic                     13864                    13366   \n",
       "2  ExponentialBackOff                     22921                     7388   \n",
       "3  ExponentialBackOff                     11956                    11878   \n",
       "4          Optimistic                     30735                     8617   \n",
       "5  ExponentialBackOff                     19018                    12011   \n",
       "6  ExponentialBackOff                     27950                    15199   \n",
       "7  ExponentialBackOff                     27957                    14241   \n",
       "8  ExponentialBackOff                     15492                     9594   \n",
       "9          Optimistic                      9884                    11310   \n",
       "\n",
       "   longBackOffWaitMilliSeconds  minSpinCount  maxSpinCount  \\\n",
       "0                         6304        187462         87515   \n",
       "1                        24815        328306        691362   \n",
       "2                        32139        632675        702987   \n",
       "3                         1418        699402        571799   \n",
       "4                          372        429390        963677   \n",
       "5                        18490        857830        767457   \n",
       "6                        18661        791411        258958   \n",
       "7                         6528        291060        646112   \n",
       "8                        26207        178198        424347   \n",
       "9                         7888        653120        466989   \n",
       "\n",
       "   maxBackOffAttempts  acquireSpinCount  \n",
       "0              284522            993971  \n",
       "1              107536             39941  \n",
       "2              705257            458266  \n",
       "3               60422            974550  \n",
       "4              134452            829088  \n",
       "5              967221            832317  \n",
       "6              156595            379946  \n",
       "7              912766             15046  \n",
       "8              769105             69708  \n",
       "9              802738            192278  "
      ]
     },
     "execution_count": 45,
     "metadata": {},
     "output_type": "execute_result"
    }
   ],
   "source": [
    "flat_spinlock_parameter_space = SimpleHypergrid(\n",
    "    name=\"SpinlockParameterSpace\",\n",
    "    dimensions = [\n",
    "        CategoricalDimension(name=\"backOffPolicy\", values=[\"Optimistic\", \"ExponentialBackOff\"]),\n",
    "        DiscreteDimension(name=\"shortBackOffMilliSeconds\", min=1, max=1 << 15),\n",
    "        DiscreteDimension(name=\"longBackOffMilliSeconds\", min=1, max=1 << 15),\n",
    "        DiscreteDimension(name=\"longBackOffWaitMilliSeconds\", min=1, max=1 << 15),\n",
    "        DiscreteDimension(name=\"minSpinCount\", min=1, max=1 << 20),\n",
    "        DiscreteDimension(name=\"maxSpinCount\", min=1, max=1 << 20),\n",
    "        DiscreteDimension(name=\"maxBackOffAttempts\", min=1, max=1 << 20),\n",
    "        DiscreteDimension(name=\"acquireSpinCount\", min=1, max=1 << 20)\n",
    "    ]\n",
    ")\n",
    "print(flat_spinlock_parameter_space)\n",
    "flat_spinlock_parameter_space.random_dataframe(num_samples=10)"
   ]
  },
  {
   "cell_type": "markdown",
   "metadata": {},
   "source": [
    "We can see that the configuration parameters are mixed for both the implementations. With sufficient training, the surrogate model within the optimizer might discover which parameters pertain to which policy, but it's inefficient. The unused parameters, effectively serve as noise."
   ]
  },
  {
   "cell_type": "markdown",
   "metadata": {},
   "source": [
    "### Using a hierarchical hypergrid to partition the search space\n",
    "A superior alternative is to partition the search space and group the parameters into subspaces. We can do it, by constructing a hierarchical hypergrid."
   ]
  },
  {
   "cell_type": "code",
   "execution_count": 46,
   "metadata": {},
   "outputs": [
    {
     "name": "stdout",
     "output_type": "stream",
     "text": [
      "  Name: SpinlockParameterSpace\n",
      "  Dimensions:\n",
      "    backOffPolicy: {Optimistic, ExponentialBackOff}\n"
     ]
    }
   ],
   "source": [
    "root_spinlock_parameter_space = SimpleHypergrid(\n",
    "    name=\"SpinlockParameterSpace\",\n",
    "    dimensions=[\n",
    "        CategoricalDimension(name=\"backOffPolicy\", values=[\"Optimistic\", \"ExponentialBackOff\"])\n",
    "    ]\n",
    ")\n",
    "print(root_spinlock_parameter_space)"
   ]
  },
  {
   "cell_type": "markdown",
   "metadata": {},
   "source": [
    "In the top level of the hierarchy we specify only the parameter controlling the back-off policy. Let's now specify a subgrid for each of the policies:"
   ]
  },
  {
   "cell_type": "code",
   "execution_count": 47,
   "metadata": {},
   "outputs": [
    {
     "name": "stdout",
     "output_type": "stream",
     "text": [
      "  Name: OptimisticBackoff\n",
      "  Dimensions:\n",
      "    acquireSpinCount: {1, 2, ... , 1048576}\n"
     ]
    }
   ],
   "source": [
    "optimistic_backoff_parameter_space = SimpleHypergrid(\n",
    "    name=\"OptimisticBackoff\",\n",
    "    dimensions=[\n",
    "        DiscreteDimension(name=\"acquireSpinCount\", min=1, max=1 << 20),\n",
    "    ]\n",
    ")\n",
    "print(optimistic_backoff_parameter_space)"
   ]
  },
  {
   "cell_type": "code",
   "execution_count": 48,
   "metadata": {},
   "outputs": [
    {
     "name": "stdout",
     "output_type": "stream",
     "text": [
      "  Name: ExponentialBackoff\n",
      "  Dimensions:\n",
      "    minSpinCount: {1, 2, ... , 1048576}\n",
      "    maxSpinCount: {1, 2, ... , 1048576}\n",
      "    maxBackOffAttempts: {1, 2, ... , 1048576}\n",
      "    shortBackOffMilliSeconds: {1, 2, ... , 32768}\n",
      "    longBackOffMilliSeconds: {1, 2, ... , 32768}\n",
      "    longBackOffWaitMilliSeconds: {1, 2, ... , 32768}\n"
     ]
    }
   ],
   "source": [
    "exponential_backoff_parameter_space = SimpleHypergrid(\n",
    "    name=\"ExponentialBackoff\",\n",
    "    dimensions=[\n",
    "        DiscreteDimension(name=\"minSpinCount\", min=1, max=1 << 20),\n",
    "        DiscreteDimension(name=\"maxSpinCount\", min=1, max=1 << 20),\n",
    "        DiscreteDimension(name=\"maxBackOffAttempts\", min=1, max=1 << 20),\n",
    "        DiscreteDimension(name=\"shortBackOffMilliSeconds\", min=1, max=1 << 15),\n",
    "        DiscreteDimension(name=\"longBackOffMilliSeconds\", min=1, max=1 << 15),\n",
    "        DiscreteDimension(name=\"longBackOffWaitMilliSeconds\", min=1, max=1 << 15),\n",
    "    ]\n",
    ")\n",
    "print(exponential_backoff_parameter_space)"
   ]
  },
  {
   "cell_type": "markdown",
   "metadata": {},
   "source": [
    "Joining the three spaces together to form a hierarchy can be accomplished by specifying a join dimension between them. The meaning of the join dimensions is best explained by the output below:"
   ]
  },
  {
   "cell_type": "code",
   "execution_count": 49,
   "metadata": {},
   "outputs": [
    {
     "name": "stdout",
     "output_type": "stream",
     "text": [
      "  Name: SpinlockParameterSpace\n",
      "  Dimensions:\n",
      "    backOffPolicy: {Optimistic, ExponentialBackOff}\n",
      "\n",
      "  IF backOffPolicy IN {ExponentialBackOff} THEN (\n",
      "    Name: ExponentialBackoff\n",
      "    Dimensions:\n",
      "      minSpinCount: {1, 2, ... , 1048576}\n",
      "      maxSpinCount: {1, 2, ... , 1048576}\n",
      "      maxBackOffAttempts: {1, 2, ... , 1048576}\n",
      "      shortBackOffMilliSeconds: {1, 2, ... , 32768}\n",
      "      longBackOffMilliSeconds: {1, 2, ... , 32768}\n",
      "      longBackOffWaitMilliSeconds: {1, 2, ... , 32768}\n",
      "  )\n",
      "\n",
      "  IF backOffPolicy IN {Optimistic} THEN (\n",
      "    Name: OptimisticBackoff\n",
      "    Dimensions:\n",
      "      acquireSpinCount: {1, 2, ... , 1048576}\n",
      "  )\n"
     ]
    }
   ],
   "source": [
    "hierarchical_spinlock_parameter_space = root_spinlock_parameter_space.join(\n",
    "    subgrid=optimistic_backoff_parameter_space,\n",
    "    on_external_dimension=CategoricalDimension(name=\"backOffPolicy\", values=[\"Optimistic\"])\n",
    ").join(\n",
    "    subgrid=exponential_backoff_parameter_space,\n",
    "    on_external_dimension=CategoricalDimension(name=\"backOffPolicy\", values=[\"ExponentialBackOff\"])\n",
    ")\n",
    "print(hierarchical_spinlock_parameter_space)"
   ]
  },
  {
   "cell_type": "markdown",
   "metadata": {},
   "source": [
    "A useful side effect of this arrangement is that alternative implementations of smart components (TODO: define a smart component) can be __developed separately, but optimized jointly__. And in general we can compose a larger system from many smart components. If you study the Optimizer code, you will find this principle in action.\n",
    "\n",
    "Furthermore, if the optimizer uses an ensemble model, it can now __logically partition the input features to consituent models__. This is exactly what we do in the Homogeneous Random Forest Regression Model. Each decision tree gets a semantically coherent subset of all parameters. This is doubly nice, because no observation can ever simultanously contain valid parameters for both implementations, so we avoid a need to impute."
   ]
  },
  {
   "cell_type": "markdown",
   "metadata": {},
   "source": [
    "_A few words on the history and geography of hypergrids:_ At one point we used to have two classes: SimpleHypergrid and CompositeHypergrid to represent the flat and hierarchical spaces respectively. We have since simplified the design and the SimpleHypergrid can now represent both. Suitable renames are upcoming.\n",
    "\n",
    "_A note on the mathematical interpretation of this join:_ Observant readers may notice that this use of the .join() operator is tantamount to producing a disjoint union of the sets described by each policy's subgrid. Curious readers may consider a possiblity of using .join() operators as a simple way to implement a cartesian product of two spaces."
   ]
  },
  {
   "cell_type": "markdown",
   "metadata": {},
   "source": [
    "### Operating on hierarchical hypergrids\n",
    "All of the functions described above for the flat hypergrid, work also for hierarchical hypergrids. Afterall, they are all instances of the SimpleHypergrid class. Let's demonstrate them and point out some noteworthy behavior changes."
   ]
  },
  {
   "cell_type": "markdown",
   "metadata": {},
   "source": [
    "#### Generating a random point from a hierarchical hypergrid\n",
    "We really have to generate a few to see the important behavior change:"
   ]
  },
  {
   "cell_type": "code",
   "execution_count": 50,
   "metadata": {},
   "outputs": [
    {
     "name": "stdout",
     "output_type": "stream",
     "text": [
      "{\n",
      "  \"backOffPolicy\": \"Optimistic\",\n",
      "  \"OptimisticBackoff.acquireSpinCount\": 985983\n",
      "}\n",
      "-----------------------------------------------\n",
      "{\n",
      "  \"backOffPolicy\": \"ExponentialBackOff\",\n",
      "  \"ExponentialBackoff.minSpinCount\": 73828,\n",
      "  \"ExponentialBackoff.maxSpinCount\": 355929,\n",
      "  \"ExponentialBackoff.maxBackOffAttempts\": 219200,\n",
      "  \"ExponentialBackoff.shortBackOffMilliSeconds\": 25369,\n",
      "  \"ExponentialBackoff.longBackOffMilliSeconds\": 31964,\n",
      "  \"ExponentialBackoff.longBackOffWaitMilliSeconds\": 4143\n",
      "}\n",
      "-----------------------------------------------\n",
      "{\n",
      "  \"backOffPolicy\": \"ExponentialBackOff\",\n",
      "  \"ExponentialBackoff.minSpinCount\": 711557,\n",
      "  \"ExponentialBackoff.maxSpinCount\": 427291,\n",
      "  \"ExponentialBackoff.maxBackOffAttempts\": 850009,\n",
      "  \"ExponentialBackoff.shortBackOffMilliSeconds\": 4693,\n",
      "  \"ExponentialBackoff.longBackOffMilliSeconds\": 1733,\n",
      "  \"ExponentialBackoff.longBackOffWaitMilliSeconds\": 4394\n",
      "}\n",
      "-----------------------------------------------\n",
      "{\n",
      "  \"backOffPolicy\": \"ExponentialBackOff\",\n",
      "  \"ExponentialBackoff.minSpinCount\": 1037711,\n",
      "  \"ExponentialBackoff.maxSpinCount\": 168417,\n",
      "  \"ExponentialBackoff.maxBackOffAttempts\": 89776,\n",
      "  \"ExponentialBackoff.shortBackOffMilliSeconds\": 3596,\n",
      "  \"ExponentialBackoff.longBackOffMilliSeconds\": 9114,\n",
      "  \"ExponentialBackoff.longBackOffWaitMilliSeconds\": 19048\n",
      "}\n",
      "-----------------------------------------------\n",
      "{\n",
      "  \"backOffPolicy\": \"ExponentialBackOff\",\n",
      "  \"ExponentialBackoff.minSpinCount\": 379582,\n",
      "  \"ExponentialBackoff.maxSpinCount\": 620699,\n",
      "  \"ExponentialBackoff.maxBackOffAttempts\": 904818,\n",
      "  \"ExponentialBackoff.shortBackOffMilliSeconds\": 26652,\n",
      "  \"ExponentialBackoff.longBackOffMilliSeconds\": 31575,\n",
      "  \"ExponentialBackoff.longBackOffWaitMilliSeconds\": 8531\n",
      "}\n",
      "-----------------------------------------------\n"
     ]
    }
   ],
   "source": [
    "for _ in range(5):\n",
    "    print(hierarchical_spinlock_parameter_space.random().to_json(indent=2))\n",
    "    print(\"-----------------------------------------------\")"
   ]
  },
  {
   "cell_type": "markdown",
   "metadata": {},
   "source": [
    "Note that each point is valid and contains no superfluous parameters. Contrast this with the point generated from our flat hypergrid:"
   ]
  },
  {
   "cell_type": "code",
   "execution_count": 51,
   "metadata": {},
   "outputs": [
    {
     "name": "stdout",
     "output_type": "stream",
     "text": [
      "{\n",
      "  \"backOffPolicy\": \"Optimistic\",\n",
      "  \"shortBackOffMilliSeconds\": 26983,\n",
      "  \"longBackOffMilliSeconds\": 23970,\n",
      "  \"longBackOffWaitMilliSeconds\": 32342,\n",
      "  \"minSpinCount\": 206419,\n",
      "  \"maxSpinCount\": 945646,\n",
      "  \"maxBackOffAttempts\": 1014201,\n",
      "  \"acquireSpinCount\": 514595\n",
      "}\n"
     ]
    }
   ],
   "source": [
    "print(flat_spinlock_parameter_space.random().to_json(indent=2))"
   ]
  },
  {
   "cell_type": "markdown",
   "metadata": {},
   "source": [
    "Now every model that would try to learn something about the optimistic back off, also has to sort through 6 dimensions worth of noise."
   ]
  },
  {
   "cell_type": "markdown",
   "metadata": {},
   "source": [
    "#### Generating an entire DataFrame"
   ]
  },
  {
   "cell_type": "code",
   "execution_count": 52,
   "metadata": {},
   "outputs": [
    {
     "data": {
      "text/html": [
       "<div>\n",
       "<style scoped>\n",
       "    .dataframe tbody tr th:only-of-type {\n",
       "        vertical-align: middle;\n",
       "    }\n",
       "\n",
       "    .dataframe tbody tr th {\n",
       "        vertical-align: top;\n",
       "    }\n",
       "\n",
       "    .dataframe thead th {\n",
       "        text-align: right;\n",
       "    }\n",
       "</style>\n",
       "<table border=\"1\" class=\"dataframe\">\n",
       "  <thead>\n",
       "    <tr style=\"text-align: right;\">\n",
       "      <th></th>\n",
       "      <th>backOffPolicy</th>\n",
       "      <th>ExponentialBackoff.minSpinCount</th>\n",
       "      <th>ExponentialBackoff.maxSpinCount</th>\n",
       "      <th>ExponentialBackoff.maxBackOffAttempts</th>\n",
       "      <th>ExponentialBackoff.shortBackOffMilliSeconds</th>\n",
       "      <th>ExponentialBackoff.longBackOffMilliSeconds</th>\n",
       "      <th>ExponentialBackoff.longBackOffWaitMilliSeconds</th>\n",
       "      <th>OptimisticBackoff.acquireSpinCount</th>\n",
       "    </tr>\n",
       "  </thead>\n",
       "  <tbody>\n",
       "    <tr>\n",
       "      <th>0</th>\n",
       "      <td>ExponentialBackOff</td>\n",
       "      <td>624011.0</td>\n",
       "      <td>185710.0</td>\n",
       "      <td>305820.0</td>\n",
       "      <td>14740.0</td>\n",
       "      <td>5001.0</td>\n",
       "      <td>15854.0</td>\n",
       "      <td>NaN</td>\n",
       "    </tr>\n",
       "    <tr>\n",
       "      <th>1</th>\n",
       "      <td>ExponentialBackOff</td>\n",
       "      <td>934135.0</td>\n",
       "      <td>11504.0</td>\n",
       "      <td>533069.0</td>\n",
       "      <td>18924.0</td>\n",
       "      <td>10606.0</td>\n",
       "      <td>26984.0</td>\n",
       "      <td>NaN</td>\n",
       "    </tr>\n",
       "    <tr>\n",
       "      <th>2</th>\n",
       "      <td>Optimistic</td>\n",
       "      <td>NaN</td>\n",
       "      <td>NaN</td>\n",
       "      <td>NaN</td>\n",
       "      <td>NaN</td>\n",
       "      <td>NaN</td>\n",
       "      <td>NaN</td>\n",
       "      <td>714496.0</td>\n",
       "    </tr>\n",
       "    <tr>\n",
       "      <th>3</th>\n",
       "      <td>Optimistic</td>\n",
       "      <td>NaN</td>\n",
       "      <td>NaN</td>\n",
       "      <td>NaN</td>\n",
       "      <td>NaN</td>\n",
       "      <td>NaN</td>\n",
       "      <td>NaN</td>\n",
       "      <td>595904.0</td>\n",
       "    </tr>\n",
       "    <tr>\n",
       "      <th>4</th>\n",
       "      <td>ExponentialBackOff</td>\n",
       "      <td>879032.0</td>\n",
       "      <td>510669.0</td>\n",
       "      <td>353036.0</td>\n",
       "      <td>24833.0</td>\n",
       "      <td>28065.0</td>\n",
       "      <td>29145.0</td>\n",
       "      <td>NaN</td>\n",
       "    </tr>\n",
       "    <tr>\n",
       "      <th>5</th>\n",
       "      <td>Optimistic</td>\n",
       "      <td>NaN</td>\n",
       "      <td>NaN</td>\n",
       "      <td>NaN</td>\n",
       "      <td>NaN</td>\n",
       "      <td>NaN</td>\n",
       "      <td>NaN</td>\n",
       "      <td>225831.0</td>\n",
       "    </tr>\n",
       "    <tr>\n",
       "      <th>6</th>\n",
       "      <td>ExponentialBackOff</td>\n",
       "      <td>313113.0</td>\n",
       "      <td>178714.0</td>\n",
       "      <td>676878.0</td>\n",
       "      <td>15046.0</td>\n",
       "      <td>228.0</td>\n",
       "      <td>22526.0</td>\n",
       "      <td>NaN</td>\n",
       "    </tr>\n",
       "    <tr>\n",
       "      <th>7</th>\n",
       "      <td>ExponentialBackOff</td>\n",
       "      <td>22722.0</td>\n",
       "      <td>809518.0</td>\n",
       "      <td>633316.0</td>\n",
       "      <td>10381.0</td>\n",
       "      <td>650.0</td>\n",
       "      <td>14089.0</td>\n",
       "      <td>NaN</td>\n",
       "    </tr>\n",
       "    <tr>\n",
       "      <th>8</th>\n",
       "      <td>ExponentialBackOff</td>\n",
       "      <td>426729.0</td>\n",
       "      <td>699243.0</td>\n",
       "      <td>396577.0</td>\n",
       "      <td>5198.0</td>\n",
       "      <td>28819.0</td>\n",
       "      <td>19322.0</td>\n",
       "      <td>NaN</td>\n",
       "    </tr>\n",
       "    <tr>\n",
       "      <th>9</th>\n",
       "      <td>ExponentialBackOff</td>\n",
       "      <td>322754.0</td>\n",
       "      <td>786872.0</td>\n",
       "      <td>607471.0</td>\n",
       "      <td>23484.0</td>\n",
       "      <td>18472.0</td>\n",
       "      <td>6063.0</td>\n",
       "      <td>NaN</td>\n",
       "    </tr>\n",
       "  </tbody>\n",
       "</table>\n",
       "</div>"
      ],
      "text/plain": [
       "        backOffPolicy  ExponentialBackoff.minSpinCount  \\\n",
       "0  ExponentialBackOff                         624011.0   \n",
       "1  ExponentialBackOff                         934135.0   \n",
       "2          Optimistic                              NaN   \n",
       "3          Optimistic                              NaN   \n",
       "4  ExponentialBackOff                         879032.0   \n",
       "5          Optimistic                              NaN   \n",
       "6  ExponentialBackOff                         313113.0   \n",
       "7  ExponentialBackOff                          22722.0   \n",
       "8  ExponentialBackOff                         426729.0   \n",
       "9  ExponentialBackOff                         322754.0   \n",
       "\n",
       "   ExponentialBackoff.maxSpinCount  ExponentialBackoff.maxBackOffAttempts  \\\n",
       "0                         185710.0                               305820.0   \n",
       "1                          11504.0                               533069.0   \n",
       "2                              NaN                                    NaN   \n",
       "3                              NaN                                    NaN   \n",
       "4                         510669.0                               353036.0   \n",
       "5                              NaN                                    NaN   \n",
       "6                         178714.0                               676878.0   \n",
       "7                         809518.0                               633316.0   \n",
       "8                         699243.0                               396577.0   \n",
       "9                         786872.0                               607471.0   \n",
       "\n",
       "   ExponentialBackoff.shortBackOffMilliSeconds  \\\n",
       "0                                      14740.0   \n",
       "1                                      18924.0   \n",
       "2                                          NaN   \n",
       "3                                          NaN   \n",
       "4                                      24833.0   \n",
       "5                                          NaN   \n",
       "6                                      15046.0   \n",
       "7                                      10381.0   \n",
       "8                                       5198.0   \n",
       "9                                      23484.0   \n",
       "\n",
       "   ExponentialBackoff.longBackOffMilliSeconds  \\\n",
       "0                                      5001.0   \n",
       "1                                     10606.0   \n",
       "2                                         NaN   \n",
       "3                                         NaN   \n",
       "4                                     28065.0   \n",
       "5                                         NaN   \n",
       "6                                       228.0   \n",
       "7                                       650.0   \n",
       "8                                     28819.0   \n",
       "9                                     18472.0   \n",
       "\n",
       "   ExponentialBackoff.longBackOffWaitMilliSeconds  \\\n",
       "0                                         15854.0   \n",
       "1                                         26984.0   \n",
       "2                                             NaN   \n",
       "3                                             NaN   \n",
       "4                                         29145.0   \n",
       "5                                             NaN   \n",
       "6                                         22526.0   \n",
       "7                                         14089.0   \n",
       "8                                         19322.0   \n",
       "9                                          6063.0   \n",
       "\n",
       "   OptimisticBackoff.acquireSpinCount  \n",
       "0                                 NaN  \n",
       "1                                 NaN  \n",
       "2                            714496.0  \n",
       "3                            595904.0  \n",
       "4                                 NaN  \n",
       "5                            225831.0  \n",
       "6                                 NaN  \n",
       "7                                 NaN  \n",
       "8                                 NaN  \n",
       "9                                 NaN  "
      ]
     },
     "execution_count": 52,
     "metadata": {},
     "output_type": "execute_result"
    }
   ],
   "source": [
    "hierarchical_spinlock_parameter_space.random_dataframe(num_samples=10)"
   ]
  },
  {
   "cell_type": "markdown",
   "metadata": {},
   "source": [
    "See all those NaN values? That's numpy's equivalent of a null (Not a Number). Now we are generating the data in a way that helps our models converge, rather than creating extra noise for them to sift through."
   ]
  },
  {
   "cell_type": "markdown",
   "metadata": {},
   "source": [
    "##### A note on distribution\n",
    "\n",
    "In a hierarchical hypergrid points are sampled uniformly across the root hypergrid. Then, we evaluate which of the subgrids were 'activated' and recursively repeat the procedure within them. This does not result in a uniform distribution throughout the entire space, but rather we uniformly sample from the available implementations, and for the selected implementation, we uniformly sample from its parameters.\n",
    "\n",
    "The effect of this scheme is that simpler implementations are explored more thoroughly. So in effect we reward simplicity. The uniform sampling across the entire space would favour complex subgrids with many parameters. Such spaces are larger, and thus to maintain uniformity we would have to sample from them more often.\n",
    "\n",
    "We realize that this default behavior will not suit every purpose, so down the road we will provide a way to control this behavior.\n",
    "\n",
    "Finally, all samples are still independent and identically distributed (i.i.d.). Just not uniformly."
   ]
  },
  {
   "cell_type": "markdown",
   "metadata": {},
   "source": [
    "#### Testing containment"
   ]
  },
  {
   "cell_type": "code",
   "execution_count": 53,
   "metadata": {},
   "outputs": [
    {
     "name": "stdout",
     "output_type": "stream",
     "text": [
      "{\n",
      "  \"backOffPolicy\": \"Optimistic\",\n",
      "  \"OptimisticBackoff.acquireSpinCount\": 752605\n",
      "}\n",
      "True\n"
     ]
    }
   ],
   "source": [
    "valid_point = hierarchical_spinlock_parameter_space.random()\n",
    "print(valid_point.to_json(indent=2))\n",
    "assert valid_point in hierarchical_spinlock_parameter_space \n",
    "print(valid_point in hierarchical_spinlock_parameter_space)"
   ]
  },
  {
   "cell_type": "code",
   "execution_count": 54,
   "metadata": {},
   "outputs": [
    {
     "name": "stdout",
     "output_type": "stream",
     "text": [
      "{\n",
      "  \"backOffPolicy\": \"Reluctant\",\n",
      "  \"OptimisticBackoff.acquireSpinCount\": 752605\n",
      "}\n",
      "False\n"
     ]
    }
   ],
   "source": [
    "invalid_point = valid_point.copy()\n",
    "invalid_point.backOffPolicy = \"Reluctant\"\n",
    "print(invalid_point.to_json(indent=2))\n",
    "assert invalid_point not in hierarchical_spinlock_parameter_space\n",
    "print(invalid_point in hierarchical_spinlock_parameter_space)"
   ]
  },
  {
   "cell_type": "markdown",
   "metadata": {},
   "source": [
    "#### Converting between a Point and a DataFrame\n",
    "Works mostly the same, but since a Point does not carry information about which Space it came from, it will produce a dense DataFrame with no NaNs and no columns for NaNs because all dimensions this Point is aware of are valid."
   ]
  },
  {
   "cell_type": "code",
   "execution_count": 55,
   "metadata": {},
   "outputs": [
    {
     "data": {
      "text/html": [
       "<div>\n",
       "<style scoped>\n",
       "    .dataframe tbody tr th:only-of-type {\n",
       "        vertical-align: middle;\n",
       "    }\n",
       "\n",
       "    .dataframe tbody tr th {\n",
       "        vertical-align: top;\n",
       "    }\n",
       "\n",
       "    .dataframe thead th {\n",
       "        text-align: right;\n",
       "    }\n",
       "</style>\n",
       "<table border=\"1\" class=\"dataframe\">\n",
       "  <thead>\n",
       "    <tr style=\"text-align: right;\">\n",
       "      <th></th>\n",
       "      <th>backOffPolicy</th>\n",
       "      <th>OptimisticBackoff.acquireSpinCount</th>\n",
       "    </tr>\n",
       "  </thead>\n",
       "  <tbody>\n",
       "    <tr>\n",
       "      <th>0</th>\n",
       "      <td>Optimistic</td>\n",
       "      <td>824423</td>\n",
       "    </tr>\n",
       "  </tbody>\n",
       "</table>\n",
       "</div>"
      ],
      "text/plain": [
       "  backOffPolicy  OptimisticBackoff.acquireSpinCount\n",
       "0    Optimistic                              824423"
      ]
     },
     "execution_count": 55,
     "metadata": {},
     "output_type": "execute_result"
    }
   ],
   "source": [
    "random_df = hierarchical_spinlock_parameter_space.random_dataframe(num_samples=1)\n",
    "random_df"
   ]
  },
  {
   "cell_type": "code",
   "execution_count": 56,
   "metadata": {},
   "outputs": [
    {
     "name": "stdout",
     "output_type": "stream",
     "text": [
      "{\n",
      "  \"backOffPolicy\": \"Optimistic\",\n",
      "  \"OptimisticBackoff.acquireSpinCount\": 824423\n",
      "}\n"
     ]
    }
   ],
   "source": [
    "yet_another_random_point = Point.from_dataframe(random_df)\n",
    "print(yet_another_random_point.to_json(indent=2))"
   ]
  },
  {
   "cell_type": "code",
   "execution_count": 57,
   "metadata": {},
   "outputs": [
    {
     "data": {
      "text/html": [
       "<div>\n",
       "<style scoped>\n",
       "    .dataframe tbody tr th:only-of-type {\n",
       "        vertical-align: middle;\n",
       "    }\n",
       "\n",
       "    .dataframe tbody tr th {\n",
       "        vertical-align: top;\n",
       "    }\n",
       "\n",
       "    .dataframe thead th {\n",
       "        text-align: right;\n",
       "    }\n",
       "</style>\n",
       "<table border=\"1\" class=\"dataframe\">\n",
       "  <thead>\n",
       "    <tr style=\"text-align: right;\">\n",
       "      <th></th>\n",
       "      <th>backOffPolicy</th>\n",
       "      <th>OptimisticBackoff.acquireSpinCount</th>\n",
       "    </tr>\n",
       "  </thead>\n",
       "  <tbody>\n",
       "    <tr>\n",
       "      <th>0</th>\n",
       "      <td>Optimistic</td>\n",
       "      <td>752605</td>\n",
       "    </tr>\n",
       "  </tbody>\n",
       "</table>\n",
       "</div>"
      ],
      "text/plain": [
       "  backOffPolicy  OptimisticBackoff.acquireSpinCount\n",
       "0    Optimistic                              752605"
      ]
     },
     "execution_count": 57,
     "metadata": {},
     "output_type": "execute_result"
    }
   ],
   "source": [
    "valid_point_df = valid_point.to_dataframe()\n",
    "valid_point_df"
   ]
  },
  {
   "cell_type": "markdown",
   "metadata": {},
   "source": [
    "#### Comparison between points works as before"
   ]
  },
  {
   "cell_type": "code",
   "execution_count": 58,
   "metadata": {},
   "outputs": [],
   "source": [
    "reconstructed_valid_point = Point.from_dataframe(valid_point_df)\n",
    "assert valid_point == reconstructed_valid_point"
   ]
  },
  {
   "cell_type": "code",
   "execution_count": 59,
   "metadata": {},
   "outputs": [],
   "source": [
    "assert valid_point != yet_another_random_point"
   ]
  },
  {
   "cell_type": "markdown",
   "metadata": {},
   "source": [
    "## HypergridAdapters\n",
    "\n",
    "Bijective (most often) functions used to preprocess the data before passing it on to the next component in the pipeline.\n",
    "\n",
    "### The need for HypergridAdapters\n",
    "\n",
    "#### Intended audience\n",
    "This section is indented primarily for the consumption by developers contributing to the Optimizer. HypergridAdapters remain an internal mechanism to provide combatility between components and thus a user of the Optimizer does not need to know their mechanics in detail.\n",
    "\n",
    "#### What we want the user experience to be?\n",
    "We want to allow the users to specify the configuration space in terms closely matching how the parameters are used. So we want the users to be able to use integers, floats, strings and even booleans to define the legal values for the parameters. We further want to allow them to encode the semantic relationships between parameters by grouping them into subgrids within a hierarchical hypergrid. \n",
    "\n",
    "#### What the optimzier can operate on?\n",
    "None of our models and only half of our utility function optimizers can operate on such complicated domains. Decision Trees need flat searchspaces with only numerical dimensions. Lasso regression, ridge regression, and RERF are similar. Glowworm swarm optimization goes further and only admits a search space where all dimensions are scaled to between 0 and 1. \n",
    "\n",
    "#### Bridging the gap\n",
    "So we need a way to project what the user specifies (and thus all of the incoming data) to values consumable by the models. We further need to be able to project back and forth between the respective spaces of the utility function optimizers, utility functions, and the surrogate models. Hypergrid adapters are the solution we propose.\n",
    "\n",
    "The inspiration and terminology are borrowed from The Gang of Four \"Design Patterns: Elements of Reusable Object-Oriented Software\". There an adapter is a structural pattern described to:\n",
    "    \n",
    "    Convert the interface of a class into another interface clients expect. Adapter lets classes work together that couldn't otherwise because of incompatible interfaces.\n",
    "    \n",
    "\n",
    "##### Stackable\n",
    "If the parameter space specified in the optimization problem is hierarchical and has categorical dimensions, and if we want to use the glowworm swarm optimizer, we can stack several adapters to perform the required projection. The implementation makes it seamless and in this particular example almost trivial. We will take a look on how we can convert the smart spinlocks parameter space to be unit-continuous below.\n",
    "\n",
    "##### Invertible\n",
    "Almost all of the functions embedded inside of Adapters have to be bijective to be invertible. That is if we project a point P from space S, to a point P' in a space S': \n",
    "```python\n",
    "p_prime = hypergrid_adapter.project_point(p)\n",
    "```\n",
    "We must also be able to perform the inverse of that projection:\n",
    "\n",
    "```python\n",
    "p = hypergrid_adapter.unproject_point(p_prime)\n",
    "```\n",
    "\n",
    "This is crucial if we want to be able to translate back to the user, what the optimizer came up with.\n",
    "\n",
    "<b>One notable exception is dimensionality reduction </b> - for example principal component analysis, which is in general not invertible. In such cases, the Adapter's author must maintain a slightly weaker property: an ability to project-back any point it projected forward. Should be easy enough."
   ]
  },
  {
   "cell_type": "markdown",
   "metadata": {},
   "source": [
    "#### Let's take a look at how adapters work in practice\n",
    "\n",
    "Firs we will convert the spinlocks search space step-by-step, and then we'll explore a convenient shortcut."
   ]
  },
  {
   "cell_type": "markdown",
   "metadata": {},
   "source": [
    "##### The long way"
   ]
  },
  {
   "cell_type": "code",
   "execution_count": 60,
   "metadata": {},
   "outputs": [
    {
     "data": {
      "text/html": [
       "<div>\n",
       "<style scoped>\n",
       "    .dataframe tbody tr th:only-of-type {\n",
       "        vertical-align: middle;\n",
       "    }\n",
       "\n",
       "    .dataframe tbody tr th {\n",
       "        vertical-align: top;\n",
       "    }\n",
       "\n",
       "    .dataframe thead th {\n",
       "        text-align: right;\n",
       "    }\n",
       "</style>\n",
       "<table border=\"1\" class=\"dataframe\">\n",
       "  <thead>\n",
       "    <tr style=\"text-align: right;\">\n",
       "      <th></th>\n",
       "      <th>backOffPolicy</th>\n",
       "      <th>OptimisticBackoff.acquireSpinCount</th>\n",
       "      <th>ExponentialBackoff.minSpinCount</th>\n",
       "      <th>ExponentialBackoff.maxSpinCount</th>\n",
       "      <th>ExponentialBackoff.maxBackOffAttempts</th>\n",
       "      <th>ExponentialBackoff.shortBackOffMilliSeconds</th>\n",
       "      <th>ExponentialBackoff.longBackOffMilliSeconds</th>\n",
       "      <th>ExponentialBackoff.longBackOffWaitMilliSeconds</th>\n",
       "    </tr>\n",
       "  </thead>\n",
       "  <tbody>\n",
       "    <tr>\n",
       "      <th>0</th>\n",
       "      <td>Optimistic</td>\n",
       "      <td>50899.0</td>\n",
       "      <td>NaN</td>\n",
       "      <td>NaN</td>\n",
       "      <td>NaN</td>\n",
       "      <td>NaN</td>\n",
       "      <td>NaN</td>\n",
       "      <td>NaN</td>\n",
       "    </tr>\n",
       "    <tr>\n",
       "      <th>1</th>\n",
       "      <td>ExponentialBackOff</td>\n",
       "      <td>NaN</td>\n",
       "      <td>159675.0</td>\n",
       "      <td>788976.0</td>\n",
       "      <td>460130.0</td>\n",
       "      <td>26737.0</td>\n",
       "      <td>10746.0</td>\n",
       "      <td>24550.0</td>\n",
       "    </tr>\n",
       "    <tr>\n",
       "      <th>2</th>\n",
       "      <td>ExponentialBackOff</td>\n",
       "      <td>NaN</td>\n",
       "      <td>219857.0</td>\n",
       "      <td>299668.0</td>\n",
       "      <td>371043.0</td>\n",
       "      <td>5669.0</td>\n",
       "      <td>6509.0</td>\n",
       "      <td>3354.0</td>\n",
       "    </tr>\n",
       "    <tr>\n",
       "      <th>3</th>\n",
       "      <td>Optimistic</td>\n",
       "      <td>640614.0</td>\n",
       "      <td>NaN</td>\n",
       "      <td>NaN</td>\n",
       "      <td>NaN</td>\n",
       "      <td>NaN</td>\n",
       "      <td>NaN</td>\n",
       "      <td>NaN</td>\n",
       "    </tr>\n",
       "    <tr>\n",
       "      <th>4</th>\n",
       "      <td>ExponentialBackOff</td>\n",
       "      <td>NaN</td>\n",
       "      <td>295086.0</td>\n",
       "      <td>435846.0</td>\n",
       "      <td>526756.0</td>\n",
       "      <td>9460.0</td>\n",
       "      <td>2160.0</td>\n",
       "      <td>15894.0</td>\n",
       "    </tr>\n",
       "    <tr>\n",
       "      <th>5</th>\n",
       "      <td>Optimistic</td>\n",
       "      <td>877218.0</td>\n",
       "      <td>NaN</td>\n",
       "      <td>NaN</td>\n",
       "      <td>NaN</td>\n",
       "      <td>NaN</td>\n",
       "      <td>NaN</td>\n",
       "      <td>NaN</td>\n",
       "    </tr>\n",
       "    <tr>\n",
       "      <th>6</th>\n",
       "      <td>ExponentialBackOff</td>\n",
       "      <td>NaN</td>\n",
       "      <td>1038387.0</td>\n",
       "      <td>547279.0</td>\n",
       "      <td>347076.0</td>\n",
       "      <td>21026.0</td>\n",
       "      <td>24446.0</td>\n",
       "      <td>13138.0</td>\n",
       "    </tr>\n",
       "    <tr>\n",
       "      <th>7</th>\n",
       "      <td>ExponentialBackOff</td>\n",
       "      <td>NaN</td>\n",
       "      <td>433866.0</td>\n",
       "      <td>201209.0</td>\n",
       "      <td>101617.0</td>\n",
       "      <td>8295.0</td>\n",
       "      <td>19924.0</td>\n",
       "      <td>9723.0</td>\n",
       "    </tr>\n",
       "    <tr>\n",
       "      <th>8</th>\n",
       "      <td>Optimistic</td>\n",
       "      <td>990528.0</td>\n",
       "      <td>NaN</td>\n",
       "      <td>NaN</td>\n",
       "      <td>NaN</td>\n",
       "      <td>NaN</td>\n",
       "      <td>NaN</td>\n",
       "      <td>NaN</td>\n",
       "    </tr>\n",
       "    <tr>\n",
       "      <th>9</th>\n",
       "      <td>Optimistic</td>\n",
       "      <td>32715.0</td>\n",
       "      <td>NaN</td>\n",
       "      <td>NaN</td>\n",
       "      <td>NaN</td>\n",
       "      <td>NaN</td>\n",
       "      <td>NaN</td>\n",
       "      <td>NaN</td>\n",
       "    </tr>\n",
       "  </tbody>\n",
       "</table>\n",
       "</div>"
      ],
      "text/plain": [
       "        backOffPolicy  OptimisticBackoff.acquireSpinCount  \\\n",
       "0          Optimistic                             50899.0   \n",
       "1  ExponentialBackOff                                 NaN   \n",
       "2  ExponentialBackOff                                 NaN   \n",
       "3          Optimistic                            640614.0   \n",
       "4  ExponentialBackOff                                 NaN   \n",
       "5          Optimistic                            877218.0   \n",
       "6  ExponentialBackOff                                 NaN   \n",
       "7  ExponentialBackOff                                 NaN   \n",
       "8          Optimistic                            990528.0   \n",
       "9          Optimistic                             32715.0   \n",
       "\n",
       "   ExponentialBackoff.minSpinCount  ExponentialBackoff.maxSpinCount  \\\n",
       "0                              NaN                              NaN   \n",
       "1                         159675.0                         788976.0   \n",
       "2                         219857.0                         299668.0   \n",
       "3                              NaN                              NaN   \n",
       "4                         295086.0                         435846.0   \n",
       "5                              NaN                              NaN   \n",
       "6                        1038387.0                         547279.0   \n",
       "7                         433866.0                         201209.0   \n",
       "8                              NaN                              NaN   \n",
       "9                              NaN                              NaN   \n",
       "\n",
       "   ExponentialBackoff.maxBackOffAttempts  \\\n",
       "0                                    NaN   \n",
       "1                               460130.0   \n",
       "2                               371043.0   \n",
       "3                                    NaN   \n",
       "4                               526756.0   \n",
       "5                                    NaN   \n",
       "6                               347076.0   \n",
       "7                               101617.0   \n",
       "8                                    NaN   \n",
       "9                                    NaN   \n",
       "\n",
       "   ExponentialBackoff.shortBackOffMilliSeconds  \\\n",
       "0                                          NaN   \n",
       "1                                      26737.0   \n",
       "2                                       5669.0   \n",
       "3                                          NaN   \n",
       "4                                       9460.0   \n",
       "5                                          NaN   \n",
       "6                                      21026.0   \n",
       "7                                       8295.0   \n",
       "8                                          NaN   \n",
       "9                                          NaN   \n",
       "\n",
       "   ExponentialBackoff.longBackOffMilliSeconds  \\\n",
       "0                                         NaN   \n",
       "1                                     10746.0   \n",
       "2                                      6509.0   \n",
       "3                                         NaN   \n",
       "4                                      2160.0   \n",
       "5                                         NaN   \n",
       "6                                     24446.0   \n",
       "7                                     19924.0   \n",
       "8                                         NaN   \n",
       "9                                         NaN   \n",
       "\n",
       "   ExponentialBackoff.longBackOffWaitMilliSeconds  \n",
       "0                                             NaN  \n",
       "1                                         24550.0  \n",
       "2                                          3354.0  \n",
       "3                                             NaN  \n",
       "4                                         15894.0  \n",
       "5                                             NaN  \n",
       "6                                         13138.0  \n",
       "7                                          9723.0  \n",
       "8                                             NaN  \n",
       "9                                             NaN  "
      ]
     },
     "execution_count": 60,
     "metadata": {},
     "output_type": "execute_result"
    }
   ],
   "source": [
    "from mlos.Spaces.HypergridAdapters import CategoricalToDiscreteHypergridAdapter, DiscreteToUnitContinuousHypergridAdapter, HierarchicalToFlatHypergridAdapter\n",
    "\n",
    "original_space = hierarchical_spinlock_parameter_space\n",
    "original_df = original_space.random_dataframe(num_samples=10)\n",
    "original_df"
   ]
  },
  {
   "cell_type": "code",
   "execution_count": 61,
   "metadata": {},
   "outputs": [
    {
     "data": {
      "text/html": [
       "<div>\n",
       "<style scoped>\n",
       "    .dataframe tbody tr th:only-of-type {\n",
       "        vertical-align: middle;\n",
       "    }\n",
       "\n",
       "    .dataframe tbody tr th {\n",
       "        vertical-align: top;\n",
       "    }\n",
       "\n",
       "    .dataframe thead th {\n",
       "        text-align: right;\n",
       "    }\n",
       "</style>\n",
       "<table border=\"1\" class=\"dataframe\">\n",
       "  <thead>\n",
       "    <tr style=\"text-align: right;\">\n",
       "      <th></th>\n",
       "      <th>backOffPolicy</th>\n",
       "      <th>OptimisticBackoff___acquireSpinCount</th>\n",
       "      <th>ExponentialBackoff___minSpinCount</th>\n",
       "      <th>ExponentialBackoff___maxSpinCount</th>\n",
       "      <th>ExponentialBackoff___maxBackOffAttempts</th>\n",
       "      <th>ExponentialBackoff___shortBackOffMilliSeconds</th>\n",
       "      <th>ExponentialBackoff___longBackOffMilliSeconds</th>\n",
       "      <th>ExponentialBackoff___longBackOffWaitMilliSeconds</th>\n",
       "    </tr>\n",
       "  </thead>\n",
       "  <tbody>\n",
       "    <tr>\n",
       "      <th>0</th>\n",
       "      <td>Optimistic</td>\n",
       "      <td>50899.0</td>\n",
       "      <td>NaN</td>\n",
       "      <td>NaN</td>\n",
       "      <td>NaN</td>\n",
       "      <td>NaN</td>\n",
       "      <td>NaN</td>\n",
       "      <td>NaN</td>\n",
       "    </tr>\n",
       "    <tr>\n",
       "      <th>1</th>\n",
       "      <td>ExponentialBackOff</td>\n",
       "      <td>NaN</td>\n",
       "      <td>159675.0</td>\n",
       "      <td>788976.0</td>\n",
       "      <td>460130.0</td>\n",
       "      <td>26737.0</td>\n",
       "      <td>10746.0</td>\n",
       "      <td>24550.0</td>\n",
       "    </tr>\n",
       "    <tr>\n",
       "      <th>2</th>\n",
       "      <td>ExponentialBackOff</td>\n",
       "      <td>NaN</td>\n",
       "      <td>219857.0</td>\n",
       "      <td>299668.0</td>\n",
       "      <td>371043.0</td>\n",
       "      <td>5669.0</td>\n",
       "      <td>6509.0</td>\n",
       "      <td>3354.0</td>\n",
       "    </tr>\n",
       "    <tr>\n",
       "      <th>3</th>\n",
       "      <td>Optimistic</td>\n",
       "      <td>640614.0</td>\n",
       "      <td>NaN</td>\n",
       "      <td>NaN</td>\n",
       "      <td>NaN</td>\n",
       "      <td>NaN</td>\n",
       "      <td>NaN</td>\n",
       "      <td>NaN</td>\n",
       "    </tr>\n",
       "    <tr>\n",
       "      <th>4</th>\n",
       "      <td>ExponentialBackOff</td>\n",
       "      <td>NaN</td>\n",
       "      <td>295086.0</td>\n",
       "      <td>435846.0</td>\n",
       "      <td>526756.0</td>\n",
       "      <td>9460.0</td>\n",
       "      <td>2160.0</td>\n",
       "      <td>15894.0</td>\n",
       "    </tr>\n",
       "    <tr>\n",
       "      <th>5</th>\n",
       "      <td>Optimistic</td>\n",
       "      <td>877218.0</td>\n",
       "      <td>NaN</td>\n",
       "      <td>NaN</td>\n",
       "      <td>NaN</td>\n",
       "      <td>NaN</td>\n",
       "      <td>NaN</td>\n",
       "      <td>NaN</td>\n",
       "    </tr>\n",
       "    <tr>\n",
       "      <th>6</th>\n",
       "      <td>ExponentialBackOff</td>\n",
       "      <td>NaN</td>\n",
       "      <td>1038387.0</td>\n",
       "      <td>547279.0</td>\n",
       "      <td>347076.0</td>\n",
       "      <td>21026.0</td>\n",
       "      <td>24446.0</td>\n",
       "      <td>13138.0</td>\n",
       "    </tr>\n",
       "    <tr>\n",
       "      <th>7</th>\n",
       "      <td>ExponentialBackOff</td>\n",
       "      <td>NaN</td>\n",
       "      <td>433866.0</td>\n",
       "      <td>201209.0</td>\n",
       "      <td>101617.0</td>\n",
       "      <td>8295.0</td>\n",
       "      <td>19924.0</td>\n",
       "      <td>9723.0</td>\n",
       "    </tr>\n",
       "    <tr>\n",
       "      <th>8</th>\n",
       "      <td>Optimistic</td>\n",
       "      <td>990528.0</td>\n",
       "      <td>NaN</td>\n",
       "      <td>NaN</td>\n",
       "      <td>NaN</td>\n",
       "      <td>NaN</td>\n",
       "      <td>NaN</td>\n",
       "      <td>NaN</td>\n",
       "    </tr>\n",
       "    <tr>\n",
       "      <th>9</th>\n",
       "      <td>Optimistic</td>\n",
       "      <td>32715.0</td>\n",
       "      <td>NaN</td>\n",
       "      <td>NaN</td>\n",
       "      <td>NaN</td>\n",
       "      <td>NaN</td>\n",
       "      <td>NaN</td>\n",
       "      <td>NaN</td>\n",
       "    </tr>\n",
       "  </tbody>\n",
       "</table>\n",
       "</div>"
      ],
      "text/plain": [
       "        backOffPolicy  OptimisticBackoff___acquireSpinCount  \\\n",
       "0          Optimistic                               50899.0   \n",
       "1  ExponentialBackOff                                   NaN   \n",
       "2  ExponentialBackOff                                   NaN   \n",
       "3          Optimistic                              640614.0   \n",
       "4  ExponentialBackOff                                   NaN   \n",
       "5          Optimistic                              877218.0   \n",
       "6  ExponentialBackOff                                   NaN   \n",
       "7  ExponentialBackOff                                   NaN   \n",
       "8          Optimistic                              990528.0   \n",
       "9          Optimistic                               32715.0   \n",
       "\n",
       "   ExponentialBackoff___minSpinCount  ExponentialBackoff___maxSpinCount  \\\n",
       "0                                NaN                                NaN   \n",
       "1                           159675.0                           788976.0   \n",
       "2                           219857.0                           299668.0   \n",
       "3                                NaN                                NaN   \n",
       "4                           295086.0                           435846.0   \n",
       "5                                NaN                                NaN   \n",
       "6                          1038387.0                           547279.0   \n",
       "7                           433866.0                           201209.0   \n",
       "8                                NaN                                NaN   \n",
       "9                                NaN                                NaN   \n",
       "\n",
       "   ExponentialBackoff___maxBackOffAttempts  \\\n",
       "0                                      NaN   \n",
       "1                                 460130.0   \n",
       "2                                 371043.0   \n",
       "3                                      NaN   \n",
       "4                                 526756.0   \n",
       "5                                      NaN   \n",
       "6                                 347076.0   \n",
       "7                                 101617.0   \n",
       "8                                      NaN   \n",
       "9                                      NaN   \n",
       "\n",
       "   ExponentialBackoff___shortBackOffMilliSeconds  \\\n",
       "0                                            NaN   \n",
       "1                                        26737.0   \n",
       "2                                         5669.0   \n",
       "3                                            NaN   \n",
       "4                                         9460.0   \n",
       "5                                            NaN   \n",
       "6                                        21026.0   \n",
       "7                                         8295.0   \n",
       "8                                            NaN   \n",
       "9                                            NaN   \n",
       "\n",
       "   ExponentialBackoff___longBackOffMilliSeconds  \\\n",
       "0                                           NaN   \n",
       "1                                       10746.0   \n",
       "2                                        6509.0   \n",
       "3                                           NaN   \n",
       "4                                        2160.0   \n",
       "5                                           NaN   \n",
       "6                                       24446.0   \n",
       "7                                       19924.0   \n",
       "8                                           NaN   \n",
       "9                                           NaN   \n",
       "\n",
       "   ExponentialBackoff___longBackOffWaitMilliSeconds  \n",
       "0                                               NaN  \n",
       "1                                           24550.0  \n",
       "2                                            3354.0  \n",
       "3                                               NaN  \n",
       "4                                           15894.0  \n",
       "5                                               NaN  \n",
       "6                                           13138.0  \n",
       "7                                            9723.0  \n",
       "8                                               NaN  \n",
       "9                                               NaN  "
      ]
     },
     "execution_count": 61,
     "metadata": {},
     "output_type": "execute_result"
    }
   ],
   "source": [
    "flattening_adapter = HierarchicalToFlatHypergridAdapter(adaptee=original_space)\n",
    "flattening_adapter.project_dataframe(original_df, in_place=False)"
   ]
  },
  {
   "cell_type": "markdown",
   "metadata": {},
   "source": [
    "The only difference is that the column names have been changed to no longer contain dots ('.')."
   ]
  },
  {
   "cell_type": "code",
   "execution_count": 62,
   "metadata": {},
   "outputs": [
    {
     "data": {
      "text/html": [
       "<div>\n",
       "<style scoped>\n",
       "    .dataframe tbody tr th:only-of-type {\n",
       "        vertical-align: middle;\n",
       "    }\n",
       "\n",
       "    .dataframe tbody tr th {\n",
       "        vertical-align: top;\n",
       "    }\n",
       "\n",
       "    .dataframe thead th {\n",
       "        text-align: right;\n",
       "    }\n",
       "</style>\n",
       "<table border=\"1\" class=\"dataframe\">\n",
       "  <thead>\n",
       "    <tr style=\"text-align: right;\">\n",
       "      <th></th>\n",
       "      <th>backOffPolicy</th>\n",
       "      <th>OptimisticBackoff___acquireSpinCount</th>\n",
       "      <th>ExponentialBackoff___minSpinCount</th>\n",
       "      <th>ExponentialBackoff___maxSpinCount</th>\n",
       "      <th>ExponentialBackoff___maxBackOffAttempts</th>\n",
       "      <th>ExponentialBackoff___shortBackOffMilliSeconds</th>\n",
       "      <th>ExponentialBackoff___longBackOffMilliSeconds</th>\n",
       "      <th>ExponentialBackoff___longBackOffWaitMilliSeconds</th>\n",
       "    </tr>\n",
       "  </thead>\n",
       "  <tbody>\n",
       "    <tr>\n",
       "      <th>0</th>\n",
       "      <td>0</td>\n",
       "      <td>50899.0</td>\n",
       "      <td>NaN</td>\n",
       "      <td>NaN</td>\n",
       "      <td>NaN</td>\n",
       "      <td>NaN</td>\n",
       "      <td>NaN</td>\n",
       "      <td>NaN</td>\n",
       "    </tr>\n",
       "    <tr>\n",
       "      <th>1</th>\n",
       "      <td>1</td>\n",
       "      <td>NaN</td>\n",
       "      <td>159675.0</td>\n",
       "      <td>788976.0</td>\n",
       "      <td>460130.0</td>\n",
       "      <td>26737.0</td>\n",
       "      <td>10746.0</td>\n",
       "      <td>24550.0</td>\n",
       "    </tr>\n",
       "    <tr>\n",
       "      <th>2</th>\n",
       "      <td>1</td>\n",
       "      <td>NaN</td>\n",
       "      <td>219857.0</td>\n",
       "      <td>299668.0</td>\n",
       "      <td>371043.0</td>\n",
       "      <td>5669.0</td>\n",
       "      <td>6509.0</td>\n",
       "      <td>3354.0</td>\n",
       "    </tr>\n",
       "    <tr>\n",
       "      <th>3</th>\n",
       "      <td>0</td>\n",
       "      <td>640614.0</td>\n",
       "      <td>NaN</td>\n",
       "      <td>NaN</td>\n",
       "      <td>NaN</td>\n",
       "      <td>NaN</td>\n",
       "      <td>NaN</td>\n",
       "      <td>NaN</td>\n",
       "    </tr>\n",
       "    <tr>\n",
       "      <th>4</th>\n",
       "      <td>1</td>\n",
       "      <td>NaN</td>\n",
       "      <td>295086.0</td>\n",
       "      <td>435846.0</td>\n",
       "      <td>526756.0</td>\n",
       "      <td>9460.0</td>\n",
       "      <td>2160.0</td>\n",
       "      <td>15894.0</td>\n",
       "    </tr>\n",
       "    <tr>\n",
       "      <th>5</th>\n",
       "      <td>0</td>\n",
       "      <td>877218.0</td>\n",
       "      <td>NaN</td>\n",
       "      <td>NaN</td>\n",
       "      <td>NaN</td>\n",
       "      <td>NaN</td>\n",
       "      <td>NaN</td>\n",
       "      <td>NaN</td>\n",
       "    </tr>\n",
       "    <tr>\n",
       "      <th>6</th>\n",
       "      <td>1</td>\n",
       "      <td>NaN</td>\n",
       "      <td>1038387.0</td>\n",
       "      <td>547279.0</td>\n",
       "      <td>347076.0</td>\n",
       "      <td>21026.0</td>\n",
       "      <td>24446.0</td>\n",
       "      <td>13138.0</td>\n",
       "    </tr>\n",
       "    <tr>\n",
       "      <th>7</th>\n",
       "      <td>1</td>\n",
       "      <td>NaN</td>\n",
       "      <td>433866.0</td>\n",
       "      <td>201209.0</td>\n",
       "      <td>101617.0</td>\n",
       "      <td>8295.0</td>\n",
       "      <td>19924.0</td>\n",
       "      <td>9723.0</td>\n",
       "    </tr>\n",
       "    <tr>\n",
       "      <th>8</th>\n",
       "      <td>0</td>\n",
       "      <td>990528.0</td>\n",
       "      <td>NaN</td>\n",
       "      <td>NaN</td>\n",
       "      <td>NaN</td>\n",
       "      <td>NaN</td>\n",
       "      <td>NaN</td>\n",
       "      <td>NaN</td>\n",
       "    </tr>\n",
       "    <tr>\n",
       "      <th>9</th>\n",
       "      <td>0</td>\n",
       "      <td>32715.0</td>\n",
       "      <td>NaN</td>\n",
       "      <td>NaN</td>\n",
       "      <td>NaN</td>\n",
       "      <td>NaN</td>\n",
       "      <td>NaN</td>\n",
       "      <td>NaN</td>\n",
       "    </tr>\n",
       "  </tbody>\n",
       "</table>\n",
       "</div>"
      ],
      "text/plain": [
       "   backOffPolicy  OptimisticBackoff___acquireSpinCount  \\\n",
       "0              0                               50899.0   \n",
       "1              1                                   NaN   \n",
       "2              1                                   NaN   \n",
       "3              0                              640614.0   \n",
       "4              1                                   NaN   \n",
       "5              0                              877218.0   \n",
       "6              1                                   NaN   \n",
       "7              1                                   NaN   \n",
       "8              0                              990528.0   \n",
       "9              0                               32715.0   \n",
       "\n",
       "   ExponentialBackoff___minSpinCount  ExponentialBackoff___maxSpinCount  \\\n",
       "0                                NaN                                NaN   \n",
       "1                           159675.0                           788976.0   \n",
       "2                           219857.0                           299668.0   \n",
       "3                                NaN                                NaN   \n",
       "4                           295086.0                           435846.0   \n",
       "5                                NaN                                NaN   \n",
       "6                          1038387.0                           547279.0   \n",
       "7                           433866.0                           201209.0   \n",
       "8                                NaN                                NaN   \n",
       "9                                NaN                                NaN   \n",
       "\n",
       "   ExponentialBackoff___maxBackOffAttempts  \\\n",
       "0                                      NaN   \n",
       "1                                 460130.0   \n",
       "2                                 371043.0   \n",
       "3                                      NaN   \n",
       "4                                 526756.0   \n",
       "5                                      NaN   \n",
       "6                                 347076.0   \n",
       "7                                 101617.0   \n",
       "8                                      NaN   \n",
       "9                                      NaN   \n",
       "\n",
       "   ExponentialBackoff___shortBackOffMilliSeconds  \\\n",
       "0                                            NaN   \n",
       "1                                        26737.0   \n",
       "2                                         5669.0   \n",
       "3                                            NaN   \n",
       "4                                         9460.0   \n",
       "5                                            NaN   \n",
       "6                                        21026.0   \n",
       "7                                         8295.0   \n",
       "8                                            NaN   \n",
       "9                                            NaN   \n",
       "\n",
       "   ExponentialBackoff___longBackOffMilliSeconds  \\\n",
       "0                                           NaN   \n",
       "1                                       10746.0   \n",
       "2                                        6509.0   \n",
       "3                                           NaN   \n",
       "4                                        2160.0   \n",
       "5                                           NaN   \n",
       "6                                       24446.0   \n",
       "7                                       19924.0   \n",
       "8                                           NaN   \n",
       "9                                           NaN   \n",
       "\n",
       "   ExponentialBackoff___longBackOffWaitMilliSeconds  \n",
       "0                                               NaN  \n",
       "1                                           24550.0  \n",
       "2                                            3354.0  \n",
       "3                                               NaN  \n",
       "4                                           15894.0  \n",
       "5                                               NaN  \n",
       "6                                           13138.0  \n",
       "7                                            9723.0  \n",
       "8                                               NaN  \n",
       "9                                               NaN  "
      ]
     },
     "execution_count": 62,
     "metadata": {},
     "output_type": "execute_result"
    }
   ],
   "source": [
    "categorical_to_discrete_adapter = CategoricalToDiscreteHypergridAdapter(adaptee=flattening_adapter)\n",
    "categorical_to_discrete_adapter.project_dataframe(original_df, in_place=False)"
   ]
  },
  {
   "cell_type": "markdown",
   "metadata": {},
   "source": [
    "Now each categorical value in each categorical dimension was assigned an integer. The alternative here would be to use one-hot-encoding, and the implementation of such an adapter is left as an exercise for the reader."
   ]
  },
  {
   "cell_type": "code",
   "execution_count": 63,
   "metadata": {},
   "outputs": [
    {
     "data": {
      "text/html": [
       "<div>\n",
       "<style scoped>\n",
       "    .dataframe tbody tr th:only-of-type {\n",
       "        vertical-align: middle;\n",
       "    }\n",
       "\n",
       "    .dataframe tbody tr th {\n",
       "        vertical-align: top;\n",
       "    }\n",
       "\n",
       "    .dataframe thead th {\n",
       "        text-align: right;\n",
       "    }\n",
       "</style>\n",
       "<table border=\"1\" class=\"dataframe\">\n",
       "  <thead>\n",
       "    <tr style=\"text-align: right;\">\n",
       "      <th></th>\n",
       "      <th>backOffPolicy</th>\n",
       "      <th>OptimisticBackoff___acquireSpinCount</th>\n",
       "      <th>ExponentialBackoff___minSpinCount</th>\n",
       "      <th>ExponentialBackoff___maxSpinCount</th>\n",
       "      <th>ExponentialBackoff___maxBackOffAttempts</th>\n",
       "      <th>ExponentialBackoff___shortBackOffMilliSeconds</th>\n",
       "      <th>ExponentialBackoff___longBackOffMilliSeconds</th>\n",
       "      <th>ExponentialBackoff___longBackOffWaitMilliSeconds</th>\n",
       "    </tr>\n",
       "  </thead>\n",
       "  <tbody>\n",
       "    <tr>\n",
       "      <th>0</th>\n",
       "      <td>0.0</td>\n",
       "      <td>0.048540</td>\n",
       "      <td>NaN</td>\n",
       "      <td>NaN</td>\n",
       "      <td>NaN</td>\n",
       "      <td>NaN</td>\n",
       "      <td>NaN</td>\n",
       "      <td>NaN</td>\n",
       "    </tr>\n",
       "    <tr>\n",
       "      <th>1</th>\n",
       "      <td>0.5</td>\n",
       "      <td>NaN</td>\n",
       "      <td>0.152277</td>\n",
       "      <td>0.752425</td>\n",
       "      <td>0.438813</td>\n",
       "      <td>0.815918</td>\n",
       "      <td>0.327911</td>\n",
       "      <td>0.749176</td>\n",
       "    </tr>\n",
       "    <tr>\n",
       "      <th>2</th>\n",
       "      <td>0.5</td>\n",
       "      <td>NaN</td>\n",
       "      <td>0.209671</td>\n",
       "      <td>0.285785</td>\n",
       "      <td>0.353853</td>\n",
       "      <td>0.172974</td>\n",
       "      <td>0.198608</td>\n",
       "      <td>0.102325</td>\n",
       "    </tr>\n",
       "    <tr>\n",
       "      <th>3</th>\n",
       "      <td>0.0</td>\n",
       "      <td>0.610936</td>\n",
       "      <td>NaN</td>\n",
       "      <td>NaN</td>\n",
       "      <td>NaN</td>\n",
       "      <td>NaN</td>\n",
       "      <td>NaN</td>\n",
       "      <td>NaN</td>\n",
       "    </tr>\n",
       "    <tr>\n",
       "      <th>4</th>\n",
       "      <td>0.5</td>\n",
       "      <td>NaN</td>\n",
       "      <td>0.281415</td>\n",
       "      <td>0.415654</td>\n",
       "      <td>0.502353</td>\n",
       "      <td>0.288666</td>\n",
       "      <td>0.065887</td>\n",
       "      <td>0.485016</td>\n",
       "    </tr>\n",
       "    <tr>\n",
       "      <th>5</th>\n",
       "      <td>0.0</td>\n",
       "      <td>0.836579</td>\n",
       "      <td>NaN</td>\n",
       "      <td>NaN</td>\n",
       "      <td>NaN</td>\n",
       "      <td>NaN</td>\n",
       "      <td>NaN</td>\n",
       "      <td>NaN</td>\n",
       "    </tr>\n",
       "    <tr>\n",
       "      <th>6</th>\n",
       "      <td>0.5</td>\n",
       "      <td>NaN</td>\n",
       "      <td>0.990282</td>\n",
       "      <td>0.521925</td>\n",
       "      <td>0.330997</td>\n",
       "      <td>0.641632</td>\n",
       "      <td>0.746002</td>\n",
       "      <td>0.400909</td>\n",
       "    </tr>\n",
       "    <tr>\n",
       "      <th>7</th>\n",
       "      <td>0.5</td>\n",
       "      <td>NaN</td>\n",
       "      <td>0.413766</td>\n",
       "      <td>0.191887</td>\n",
       "      <td>0.096909</td>\n",
       "      <td>0.253113</td>\n",
       "      <td>0.608002</td>\n",
       "      <td>0.296692</td>\n",
       "    </tr>\n",
       "    <tr>\n",
       "      <th>8</th>\n",
       "      <td>0.0</td>\n",
       "      <td>0.944640</td>\n",
       "      <td>NaN</td>\n",
       "      <td>NaN</td>\n",
       "      <td>NaN</td>\n",
       "      <td>NaN</td>\n",
       "      <td>NaN</td>\n",
       "      <td>NaN</td>\n",
       "    </tr>\n",
       "    <tr>\n",
       "      <th>9</th>\n",
       "      <td>0.0</td>\n",
       "      <td>0.031199</td>\n",
       "      <td>NaN</td>\n",
       "      <td>NaN</td>\n",
       "      <td>NaN</td>\n",
       "      <td>NaN</td>\n",
       "      <td>NaN</td>\n",
       "      <td>NaN</td>\n",
       "    </tr>\n",
       "  </tbody>\n",
       "</table>\n",
       "</div>"
      ],
      "text/plain": [
       "   backOffPolicy  OptimisticBackoff___acquireSpinCount  \\\n",
       "0            0.0                              0.048540   \n",
       "1            0.5                                   NaN   \n",
       "2            0.5                                   NaN   \n",
       "3            0.0                              0.610936   \n",
       "4            0.5                                   NaN   \n",
       "5            0.0                              0.836579   \n",
       "6            0.5                                   NaN   \n",
       "7            0.5                                   NaN   \n",
       "8            0.0                              0.944640   \n",
       "9            0.0                              0.031199   \n",
       "\n",
       "   ExponentialBackoff___minSpinCount  ExponentialBackoff___maxSpinCount  \\\n",
       "0                                NaN                                NaN   \n",
       "1                           0.152277                           0.752425   \n",
       "2                           0.209671                           0.285785   \n",
       "3                                NaN                                NaN   \n",
       "4                           0.281415                           0.415654   \n",
       "5                                NaN                                NaN   \n",
       "6                           0.990282                           0.521925   \n",
       "7                           0.413766                           0.191887   \n",
       "8                                NaN                                NaN   \n",
       "9                                NaN                                NaN   \n",
       "\n",
       "   ExponentialBackoff___maxBackOffAttempts  \\\n",
       "0                                      NaN   \n",
       "1                                 0.438813   \n",
       "2                                 0.353853   \n",
       "3                                      NaN   \n",
       "4                                 0.502353   \n",
       "5                                      NaN   \n",
       "6                                 0.330997   \n",
       "7                                 0.096909   \n",
       "8                                      NaN   \n",
       "9                                      NaN   \n",
       "\n",
       "   ExponentialBackoff___shortBackOffMilliSeconds  \\\n",
       "0                                            NaN   \n",
       "1                                       0.815918   \n",
       "2                                       0.172974   \n",
       "3                                            NaN   \n",
       "4                                       0.288666   \n",
       "5                                            NaN   \n",
       "6                                       0.641632   \n",
       "7                                       0.253113   \n",
       "8                                            NaN   \n",
       "9                                            NaN   \n",
       "\n",
       "   ExponentialBackoff___longBackOffMilliSeconds  \\\n",
       "0                                           NaN   \n",
       "1                                      0.327911   \n",
       "2                                      0.198608   \n",
       "3                                           NaN   \n",
       "4                                      0.065887   \n",
       "5                                           NaN   \n",
       "6                                      0.746002   \n",
       "7                                      0.608002   \n",
       "8                                           NaN   \n",
       "9                                           NaN   \n",
       "\n",
       "   ExponentialBackoff___longBackOffWaitMilliSeconds  \n",
       "0                                               NaN  \n",
       "1                                          0.749176  \n",
       "2                                          0.102325  \n",
       "3                                               NaN  \n",
       "4                                          0.485016  \n",
       "5                                               NaN  \n",
       "6                                          0.400909  \n",
       "7                                          0.296692  \n",
       "8                                               NaN  \n",
       "9                                               NaN  "
      ]
     },
     "execution_count": 63,
     "metadata": {},
     "output_type": "execute_result"
    }
   ],
   "source": [
    "discrete_to_unit_continuous_adapter = DiscreteToUnitContinuousHypergridAdapter(adaptee=categorical_to_discrete_adapter)\n",
    "unit_continuous_df = discrete_to_unit_continuous_adapter.project_dataframe(original_df, in_place=False)\n",
    "unit_continuous_df"
   ]
  },
  {
   "cell_type": "markdown",
   "metadata": {},
   "source": [
    "Now, each dimension was scaled down to have all values between 0 and 1. And voila, Glowworm swarm optimizer could operate on such a dataframe."
   ]
  },
  {
   "cell_type": "markdown",
   "metadata": {},
   "source": [
    "##### A shorter way\n",
    "We can of course just nest the constructor calls:"
   ]
  },
  {
   "cell_type": "code",
   "execution_count": 64,
   "metadata": {},
   "outputs": [
    {
     "data": {
      "text/html": [
       "<div>\n",
       "<style scoped>\n",
       "    .dataframe tbody tr th:only-of-type {\n",
       "        vertical-align: middle;\n",
       "    }\n",
       "\n",
       "    .dataframe tbody tr th {\n",
       "        vertical-align: top;\n",
       "    }\n",
       "\n",
       "    .dataframe thead th {\n",
       "        text-align: right;\n",
       "    }\n",
       "</style>\n",
       "<table border=\"1\" class=\"dataframe\">\n",
       "  <thead>\n",
       "    <tr style=\"text-align: right;\">\n",
       "      <th></th>\n",
       "      <th>backOffPolicy</th>\n",
       "      <th>OptimisticBackoff___acquireSpinCount</th>\n",
       "      <th>ExponentialBackoff___minSpinCount</th>\n",
       "      <th>ExponentialBackoff___maxSpinCount</th>\n",
       "      <th>ExponentialBackoff___maxBackOffAttempts</th>\n",
       "      <th>ExponentialBackoff___shortBackOffMilliSeconds</th>\n",
       "      <th>ExponentialBackoff___longBackOffMilliSeconds</th>\n",
       "      <th>ExponentialBackoff___longBackOffWaitMilliSeconds</th>\n",
       "    </tr>\n",
       "  </thead>\n",
       "  <tbody>\n",
       "    <tr>\n",
       "      <th>0</th>\n",
       "      <td>0.0</td>\n",
       "      <td>0.048540</td>\n",
       "      <td>NaN</td>\n",
       "      <td>NaN</td>\n",
       "      <td>NaN</td>\n",
       "      <td>NaN</td>\n",
       "      <td>NaN</td>\n",
       "      <td>NaN</td>\n",
       "    </tr>\n",
       "    <tr>\n",
       "      <th>1</th>\n",
       "      <td>0.5</td>\n",
       "      <td>NaN</td>\n",
       "      <td>0.152277</td>\n",
       "      <td>0.752425</td>\n",
       "      <td>0.438813</td>\n",
       "      <td>0.815918</td>\n",
       "      <td>0.327911</td>\n",
       "      <td>0.749176</td>\n",
       "    </tr>\n",
       "    <tr>\n",
       "      <th>2</th>\n",
       "      <td>0.5</td>\n",
       "      <td>NaN</td>\n",
       "      <td>0.209671</td>\n",
       "      <td>0.285785</td>\n",
       "      <td>0.353853</td>\n",
       "      <td>0.172974</td>\n",
       "      <td>0.198608</td>\n",
       "      <td>0.102325</td>\n",
       "    </tr>\n",
       "    <tr>\n",
       "      <th>3</th>\n",
       "      <td>0.0</td>\n",
       "      <td>0.610936</td>\n",
       "      <td>NaN</td>\n",
       "      <td>NaN</td>\n",
       "      <td>NaN</td>\n",
       "      <td>NaN</td>\n",
       "      <td>NaN</td>\n",
       "      <td>NaN</td>\n",
       "    </tr>\n",
       "    <tr>\n",
       "      <th>4</th>\n",
       "      <td>0.5</td>\n",
       "      <td>NaN</td>\n",
       "      <td>0.281415</td>\n",
       "      <td>0.415654</td>\n",
       "      <td>0.502353</td>\n",
       "      <td>0.288666</td>\n",
       "      <td>0.065887</td>\n",
       "      <td>0.485016</td>\n",
       "    </tr>\n",
       "    <tr>\n",
       "      <th>5</th>\n",
       "      <td>0.0</td>\n",
       "      <td>0.836579</td>\n",
       "      <td>NaN</td>\n",
       "      <td>NaN</td>\n",
       "      <td>NaN</td>\n",
       "      <td>NaN</td>\n",
       "      <td>NaN</td>\n",
       "      <td>NaN</td>\n",
       "    </tr>\n",
       "    <tr>\n",
       "      <th>6</th>\n",
       "      <td>0.5</td>\n",
       "      <td>NaN</td>\n",
       "      <td>0.990282</td>\n",
       "      <td>0.521925</td>\n",
       "      <td>0.330997</td>\n",
       "      <td>0.641632</td>\n",
       "      <td>0.746002</td>\n",
       "      <td>0.400909</td>\n",
       "    </tr>\n",
       "    <tr>\n",
       "      <th>7</th>\n",
       "      <td>0.5</td>\n",
       "      <td>NaN</td>\n",
       "      <td>0.413766</td>\n",
       "      <td>0.191887</td>\n",
       "      <td>0.096909</td>\n",
       "      <td>0.253113</td>\n",
       "      <td>0.608002</td>\n",
       "      <td>0.296692</td>\n",
       "    </tr>\n",
       "    <tr>\n",
       "      <th>8</th>\n",
       "      <td>0.0</td>\n",
       "      <td>0.944640</td>\n",
       "      <td>NaN</td>\n",
       "      <td>NaN</td>\n",
       "      <td>NaN</td>\n",
       "      <td>NaN</td>\n",
       "      <td>NaN</td>\n",
       "      <td>NaN</td>\n",
       "    </tr>\n",
       "    <tr>\n",
       "      <th>9</th>\n",
       "      <td>0.0</td>\n",
       "      <td>0.031199</td>\n",
       "      <td>NaN</td>\n",
       "      <td>NaN</td>\n",
       "      <td>NaN</td>\n",
       "      <td>NaN</td>\n",
       "      <td>NaN</td>\n",
       "      <td>NaN</td>\n",
       "    </tr>\n",
       "  </tbody>\n",
       "</table>\n",
       "</div>"
      ],
      "text/plain": [
       "   backOffPolicy  OptimisticBackoff___acquireSpinCount  \\\n",
       "0            0.0                              0.048540   \n",
       "1            0.5                                   NaN   \n",
       "2            0.5                                   NaN   \n",
       "3            0.0                              0.610936   \n",
       "4            0.5                                   NaN   \n",
       "5            0.0                              0.836579   \n",
       "6            0.5                                   NaN   \n",
       "7            0.5                                   NaN   \n",
       "8            0.0                              0.944640   \n",
       "9            0.0                              0.031199   \n",
       "\n",
       "   ExponentialBackoff___minSpinCount  ExponentialBackoff___maxSpinCount  \\\n",
       "0                                NaN                                NaN   \n",
       "1                           0.152277                           0.752425   \n",
       "2                           0.209671                           0.285785   \n",
       "3                                NaN                                NaN   \n",
       "4                           0.281415                           0.415654   \n",
       "5                                NaN                                NaN   \n",
       "6                           0.990282                           0.521925   \n",
       "7                           0.413766                           0.191887   \n",
       "8                                NaN                                NaN   \n",
       "9                                NaN                                NaN   \n",
       "\n",
       "   ExponentialBackoff___maxBackOffAttempts  \\\n",
       "0                                      NaN   \n",
       "1                                 0.438813   \n",
       "2                                 0.353853   \n",
       "3                                      NaN   \n",
       "4                                 0.502353   \n",
       "5                                      NaN   \n",
       "6                                 0.330997   \n",
       "7                                 0.096909   \n",
       "8                                      NaN   \n",
       "9                                      NaN   \n",
       "\n",
       "   ExponentialBackoff___shortBackOffMilliSeconds  \\\n",
       "0                                            NaN   \n",
       "1                                       0.815918   \n",
       "2                                       0.172974   \n",
       "3                                            NaN   \n",
       "4                                       0.288666   \n",
       "5                                            NaN   \n",
       "6                                       0.641632   \n",
       "7                                       0.253113   \n",
       "8                                            NaN   \n",
       "9                                            NaN   \n",
       "\n",
       "   ExponentialBackoff___longBackOffMilliSeconds  \\\n",
       "0                                           NaN   \n",
       "1                                      0.327911   \n",
       "2                                      0.198608   \n",
       "3                                           NaN   \n",
       "4                                      0.065887   \n",
       "5                                           NaN   \n",
       "6                                      0.746002   \n",
       "7                                      0.608002   \n",
       "8                                           NaN   \n",
       "9                                           NaN   \n",
       "\n",
       "   ExponentialBackoff___longBackOffWaitMilliSeconds  \n",
       "0                                               NaN  \n",
       "1                                          0.749176  \n",
       "2                                          0.102325  \n",
       "3                                               NaN  \n",
       "4                                          0.485016  \n",
       "5                                               NaN  \n",
       "6                                          0.400909  \n",
       "7                                          0.296692  \n",
       "8                                               NaN  \n",
       "9                                               NaN  "
      ]
     },
     "execution_count": 64,
     "metadata": {},
     "output_type": "execute_result"
    }
   ],
   "source": [
    "original_to_unit_continuous_adapter = DiscreteToUnitContinuousHypergridAdapter(\n",
    "    adaptee=CategoricalToDiscreteHypergridAdapter(\n",
    "        adaptee=HierarchicalToFlatHypergridAdapter(\n",
    "            adaptee=original_space\n",
    "        )\n",
    "    )\n",
    ")\n",
    "original_to_unit_continuous_adapter.project_dataframe(original_df, in_place=False)"
   ]
  },
  {
   "cell_type": "code",
   "execution_count": 65,
   "metadata": {},
   "outputs": [],
   "source": [
    "# And just to be sure\n",
    "#\n",
    "assert original_to_unit_continuous_adapter.project_dataframe(original_df, in_place=False).equals(unit_continuous_df)"
   ]
  },
  {
   "cell_type": "markdown",
   "metadata": {},
   "source": [
    "##### The shortest way\n",
    "All of the adapters implemented so far, can chain themselves."
   ]
  },
  {
   "cell_type": "code",
   "execution_count": 66,
   "metadata": {},
   "outputs": [
    {
     "data": {
      "text/html": [
       "<div>\n",
       "<style scoped>\n",
       "    .dataframe tbody tr th:only-of-type {\n",
       "        vertical-align: middle;\n",
       "    }\n",
       "\n",
       "    .dataframe tbody tr th {\n",
       "        vertical-align: top;\n",
       "    }\n",
       "\n",
       "    .dataframe thead th {\n",
       "        text-align: right;\n",
       "    }\n",
       "</style>\n",
       "<table border=\"1\" class=\"dataframe\">\n",
       "  <thead>\n",
       "    <tr style=\"text-align: right;\">\n",
       "      <th></th>\n",
       "      <th>backOffPolicy</th>\n",
       "      <th>OptimisticBackoff___acquireSpinCount</th>\n",
       "      <th>ExponentialBackoff___minSpinCount</th>\n",
       "      <th>ExponentialBackoff___maxSpinCount</th>\n",
       "      <th>ExponentialBackoff___maxBackOffAttempts</th>\n",
       "      <th>ExponentialBackoff___shortBackOffMilliSeconds</th>\n",
       "      <th>ExponentialBackoff___longBackOffMilliSeconds</th>\n",
       "      <th>ExponentialBackoff___longBackOffWaitMilliSeconds</th>\n",
       "    </tr>\n",
       "  </thead>\n",
       "  <tbody>\n",
       "    <tr>\n",
       "      <th>0</th>\n",
       "      <td>0.0</td>\n",
       "      <td>0.048540</td>\n",
       "      <td>NaN</td>\n",
       "      <td>NaN</td>\n",
       "      <td>NaN</td>\n",
       "      <td>NaN</td>\n",
       "      <td>NaN</td>\n",
       "      <td>NaN</td>\n",
       "    </tr>\n",
       "    <tr>\n",
       "      <th>1</th>\n",
       "      <td>0.5</td>\n",
       "      <td>NaN</td>\n",
       "      <td>0.152277</td>\n",
       "      <td>0.752425</td>\n",
       "      <td>0.438813</td>\n",
       "      <td>0.815918</td>\n",
       "      <td>0.327911</td>\n",
       "      <td>0.749176</td>\n",
       "    </tr>\n",
       "    <tr>\n",
       "      <th>2</th>\n",
       "      <td>0.5</td>\n",
       "      <td>NaN</td>\n",
       "      <td>0.209671</td>\n",
       "      <td>0.285785</td>\n",
       "      <td>0.353853</td>\n",
       "      <td>0.172974</td>\n",
       "      <td>0.198608</td>\n",
       "      <td>0.102325</td>\n",
       "    </tr>\n",
       "    <tr>\n",
       "      <th>3</th>\n",
       "      <td>0.0</td>\n",
       "      <td>0.610936</td>\n",
       "      <td>NaN</td>\n",
       "      <td>NaN</td>\n",
       "      <td>NaN</td>\n",
       "      <td>NaN</td>\n",
       "      <td>NaN</td>\n",
       "      <td>NaN</td>\n",
       "    </tr>\n",
       "    <tr>\n",
       "      <th>4</th>\n",
       "      <td>0.5</td>\n",
       "      <td>NaN</td>\n",
       "      <td>0.281415</td>\n",
       "      <td>0.415654</td>\n",
       "      <td>0.502353</td>\n",
       "      <td>0.288666</td>\n",
       "      <td>0.065887</td>\n",
       "      <td>0.485016</td>\n",
       "    </tr>\n",
       "    <tr>\n",
       "      <th>5</th>\n",
       "      <td>0.0</td>\n",
       "      <td>0.836579</td>\n",
       "      <td>NaN</td>\n",
       "      <td>NaN</td>\n",
       "      <td>NaN</td>\n",
       "      <td>NaN</td>\n",
       "      <td>NaN</td>\n",
       "      <td>NaN</td>\n",
       "    </tr>\n",
       "    <tr>\n",
       "      <th>6</th>\n",
       "      <td>0.5</td>\n",
       "      <td>NaN</td>\n",
       "      <td>0.990282</td>\n",
       "      <td>0.521925</td>\n",
       "      <td>0.330997</td>\n",
       "      <td>0.641632</td>\n",
       "      <td>0.746002</td>\n",
       "      <td>0.400909</td>\n",
       "    </tr>\n",
       "    <tr>\n",
       "      <th>7</th>\n",
       "      <td>0.5</td>\n",
       "      <td>NaN</td>\n",
       "      <td>0.413766</td>\n",
       "      <td>0.191887</td>\n",
       "      <td>0.096909</td>\n",
       "      <td>0.253113</td>\n",
       "      <td>0.608002</td>\n",
       "      <td>0.296692</td>\n",
       "    </tr>\n",
       "    <tr>\n",
       "      <th>8</th>\n",
       "      <td>0.0</td>\n",
       "      <td>0.944640</td>\n",
       "      <td>NaN</td>\n",
       "      <td>NaN</td>\n",
       "      <td>NaN</td>\n",
       "      <td>NaN</td>\n",
       "      <td>NaN</td>\n",
       "      <td>NaN</td>\n",
       "    </tr>\n",
       "    <tr>\n",
       "      <th>9</th>\n",
       "      <td>0.0</td>\n",
       "      <td>0.031199</td>\n",
       "      <td>NaN</td>\n",
       "      <td>NaN</td>\n",
       "      <td>NaN</td>\n",
       "      <td>NaN</td>\n",
       "      <td>NaN</td>\n",
       "      <td>NaN</td>\n",
       "    </tr>\n",
       "  </tbody>\n",
       "</table>\n",
       "</div>"
      ],
      "text/plain": [
       "   backOffPolicy  OptimisticBackoff___acquireSpinCount  \\\n",
       "0            0.0                              0.048540   \n",
       "1            0.5                                   NaN   \n",
       "2            0.5                                   NaN   \n",
       "3            0.0                              0.610936   \n",
       "4            0.5                                   NaN   \n",
       "5            0.0                              0.836579   \n",
       "6            0.5                                   NaN   \n",
       "7            0.5                                   NaN   \n",
       "8            0.0                              0.944640   \n",
       "9            0.0                              0.031199   \n",
       "\n",
       "   ExponentialBackoff___minSpinCount  ExponentialBackoff___maxSpinCount  \\\n",
       "0                                NaN                                NaN   \n",
       "1                           0.152277                           0.752425   \n",
       "2                           0.209671                           0.285785   \n",
       "3                                NaN                                NaN   \n",
       "4                           0.281415                           0.415654   \n",
       "5                                NaN                                NaN   \n",
       "6                           0.990282                           0.521925   \n",
       "7                           0.413766                           0.191887   \n",
       "8                                NaN                                NaN   \n",
       "9                                NaN                                NaN   \n",
       "\n",
       "   ExponentialBackoff___maxBackOffAttempts  \\\n",
       "0                                      NaN   \n",
       "1                                 0.438813   \n",
       "2                                 0.353853   \n",
       "3                                      NaN   \n",
       "4                                 0.502353   \n",
       "5                                      NaN   \n",
       "6                                 0.330997   \n",
       "7                                 0.096909   \n",
       "8                                      NaN   \n",
       "9                                      NaN   \n",
       "\n",
       "   ExponentialBackoff___shortBackOffMilliSeconds  \\\n",
       "0                                            NaN   \n",
       "1                                       0.815918   \n",
       "2                                       0.172974   \n",
       "3                                            NaN   \n",
       "4                                       0.288666   \n",
       "5                                            NaN   \n",
       "6                                       0.641632   \n",
       "7                                       0.253113   \n",
       "8                                            NaN   \n",
       "9                                            NaN   \n",
       "\n",
       "   ExponentialBackoff___longBackOffMilliSeconds  \\\n",
       "0                                           NaN   \n",
       "1                                      0.327911   \n",
       "2                                      0.198608   \n",
       "3                                           NaN   \n",
       "4                                      0.065887   \n",
       "5                                           NaN   \n",
       "6                                      0.746002   \n",
       "7                                      0.608002   \n",
       "8                                           NaN   \n",
       "9                                           NaN   \n",
       "\n",
       "   ExponentialBackoff___longBackOffWaitMilliSeconds  \n",
       "0                                               NaN  \n",
       "1                                          0.749176  \n",
       "2                                          0.102325  \n",
       "3                                               NaN  \n",
       "4                                          0.485016  \n",
       "5                                               NaN  \n",
       "6                                          0.400909  \n",
       "7                                          0.296692  \n",
       "8                                               NaN  \n",
       "9                                               NaN  "
      ]
     },
     "execution_count": 66,
     "metadata": {},
     "output_type": "execute_result"
    }
   ],
   "source": [
    "adapter = DiscreteToUnitContinuousHypergridAdapter(adaptee=original_space)\n",
    "projected_df = adapter.project_dataframe(original_df, in_place=False)\n",
    "projected_df"
   ]
  },
  {
   "cell_type": "code",
   "execution_count": 67,
   "metadata": {},
   "outputs": [],
   "source": [
    "# And just to be sure\n",
    "#\n",
    "assert projected_df.equals(unit_continuous_df)"
   ]
  },
  {
   "cell_type": "markdown",
   "metadata": {},
   "source": [
    "#### Demonstrating Invertibility\n",
    "The second property that almost all adapters must have is being invertible (with the exceptions listed before)."
   ]
  },
  {
   "cell_type": "code",
   "execution_count": 68,
   "metadata": {},
   "outputs": [
    {
     "data": {
      "text/html": [
       "<div>\n",
       "<style scoped>\n",
       "    .dataframe tbody tr th:only-of-type {\n",
       "        vertical-align: middle;\n",
       "    }\n",
       "\n",
       "    .dataframe tbody tr th {\n",
       "        vertical-align: top;\n",
       "    }\n",
       "\n",
       "    .dataframe thead th {\n",
       "        text-align: right;\n",
       "    }\n",
       "</style>\n",
       "<table border=\"1\" class=\"dataframe\">\n",
       "  <thead>\n",
       "    <tr style=\"text-align: right;\">\n",
       "      <th></th>\n",
       "      <th>backOffPolicy</th>\n",
       "      <th>OptimisticBackoff.acquireSpinCount</th>\n",
       "      <th>ExponentialBackoff.minSpinCount</th>\n",
       "      <th>ExponentialBackoff.maxSpinCount</th>\n",
       "      <th>ExponentialBackoff.maxBackOffAttempts</th>\n",
       "      <th>ExponentialBackoff.shortBackOffMilliSeconds</th>\n",
       "      <th>ExponentialBackoff.longBackOffMilliSeconds</th>\n",
       "      <th>ExponentialBackoff.longBackOffWaitMilliSeconds</th>\n",
       "    </tr>\n",
       "  </thead>\n",
       "  <tbody>\n",
       "    <tr>\n",
       "      <th>0</th>\n",
       "      <td>Optimistic</td>\n",
       "      <td>50899.0</td>\n",
       "      <td>NaN</td>\n",
       "      <td>NaN</td>\n",
       "      <td>NaN</td>\n",
       "      <td>NaN</td>\n",
       "      <td>NaN</td>\n",
       "      <td>NaN</td>\n",
       "    </tr>\n",
       "    <tr>\n",
       "      <th>1</th>\n",
       "      <td>ExponentialBackOff</td>\n",
       "      <td>NaN</td>\n",
       "      <td>159675.0</td>\n",
       "      <td>788976.0</td>\n",
       "      <td>460130.0</td>\n",
       "      <td>26737.0</td>\n",
       "      <td>10746.0</td>\n",
       "      <td>24550.0</td>\n",
       "    </tr>\n",
       "    <tr>\n",
       "      <th>2</th>\n",
       "      <td>ExponentialBackOff</td>\n",
       "      <td>NaN</td>\n",
       "      <td>219857.0</td>\n",
       "      <td>299668.0</td>\n",
       "      <td>371043.0</td>\n",
       "      <td>5669.0</td>\n",
       "      <td>6509.0</td>\n",
       "      <td>3354.0</td>\n",
       "    </tr>\n",
       "    <tr>\n",
       "      <th>3</th>\n",
       "      <td>Optimistic</td>\n",
       "      <td>640614.0</td>\n",
       "      <td>NaN</td>\n",
       "      <td>NaN</td>\n",
       "      <td>NaN</td>\n",
       "      <td>NaN</td>\n",
       "      <td>NaN</td>\n",
       "      <td>NaN</td>\n",
       "    </tr>\n",
       "    <tr>\n",
       "      <th>4</th>\n",
       "      <td>ExponentialBackOff</td>\n",
       "      <td>NaN</td>\n",
       "      <td>295086.0</td>\n",
       "      <td>435846.0</td>\n",
       "      <td>526756.0</td>\n",
       "      <td>9460.0</td>\n",
       "      <td>2160.0</td>\n",
       "      <td>15894.0</td>\n",
       "    </tr>\n",
       "    <tr>\n",
       "      <th>5</th>\n",
       "      <td>Optimistic</td>\n",
       "      <td>877218.0</td>\n",
       "      <td>NaN</td>\n",
       "      <td>NaN</td>\n",
       "      <td>NaN</td>\n",
       "      <td>NaN</td>\n",
       "      <td>NaN</td>\n",
       "      <td>NaN</td>\n",
       "    </tr>\n",
       "    <tr>\n",
       "      <th>6</th>\n",
       "      <td>ExponentialBackOff</td>\n",
       "      <td>NaN</td>\n",
       "      <td>1038387.0</td>\n",
       "      <td>547279.0</td>\n",
       "      <td>347076.0</td>\n",
       "      <td>21026.0</td>\n",
       "      <td>24446.0</td>\n",
       "      <td>13138.0</td>\n",
       "    </tr>\n",
       "    <tr>\n",
       "      <th>7</th>\n",
       "      <td>ExponentialBackOff</td>\n",
       "      <td>NaN</td>\n",
       "      <td>433866.0</td>\n",
       "      <td>201209.0</td>\n",
       "      <td>101617.0</td>\n",
       "      <td>8295.0</td>\n",
       "      <td>19924.0</td>\n",
       "      <td>9723.0</td>\n",
       "    </tr>\n",
       "    <tr>\n",
       "      <th>8</th>\n",
       "      <td>Optimistic</td>\n",
       "      <td>990528.0</td>\n",
       "      <td>NaN</td>\n",
       "      <td>NaN</td>\n",
       "      <td>NaN</td>\n",
       "      <td>NaN</td>\n",
       "      <td>NaN</td>\n",
       "      <td>NaN</td>\n",
       "    </tr>\n",
       "    <tr>\n",
       "      <th>9</th>\n",
       "      <td>Optimistic</td>\n",
       "      <td>32715.0</td>\n",
       "      <td>NaN</td>\n",
       "      <td>NaN</td>\n",
       "      <td>NaN</td>\n",
       "      <td>NaN</td>\n",
       "      <td>NaN</td>\n",
       "      <td>NaN</td>\n",
       "    </tr>\n",
       "  </tbody>\n",
       "</table>\n",
       "</div>"
      ],
      "text/plain": [
       "        backOffPolicy  OptimisticBackoff.acquireSpinCount  \\\n",
       "0          Optimistic                             50899.0   \n",
       "1  ExponentialBackOff                                 NaN   \n",
       "2  ExponentialBackOff                                 NaN   \n",
       "3          Optimistic                            640614.0   \n",
       "4  ExponentialBackOff                                 NaN   \n",
       "5          Optimistic                            877218.0   \n",
       "6  ExponentialBackOff                                 NaN   \n",
       "7  ExponentialBackOff                                 NaN   \n",
       "8          Optimistic                            990528.0   \n",
       "9          Optimistic                             32715.0   \n",
       "\n",
       "   ExponentialBackoff.minSpinCount  ExponentialBackoff.maxSpinCount  \\\n",
       "0                              NaN                              NaN   \n",
       "1                         159675.0                         788976.0   \n",
       "2                         219857.0                         299668.0   \n",
       "3                              NaN                              NaN   \n",
       "4                         295086.0                         435846.0   \n",
       "5                              NaN                              NaN   \n",
       "6                        1038387.0                         547279.0   \n",
       "7                         433866.0                         201209.0   \n",
       "8                              NaN                              NaN   \n",
       "9                              NaN                              NaN   \n",
       "\n",
       "   ExponentialBackoff.maxBackOffAttempts  \\\n",
       "0                                    NaN   \n",
       "1                               460130.0   \n",
       "2                               371043.0   \n",
       "3                                    NaN   \n",
       "4                               526756.0   \n",
       "5                                    NaN   \n",
       "6                               347076.0   \n",
       "7                               101617.0   \n",
       "8                                    NaN   \n",
       "9                                    NaN   \n",
       "\n",
       "   ExponentialBackoff.shortBackOffMilliSeconds  \\\n",
       "0                                          NaN   \n",
       "1                                      26737.0   \n",
       "2                                       5669.0   \n",
       "3                                          NaN   \n",
       "4                                       9460.0   \n",
       "5                                          NaN   \n",
       "6                                      21026.0   \n",
       "7                                       8295.0   \n",
       "8                                          NaN   \n",
       "9                                          NaN   \n",
       "\n",
       "   ExponentialBackoff.longBackOffMilliSeconds  \\\n",
       "0                                         NaN   \n",
       "1                                     10746.0   \n",
       "2                                      6509.0   \n",
       "3                                         NaN   \n",
       "4                                      2160.0   \n",
       "5                                         NaN   \n",
       "6                                     24446.0   \n",
       "7                                     19924.0   \n",
       "8                                         NaN   \n",
       "9                                         NaN   \n",
       "\n",
       "   ExponentialBackoff.longBackOffWaitMilliSeconds  \n",
       "0                                             NaN  \n",
       "1                                         24550.0  \n",
       "2                                          3354.0  \n",
       "3                                             NaN  \n",
       "4                                         15894.0  \n",
       "5                                             NaN  \n",
       "6                                         13138.0  \n",
       "7                                          9723.0  \n",
       "8                                             NaN  \n",
       "9                                             NaN  "
      ]
     },
     "execution_count": 68,
     "metadata": {},
     "output_type": "execute_result"
    }
   ],
   "source": [
    "unprojected_df = adapter.unproject_dataframe(projected_df, in_place=False)\n",
    "unprojected_df"
   ]
  },
  {
   "cell_type": "code",
   "execution_count": 69,
   "metadata": {},
   "outputs": [],
   "source": [
    "# And to be sure we got back what we put in:\n",
    "#\n",
    "assert unprojected_df.equals(original_df)"
   ]
  },
  {
   "cell_type": "markdown",
   "metadata": {},
   "source": [
    "#### Adapting Points\n",
    "Works exactly the same way:"
   ]
  },
  {
   "cell_type": "code",
   "execution_count": 70,
   "metadata": {},
   "outputs": [
    {
     "name": "stdout",
     "output_type": "stream",
     "text": [
      "{\n",
      "  \"backOffPolicy\": \"Optimistic\",\n",
      "  \"OptimisticBackoff.acquireSpinCount\": 286747\n",
      "}\n"
     ]
    }
   ],
   "source": [
    "original_point = original_space.random()\n",
    "print(original_point.to_json(indent=2))"
   ]
  },
  {
   "cell_type": "code",
   "execution_count": 71,
   "metadata": {},
   "outputs": [
    {
     "name": "stdout",
     "output_type": "stream",
     "text": [
      "{\n",
      "  \"backOffPolicy\": 0,\n",
      "  \"OptimisticBackoff___acquireSpinCount\": 0.27346229553222656\n",
      "}\n"
     ]
    }
   ],
   "source": [
    "projected_point = adapter.project_point(original_point)\n",
    "print(projected_point.to_json(indent=2))"
   ]
  },
  {
   "cell_type": "code",
   "execution_count": 72,
   "metadata": {},
   "outputs": [
    {
     "name": "stdout",
     "output_type": "stream",
     "text": [
      "{\n",
      "  \"backOffPolicy\": \"Optimistic\",\n",
      "  \"OptimisticBackoff.acquireSpinCount\": 286747\n",
      "}\n"
     ]
    }
   ],
   "source": [
    "unprojected_point = adapter.unproject_point(projected_point)\n",
    "print(unprojected_point.to_json(indent=2))"
   ]
  },
  {
   "cell_type": "code",
   "execution_count": 73,
   "metadata": {},
   "outputs": [],
   "source": [
    "# And finally to be sure:\n",
    "#\n",
    "assert unprojected_point == original_point"
   ]
  }
 ],
 "metadata": {
  "kernelspec": {
   "display_name": "Python 3",
   "language": "python",
   "name": "python3"
  },
  "language_info": {
   "codemirror_mode": {
    "name": "ipython",
    "version": 3
   },
   "file_extension": ".py",
   "mimetype": "text/x-python",
   "name": "python",
   "nbconvert_exporter": "python",
   "pygments_lexer": "ipython3",
   "version": "3.6.6"
  }
 },
 "nbformat": 4,
 "nbformat_minor": 2
}
