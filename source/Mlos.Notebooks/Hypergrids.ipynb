{
 "cells": [
  {
   "cell_type": "code",
   "execution_count": 1,
   "metadata": {},
   "outputs": [
    {
     "data": {
      "text/html": [
       "<style>.container { width:100% !important; }</style>"
      ],
      "text/plain": [
       "<IPython.core.display.HTML object>"
      ]
     },
     "metadata": {},
     "output_type": "display_data"
    }
   ],
   "source": [
    "from IPython.core.display import display, HTML\n",
    "display(HTML(\"<style>.container { width:100% !important; }</style>\"))"
   ]
  },
  {
   "cell_type": "markdown",
   "metadata": {},
   "source": [
    "# Goal\n",
    "The objective of this notebook is to:\n",
    "1. describe the __motivation__ behind developing hypergrids,\n",
    "1. describe the __requirements__,\n",
    "1. explain __how__ we implemented them,\n",
    "1. and to __demonstrate hypergrid usage__."
   ]
  },
  {
   "cell_type": "markdown",
   "metadata": {},
   "source": [
    "# Intended Audience\n",
    "\n",
    "This document has been authored for the benefit of all users of and contributors to the MLOS project."
   ]
  },
  {
   "cell_type": "markdown",
   "metadata": {},
   "source": [
    "# Motivation\n",
    "\n",
    "## Describing search space is fundamental\n",
    "Every optimizer we have examined (SMAC, Hypermapper, bayes_opt, scipy) requires that we describe the search space for the optimizer to explore. They all differed in the exact representation and functionality but it quickly became apparent that the description of the search space (or the domain) is a fundamental part of any optimizers API.\n",
    "\n",
    "__Requirement 1__: Hypergrids are meant to provide a superset of the union of the functionality provided by the aforementioned optimizers' search spaces. We also need to be able to build adapters that would translate a hypergrid into each optimizers search space representation.\n",
    "\n",
    "## Hypergrids usage\n",
    "\n",
    "Hypergrids are used throughout the optimization process. \n",
    "\n",
    "### Smart component\n",
    "Smart components are parameterizable. The value for each parameter belongs to a set of legal values - forming one of the dimensions of the search space - let's call that a _parameter dimension_. Thus, the search space for the entire component is a subset of the cross product of all its _parameter dimensions_.\n",
    "\n",
    "__Requirement 2__: Hypergrids must provide an efficient way of representing a componet's parameter search space.\n",
    "\n",
    "Nota Bene: A smart component might provide multiple alternative and mutually exclusive implementations of data structures or algorithms (e.g. spinlocks have Exponential Backoff and Optimistic _algorithmType_). These alternatives are further configured by disjoint sets of parameters. Which set of parameters is meaningful is determined by the \"switch\" parameter. \n",
    "\n",
    "In the case of smart spinlocks: choosing the \"Optimistic\" algorithm makes the _minSpinCount_ and _maxSpinCount_ parameters meaningless, but _aquireSpinCount_ meaningful. Thus the _algorithmType_ is a switch that toggles between those two sets of parameters.\n",
    "\n",
    "This yields our next requirements:\n",
    "\n",
    "__Requirement 3__: Hypergrids must provide an efficient way to describe disjoint parameter spaces.\n",
    "\n",
    "__Requirement 4__: Hypergrids must allow to specify constrains between parameters. For example: ```minSpinCount < maxSpinCount```, or even: ```minSpinCount < maxSpinCount / 10```.\n",
    "\n",
    "### Target system\n",
    "MLOS enabled systems (such as SQL Server) will in general contain multiple smart components. Each smart component's search space is described by its own Hypergrid. It's possible that two completely unrelated components will have parameters with the same name (e.g. \"n\", \"size\", or \"timeout\"). The entire system's search space is a subset of the cartesian product of its constituent smart components' Hypergrids.\n",
    "\n",
    "\n",
    "__Requirement 5__: Hypergrids must handle parameter name collisions between different components in the same system.\n",
    "\n",
    "__Requirement 6__: Hypergrids must efficiently represent a cartesian product of two or more Hypergrids.\n",
    "\n",
    "\n",
    "### Optimization problem description\n",
    "Each optimization problem is described by a parameter space (a Hypergrid), a context space (a Hypergrid), an objective space (a Hypergrid) among other things. \n",
    "\n",
    "### Bayesian Optimizer\n",
    "The MLOS Bayesian Optimizer uses Hypergrids throughout its stack:\n",
    "1. In the surrogate models - Hypergrids describe each model's input and output spaces.\n",
    "1. In the utility function optimizer - Hypergrids describe the set of legal configurations that this optimizer can suggest. Hypergrids are also used to check if any given configuration is legal.\n",
    "1. In the random config generation - Hypergrids are used to efficiently generate random legal configurations.\n",
    "\n",
    "__Requirement 7__: Hypergrids must efficiently determine if a given configuration is legal.\n",
    "\n",
    "__Requirement 8__: Hypergrids must support efficient generation of random configurations according to a distribution specified by the caller.\n",
    "\n",
    "### Model Tomograph\n",
    "Model Tomograph is used to display the internal state of the model over time. It uses Hypergrids to determine the axes, scales and labels for heatmaps describing any two dimensions. It also uses Hypergrids to generate linspaces (and meshgrids) along each dimension (and each pair of dimensions).\n",
    "\n",
    "__Requirement 9__: Hypergrids must support efficient generation of linspaces and meshgrids.\n",
    "\n",
    "### A note on efficiency\n",
    "We have stressed efficiency in almost all of the requirements. Hypergrids are fundamental to many aspects of the Bayesian Optimizer's operations and functions such as random() or \\__contains\\__() can be invoked thousands or millions of times per iteration - almost always on the critical path.\n"
   ]
  },
  {
   "cell_type": "markdown",
   "metadata": {},
   "source": [
    "# Implementation\n",
    "\n",
    "## Sets, sets, sets\n",
    "A value of a given parameter belongs to a __set__ of legal values. \n",
    "All legal configurations for a component are a __subset__ of the __cartesian product__ of each parameter's __set__ of legal values.\n",
    "For any given parameter value or configuration we must check if it belongs to a __set__ of legal values.\n",
    "We must be able to generate a random configuration from a __set__ of legal configurations.\n",
    "\n",
    "The idea of sets and set algebra pervades our requirements through and through. Consequently, it also pervades our implementation."
   ]
  },
  {
   "cell_type": "markdown",
   "metadata": {},
   "source": [
    "# Dimensions"
   ]
  },
  {
   "cell_type": "markdown",
   "metadata": {},
   "source": [
    "## Dimensions are sets\n",
    "\n",
    "Each parameter can assume a value that belongs to a set of legal values. We represet such a set by one of the following Dimension classes:\n",
    "\n",
    "* ContinuousDimension - to describe continuous domains.\n",
    "* DiscreteDimension - should be renamed to IntegerDimension.\n",
    "* CategoricalDimension - represents an unordered set of discrete legal values (e.g. colors: {red, blue, black})\n",
    "* OrdinalDimension - represents an ordered set of discrete legal values (e.g. {bad, medium, good})\n",
    "\n",
    "Each of them implements set operations: union, difference, intersection. The results of such operations can further give rise to:\n",
    "* CompositeDimension\n",
    "* EmptyDimension"
   ]
  },
  {
   "cell_type": "markdown",
   "metadata": {},
   "source": [
    "## Dimension Usage\n",
    "\n",
    "The following examples demonstrate construction and basic usage of the various Dimension classes. Further examples can be found in `<MLOS_ROOT>/source/Mlos.Python/mlos/Spaces/unit_tests`."
   ]
  },
  {
   "cell_type": "code",
   "execution_count": 2,
   "metadata": {},
   "outputs": [],
   "source": [
    "from mlos.Spaces import ContinuousDimension, DiscreteDimension, OrdinalDimension, CategoricalDimension"
   ]
  },
  {
   "cell_type": "markdown",
   "metadata": {},
   "source": [
    "#### Continuous [0, 10] dimension"
   ]
  },
  {
   "cell_type": "code",
   "execution_count": 3,
   "metadata": {},
   "outputs": [
    {
     "name": "stdout",
     "output_type": "stream",
     "text": [
      "x: [0.00, 10.00] <- note the square brackets '[]', they indicate that the endpoints are in the set.\n"
     ]
    }
   ],
   "source": [
    "zero_to_ten = ContinuousDimension(name='x', min=0, max=10)\n",
    "print(zero_to_ten, \"<- note the square brackets '[]', they indicate that the endpoints are in the set.\")"
   ]
  },
  {
   "cell_type": "code",
   "execution_count": 4,
   "metadata": {},
   "outputs": [],
   "source": [
    "assert 0 in zero_to_ten"
   ]
  },
  {
   "cell_type": "code",
   "execution_count": 5,
   "metadata": {},
   "outputs": [],
   "source": [
    "assert 5 in zero_to_ten"
   ]
  },
  {
   "cell_type": "code",
   "execution_count": 6,
   "metadata": {},
   "outputs": [],
   "source": [
    "assert 11 not in zero_to_ten"
   ]
  },
  {
   "cell_type": "markdown",
   "metadata": {},
   "source": [
    "#### Continuous (1, 5) dimension"
   ]
  },
  {
   "cell_type": "code",
   "execution_count": 7,
   "metadata": {},
   "outputs": [
    {
     "name": "stdout",
     "output_type": "stream",
     "text": [
      "x: (1.00, 5.00) <- note the parentheses '()', they indicate that the endpoints are not in the set.\n"
     ]
    }
   ],
   "source": [
    "one_to_five_exclusive = ContinuousDimension(name='x', min=1, max=5, include_min=False, include_max=False)\n",
    "print(one_to_five_exclusive, \"<- note the parentheses '()', they indicate that the endpoints are not in the set.\")"
   ]
  },
  {
   "cell_type": "code",
   "execution_count": 8,
   "metadata": {},
   "outputs": [],
   "source": [
    "assert 1 not in one_to_five_exclusive"
   ]
  },
  {
   "cell_type": "code",
   "execution_count": 9,
   "metadata": {},
   "outputs": [],
   "source": [
    "assert 3 in one_to_five_exclusive"
   ]
  },
  {
   "cell_type": "code",
   "execution_count": 10,
   "metadata": {},
   "outputs": [],
   "source": [
    "assert 5 not in one_to_five_exclusive"
   ]
  },
  {
   "cell_type": "markdown",
   "metadata": {},
   "source": [
    "#### Set operations on continuous dimensions"
   ]
  },
  {
   "cell_type": "code",
   "execution_count": 11,
   "metadata": {},
   "outputs": [],
   "source": [
    "# Containment.\n",
    "#\n",
    "assert one_to_five_exclusive in zero_to_ten"
   ]
  },
  {
   "cell_type": "code",
   "execution_count": 12,
   "metadata": {},
   "outputs": [
    {
     "data": {
      "text/plain": [
       "x: [0.00, 1.00] UNION [5.00, 10.00]"
      ]
     },
     "execution_count": 12,
     "metadata": {},
     "output_type": "execute_result"
    }
   ],
   "source": [
    "zero_to_ten.difference(one_to_five_exclusive)"
   ]
  },
  {
   "cell_type": "code",
   "execution_count": 13,
   "metadata": {},
   "outputs": [
    {
     "data": {
      "text/plain": [
       "x: [0.00, 10.00]"
      ]
     },
     "execution_count": 13,
     "metadata": {},
     "output_type": "execute_result"
    }
   ],
   "source": [
    "zero_to_ten.union(one_to_five_exclusive)"
   ]
  },
  {
   "cell_type": "code",
   "execution_count": 14,
   "metadata": {},
   "outputs": [
    {
     "data": {
      "text/plain": [
       "x: (1.00, 5.00)"
      ]
     },
     "execution_count": 14,
     "metadata": {},
     "output_type": "execute_result"
    }
   ],
   "source": [
    "zero_to_ten.intersection(one_to_five_exclusive)"
   ]
  },
  {
   "cell_type": "markdown",
   "metadata": {},
   "source": [
    "Set operations can be chained:"
   ]
  },
  {
   "cell_type": "code",
   "execution_count": 15,
   "metadata": {},
   "outputs": [
    {
     "name": "stdout",
     "output_type": "stream",
     "text": [
      "x: (0.00, 1.00) UNION (5.00, 10.00] UNION [20.00, 21.00) UNION (25.00, 30.00] UNION [40.00, 50.00)\n"
     ]
    }
   ],
   "source": [
    "some_complicated_dimension = ContinuousDimension(name='x', min=0, max=10).union(\n",
    "    ContinuousDimension(name='x', min=20, max=30)\n",
    ").union(\n",
    "    ContinuousDimension(name='x', min=40, max=50)\n",
    ").difference(\n",
    "    ContinuousDimension(name='x', min=1, max=5)\n",
    ").difference(\n",
    "    ContinuousDimension(name='x', min=21, max=25)\n",
    ").intersection(\n",
    "    ContinuousDimension(name='x', min=0, max=50, include_min=False, include_max=False)\n",
    ")\n",
    "print(some_complicated_dimension)"
   ]
  },
  {
   "cell_type": "code",
   "execution_count": 16,
   "metadata": {},
   "outputs": [],
   "source": [
    "assert 0 not in some_complicated_dimension"
   ]
  },
  {
   "cell_type": "code",
   "execution_count": 17,
   "metadata": {},
   "outputs": [],
   "source": [
    "assert 0.5 in some_complicated_dimension"
   ]
  },
  {
   "cell_type": "code",
   "execution_count": 18,
   "metadata": {},
   "outputs": [],
   "source": [
    "assert 45 in some_complicated_dimension"
   ]
  },
  {
   "cell_type": "markdown",
   "metadata": {},
   "source": [
    "#### Generating random value from dimension\n",
    "For a continuous dimension we can easily generate a random value. Note that the distribution from which we draw the random value is not an inherent property of the dimension. Right now, the call to .random() returns draws from a uniform distribution over all values in the dimension, but down the road we plan to add an argument to the .random() function so that the caller can specify the distribution."
   ]
  },
  {
   "cell_type": "code",
   "execution_count": 19,
   "metadata": {},
   "outputs": [
    {
     "data": {
      "text/plain": [
       "[0.9430034169854007,\n",
       " 5.493515606649173,\n",
       " 6.043594865276228,\n",
       " 6.236657568312029,\n",
       " 8.273104876904426,\n",
       " 1.0309752591831334,\n",
       " 6.141613746751543,\n",
       " 4.59586461977751,\n",
       " 8.986427755890245,\n",
       " 0.7917668128561905]"
      ]
     },
     "execution_count": 19,
     "metadata": {},
     "output_type": "execute_result"
    }
   ],
   "source": [
    "[zero_to_ten.random() for _ in range(10)]"
   ]
  },
  {
   "cell_type": "markdown",
   "metadata": {},
   "source": [
    "However, note that `some_complicated_dimension` is in fact a union of multiple chunks:"
   ]
  },
  {
   "cell_type": "code",
   "execution_count": 20,
   "metadata": {},
   "outputs": [
    {
     "name": "stdout",
     "output_type": "stream",
     "text": [
      "x: (0.00, 1.00) UNION (5.00, 10.00] UNION [20.00, 21.00) UNION (25.00, 30.00] UNION [40.00, 50.00)\n"
     ]
    }
   ],
   "source": [
    "print(some_complicated_dimension)"
   ]
  },
  {
   "cell_type": "markdown",
   "metadata": {},
   "source": [
    "It's called a composite dimension and is a result of union, difference, and intersection operations on continuous dimensions.\n",
    "\n",
    "However, random number generation in composite dimension has not been implemented yet."
   ]
  },
  {
   "cell_type": "code",
   "execution_count": 21,
   "metadata": {},
   "outputs": [
    {
     "name": "stdout",
     "output_type": "stream",
     "text": [
      "Not implemented!\n"
     ]
    }
   ],
   "source": [
    "try:\n",
    "    some_complicated_dimension.random()\n",
    "except NotImplementedError as e:\n",
    "    print(\"Not implemented!\")"
   ]
  },
  {
   "cell_type": "markdown",
   "metadata": {},
   "source": [
    "It is neither difficult nor urgent to implement. \n",
    "\n",
    "The complication arises, because a composite dimension is built atop an interval tree of ContinuousDimension objects, referred to in the code as chunks. To sample uniformly from such a composite dimension, we must know the sizes of each chunk and sample from each chunk with a probability proportional to its size."
   ]
  },
  {
   "cell_type": "markdown",
   "metadata": {},
   "source": [
    "### Discrete Dimension\n",
    "\n",
    "Represents a set of integers."
   ]
  },
  {
   "cell_type": "code",
   "execution_count": 22,
   "metadata": {},
   "outputs": [
    {
     "name": "stdout",
     "output_type": "stream",
     "text": [
      "x: {1, 2}\n",
      "x: {1, 2, 3}\n",
      "x: {10, 11, ... , 20}\n",
      "x: {1, 2, ... , 100}\n"
     ]
    }
   ],
   "source": [
    "one_two = DiscreteDimension(name='x', min=1, max=2)\n",
    "one_two_three = DiscreteDimension(name='x', min=1, max=3)\n",
    "ten_to_twenty = DiscreteDimension(name='x', min=10, max=20)\n",
    "one_to_hundred = DiscreteDimension(name='x', min=1, max=100)\n",
    "\n",
    "print(one_two)\n",
    "print(one_two_three)\n",
    "print(ten_to_twenty)\n",
    "print(one_to_hundred)"
   ]
  },
  {
   "cell_type": "code",
   "execution_count": 23,
   "metadata": {},
   "outputs": [],
   "source": [
    "assert 1 in one_two\n",
    "assert 1 in one_two_three\n",
    "assert 5 in one_to_hundred\n",
    "assert 5 not in one_two\n",
    "assert 5 not in ten_to_twenty\n",
    "assert 15 in ten_to_twenty"
   ]
  },
  {
   "cell_type": "markdown",
   "metadata": {},
   "source": [
    "#### Set operations on discrete dimensions"
   ]
  },
  {
   "cell_type": "code",
   "execution_count": 24,
   "metadata": {},
   "outputs": [
    {
     "data": {
      "text/plain": [
       "x: {1, 2} UNION {10, 11, ... , 20}"
      ]
     },
     "execution_count": 24,
     "metadata": {},
     "output_type": "execute_result"
    }
   ],
   "source": [
    "one_two.union(ten_to_twenty)"
   ]
  },
  {
   "cell_type": "code",
   "execution_count": 25,
   "metadata": {},
   "outputs": [],
   "source": [
    "assert 15 in one_two.union(ten_to_twenty)"
   ]
  },
  {
   "cell_type": "code",
   "execution_count": 26,
   "metadata": {},
   "outputs": [
    {
     "data": {
      "text/plain": [
       "x: {1, 2, ... , 9} UNION {21, 22, ... , 100}"
      ]
     },
     "execution_count": 26,
     "metadata": {},
     "output_type": "execute_result"
    }
   ],
   "source": [
    "one_to_hundred.difference(ten_to_twenty)"
   ]
  },
  {
   "cell_type": "code",
   "execution_count": 27,
   "metadata": {},
   "outputs": [],
   "source": [
    "assert 15 not in one_to_hundred.difference(ten_to_twenty)\n",
    "assert 50 in one_to_hundred.difference(ten_to_twenty)"
   ]
  },
  {
   "cell_type": "code",
   "execution_count": 28,
   "metadata": {},
   "outputs": [
    {
     "data": {
      "text/plain": [
       "x: {10, 11, ... , 20}"
      ]
     },
     "execution_count": 28,
     "metadata": {},
     "output_type": "execute_result"
    }
   ],
   "source": [
    "one_to_hundred.intersection(ten_to_twenty)"
   ]
  },
  {
   "cell_type": "code",
   "execution_count": 29,
   "metadata": {},
   "outputs": [],
   "source": [
    "assert one_to_hundred.intersection(ten_to_twenty) == ten_to_twenty"
   ]
  },
  {
   "cell_type": "markdown",
   "metadata": {},
   "source": [
    "#### Generating random value from discrete dimension"
   ]
  },
  {
   "cell_type": "code",
   "execution_count": 30,
   "metadata": {},
   "outputs": [
    {
     "name": "stdout",
     "output_type": "stream",
     "text": [
      "[19, 87, 4, 18, 38, 55, 30, 33, 47, 37]\n"
     ]
    }
   ],
   "source": [
    "print([one_to_hundred.random() for _ in range(10)])"
   ]
  },
  {
   "cell_type": "markdown",
   "metadata": {},
   "source": [
    "### CategoricalDimension"
   ]
  },
  {
   "cell_type": "code",
   "execution_count": 31,
   "metadata": {},
   "outputs": [
    {
     "name": "stdout",
     "output_type": "stream",
     "text": [
      "Generating 10 random algorithm values:\n",
      "\t[1/10] Random algorithm type: ExponentialBackOff\n",
      "\t[2/10] Random algorithm type: ExponentialBackOff\n",
      "\t[3/10] Random algorithm type: ExponentialBackOff\n",
      "\t[4/10] Random algorithm type: ExponentialBackOff\n",
      "\t[5/10] Random algorithm type: Optimistic\n",
      "\t[6/10] Random algorithm type: ExponentialBackOff\n",
      "\t[7/10] Random algorithm type: ExponentialBackOff\n",
      "\t[8/10] Random algorithm type: ExponentialBackOff\n",
      "\t[9/10] Random algorithm type: ExponentialBackOff\n",
      "\t[10/10] Random algorithm type: ExponentialBackOff\n"
     ]
    }
   ],
   "source": [
    "# Create a dimension corresponding to our algorithm type\n",
    "#\n",
    "spinlock_algorithm_type_dimension = CategoricalDimension(name=\"spinlock_algorithm_type\", values=[\"Optimistic\", \"ExponentialBackOff\"])\n",
    "\n",
    "# Create a few random parameter values\n",
    "#\n",
    "num_values = 10\n",
    "print(f\"Generating {num_values} random algorithm values:\")\n",
    "for i in range(num_values):\n",
    "    print(f\"\\t[{i+1}/{num_values}] Random algorithm type: {spinlock_algorithm_type_dimension.random()}\")"
   ]
  },
  {
   "cell_type": "markdown",
   "metadata": {},
   "source": [
    "### Ordinal Dimension\n",
    "\n",
    "Ordinal dimension subclasses from CategoricalDimension and the only difference is that it maintains ordering. The reason for its existence is that some models can leverage the fact that values in the set are ordered. For example: for categorical dimensions (unordered) we sometimes perform one-hot-encoding before feeding them into the model. For ordinal dimensions however, we may achieve better results by simply assigning monotonically increasing integers to values in the set."
   ]
  },
  {
   "cell_type": "code",
   "execution_count": 32,
   "metadata": {},
   "outputs": [
    {
     "name": "stdout",
     "output_type": "stream",
     "text": [
      "quality: {good, better, best}\n",
      "difficulty: {easy, hard, np-complete}\n"
     ]
    }
   ],
   "source": [
    "quality = OrdinalDimension(name='quality', ordered_values=['good', 'better', 'best'])\n",
    "difficulty = OrdinalDimension(name='difficulty', ordered_values=['easy', 'hard', 'np-complete'])\n",
    "print(quality)\n",
    "print(difficulty)"
   ]
  },
  {
   "cell_type": "markdown",
   "metadata": {},
   "source": [
    "# Hypergrids\n",
    "A simple hypergrid is a representation of a search space. It is a cartesian product of dimensions, and therefore also a set.\n",
    "\n",
    "A few words on the etymology:\n",
    "* hyper - for hyperdimensional, like hypercubes and hyperplanes\n",
    "* grid - if we only allowed continuous dimensions, the word hypercube would aptly describe the set of allowed configurations. But since we allow for Discrete (Integer), Categorical, and Ordinal dimensions, we end up with a hyperdimensional grid. \n",
    "\n",
    "Ergo: hypergrid.\n",
    "\n",
    "<sub>In the name of completeness, let us also point out that a hierarchical hypergrid is only a subset of the cartesian product of all of its dimensions.</sub>"
   ]
  },
  {
   "cell_type": "markdown",
   "metadata": {},
   "source": [
    "## Flat Hypergrids\n",
    "\n",
    "First, let's import a flat hypergrid with several dimensions. This document has nothing to do with glowworm swarm optimization, we are merely using this hypergrid as an example."
   ]
  },
  {
   "cell_type": "code",
   "execution_count": 33,
   "metadata": {},
   "outputs": [
    {
     "name": "stdout",
     "output_type": "stream",
     "text": [
      "  Name: glow_worm_swarm_optimizer_config\n",
      "  Dimensions:\n",
      "    num_initial_points_multiplier: {1, 2, ... , 10}\n",
      "    num_worms: {1, 2, ... , 1000}\n",
      "    num_iterations: {1, 2, ... , 1000}\n",
      "    luciferin_decay_constant: [0.00, 1.00]\n",
      "    luciferin_enhancement_constant: [0.00, 1.00]\n",
      "    step_size: [0.00, 1.00]\n",
      "    initial_decision_radius: (0.00, 1.00]\n",
      "    max_sensory_radius: [0.50, 10.00]\n",
      "    desired_num_neighbors: {1, 2, ... , 100}\n",
      "    decision_radius_adjustment_constant: [0.00, 1.00]\n"
     ]
    }
   ],
   "source": [
    "from mlos.Optimizers.ExperimentDesigner.UtilityFunctionOptimizers.GlowWormSwarmOptimizer import GlowWormSwarmOptimizerConfig\n",
    "print(GlowWormSwarmOptimizerConfig.CONFIG_SPACE)"
   ]
  },
  {
   "cell_type": "markdown",
   "metadata": {},
   "source": [
    "### Defining a flat Hypergrid\n",
    "... is as simple as providing its name and the dimensions comprising it. Let's reproduce the hypergrid from above."
   ]
  },
  {
   "cell_type": "code",
   "execution_count": 34,
   "metadata": {},
   "outputs": [],
   "source": [
    "from mlos.Spaces import Point, SimpleHypergrid\n",
    "\n",
    "glow_worm_config_space = SimpleHypergrid(\n",
    "    name=\"glow_worm_swarm_optimizer_config\",\n",
    "    dimensions=[\n",
    "        DiscreteDimension(name=\"num_initial_points_multiplier\", min=1, max=10),\n",
    "        DiscreteDimension(name=\"num_worms\", min=1, max=1000),\n",
    "        DiscreteDimension(name=\"num_iterations\", min=1, max=1000),\n",
    "        ContinuousDimension(name=\"luciferin_decay_constant\", min=0, max=1),\n",
    "        ContinuousDimension(name=\"luciferin_enhancement_constant\", min=0, max=1),\n",
    "        ContinuousDimension(name=\"step_size\", min=0, max=1),  # TODO: make this adaptive\n",
    "        ContinuousDimension(name=\"initial_decision_radius\", min=0, max=1, include_min=False),\n",
    "        ContinuousDimension(name=\"max_sensory_radius\", min=0.5, max=10),\n",
    "        DiscreteDimension(name=\"desired_num_neighbors\", min=1, max=100),\n",
    "        ContinuousDimension(name=\"decision_radius_adjustment_constant\", min=0, max=1)\n",
    "    ]\n",
    ")"
   ]
  },
  {
   "cell_type": "code",
   "execution_count": 35,
   "metadata": {},
   "outputs": [
    {
     "name": "stdout",
     "output_type": "stream",
     "text": [
      "  Name: glow_worm_swarm_optimizer_config\n",
      "  Dimensions:\n",
      "    num_initial_points_multiplier: {1, 2, ... , 10}\n",
      "    num_worms: {1, 2, ... , 1000}\n",
      "    num_iterations: {1, 2, ... , 1000}\n",
      "    luciferin_decay_constant: [0.00, 1.00]\n",
      "    luciferin_enhancement_constant: [0.00, 1.00]\n",
      "    step_size: [0.00, 1.00]\n",
      "    initial_decision_radius: (0.00, 1.00]\n",
      "    max_sensory_radius: [0.50, 10.00]\n",
      "    desired_num_neighbors: {1, 2, ... , 100}\n",
      "    decision_radius_adjustment_constant: [0.00, 1.00]\n"
     ]
    }
   ],
   "source": [
    "print(glow_worm_config_space)"
   ]
  },
  {
   "cell_type": "code",
   "execution_count": 36,
   "metadata": {},
   "outputs": [],
   "source": [
    "# Let's convince ourselves that they are the same.\n",
    "#\n",
    "assert str(glow_worm_config_space) == str(GlowWormSwarmOptimizerConfig.CONFIG_SPACE)"
   ]
  },
  {
   "cell_type": "markdown",
   "metadata": {},
   "source": [
    "#### Generating a random point from a hypergrid\n",
    "Lot's of components throughout the code depend our ability to efficiently generate random, valid configurations. Hypergrids provide this functionality for individual points, and for entire dataframes.\n"
   ]
  },
  {
   "cell_type": "code",
   "execution_count": 37,
   "metadata": {},
   "outputs": [
    {
     "name": "stdout",
     "output_type": "stream",
     "text": [
      "<class 'mlos.Spaces.Point.Point'>\n",
      "{\n",
      "  \"num_initial_points_multiplier\": 6,\n",
      "  \"num_worms\": 618,\n",
      "  \"num_iterations\": 498,\n",
      "  \"luciferin_decay_constant\": 0.4629624706122907,\n",
      "  \"luciferin_enhancement_constant\": 0.11539918544368921,\n",
      "  \"step_size\": 0.7839086739989948,\n",
      "  \"initial_decision_radius\": 0.9867950288910138,\n",
      "  \"max_sensory_radius\": 6.351445371071352,\n",
      "  \"desired_num_neighbors\": 50,\n",
      "  \"decision_radius_adjustment_constant\": 0.5509636509460537\n",
      "}\n"
     ]
    }
   ],
   "source": [
    "# Single point - converting to json makes it easier to read.\n",
    "#\n",
    "random_point = glow_worm_config_space.random()\n",
    "print(type(random_point))\n",
    "print(random_point.to_json(indent=2))"
   ]
  },
  {
   "cell_type": "markdown",
   "metadata": {},
   "source": [
    "#### Generating Random DataFrames\n",
    "Since most of the optimizer's components can __operate on batches of data much more efficiently than on individual points__."
   ]
  },
  {
   "cell_type": "code",
   "execution_count": 38,
   "metadata": {},
   "outputs": [
    {
     "data": {
      "text/html": [
       "<div>\n",
       "<style scoped>\n",
       "    .dataframe tbody tr th:only-of-type {\n",
       "        vertical-align: middle;\n",
       "    }\n",
       "\n",
       "    .dataframe tbody tr th {\n",
       "        vertical-align: top;\n",
       "    }\n",
       "\n",
       "    .dataframe thead th {\n",
       "        text-align: right;\n",
       "    }\n",
       "</style>\n",
       "<table border=\"1\" class=\"dataframe\">\n",
       "  <thead>\n",
       "    <tr style=\"text-align: right;\">\n",
       "      <th></th>\n",
       "      <th>num_initial_points_multiplier</th>\n",
       "      <th>num_worms</th>\n",
       "      <th>num_iterations</th>\n",
       "      <th>luciferin_decay_constant</th>\n",
       "      <th>luciferin_enhancement_constant</th>\n",
       "      <th>step_size</th>\n",
       "      <th>initial_decision_radius</th>\n",
       "      <th>max_sensory_radius</th>\n",
       "      <th>desired_num_neighbors</th>\n",
       "      <th>decision_radius_adjustment_constant</th>\n",
       "    </tr>\n",
       "  </thead>\n",
       "  <tbody>\n",
       "    <tr>\n",
       "      <th>0</th>\n",
       "      <td>4</td>\n",
       "      <td>334</td>\n",
       "      <td>953</td>\n",
       "      <td>0.058789</td>\n",
       "      <td>0.157741</td>\n",
       "      <td>0.514318</td>\n",
       "      <td>0.809881</td>\n",
       "      <td>7.424132</td>\n",
       "      <td>51</td>\n",
       "      <td>0.118110</td>\n",
       "    </tr>\n",
       "    <tr>\n",
       "      <th>1</th>\n",
       "      <td>7</td>\n",
       "      <td>921</td>\n",
       "      <td>904</td>\n",
       "      <td>0.519878</td>\n",
       "      <td>0.771608</td>\n",
       "      <td>0.014048</td>\n",
       "      <td>0.513751</td>\n",
       "      <td>2.431348</td>\n",
       "      <td>3</td>\n",
       "      <td>0.185906</td>\n",
       "    </tr>\n",
       "    <tr>\n",
       "      <th>2</th>\n",
       "      <td>4</td>\n",
       "      <td>579</td>\n",
       "      <td>617</td>\n",
       "      <td>0.085267</td>\n",
       "      <td>0.207911</td>\n",
       "      <td>0.131353</td>\n",
       "      <td>0.668103</td>\n",
       "      <td>3.382621</td>\n",
       "      <td>31</td>\n",
       "      <td>0.762198</td>\n",
       "    </tr>\n",
       "    <tr>\n",
       "      <th>3</th>\n",
       "      <td>8</td>\n",
       "      <td>948</td>\n",
       "      <td>583</td>\n",
       "      <td>0.727917</td>\n",
       "      <td>0.999328</td>\n",
       "      <td>0.675946</td>\n",
       "      <td>0.964981</td>\n",
       "      <td>4.457289</td>\n",
       "      <td>81</td>\n",
       "      <td>0.833082</td>\n",
       "    </tr>\n",
       "    <tr>\n",
       "      <th>4</th>\n",
       "      <td>8</td>\n",
       "      <td>437</td>\n",
       "      <td>84</td>\n",
       "      <td>0.792325</td>\n",
       "      <td>0.628284</td>\n",
       "      <td>0.593763</td>\n",
       "      <td>0.768098</td>\n",
       "      <td>6.134501</td>\n",
       "      <td>8</td>\n",
       "      <td>0.389574</td>\n",
       "    </tr>\n",
       "    <tr>\n",
       "      <th>5</th>\n",
       "      <td>5</td>\n",
       "      <td>365</td>\n",
       "      <td>412</td>\n",
       "      <td>0.273645</td>\n",
       "      <td>0.376908</td>\n",
       "      <td>0.242480</td>\n",
       "      <td>0.533621</td>\n",
       "      <td>0.835113</td>\n",
       "      <td>34</td>\n",
       "      <td>0.241642</td>\n",
       "    </tr>\n",
       "    <tr>\n",
       "      <th>6</th>\n",
       "      <td>9</td>\n",
       "      <td>539</td>\n",
       "      <td>684</td>\n",
       "      <td>0.701923</td>\n",
       "      <td>0.035636</td>\n",
       "      <td>0.792090</td>\n",
       "      <td>0.514286</td>\n",
       "      <td>5.912322</td>\n",
       "      <td>90</td>\n",
       "      <td>0.191075</td>\n",
       "    </tr>\n",
       "    <tr>\n",
       "      <th>7</th>\n",
       "      <td>1</td>\n",
       "      <td>789</td>\n",
       "      <td>336</td>\n",
       "      <td>0.323964</td>\n",
       "      <td>0.301575</td>\n",
       "      <td>0.700759</td>\n",
       "      <td>0.490160</td>\n",
       "      <td>5.925013</td>\n",
       "      <td>31</td>\n",
       "      <td>0.478247</td>\n",
       "    </tr>\n",
       "    <tr>\n",
       "      <th>8</th>\n",
       "      <td>10</td>\n",
       "      <td>821</td>\n",
       "      <td>836</td>\n",
       "      <td>0.382796</td>\n",
       "      <td>0.270305</td>\n",
       "      <td>0.064799</td>\n",
       "      <td>0.463399</td>\n",
       "      <td>4.865081</td>\n",
       "      <td>51</td>\n",
       "      <td>0.139905</td>\n",
       "    </tr>\n",
       "    <tr>\n",
       "      <th>9</th>\n",
       "      <td>6</td>\n",
       "      <td>216</td>\n",
       "      <td>693</td>\n",
       "      <td>0.686796</td>\n",
       "      <td>0.398114</td>\n",
       "      <td>0.830510</td>\n",
       "      <td>0.522597</td>\n",
       "      <td>3.586261</td>\n",
       "      <td>77</td>\n",
       "      <td>0.493748</td>\n",
       "    </tr>\n",
       "  </tbody>\n",
       "</table>\n",
       "</div>"
      ],
      "text/plain": [
       "   num_initial_points_multiplier  num_worms  num_iterations  \\\n",
       "0                              4        334             953   \n",
       "1                              7        921             904   \n",
       "2                              4        579             617   \n",
       "3                              8        948             583   \n",
       "4                              8        437              84   \n",
       "5                              5        365             412   \n",
       "6                              9        539             684   \n",
       "7                              1        789             336   \n",
       "8                             10        821             836   \n",
       "9                              6        216             693   \n",
       "\n",
       "   luciferin_decay_constant  luciferin_enhancement_constant  step_size  \\\n",
       "0                  0.058789                        0.157741   0.514318   \n",
       "1                  0.519878                        0.771608   0.014048   \n",
       "2                  0.085267                        0.207911   0.131353   \n",
       "3                  0.727917                        0.999328   0.675946   \n",
       "4                  0.792325                        0.628284   0.593763   \n",
       "5                  0.273645                        0.376908   0.242480   \n",
       "6                  0.701923                        0.035636   0.792090   \n",
       "7                  0.323964                        0.301575   0.700759   \n",
       "8                  0.382796                        0.270305   0.064799   \n",
       "9                  0.686796                        0.398114   0.830510   \n",
       "\n",
       "   initial_decision_radius  max_sensory_radius  desired_num_neighbors  \\\n",
       "0                 0.809881            7.424132                     51   \n",
       "1                 0.513751            2.431348                      3   \n",
       "2                 0.668103            3.382621                     31   \n",
       "3                 0.964981            4.457289                     81   \n",
       "4                 0.768098            6.134501                      8   \n",
       "5                 0.533621            0.835113                     34   \n",
       "6                 0.514286            5.912322                     90   \n",
       "7                 0.490160            5.925013                     31   \n",
       "8                 0.463399            4.865081                     51   \n",
       "9                 0.522597            3.586261                     77   \n",
       "\n",
       "   decision_radius_adjustment_constant  \n",
       "0                             0.118110  \n",
       "1                             0.185906  \n",
       "2                             0.762198  \n",
       "3                             0.833082  \n",
       "4                             0.389574  \n",
       "5                             0.241642  \n",
       "6                             0.191075  \n",
       "7                             0.478247  \n",
       "8                             0.139905  \n",
       "9                             0.493748  "
      ]
     },
     "execution_count": 38,
     "metadata": {},
     "output_type": "execute_result"
    }
   ],
   "source": [
    "# Entire dataframe\n",
    "#\n",
    "glow_worm_config_space.random_dataframe(num_samples=10)"
   ]
  },
  {
   "cell_type": "markdown",
   "metadata": {},
   "source": [
    "##### A note on distribution\n",
    "In a flat hypergrid the points are sampled uniformly across the entire hypergrid."
   ]
  },
  {
   "cell_type": "markdown",
   "metadata": {},
   "source": [
    "### Testing containment\n",
    "\n",
    "A very useful feature is to test whether a given point belongs to a hypergrid or not. An ability to test whether a dataframe belongs to a hypergrid might be useful, but we have not seen the need to implement it yet."
   ]
  },
  {
   "cell_type": "code",
   "execution_count": 39,
   "metadata": {},
   "outputs": [],
   "source": [
    "valid_point = glow_worm_config_space.random()\n",
    "assert valid_point in glow_worm_config_space"
   ]
  },
  {
   "cell_type": "code",
   "execution_count": 40,
   "metadata": {},
   "outputs": [],
   "source": [
    "# And now let's construct an invalid point.\n",
    "#\n",
    "invalid_point = valid_point.copy()\n",
    "\n",
    "# This dimension has to be positive so let's set it to zero.\n",
    "#\n",
    "invalid_point.num_initial_points_multiplier = 0\n",
    "\n",
    "# And finally test.\n",
    "#\n",
    "assert invalid_point not in glow_worm_config_space"
   ]
  },
  {
   "cell_type": "markdown",
   "metadata": {},
   "source": [
    "##### Converting between a Point and a DataFrame\n",
    "A point can be trivially converted to a DataFrame. The reverse is also possible for DataFrames of length 1.  "
   ]
  },
  {
   "cell_type": "code",
   "execution_count": 41,
   "metadata": {},
   "outputs": [
    {
     "data": {
      "text/html": [
       "<div>\n",
       "<style scoped>\n",
       "    .dataframe tbody tr th:only-of-type {\n",
       "        vertical-align: middle;\n",
       "    }\n",
       "\n",
       "    .dataframe tbody tr th {\n",
       "        vertical-align: top;\n",
       "    }\n",
       "\n",
       "    .dataframe thead th {\n",
       "        text-align: right;\n",
       "    }\n",
       "</style>\n",
       "<table border=\"1\" class=\"dataframe\">\n",
       "  <thead>\n",
       "    <tr style=\"text-align: right;\">\n",
       "      <th></th>\n",
       "      <th>num_initial_points_multiplier</th>\n",
       "      <th>num_worms</th>\n",
       "      <th>num_iterations</th>\n",
       "      <th>luciferin_decay_constant</th>\n",
       "      <th>luciferin_enhancement_constant</th>\n",
       "      <th>step_size</th>\n",
       "      <th>initial_decision_radius</th>\n",
       "      <th>max_sensory_radius</th>\n",
       "      <th>desired_num_neighbors</th>\n",
       "      <th>decision_radius_adjustment_constant</th>\n",
       "    </tr>\n",
       "  </thead>\n",
       "  <tbody>\n",
       "    <tr>\n",
       "      <th>0</th>\n",
       "      <td>5</td>\n",
       "      <td>87</td>\n",
       "      <td>446</td>\n",
       "      <td>0.129421</td>\n",
       "      <td>0.165825</td>\n",
       "      <td>0.268577</td>\n",
       "      <td>0.818531</td>\n",
       "      <td>7.04006</td>\n",
       "      <td>82</td>\n",
       "      <td>0.743758</td>\n",
       "    </tr>\n",
       "  </tbody>\n",
       "</table>\n",
       "</div>"
      ],
      "text/plain": [
       "   num_initial_points_multiplier  num_worms  num_iterations  \\\n",
       "0                              5         87             446   \n",
       "\n",
       "   luciferin_decay_constant  luciferin_enhancement_constant  step_size  \\\n",
       "0                  0.129421                        0.165825   0.268577   \n",
       "\n",
       "   initial_decision_radius  max_sensory_radius  desired_num_neighbors  \\\n",
       "0                 0.818531             7.04006                     82   \n",
       "\n",
       "   decision_radius_adjustment_constant  \n",
       "0                             0.743758  "
      ]
     },
     "execution_count": 41,
     "metadata": {},
     "output_type": "execute_result"
    }
   ],
   "source": [
    "valid_point_df = valid_point.to_dataframe()\n",
    "valid_point_df"
   ]
  },
  {
   "cell_type": "code",
   "execution_count": 42,
   "metadata": {},
   "outputs": [
    {
     "name": "stdout",
     "output_type": "stream",
     "text": [
      "{\n",
      "  \"num_initial_points_multiplier\": 5,\n",
      "  \"num_worms\": 87,\n",
      "  \"num_iterations\": 446,\n",
      "  \"luciferin_decay_constant\": 0.1294206826443891,\n",
      "  \"luciferin_enhancement_constant\": 0.1658248957450612,\n",
      "  \"step_size\": 0.2685768989728735,\n",
      "  \"initial_decision_radius\": 0.8185305306263513,\n",
      "  \"max_sensory_radius\": 7.040060087432184,\n",
      "  \"desired_num_neighbors\": 82,\n",
      "  \"decision_radius_adjustment_constant\": 0.7437578683363629\n",
      "}\n"
     ]
    }
   ],
   "source": [
    "reconstructed_valid_point = Point.from_dataframe(valid_point_df)\n",
    "print(reconstructed_valid_point.to_json(indent=2))"
   ]
  },
  {
   "cell_type": "markdown",
   "metadata": {},
   "source": [
    "#### Equality between two points\n"
   ]
  },
  {
   "cell_type": "code",
   "execution_count": 43,
   "metadata": {},
   "outputs": [],
   "source": [
    "assert valid_point == reconstructed_valid_point"
   ]
  },
  {
   "cell_type": "code",
   "execution_count": 44,
   "metadata": {},
   "outputs": [],
   "source": [
    "assert valid_point != invalid_point"
   ]
  },
  {
   "cell_type": "markdown",
   "metadata": {},
   "source": [
    "# Hierarchical Hypergrids\n",
    "\n",
    "Flat Hypergrids are powerful, but we can do better. Consider a situation when we want to ask the optimizer to choose one of the available algorithm implementations, and then optimize its parameters. Such multi-level optimization is pretty hard to begin with so we need to give the optimizer every advantage we can afford. This is where hierarchical hypergrids come into picture. They allow the developer to group parameters by the the implementation they pertain to.  "
   ]
  },
  {
   "cell_type": "markdown",
   "metadata": {},
   "source": [
    "### What the world looks like without hierarchical hypergrids\n",
    "\n",
    "One of our internal use-cases for MLOS is an optimization of spinlocks. We have two alternative back off policies: Optimistic, and ExponentialBackOff. They are governed by two distinct set of parameters. If we were forced to use a flat hypergrid we would have to describe them as follows:"
   ]
  },
  {
   "cell_type": "code",
   "execution_count": 45,
   "metadata": {},
   "outputs": [
    {
     "name": "stdout",
     "output_type": "stream",
     "text": [
      "  Name: SpinlockParameterSpace\n",
      "  Dimensions:\n",
      "    backOffPolicy: {Optimistic, ExponentialBackOff}\n",
      "    shortBackOffMilliSeconds: {1, 2, ... , 32768}\n",
      "    longBackOffMilliSeconds: {1, 2, ... , 32768}\n",
      "    longBackOffWaitMilliSeconds: {1, 2, ... , 32768}\n",
      "    minSpinCount: {1, 2, ... , 1048576}\n",
      "    maxSpinCount: {1, 2, ... , 1048576}\n",
      "    maxBackOffAttempts: {1, 2, ... , 1048576}\n",
      "    acquireSpinCount: {1, 2, ... , 1048576}\n"
     ]
    },
    {
     "data": {
      "text/html": [
       "<div>\n",
       "<style scoped>\n",
       "    .dataframe tbody tr th:only-of-type {\n",
       "        vertical-align: middle;\n",
       "    }\n",
       "\n",
       "    .dataframe tbody tr th {\n",
       "        vertical-align: top;\n",
       "    }\n",
       "\n",
       "    .dataframe thead th {\n",
       "        text-align: right;\n",
       "    }\n",
       "</style>\n",
       "<table border=\"1\" class=\"dataframe\">\n",
       "  <thead>\n",
       "    <tr style=\"text-align: right;\">\n",
       "      <th></th>\n",
       "      <th>backOffPolicy</th>\n",
       "      <th>shortBackOffMilliSeconds</th>\n",
       "      <th>longBackOffMilliSeconds</th>\n",
       "      <th>longBackOffWaitMilliSeconds</th>\n",
       "      <th>minSpinCount</th>\n",
       "      <th>maxSpinCount</th>\n",
       "      <th>maxBackOffAttempts</th>\n",
       "      <th>acquireSpinCount</th>\n",
       "    </tr>\n",
       "  </thead>\n",
       "  <tbody>\n",
       "    <tr>\n",
       "      <th>0</th>\n",
       "      <td>Optimistic</td>\n",
       "      <td>23125</td>\n",
       "      <td>22913</td>\n",
       "      <td>5631</td>\n",
       "      <td>235254</td>\n",
       "      <td>396187</td>\n",
       "      <td>469109</td>\n",
       "      <td>283353</td>\n",
       "    </tr>\n",
       "    <tr>\n",
       "      <th>1</th>\n",
       "      <td>Optimistic</td>\n",
       "      <td>23026</td>\n",
       "      <td>2475</td>\n",
       "      <td>17505</td>\n",
       "      <td>761767</td>\n",
       "      <td>918617</td>\n",
       "      <td>980167</td>\n",
       "      <td>951481</td>\n",
       "    </tr>\n",
       "    <tr>\n",
       "      <th>2</th>\n",
       "      <td>Optimistic</td>\n",
       "      <td>27565</td>\n",
       "      <td>32597</td>\n",
       "      <td>23635</td>\n",
       "      <td>1034751</td>\n",
       "      <td>790651</td>\n",
       "      <td>861120</td>\n",
       "      <td>72567</td>\n",
       "    </tr>\n",
       "    <tr>\n",
       "      <th>3</th>\n",
       "      <td>Optimistic</td>\n",
       "      <td>14640</td>\n",
       "      <td>11396</td>\n",
       "      <td>17576</td>\n",
       "      <td>434891</td>\n",
       "      <td>683257</td>\n",
       "      <td>851802</td>\n",
       "      <td>135255</td>\n",
       "    </tr>\n",
       "    <tr>\n",
       "      <th>4</th>\n",
       "      <td>ExponentialBackOff</td>\n",
       "      <td>9213</td>\n",
       "      <td>26928</td>\n",
       "      <td>421</td>\n",
       "      <td>800122</td>\n",
       "      <td>255125</td>\n",
       "      <td>421161</td>\n",
       "      <td>36804</td>\n",
       "    </tr>\n",
       "    <tr>\n",
       "      <th>5</th>\n",
       "      <td>ExponentialBackOff</td>\n",
       "      <td>27215</td>\n",
       "      <td>4469</td>\n",
       "      <td>15795</td>\n",
       "      <td>294266</td>\n",
       "      <td>184041</td>\n",
       "      <td>256447</td>\n",
       "      <td>822248</td>\n",
       "    </tr>\n",
       "    <tr>\n",
       "      <th>6</th>\n",
       "      <td>Optimistic</td>\n",
       "      <td>26919</td>\n",
       "      <td>22685</td>\n",
       "      <td>28500</td>\n",
       "      <td>89687</td>\n",
       "      <td>909637</td>\n",
       "      <td>367078</td>\n",
       "      <td>49889</td>\n",
       "    </tr>\n",
       "    <tr>\n",
       "      <th>7</th>\n",
       "      <td>Optimistic</td>\n",
       "      <td>20489</td>\n",
       "      <td>9521</td>\n",
       "      <td>27661</td>\n",
       "      <td>287142</td>\n",
       "      <td>499202</td>\n",
       "      <td>246459</td>\n",
       "      <td>549886</td>\n",
       "    </tr>\n",
       "    <tr>\n",
       "      <th>8</th>\n",
       "      <td>ExponentialBackOff</td>\n",
       "      <td>3751</td>\n",
       "      <td>9289</td>\n",
       "      <td>22623</td>\n",
       "      <td>33628</td>\n",
       "      <td>319196</td>\n",
       "      <td>687858</td>\n",
       "      <td>657756</td>\n",
       "    </tr>\n",
       "    <tr>\n",
       "      <th>9</th>\n",
       "      <td>Optimistic</td>\n",
       "      <td>26573</td>\n",
       "      <td>21877</td>\n",
       "      <td>10052</td>\n",
       "      <td>252331</td>\n",
       "      <td>733507</td>\n",
       "      <td>612385</td>\n",
       "      <td>403812</td>\n",
       "    </tr>\n",
       "  </tbody>\n",
       "</table>\n",
       "</div>"
      ],
      "text/plain": [
       "        backOffPolicy  shortBackOffMilliSeconds  longBackOffMilliSeconds  \\\n",
       "0          Optimistic                     23125                    22913   \n",
       "1          Optimistic                     23026                     2475   \n",
       "2          Optimistic                     27565                    32597   \n",
       "3          Optimistic                     14640                    11396   \n",
       "4  ExponentialBackOff                      9213                    26928   \n",
       "5  ExponentialBackOff                     27215                     4469   \n",
       "6          Optimistic                     26919                    22685   \n",
       "7          Optimistic                     20489                     9521   \n",
       "8  ExponentialBackOff                      3751                     9289   \n",
       "9          Optimistic                     26573                    21877   \n",
       "\n",
       "   longBackOffWaitMilliSeconds  minSpinCount  maxSpinCount  \\\n",
       "0                         5631        235254        396187   \n",
       "1                        17505        761767        918617   \n",
       "2                        23635       1034751        790651   \n",
       "3                        17576        434891        683257   \n",
       "4                          421        800122        255125   \n",
       "5                        15795        294266        184041   \n",
       "6                        28500         89687        909637   \n",
       "7                        27661        287142        499202   \n",
       "8                        22623         33628        319196   \n",
       "9                        10052        252331        733507   \n",
       "\n",
       "   maxBackOffAttempts  acquireSpinCount  \n",
       "0              469109            283353  \n",
       "1              980167            951481  \n",
       "2              861120             72567  \n",
       "3              851802            135255  \n",
       "4              421161             36804  \n",
       "5              256447            822248  \n",
       "6              367078             49889  \n",
       "7              246459            549886  \n",
       "8              687858            657756  \n",
       "9              612385            403812  "
      ]
     },
     "execution_count": 45,
     "metadata": {},
     "output_type": "execute_result"
    }
   ],
   "source": [
    "flat_spinlock_parameter_space = SimpleHypergrid(\n",
    "    name=\"SpinlockParameterSpace\",\n",
    "    dimensions = [\n",
    "        CategoricalDimension(name=\"backOffPolicy\", values=[\"Optimistic\", \"ExponentialBackOff\"]),\n",
    "        DiscreteDimension(name=\"shortBackOffMilliSeconds\", min=1, max=1 << 15),\n",
    "        DiscreteDimension(name=\"longBackOffMilliSeconds\", min=1, max=1 << 15),\n",
    "        DiscreteDimension(name=\"longBackOffWaitMilliSeconds\", min=1, max=1 << 15),\n",
    "        DiscreteDimension(name=\"minSpinCount\", min=1, max=1 << 20),\n",
    "        DiscreteDimension(name=\"maxSpinCount\", min=1, max=1 << 20),\n",
    "        DiscreteDimension(name=\"maxBackOffAttempts\", min=1, max=1 << 20),\n",
    "        DiscreteDimension(name=\"acquireSpinCount\", min=1, max=1 << 20)\n",
    "    ]\n",
    ")\n",
    "print(flat_spinlock_parameter_space)\n",
    "flat_spinlock_parameter_space.random_dataframe(num_samples=10)"
   ]
  },
  {
   "cell_type": "markdown",
   "metadata": {},
   "source": [
    "We can see that the configuration parameters are mixed for both the implementations. With sufficient training, the surrogate model within the optimizer might discover which parameters pertain to which policy, but it's inefficient. The unused parameters, effectively serve as noise."
   ]
  },
  {
   "cell_type": "markdown",
   "metadata": {},
   "source": [
    "### Using a hierarchical hypergrid to partition the search space\n",
    "A superior alternative is to partition the search space and group the parameters into subspaces. We can do it, by constructing a hierarchical hypergrid."
   ]
  },
  {
   "cell_type": "code",
   "execution_count": 46,
   "metadata": {},
   "outputs": [
    {
     "name": "stdout",
     "output_type": "stream",
     "text": [
      "  Name: SpinlockParameterSpace\n",
      "  Dimensions:\n",
      "    backOffPolicy: {Optimistic, ExponentialBackOff}\n"
     ]
    }
   ],
   "source": [
    "root_spinlock_parameter_space = SimpleHypergrid(\n",
    "    name=\"SpinlockParameterSpace\",\n",
    "    dimensions=[\n",
    "        CategoricalDimension(name=\"backOffPolicy\", values=[\"Optimistic\", \"ExponentialBackOff\"])\n",
    "    ]\n",
    ")\n",
    "print(root_spinlock_parameter_space)"
   ]
  },
  {
   "cell_type": "markdown",
   "metadata": {},
   "source": [
    "In the top level of the hierarchy we specify only the parameter controlling the back-off policy. Let's now specify a subgrid for each of the policies:"
   ]
  },
  {
   "cell_type": "code",
   "execution_count": 47,
   "metadata": {},
   "outputs": [
    {
     "name": "stdout",
     "output_type": "stream",
     "text": [
      "  Name: OptimisticBackoff\n",
      "  Dimensions:\n",
      "    acquireSpinCount: {1, 2, ... , 1048576}\n"
     ]
    }
   ],
   "source": [
    "optimistic_backoff_parameter_space = SimpleHypergrid(\n",
    "    name=\"OptimisticBackoff\",\n",
    "    dimensions=[\n",
    "        DiscreteDimension(name=\"acquireSpinCount\", min=1, max=1 << 20),\n",
    "    ]\n",
    ")\n",
    "print(optimistic_backoff_parameter_space)"
   ]
  },
  {
   "cell_type": "code",
   "execution_count": 48,
   "metadata": {},
   "outputs": [
    {
     "name": "stdout",
     "output_type": "stream",
     "text": [
      "  Name: ExponentialBackoff\n",
      "  Dimensions:\n",
      "    minSpinCount: {1, 2, ... , 1048576}\n",
      "    maxSpinCount: {1, 2, ... , 1048576}\n",
      "    maxBackOffAttempts: {1, 2, ... , 1048576}\n",
      "    shortBackOffMilliSeconds: {1, 2, ... , 32768}\n",
      "    longBackOffMilliSeconds: {1, 2, ... , 32768}\n",
      "    longBackOffWaitMilliSeconds: {1, 2, ... , 32768}\n"
     ]
    }
   ],
   "source": [
    "exponential_backoff_parameter_space = SimpleHypergrid(\n",
    "    name=\"ExponentialBackoff\",\n",
    "    dimensions=[\n",
    "        DiscreteDimension(name=\"minSpinCount\", min=1, max=1 << 20),\n",
    "        DiscreteDimension(name=\"maxSpinCount\", min=1, max=1 << 20),\n",
    "        DiscreteDimension(name=\"maxBackOffAttempts\", min=1, max=1 << 20),\n",
    "        DiscreteDimension(name=\"shortBackOffMilliSeconds\", min=1, max=1 << 15),\n",
    "        DiscreteDimension(name=\"longBackOffMilliSeconds\", min=1, max=1 << 15),\n",
    "        DiscreteDimension(name=\"longBackOffWaitMilliSeconds\", min=1, max=1 << 15),\n",
    "    ]\n",
    ")\n",
    "print(exponential_backoff_parameter_space)"
   ]
  },
  {
   "cell_type": "markdown",
   "metadata": {},
   "source": [
    "Joining the three spaces together to form a hierarchy can be accomplished by specifying a join dimension between them. The meaning of the join dimensions is best explained by the output below:"
   ]
  },
  {
   "cell_type": "code",
   "execution_count": 49,
   "metadata": {},
   "outputs": [
    {
     "name": "stdout",
     "output_type": "stream",
     "text": [
      "  Name: SpinlockParameterSpace\n",
      "  Dimensions:\n",
      "    backOffPolicy: {Optimistic, ExponentialBackOff}\n",
      "\n",
      "  IF backOffPolicy IN {ExponentialBackOff} THEN (\n",
      "    Name: ExponentialBackoff\n",
      "    Dimensions:\n",
      "      minSpinCount: {1, 2, ... , 1048576}\n",
      "      maxSpinCount: {1, 2, ... , 1048576}\n",
      "      maxBackOffAttempts: {1, 2, ... , 1048576}\n",
      "      shortBackOffMilliSeconds: {1, 2, ... , 32768}\n",
      "      longBackOffMilliSeconds: {1, 2, ... , 32768}\n",
      "      longBackOffWaitMilliSeconds: {1, 2, ... , 32768}\n",
      "  )\n",
      "\n",
      "  IF backOffPolicy IN {Optimistic} THEN (\n",
      "    Name: OptimisticBackoff\n",
      "    Dimensions:\n",
      "      acquireSpinCount: {1, 2, ... , 1048576}\n",
      "  )\n"
     ]
    }
   ],
   "source": [
    "hierarchical_spinlock_parameter_space = root_spinlock_parameter_space.join(\n",
    "    subgrid=optimistic_backoff_parameter_space,\n",
    "    on_external_dimension=CategoricalDimension(name=\"backOffPolicy\", values=[\"Optimistic\"])\n",
    ").join(\n",
    "    subgrid=exponential_backoff_parameter_space,\n",
    "    on_external_dimension=CategoricalDimension(name=\"backOffPolicy\", values=[\"ExponentialBackOff\"])\n",
    ")\n",
    "print(hierarchical_spinlock_parameter_space)"
   ]
  },
  {
   "cell_type": "markdown",
   "metadata": {},
   "source": [
    "A useful side effect of this arrangement is that alternative implementations of smart components (TODO: define a smart component) can be __developed separately, but optimized jointly__. And in general we can compose a larger system from many smart components. If you study the Optimizer code, you will find this principle in action.\n",
    "\n",
    "Furthermore, if the optimizer uses an ensemble model, it can now __logically partition the input features to consituent models__. This is exactly what we do in the Homogeneous Random Forest Regression Model. Each decision tree gets a semantically coherent subset of all parameters. This is doubly nice, because no observation can ever simultanously contain valid parameters for both implementations, so we avoid a need to impute."
   ]
  },
  {
   "cell_type": "markdown",
   "metadata": {},
   "source": [
    "_A few words on the history and geography of hypergrids:_ At one point we used to have two classes: SimpleHypergrid and CompositeHypergrid to represent the flat and hierarchical spaces respectively. We have since simplified the design and the SimpleHypergrid can now represent both. Suitable renames are upcoming.\n",
    "\n",
    "_A note on the mathematical interpretation of this join:_ Observant readers may notice that this use of the .join() operator is tantamount to producing a disjoint union of the sets described by each policy's subgrid. Curious readers may consider a possiblity of using .join() operators as a simple way to implement a cartesian product of two spaces."
   ]
  },
  {
   "cell_type": "markdown",
   "metadata": {},
   "source": [
    "### Operating on hierarchical hypergrids\n",
    "All of the functions described above for the flat hypergrid, work also for hierarchical hypergrids. Afterall, they are all instances of the SimpleHypergrid class. Let's demonstrate them and point out some noteworthy behavior changes."
   ]
  },
  {
   "cell_type": "markdown",
   "metadata": {},
   "source": [
    "#### Generating a random point from a hierarchical hypergrid\n",
    "We really have to generate a few to see the important behavior change:"
   ]
  },
  {
   "cell_type": "code",
   "execution_count": 50,
   "metadata": {},
   "outputs": [
    {
     "name": "stdout",
     "output_type": "stream",
     "text": [
      "{\n",
      "  \"backOffPolicy\": \"Optimistic\",\n",
      "  \"OptimisticBackoff.acquireSpinCount\": 315628\n",
      "}\n",
      "-----------------------------------------------\n",
      "{\n",
      "  \"backOffPolicy\": \"ExponentialBackOff\",\n",
      "  \"ExponentialBackoff.minSpinCount\": 867892,\n",
      "  \"ExponentialBackoff.maxSpinCount\": 374913,\n",
      "  \"ExponentialBackoff.maxBackOffAttempts\": 718396,\n",
      "  \"ExponentialBackoff.shortBackOffMilliSeconds\": 32753,\n",
      "  \"ExponentialBackoff.longBackOffMilliSeconds\": 28187,\n",
      "  \"ExponentialBackoff.longBackOffWaitMilliSeconds\": 5240\n",
      "}\n",
      "-----------------------------------------------\n",
      "{\n",
      "  \"backOffPolicy\": \"Optimistic\",\n",
      "  \"OptimisticBackoff.acquireSpinCount\": 408299\n",
      "}\n",
      "-----------------------------------------------\n",
      "{\n",
      "  \"backOffPolicy\": \"Optimistic\",\n",
      "  \"OptimisticBackoff.acquireSpinCount\": 453041\n",
      "}\n",
      "-----------------------------------------------\n",
      "{\n",
      "  \"backOffPolicy\": \"Optimistic\",\n",
      "  \"OptimisticBackoff.acquireSpinCount\": 188557\n",
      "}\n",
      "-----------------------------------------------\n"
     ]
    }
   ],
   "source": [
    "for _ in range(5):\n",
    "    print(hierarchical_spinlock_parameter_space.random().to_json(indent=2))\n",
    "    print(\"-----------------------------------------------\")"
   ]
  },
  {
   "cell_type": "markdown",
   "metadata": {},
   "source": [
    "Note that each point is valid and contains no superfluous parameters. Contrast this with the point generated from our flat hypergrid:"
   ]
  },
  {
   "cell_type": "code",
   "execution_count": 51,
   "metadata": {},
   "outputs": [
    {
     "name": "stdout",
     "output_type": "stream",
     "text": [
      "{\n",
      "  \"backOffPolicy\": \"Optimistic\",\n",
      "  \"shortBackOffMilliSeconds\": 14069,\n",
      "  \"longBackOffMilliSeconds\": 7773,\n",
      "  \"longBackOffWaitMilliSeconds\": 25690,\n",
      "  \"minSpinCount\": 642194,\n",
      "  \"maxSpinCount\": 752849,\n",
      "  \"maxBackOffAttempts\": 3673,\n",
      "  \"acquireSpinCount\": 535828\n",
      "}\n"
     ]
    }
   ],
   "source": [
    "print(flat_spinlock_parameter_space.random().to_json(indent=2))"
   ]
  },
  {
   "cell_type": "markdown",
   "metadata": {},
   "source": [
    "Now every model that would try to learn something about the optimistic back off, also has to sort through 6 dimensions worth of noise."
   ]
  },
  {
   "cell_type": "markdown",
   "metadata": {},
   "source": [
    "#### Generating an entire DataFrame"
   ]
  },
  {
   "cell_type": "code",
   "execution_count": 52,
   "metadata": {},
   "outputs": [
    {
     "data": {
      "text/html": [
       "<div>\n",
       "<style scoped>\n",
       "    .dataframe tbody tr th:only-of-type {\n",
       "        vertical-align: middle;\n",
       "    }\n",
       "\n",
       "    .dataframe tbody tr th {\n",
       "        vertical-align: top;\n",
       "    }\n",
       "\n",
       "    .dataframe thead th {\n",
       "        text-align: right;\n",
       "    }\n",
       "</style>\n",
       "<table border=\"1\" class=\"dataframe\">\n",
       "  <thead>\n",
       "    <tr style=\"text-align: right;\">\n",
       "      <th></th>\n",
       "      <th>backOffPolicy</th>\n",
       "      <th>ExponentialBackoff.minSpinCount</th>\n",
       "      <th>ExponentialBackoff.maxSpinCount</th>\n",
       "      <th>ExponentialBackoff.maxBackOffAttempts</th>\n",
       "      <th>ExponentialBackoff.shortBackOffMilliSeconds</th>\n",
       "      <th>ExponentialBackoff.longBackOffMilliSeconds</th>\n",
       "      <th>ExponentialBackoff.longBackOffWaitMilliSeconds</th>\n",
       "      <th>OptimisticBackoff.acquireSpinCount</th>\n",
       "    </tr>\n",
       "  </thead>\n",
       "  <tbody>\n",
       "    <tr>\n",
       "      <th>0</th>\n",
       "      <td>ExponentialBackOff</td>\n",
       "      <td>1043558.0</td>\n",
       "      <td>1014838.0</td>\n",
       "      <td>769141.0</td>\n",
       "      <td>21797.0</td>\n",
       "      <td>3130.0</td>\n",
       "      <td>30908.0</td>\n",
       "      <td>NaN</td>\n",
       "    </tr>\n",
       "    <tr>\n",
       "      <th>1</th>\n",
       "      <td>Optimistic</td>\n",
       "      <td>NaN</td>\n",
       "      <td>NaN</td>\n",
       "      <td>NaN</td>\n",
       "      <td>NaN</td>\n",
       "      <td>NaN</td>\n",
       "      <td>NaN</td>\n",
       "      <td>57621.0</td>\n",
       "    </tr>\n",
       "    <tr>\n",
       "      <th>2</th>\n",
       "      <td>ExponentialBackOff</td>\n",
       "      <td>973776.0</td>\n",
       "      <td>74140.0</td>\n",
       "      <td>1034086.0</td>\n",
       "      <td>27475.0</td>\n",
       "      <td>8734.0</td>\n",
       "      <td>25248.0</td>\n",
       "      <td>NaN</td>\n",
       "    </tr>\n",
       "    <tr>\n",
       "      <th>3</th>\n",
       "      <td>ExponentialBackOff</td>\n",
       "      <td>798143.0</td>\n",
       "      <td>182203.0</td>\n",
       "      <td>1032428.0</td>\n",
       "      <td>28459.0</td>\n",
       "      <td>3920.0</td>\n",
       "      <td>31751.0</td>\n",
       "      <td>NaN</td>\n",
       "    </tr>\n",
       "    <tr>\n",
       "      <th>4</th>\n",
       "      <td>Optimistic</td>\n",
       "      <td>NaN</td>\n",
       "      <td>NaN</td>\n",
       "      <td>NaN</td>\n",
       "      <td>NaN</td>\n",
       "      <td>NaN</td>\n",
       "      <td>NaN</td>\n",
       "      <td>168707.0</td>\n",
       "    </tr>\n",
       "    <tr>\n",
       "      <th>5</th>\n",
       "      <td>Optimistic</td>\n",
       "      <td>NaN</td>\n",
       "      <td>NaN</td>\n",
       "      <td>NaN</td>\n",
       "      <td>NaN</td>\n",
       "      <td>NaN</td>\n",
       "      <td>NaN</td>\n",
       "      <td>880093.0</td>\n",
       "    </tr>\n",
       "    <tr>\n",
       "      <th>6</th>\n",
       "      <td>ExponentialBackOff</td>\n",
       "      <td>536967.0</td>\n",
       "      <td>823710.0</td>\n",
       "      <td>867008.0</td>\n",
       "      <td>10912.0</td>\n",
       "      <td>13712.0</td>\n",
       "      <td>4577.0</td>\n",
       "      <td>NaN</td>\n",
       "    </tr>\n",
       "    <tr>\n",
       "      <th>7</th>\n",
       "      <td>Optimistic</td>\n",
       "      <td>NaN</td>\n",
       "      <td>NaN</td>\n",
       "      <td>NaN</td>\n",
       "      <td>NaN</td>\n",
       "      <td>NaN</td>\n",
       "      <td>NaN</td>\n",
       "      <td>733278.0</td>\n",
       "    </tr>\n",
       "    <tr>\n",
       "      <th>8</th>\n",
       "      <td>Optimistic</td>\n",
       "      <td>NaN</td>\n",
       "      <td>NaN</td>\n",
       "      <td>NaN</td>\n",
       "      <td>NaN</td>\n",
       "      <td>NaN</td>\n",
       "      <td>NaN</td>\n",
       "      <td>45632.0</td>\n",
       "    </tr>\n",
       "    <tr>\n",
       "      <th>9</th>\n",
       "      <td>ExponentialBackOff</td>\n",
       "      <td>311427.0</td>\n",
       "      <td>786559.0</td>\n",
       "      <td>874446.0</td>\n",
       "      <td>17557.0</td>\n",
       "      <td>19045.0</td>\n",
       "      <td>28672.0</td>\n",
       "      <td>NaN</td>\n",
       "    </tr>\n",
       "  </tbody>\n",
       "</table>\n",
       "</div>"
      ],
      "text/plain": [
       "        backOffPolicy  ExponentialBackoff.minSpinCount  \\\n",
       "0  ExponentialBackOff                        1043558.0   \n",
       "1          Optimistic                              NaN   \n",
       "2  ExponentialBackOff                         973776.0   \n",
       "3  ExponentialBackOff                         798143.0   \n",
       "4          Optimistic                              NaN   \n",
       "5          Optimistic                              NaN   \n",
       "6  ExponentialBackOff                         536967.0   \n",
       "7          Optimistic                              NaN   \n",
       "8          Optimistic                              NaN   \n",
       "9  ExponentialBackOff                         311427.0   \n",
       "\n",
       "   ExponentialBackoff.maxSpinCount  ExponentialBackoff.maxBackOffAttempts  \\\n",
       "0                        1014838.0                               769141.0   \n",
       "1                              NaN                                    NaN   \n",
       "2                          74140.0                              1034086.0   \n",
       "3                         182203.0                              1032428.0   \n",
       "4                              NaN                                    NaN   \n",
       "5                              NaN                                    NaN   \n",
       "6                         823710.0                               867008.0   \n",
       "7                              NaN                                    NaN   \n",
       "8                              NaN                                    NaN   \n",
       "9                         786559.0                               874446.0   \n",
       "\n",
       "   ExponentialBackoff.shortBackOffMilliSeconds  \\\n",
       "0                                      21797.0   \n",
       "1                                          NaN   \n",
       "2                                      27475.0   \n",
       "3                                      28459.0   \n",
       "4                                          NaN   \n",
       "5                                          NaN   \n",
       "6                                      10912.0   \n",
       "7                                          NaN   \n",
       "8                                          NaN   \n",
       "9                                      17557.0   \n",
       "\n",
       "   ExponentialBackoff.longBackOffMilliSeconds  \\\n",
       "0                                      3130.0   \n",
       "1                                         NaN   \n",
       "2                                      8734.0   \n",
       "3                                      3920.0   \n",
       "4                                         NaN   \n",
       "5                                         NaN   \n",
       "6                                     13712.0   \n",
       "7                                         NaN   \n",
       "8                                         NaN   \n",
       "9                                     19045.0   \n",
       "\n",
       "   ExponentialBackoff.longBackOffWaitMilliSeconds  \\\n",
       "0                                         30908.0   \n",
       "1                                             NaN   \n",
       "2                                         25248.0   \n",
       "3                                         31751.0   \n",
       "4                                             NaN   \n",
       "5                                             NaN   \n",
       "6                                          4577.0   \n",
       "7                                             NaN   \n",
       "8                                             NaN   \n",
       "9                                         28672.0   \n",
       "\n",
       "   OptimisticBackoff.acquireSpinCount  \n",
       "0                                 NaN  \n",
       "1                             57621.0  \n",
       "2                                 NaN  \n",
       "3                                 NaN  \n",
       "4                            168707.0  \n",
       "5                            880093.0  \n",
       "6                                 NaN  \n",
       "7                            733278.0  \n",
       "8                             45632.0  \n",
       "9                                 NaN  "
      ]
     },
     "execution_count": 52,
     "metadata": {},
     "output_type": "execute_result"
    }
   ],
   "source": [
    "hierarchical_spinlock_parameter_space.random_dataframe(num_samples=10)"
   ]
  },
  {
   "cell_type": "markdown",
   "metadata": {},
   "source": [
    "See all those NaN values? That's numpy's equivalent of a null (Not a Number). Now we are generating the data in a way that helps our models converge, rather than creating extra noise for them to sift through."
   ]
  },
  {
   "cell_type": "markdown",
   "metadata": {},
   "source": [
    "##### A note on distribution\n",
    "\n",
    "In a hierarchical hypergrid points are sampled uniformly across the root hypergrid. Then, we evaluate which of the subgrids were 'activated' and recursively repeat the procedure within them. This does not result in a uniform distribution throughout the entire space, but rather we uniformly sample from the available implementations, and for the selected implementation, we uniformly sample from its parameters.\n",
    "\n",
    "The effect of this scheme is that simpler implementations are explored more thoroughly. So in effect we reward simplicity. The uniform sampling across the entire space would favour complex subgrids with many parameters. Such spaces are larger, and thus to maintain uniformity we would have to sample from them more often.\n",
    "\n",
    "We realize that this default behavior will not suit every purpose, so down the road we will provide a way to control this behavior.\n",
    "\n",
    "Finally, all samples are still independent and identically distributed (i.i.d.). Just not uniformly."
   ]
  },
  {
   "cell_type": "markdown",
   "metadata": {},
   "source": [
    "#### Testing containment"
   ]
  },
  {
   "cell_type": "code",
   "execution_count": 53,
   "metadata": {},
   "outputs": [
    {
     "name": "stdout",
     "output_type": "stream",
     "text": [
      "{\n",
      "  \"backOffPolicy\": \"Optimistic\",\n",
      "  \"OptimisticBackoff.acquireSpinCount\": 18543\n",
      "}\n",
      "True\n"
     ]
    }
   ],
   "source": [
    "valid_point = hierarchical_spinlock_parameter_space.random()\n",
    "print(valid_point.to_json(indent=2))\n",
    "assert valid_point in hierarchical_spinlock_parameter_space \n",
    "print(valid_point in hierarchical_spinlock_parameter_space)"
   ]
  },
  {
   "cell_type": "code",
   "execution_count": 54,
   "metadata": {},
   "outputs": [
    {
     "name": "stdout",
     "output_type": "stream",
     "text": [
      "{\n",
      "  \"backOffPolicy\": \"Reluctant\",\n",
      "  \"OptimisticBackoff.acquireSpinCount\": 18543\n",
      "}\n",
      "False\n"
     ]
    }
   ],
   "source": [
    "invalid_point = valid_point.copy()\n",
    "invalid_point.backOffPolicy = \"Reluctant\"\n",
    "print(invalid_point.to_json(indent=2))\n",
    "assert invalid_point not in hierarchical_spinlock_parameter_space\n",
    "print(invalid_point in hierarchical_spinlock_parameter_space)"
   ]
  },
  {
   "cell_type": "markdown",
   "metadata": {},
   "source": [
    "#### Converting between a Point and a DataFrame\n",
    "Works mostly the same, but since a Point does not carry information about which Space it came from, it will produce a dense DataFrame with no NaNs and no columns for NaNs because all dimensions this Point is aware of are valid."
   ]
  },
  {
   "cell_type": "code",
   "execution_count": 55,
   "metadata": {},
   "outputs": [
    {
     "data": {
      "text/html": [
       "<div>\n",
       "<style scoped>\n",
       "    .dataframe tbody tr th:only-of-type {\n",
       "        vertical-align: middle;\n",
       "    }\n",
       "\n",
       "    .dataframe tbody tr th {\n",
       "        vertical-align: top;\n",
       "    }\n",
       "\n",
       "    .dataframe thead th {\n",
       "        text-align: right;\n",
       "    }\n",
       "</style>\n",
       "<table border=\"1\" class=\"dataframe\">\n",
       "  <thead>\n",
       "    <tr style=\"text-align: right;\">\n",
       "      <th></th>\n",
       "      <th>backOffPolicy</th>\n",
       "      <th>ExponentialBackoff.minSpinCount</th>\n",
       "      <th>ExponentialBackoff.maxSpinCount</th>\n",
       "      <th>ExponentialBackoff.maxBackOffAttempts</th>\n",
       "      <th>ExponentialBackoff.shortBackOffMilliSeconds</th>\n",
       "      <th>ExponentialBackoff.longBackOffMilliSeconds</th>\n",
       "      <th>ExponentialBackoff.longBackOffWaitMilliSeconds</th>\n",
       "    </tr>\n",
       "  </thead>\n",
       "  <tbody>\n",
       "    <tr>\n",
       "      <th>0</th>\n",
       "      <td>ExponentialBackOff</td>\n",
       "      <td>306551</td>\n",
       "      <td>902825</td>\n",
       "      <td>898491</td>\n",
       "      <td>14200</td>\n",
       "      <td>6560</td>\n",
       "      <td>1033</td>\n",
       "    </tr>\n",
       "  </tbody>\n",
       "</table>\n",
       "</div>"
      ],
      "text/plain": [
       "        backOffPolicy  ExponentialBackoff.minSpinCount  \\\n",
       "0  ExponentialBackOff                           306551   \n",
       "\n",
       "   ExponentialBackoff.maxSpinCount  ExponentialBackoff.maxBackOffAttempts  \\\n",
       "0                           902825                                 898491   \n",
       "\n",
       "   ExponentialBackoff.shortBackOffMilliSeconds  \\\n",
       "0                                        14200   \n",
       "\n",
       "   ExponentialBackoff.longBackOffMilliSeconds  \\\n",
       "0                                        6560   \n",
       "\n",
       "   ExponentialBackoff.longBackOffWaitMilliSeconds  \n",
       "0                                            1033  "
      ]
     },
     "execution_count": 55,
     "metadata": {},
     "output_type": "execute_result"
    }
   ],
   "source": [
    "random_df = hierarchical_spinlock_parameter_space.random_dataframe(num_samples=1)\n",
    "random_df"
   ]
  },
  {
   "cell_type": "code",
   "execution_count": 56,
   "metadata": {},
   "outputs": [
    {
     "name": "stdout",
     "output_type": "stream",
     "text": [
      "{\n",
      "  \"backOffPolicy\": \"ExponentialBackOff\",\n",
      "  \"ExponentialBackoff.minSpinCount\": 306551,\n",
      "  \"ExponentialBackoff.maxSpinCount\": 902825,\n",
      "  \"ExponentialBackoff.maxBackOffAttempts\": 898491,\n",
      "  \"ExponentialBackoff.shortBackOffMilliSeconds\": 14200,\n",
      "  \"ExponentialBackoff.longBackOffMilliSeconds\": 6560,\n",
      "  \"ExponentialBackoff.longBackOffWaitMilliSeconds\": 1033\n",
      "}\n"
     ]
    }
   ],
   "source": [
    "yet_another_random_point = Point.from_dataframe(random_df)\n",
    "print(yet_another_random_point.to_json(indent=2))"
   ]
  },
  {
   "cell_type": "code",
   "execution_count": 57,
   "metadata": {},
   "outputs": [
    {
     "data": {
      "text/html": [
       "<div>\n",
       "<style scoped>\n",
       "    .dataframe tbody tr th:only-of-type {\n",
       "        vertical-align: middle;\n",
       "    }\n",
       "\n",
       "    .dataframe tbody tr th {\n",
       "        vertical-align: top;\n",
       "    }\n",
       "\n",
       "    .dataframe thead th {\n",
       "        text-align: right;\n",
       "    }\n",
       "</style>\n",
       "<table border=\"1\" class=\"dataframe\">\n",
       "  <thead>\n",
       "    <tr style=\"text-align: right;\">\n",
       "      <th></th>\n",
       "      <th>backOffPolicy</th>\n",
       "      <th>OptimisticBackoff.acquireSpinCount</th>\n",
       "    </tr>\n",
       "  </thead>\n",
       "  <tbody>\n",
       "    <tr>\n",
       "      <th>0</th>\n",
       "      <td>Optimistic</td>\n",
       "      <td>18543</td>\n",
       "    </tr>\n",
       "  </tbody>\n",
       "</table>\n",
       "</div>"
      ],
      "text/plain": [
       "  backOffPolicy  OptimisticBackoff.acquireSpinCount\n",
       "0    Optimistic                               18543"
      ]
     },
     "execution_count": 57,
     "metadata": {},
     "output_type": "execute_result"
    }
   ],
   "source": [
    "valid_point_df = valid_point.to_dataframe()\n",
    "valid_point_df"
   ]
  },
  {
   "cell_type": "markdown",
   "metadata": {},
   "source": [
    "#### Comparison between points works as before"
   ]
  },
  {
   "cell_type": "code",
   "execution_count": 58,
   "metadata": {},
   "outputs": [],
   "source": [
    "reconstructed_valid_point = Point.from_dataframe(valid_point_df)\n",
    "assert valid_point == reconstructed_valid_point"
   ]
  },
  {
   "cell_type": "code",
   "execution_count": 59,
   "metadata": {},
   "outputs": [],
   "source": [
    "assert valid_point != yet_another_random_point"
   ]
  },
  {
   "cell_type": "markdown",
   "metadata": {},
   "source": [
    "## HypergridAdapters\n",
    "\n",
    "Bijective (most often) functions used to preprocess the data before passing it on to the next component in the pipeline.\n",
    "\n",
    "### The need for HypergridAdapters\n",
    "\n",
    "#### Intended audience\n",
    "This section is indented primarily for the consumption by developers contributing to the Optimizer. HypergridAdapters remain an internal mechanism to provide combatility between components and thus a user of the Optimizer does not need to know their mechanics in detail.\n",
    "\n",
    "#### What we want the user experience to be?\n",
    "We want to allow the users to specify the configuration space in terms closely matching how the parameters are used. So we want the users to be able to use integers, floats, strings and even booleans to define the legal values for the parameters. We further want to allow them to encode the semantic relationships between parameters by grouping them into subgrids within a hierarchical hypergrid. \n",
    "\n",
    "#### What the optimzier can operate on?\n",
    "None of our models and only half of our utility function optimizers can operate on such complicated domains. Decision Trees need flat searchspaces with only numerical dimensions. Lasso regression, ridge regression, and RERF are similar. Glowworm swarm optimization goes further and only admits a search space where all dimensions are scaled to between 0 and 1. \n",
    "\n",
    "#### Bridging the gap\n",
    "So we need a way to project what the user specifies (and thus all of the incoming data) to values consumable by the models. We further need to be able to project back and forth between the respective spaces of the utility function optimizers, utility functions, and the surrogate models. Hypergrid adapters are the solution we propose.\n",
    "\n",
    "The inspiration and terminology are borrowed from The Gang of Four \"Design Patterns: Elements of Reusable Object-Oriented Software\". There an adapter is a structural pattern described to:\n",
    "    \n",
    "    Convert the interface of a class into another interface clients expect. Adapter lets classes work together that couldn't otherwise because of incompatible interfaces.\n",
    "    \n",
    "\n",
    "##### Stackable\n",
    "If the parameter space specified in the optimization problem is hierarchical and has categorical dimensions, and if we want to use the glowworm swarm optimizer, we can stack several adapters to perform the required projection. The implementation makes it seamless and in this particular example almost trivial. We will take a look on how we can convert the smart spinlocks parameter space to be unit-continuous below.\n",
    "\n",
    "##### Invertible\n",
    "Almost all of the functions embedded inside of Adapters have to be bijective to be invertible. That is if we project a point P from space S, to a point P' in a space S': \n",
    "```python\n",
    "p_prime = hypergrid_adapter.project_point(p)\n",
    "```\n",
    "We must also be able to perform the inverse of that projection:\n",
    "\n",
    "```python\n",
    "p = hypergrid_adapter.unproject_point(p_prime)\n",
    "```\n",
    "\n",
    "This is crucial if we want to be able to translate back to the user, what the optimizer came up with.\n",
    "\n",
    "<b>One notable exception is dimensionality reduction </b> - for example principal component analysis, which is in general not invertible. In such cases, the Adapter's author must maintain a slightly weaker property: an ability to project-back any point it projected forward. Should be easy enough."
   ]
  },
  {
   "cell_type": "markdown",
   "metadata": {},
   "source": [
    "#### Let's take a look at how adapters work in practice\n",
    "\n",
    "Firs we will convert the spinlocks search space step-by-step, and then we'll explore a convenient shortcut."
   ]
  },
  {
   "cell_type": "markdown",
   "metadata": {},
   "source": [
    "##### The long way"
   ]
  },
  {
   "cell_type": "code",
   "execution_count": 60,
   "metadata": {},
   "outputs": [
    {
     "data": {
      "text/html": [
       "<div>\n",
       "<style scoped>\n",
       "    .dataframe tbody tr th:only-of-type {\n",
       "        vertical-align: middle;\n",
       "    }\n",
       "\n",
       "    .dataframe tbody tr th {\n",
       "        vertical-align: top;\n",
       "    }\n",
       "\n",
       "    .dataframe thead th {\n",
       "        text-align: right;\n",
       "    }\n",
       "</style>\n",
       "<table border=\"1\" class=\"dataframe\">\n",
       "  <thead>\n",
       "    <tr style=\"text-align: right;\">\n",
       "      <th></th>\n",
       "      <th>backOffPolicy</th>\n",
       "      <th>OptimisticBackoff.acquireSpinCount</th>\n",
       "      <th>ExponentialBackoff.minSpinCount</th>\n",
       "      <th>ExponentialBackoff.maxSpinCount</th>\n",
       "      <th>ExponentialBackoff.maxBackOffAttempts</th>\n",
       "      <th>ExponentialBackoff.shortBackOffMilliSeconds</th>\n",
       "      <th>ExponentialBackoff.longBackOffMilliSeconds</th>\n",
       "      <th>ExponentialBackoff.longBackOffWaitMilliSeconds</th>\n",
       "    </tr>\n",
       "  </thead>\n",
       "  <tbody>\n",
       "    <tr>\n",
       "      <th>0</th>\n",
       "      <td>Optimistic</td>\n",
       "      <td>420607.0</td>\n",
       "      <td>NaN</td>\n",
       "      <td>NaN</td>\n",
       "      <td>NaN</td>\n",
       "      <td>NaN</td>\n",
       "      <td>NaN</td>\n",
       "      <td>NaN</td>\n",
       "    </tr>\n",
       "    <tr>\n",
       "      <th>1</th>\n",
       "      <td>ExponentialBackOff</td>\n",
       "      <td>NaN</td>\n",
       "      <td>787204.0</td>\n",
       "      <td>891669.0</td>\n",
       "      <td>91612.0</td>\n",
       "      <td>12237.0</td>\n",
       "      <td>31538.0</td>\n",
       "      <td>8080.0</td>\n",
       "    </tr>\n",
       "    <tr>\n",
       "      <th>2</th>\n",
       "      <td>ExponentialBackOff</td>\n",
       "      <td>NaN</td>\n",
       "      <td>417481.0</td>\n",
       "      <td>725400.0</td>\n",
       "      <td>912089.0</td>\n",
       "      <td>23895.0</td>\n",
       "      <td>404.0</td>\n",
       "      <td>18619.0</td>\n",
       "    </tr>\n",
       "    <tr>\n",
       "      <th>3</th>\n",
       "      <td>ExponentialBackOff</td>\n",
       "      <td>NaN</td>\n",
       "      <td>378797.0</td>\n",
       "      <td>123382.0</td>\n",
       "      <td>656643.0</td>\n",
       "      <td>13964.0</td>\n",
       "      <td>8581.0</td>\n",
       "      <td>438.0</td>\n",
       "    </tr>\n",
       "    <tr>\n",
       "      <th>4</th>\n",
       "      <td>Optimistic</td>\n",
       "      <td>81101.0</td>\n",
       "      <td>NaN</td>\n",
       "      <td>NaN</td>\n",
       "      <td>NaN</td>\n",
       "      <td>NaN</td>\n",
       "      <td>NaN</td>\n",
       "      <td>NaN</td>\n",
       "    </tr>\n",
       "    <tr>\n",
       "      <th>5</th>\n",
       "      <td>ExponentialBackOff</td>\n",
       "      <td>NaN</td>\n",
       "      <td>433987.0</td>\n",
       "      <td>5743.0</td>\n",
       "      <td>587993.0</td>\n",
       "      <td>8574.0</td>\n",
       "      <td>10514.0</td>\n",
       "      <td>19668.0</td>\n",
       "    </tr>\n",
       "    <tr>\n",
       "      <th>6</th>\n",
       "      <td>Optimistic</td>\n",
       "      <td>658366.0</td>\n",
       "      <td>NaN</td>\n",
       "      <td>NaN</td>\n",
       "      <td>NaN</td>\n",
       "      <td>NaN</td>\n",
       "      <td>NaN</td>\n",
       "      <td>NaN</td>\n",
       "    </tr>\n",
       "    <tr>\n",
       "      <th>7</th>\n",
       "      <td>Optimistic</td>\n",
       "      <td>97148.0</td>\n",
       "      <td>NaN</td>\n",
       "      <td>NaN</td>\n",
       "      <td>NaN</td>\n",
       "      <td>NaN</td>\n",
       "      <td>NaN</td>\n",
       "      <td>NaN</td>\n",
       "    </tr>\n",
       "    <tr>\n",
       "      <th>8</th>\n",
       "      <td>ExponentialBackOff</td>\n",
       "      <td>NaN</td>\n",
       "      <td>764087.0</td>\n",
       "      <td>593652.0</td>\n",
       "      <td>413512.0</td>\n",
       "      <td>29014.0</td>\n",
       "      <td>22655.0</td>\n",
       "      <td>29066.0</td>\n",
       "    </tr>\n",
       "    <tr>\n",
       "      <th>9</th>\n",
       "      <td>Optimistic</td>\n",
       "      <td>543568.0</td>\n",
       "      <td>NaN</td>\n",
       "      <td>NaN</td>\n",
       "      <td>NaN</td>\n",
       "      <td>NaN</td>\n",
       "      <td>NaN</td>\n",
       "      <td>NaN</td>\n",
       "    </tr>\n",
       "  </tbody>\n",
       "</table>\n",
       "</div>"
      ],
      "text/plain": [
       "        backOffPolicy  OptimisticBackoff.acquireSpinCount  \\\n",
       "0          Optimistic                            420607.0   \n",
       "1  ExponentialBackOff                                 NaN   \n",
       "2  ExponentialBackOff                                 NaN   \n",
       "3  ExponentialBackOff                                 NaN   \n",
       "4          Optimistic                             81101.0   \n",
       "5  ExponentialBackOff                                 NaN   \n",
       "6          Optimistic                            658366.0   \n",
       "7          Optimistic                             97148.0   \n",
       "8  ExponentialBackOff                                 NaN   \n",
       "9          Optimistic                            543568.0   \n",
       "\n",
       "   ExponentialBackoff.minSpinCount  ExponentialBackoff.maxSpinCount  \\\n",
       "0                              NaN                              NaN   \n",
       "1                         787204.0                         891669.0   \n",
       "2                         417481.0                         725400.0   \n",
       "3                         378797.0                         123382.0   \n",
       "4                              NaN                              NaN   \n",
       "5                         433987.0                           5743.0   \n",
       "6                              NaN                              NaN   \n",
       "7                              NaN                              NaN   \n",
       "8                         764087.0                         593652.0   \n",
       "9                              NaN                              NaN   \n",
       "\n",
       "   ExponentialBackoff.maxBackOffAttempts  \\\n",
       "0                                    NaN   \n",
       "1                                91612.0   \n",
       "2                               912089.0   \n",
       "3                               656643.0   \n",
       "4                                    NaN   \n",
       "5                               587993.0   \n",
       "6                                    NaN   \n",
       "7                                    NaN   \n",
       "8                               413512.0   \n",
       "9                                    NaN   \n",
       "\n",
       "   ExponentialBackoff.shortBackOffMilliSeconds  \\\n",
       "0                                          NaN   \n",
       "1                                      12237.0   \n",
       "2                                      23895.0   \n",
       "3                                      13964.0   \n",
       "4                                          NaN   \n",
       "5                                       8574.0   \n",
       "6                                          NaN   \n",
       "7                                          NaN   \n",
       "8                                      29014.0   \n",
       "9                                          NaN   \n",
       "\n",
       "   ExponentialBackoff.longBackOffMilliSeconds  \\\n",
       "0                                         NaN   \n",
       "1                                     31538.0   \n",
       "2                                       404.0   \n",
       "3                                      8581.0   \n",
       "4                                         NaN   \n",
       "5                                     10514.0   \n",
       "6                                         NaN   \n",
       "7                                         NaN   \n",
       "8                                     22655.0   \n",
       "9                                         NaN   \n",
       "\n",
       "   ExponentialBackoff.longBackOffWaitMilliSeconds  \n",
       "0                                             NaN  \n",
       "1                                          8080.0  \n",
       "2                                         18619.0  \n",
       "3                                           438.0  \n",
       "4                                             NaN  \n",
       "5                                         19668.0  \n",
       "6                                             NaN  \n",
       "7                                             NaN  \n",
       "8                                         29066.0  \n",
       "9                                             NaN  "
      ]
     },
     "execution_count": 60,
     "metadata": {},
     "output_type": "execute_result"
    }
   ],
   "source": [
    "from mlos.Spaces.HypergridAdapters import CategoricalToDiscreteHypergridAdapter, DiscreteToUnitContinuousHypergridAdapter, HierarchicalToFlatHypergridAdapter\n",
    "\n",
    "original_space = hierarchical_spinlock_parameter_space\n",
    "original_df = original_space.random_dataframe(num_samples=10)\n",
    "original_df"
   ]
  },
  {
   "cell_type": "code",
   "execution_count": 61,
   "metadata": {},
   "outputs": [
    {
     "data": {
      "text/html": [
       "<div>\n",
       "<style scoped>\n",
       "    .dataframe tbody tr th:only-of-type {\n",
       "        vertical-align: middle;\n",
       "    }\n",
       "\n",
       "    .dataframe tbody tr th {\n",
       "        vertical-align: top;\n",
       "    }\n",
       "\n",
       "    .dataframe thead th {\n",
       "        text-align: right;\n",
       "    }\n",
       "</style>\n",
       "<table border=\"1\" class=\"dataframe\">\n",
       "  <thead>\n",
       "    <tr style=\"text-align: right;\">\n",
       "      <th></th>\n",
       "      <th>backOffPolicy</th>\n",
       "      <th>OptimisticBackoff___acquireSpinCount</th>\n",
       "      <th>ExponentialBackoff___minSpinCount</th>\n",
       "      <th>ExponentialBackoff___maxSpinCount</th>\n",
       "      <th>ExponentialBackoff___maxBackOffAttempts</th>\n",
       "      <th>ExponentialBackoff___shortBackOffMilliSeconds</th>\n",
       "      <th>ExponentialBackoff___longBackOffMilliSeconds</th>\n",
       "      <th>ExponentialBackoff___longBackOffWaitMilliSeconds</th>\n",
       "    </tr>\n",
       "  </thead>\n",
       "  <tbody>\n",
       "    <tr>\n",
       "      <th>0</th>\n",
       "      <td>Optimistic</td>\n",
       "      <td>420607.0</td>\n",
       "      <td>NaN</td>\n",
       "      <td>NaN</td>\n",
       "      <td>NaN</td>\n",
       "      <td>NaN</td>\n",
       "      <td>NaN</td>\n",
       "      <td>NaN</td>\n",
       "    </tr>\n",
       "    <tr>\n",
       "      <th>1</th>\n",
       "      <td>ExponentialBackOff</td>\n",
       "      <td>NaN</td>\n",
       "      <td>787204.0</td>\n",
       "      <td>891669.0</td>\n",
       "      <td>91612.0</td>\n",
       "      <td>12237.0</td>\n",
       "      <td>31538.0</td>\n",
       "      <td>8080.0</td>\n",
       "    </tr>\n",
       "    <tr>\n",
       "      <th>2</th>\n",
       "      <td>ExponentialBackOff</td>\n",
       "      <td>NaN</td>\n",
       "      <td>417481.0</td>\n",
       "      <td>725400.0</td>\n",
       "      <td>912089.0</td>\n",
       "      <td>23895.0</td>\n",
       "      <td>404.0</td>\n",
       "      <td>18619.0</td>\n",
       "    </tr>\n",
       "    <tr>\n",
       "      <th>3</th>\n",
       "      <td>ExponentialBackOff</td>\n",
       "      <td>NaN</td>\n",
       "      <td>378797.0</td>\n",
       "      <td>123382.0</td>\n",
       "      <td>656643.0</td>\n",
       "      <td>13964.0</td>\n",
       "      <td>8581.0</td>\n",
       "      <td>438.0</td>\n",
       "    </tr>\n",
       "    <tr>\n",
       "      <th>4</th>\n",
       "      <td>Optimistic</td>\n",
       "      <td>81101.0</td>\n",
       "      <td>NaN</td>\n",
       "      <td>NaN</td>\n",
       "      <td>NaN</td>\n",
       "      <td>NaN</td>\n",
       "      <td>NaN</td>\n",
       "      <td>NaN</td>\n",
       "    </tr>\n",
       "    <tr>\n",
       "      <th>5</th>\n",
       "      <td>ExponentialBackOff</td>\n",
       "      <td>NaN</td>\n",
       "      <td>433987.0</td>\n",
       "      <td>5743.0</td>\n",
       "      <td>587993.0</td>\n",
       "      <td>8574.0</td>\n",
       "      <td>10514.0</td>\n",
       "      <td>19668.0</td>\n",
       "    </tr>\n",
       "    <tr>\n",
       "      <th>6</th>\n",
       "      <td>Optimistic</td>\n",
       "      <td>658366.0</td>\n",
       "      <td>NaN</td>\n",
       "      <td>NaN</td>\n",
       "      <td>NaN</td>\n",
       "      <td>NaN</td>\n",
       "      <td>NaN</td>\n",
       "      <td>NaN</td>\n",
       "    </tr>\n",
       "    <tr>\n",
       "      <th>7</th>\n",
       "      <td>Optimistic</td>\n",
       "      <td>97148.0</td>\n",
       "      <td>NaN</td>\n",
       "      <td>NaN</td>\n",
       "      <td>NaN</td>\n",
       "      <td>NaN</td>\n",
       "      <td>NaN</td>\n",
       "      <td>NaN</td>\n",
       "    </tr>\n",
       "    <tr>\n",
       "      <th>8</th>\n",
       "      <td>ExponentialBackOff</td>\n",
       "      <td>NaN</td>\n",
       "      <td>764087.0</td>\n",
       "      <td>593652.0</td>\n",
       "      <td>413512.0</td>\n",
       "      <td>29014.0</td>\n",
       "      <td>22655.0</td>\n",
       "      <td>29066.0</td>\n",
       "    </tr>\n",
       "    <tr>\n",
       "      <th>9</th>\n",
       "      <td>Optimistic</td>\n",
       "      <td>543568.0</td>\n",
       "      <td>NaN</td>\n",
       "      <td>NaN</td>\n",
       "      <td>NaN</td>\n",
       "      <td>NaN</td>\n",
       "      <td>NaN</td>\n",
       "      <td>NaN</td>\n",
       "    </tr>\n",
       "  </tbody>\n",
       "</table>\n",
       "</div>"
      ],
      "text/plain": [
       "        backOffPolicy  OptimisticBackoff___acquireSpinCount  \\\n",
       "0          Optimistic                              420607.0   \n",
       "1  ExponentialBackOff                                   NaN   \n",
       "2  ExponentialBackOff                                   NaN   \n",
       "3  ExponentialBackOff                                   NaN   \n",
       "4          Optimistic                               81101.0   \n",
       "5  ExponentialBackOff                                   NaN   \n",
       "6          Optimistic                              658366.0   \n",
       "7          Optimistic                               97148.0   \n",
       "8  ExponentialBackOff                                   NaN   \n",
       "9          Optimistic                              543568.0   \n",
       "\n",
       "   ExponentialBackoff___minSpinCount  ExponentialBackoff___maxSpinCount  \\\n",
       "0                                NaN                                NaN   \n",
       "1                           787204.0                           891669.0   \n",
       "2                           417481.0                           725400.0   \n",
       "3                           378797.0                           123382.0   \n",
       "4                                NaN                                NaN   \n",
       "5                           433987.0                             5743.0   \n",
       "6                                NaN                                NaN   \n",
       "7                                NaN                                NaN   \n",
       "8                           764087.0                           593652.0   \n",
       "9                                NaN                                NaN   \n",
       "\n",
       "   ExponentialBackoff___maxBackOffAttempts  \\\n",
       "0                                      NaN   \n",
       "1                                  91612.0   \n",
       "2                                 912089.0   \n",
       "3                                 656643.0   \n",
       "4                                      NaN   \n",
       "5                                 587993.0   \n",
       "6                                      NaN   \n",
       "7                                      NaN   \n",
       "8                                 413512.0   \n",
       "9                                      NaN   \n",
       "\n",
       "   ExponentialBackoff___shortBackOffMilliSeconds  \\\n",
       "0                                            NaN   \n",
       "1                                        12237.0   \n",
       "2                                        23895.0   \n",
       "3                                        13964.0   \n",
       "4                                            NaN   \n",
       "5                                         8574.0   \n",
       "6                                            NaN   \n",
       "7                                            NaN   \n",
       "8                                        29014.0   \n",
       "9                                            NaN   \n",
       "\n",
       "   ExponentialBackoff___longBackOffMilliSeconds  \\\n",
       "0                                           NaN   \n",
       "1                                       31538.0   \n",
       "2                                         404.0   \n",
       "3                                        8581.0   \n",
       "4                                           NaN   \n",
       "5                                       10514.0   \n",
       "6                                           NaN   \n",
       "7                                           NaN   \n",
       "8                                       22655.0   \n",
       "9                                           NaN   \n",
       "\n",
       "   ExponentialBackoff___longBackOffWaitMilliSeconds  \n",
       "0                                               NaN  \n",
       "1                                            8080.0  \n",
       "2                                           18619.0  \n",
       "3                                             438.0  \n",
       "4                                               NaN  \n",
       "5                                           19668.0  \n",
       "6                                               NaN  \n",
       "7                                               NaN  \n",
       "8                                           29066.0  \n",
       "9                                               NaN  "
      ]
     },
     "execution_count": 61,
     "metadata": {},
     "output_type": "execute_result"
    }
   ],
   "source": [
    "flattening_adapter = HierarchicalToFlatHypergridAdapter(adaptee=original_space)\n",
    "flattening_adapter.project_dataframe(original_df, in_place=False)"
   ]
  },
  {
   "cell_type": "markdown",
   "metadata": {},
   "source": [
    "The only difference is that the column names have been changed to no longer contain dots ('.')."
   ]
  },
  {
   "cell_type": "code",
   "execution_count": 62,
   "metadata": {},
   "outputs": [
    {
     "data": {
      "text/html": [
       "<div>\n",
       "<style scoped>\n",
       "    .dataframe tbody tr th:only-of-type {\n",
       "        vertical-align: middle;\n",
       "    }\n",
       "\n",
       "    .dataframe tbody tr th {\n",
       "        vertical-align: top;\n",
       "    }\n",
       "\n",
       "    .dataframe thead th {\n",
       "        text-align: right;\n",
       "    }\n",
       "</style>\n",
       "<table border=\"1\" class=\"dataframe\">\n",
       "  <thead>\n",
       "    <tr style=\"text-align: right;\">\n",
       "      <th></th>\n",
       "      <th>backOffPolicy</th>\n",
       "      <th>OptimisticBackoff___acquireSpinCount</th>\n",
       "      <th>ExponentialBackoff___minSpinCount</th>\n",
       "      <th>ExponentialBackoff___maxSpinCount</th>\n",
       "      <th>ExponentialBackoff___maxBackOffAttempts</th>\n",
       "      <th>ExponentialBackoff___shortBackOffMilliSeconds</th>\n",
       "      <th>ExponentialBackoff___longBackOffMilliSeconds</th>\n",
       "      <th>ExponentialBackoff___longBackOffWaitMilliSeconds</th>\n",
       "    </tr>\n",
       "  </thead>\n",
       "  <tbody>\n",
       "    <tr>\n",
       "      <th>0</th>\n",
       "      <td>0</td>\n",
       "      <td>420607.0</td>\n",
       "      <td>NaN</td>\n",
       "      <td>NaN</td>\n",
       "      <td>NaN</td>\n",
       "      <td>NaN</td>\n",
       "      <td>NaN</td>\n",
       "      <td>NaN</td>\n",
       "    </tr>\n",
       "    <tr>\n",
       "      <th>1</th>\n",
       "      <td>1</td>\n",
       "      <td>NaN</td>\n",
       "      <td>787204.0</td>\n",
       "      <td>891669.0</td>\n",
       "      <td>91612.0</td>\n",
       "      <td>12237.0</td>\n",
       "      <td>31538.0</td>\n",
       "      <td>8080.0</td>\n",
       "    </tr>\n",
       "    <tr>\n",
       "      <th>2</th>\n",
       "      <td>1</td>\n",
       "      <td>NaN</td>\n",
       "      <td>417481.0</td>\n",
       "      <td>725400.0</td>\n",
       "      <td>912089.0</td>\n",
       "      <td>23895.0</td>\n",
       "      <td>404.0</td>\n",
       "      <td>18619.0</td>\n",
       "    </tr>\n",
       "    <tr>\n",
       "      <th>3</th>\n",
       "      <td>1</td>\n",
       "      <td>NaN</td>\n",
       "      <td>378797.0</td>\n",
       "      <td>123382.0</td>\n",
       "      <td>656643.0</td>\n",
       "      <td>13964.0</td>\n",
       "      <td>8581.0</td>\n",
       "      <td>438.0</td>\n",
       "    </tr>\n",
       "    <tr>\n",
       "      <th>4</th>\n",
       "      <td>0</td>\n",
       "      <td>81101.0</td>\n",
       "      <td>NaN</td>\n",
       "      <td>NaN</td>\n",
       "      <td>NaN</td>\n",
       "      <td>NaN</td>\n",
       "      <td>NaN</td>\n",
       "      <td>NaN</td>\n",
       "    </tr>\n",
       "    <tr>\n",
       "      <th>5</th>\n",
       "      <td>1</td>\n",
       "      <td>NaN</td>\n",
       "      <td>433987.0</td>\n",
       "      <td>5743.0</td>\n",
       "      <td>587993.0</td>\n",
       "      <td>8574.0</td>\n",
       "      <td>10514.0</td>\n",
       "      <td>19668.0</td>\n",
       "    </tr>\n",
       "    <tr>\n",
       "      <th>6</th>\n",
       "      <td>0</td>\n",
       "      <td>658366.0</td>\n",
       "      <td>NaN</td>\n",
       "      <td>NaN</td>\n",
       "      <td>NaN</td>\n",
       "      <td>NaN</td>\n",
       "      <td>NaN</td>\n",
       "      <td>NaN</td>\n",
       "    </tr>\n",
       "    <tr>\n",
       "      <th>7</th>\n",
       "      <td>0</td>\n",
       "      <td>97148.0</td>\n",
       "      <td>NaN</td>\n",
       "      <td>NaN</td>\n",
       "      <td>NaN</td>\n",
       "      <td>NaN</td>\n",
       "      <td>NaN</td>\n",
       "      <td>NaN</td>\n",
       "    </tr>\n",
       "    <tr>\n",
       "      <th>8</th>\n",
       "      <td>1</td>\n",
       "      <td>NaN</td>\n",
       "      <td>764087.0</td>\n",
       "      <td>593652.0</td>\n",
       "      <td>413512.0</td>\n",
       "      <td>29014.0</td>\n",
       "      <td>22655.0</td>\n",
       "      <td>29066.0</td>\n",
       "    </tr>\n",
       "    <tr>\n",
       "      <th>9</th>\n",
       "      <td>0</td>\n",
       "      <td>543568.0</td>\n",
       "      <td>NaN</td>\n",
       "      <td>NaN</td>\n",
       "      <td>NaN</td>\n",
       "      <td>NaN</td>\n",
       "      <td>NaN</td>\n",
       "      <td>NaN</td>\n",
       "    </tr>\n",
       "  </tbody>\n",
       "</table>\n",
       "</div>"
      ],
      "text/plain": [
       "   backOffPolicy  OptimisticBackoff___acquireSpinCount  \\\n",
       "0              0                              420607.0   \n",
       "1              1                                   NaN   \n",
       "2              1                                   NaN   \n",
       "3              1                                   NaN   \n",
       "4              0                               81101.0   \n",
       "5              1                                   NaN   \n",
       "6              0                              658366.0   \n",
       "7              0                               97148.0   \n",
       "8              1                                   NaN   \n",
       "9              0                              543568.0   \n",
       "\n",
       "   ExponentialBackoff___minSpinCount  ExponentialBackoff___maxSpinCount  \\\n",
       "0                                NaN                                NaN   \n",
       "1                           787204.0                           891669.0   \n",
       "2                           417481.0                           725400.0   \n",
       "3                           378797.0                           123382.0   \n",
       "4                                NaN                                NaN   \n",
       "5                           433987.0                             5743.0   \n",
       "6                                NaN                                NaN   \n",
       "7                                NaN                                NaN   \n",
       "8                           764087.0                           593652.0   \n",
       "9                                NaN                                NaN   \n",
       "\n",
       "   ExponentialBackoff___maxBackOffAttempts  \\\n",
       "0                                      NaN   \n",
       "1                                  91612.0   \n",
       "2                                 912089.0   \n",
       "3                                 656643.0   \n",
       "4                                      NaN   \n",
       "5                                 587993.0   \n",
       "6                                      NaN   \n",
       "7                                      NaN   \n",
       "8                                 413512.0   \n",
       "9                                      NaN   \n",
       "\n",
       "   ExponentialBackoff___shortBackOffMilliSeconds  \\\n",
       "0                                            NaN   \n",
       "1                                        12237.0   \n",
       "2                                        23895.0   \n",
       "3                                        13964.0   \n",
       "4                                            NaN   \n",
       "5                                         8574.0   \n",
       "6                                            NaN   \n",
       "7                                            NaN   \n",
       "8                                        29014.0   \n",
       "9                                            NaN   \n",
       "\n",
       "   ExponentialBackoff___longBackOffMilliSeconds  \\\n",
       "0                                           NaN   \n",
       "1                                       31538.0   \n",
       "2                                         404.0   \n",
       "3                                        8581.0   \n",
       "4                                           NaN   \n",
       "5                                       10514.0   \n",
       "6                                           NaN   \n",
       "7                                           NaN   \n",
       "8                                       22655.0   \n",
       "9                                           NaN   \n",
       "\n",
       "   ExponentialBackoff___longBackOffWaitMilliSeconds  \n",
       "0                                               NaN  \n",
       "1                                            8080.0  \n",
       "2                                           18619.0  \n",
       "3                                             438.0  \n",
       "4                                               NaN  \n",
       "5                                           19668.0  \n",
       "6                                               NaN  \n",
       "7                                               NaN  \n",
       "8                                           29066.0  \n",
       "9                                               NaN  "
      ]
     },
     "execution_count": 62,
     "metadata": {},
     "output_type": "execute_result"
    }
   ],
   "source": [
    "categorical_to_discrete_adapter = CategoricalToDiscreteHypergridAdapter(adaptee=flattening_adapter)\n",
    "categorical_to_discrete_adapter.project_dataframe(original_df, in_place=False)"
   ]
  },
  {
   "cell_type": "markdown",
   "metadata": {},
   "source": [
    "Now each categorical value in each categorical dimension was assigned an integer. The alternative here would be to use one-hot-encoding, and the implementation of such an adapter is left as an exercise for the reader."
   ]
  },
  {
   "cell_type": "code",
   "execution_count": 63,
   "metadata": {},
   "outputs": [
    {
     "data": {
      "text/html": [
       "<div>\n",
       "<style scoped>\n",
       "    .dataframe tbody tr th:only-of-type {\n",
       "        vertical-align: middle;\n",
       "    }\n",
       "\n",
       "    .dataframe tbody tr th {\n",
       "        vertical-align: top;\n",
       "    }\n",
       "\n",
       "    .dataframe thead th {\n",
       "        text-align: right;\n",
       "    }\n",
       "</style>\n",
       "<table border=\"1\" class=\"dataframe\">\n",
       "  <thead>\n",
       "    <tr style=\"text-align: right;\">\n",
       "      <th></th>\n",
       "      <th>backOffPolicy</th>\n",
       "      <th>OptimisticBackoff___acquireSpinCount</th>\n",
       "      <th>ExponentialBackoff___minSpinCount</th>\n",
       "      <th>ExponentialBackoff___maxSpinCount</th>\n",
       "      <th>ExponentialBackoff___maxBackOffAttempts</th>\n",
       "      <th>ExponentialBackoff___shortBackOffMilliSeconds</th>\n",
       "      <th>ExponentialBackoff___longBackOffMilliSeconds</th>\n",
       "      <th>ExponentialBackoff___longBackOffWaitMilliSeconds</th>\n",
       "    </tr>\n",
       "  </thead>\n",
       "  <tbody>\n",
       "    <tr>\n",
       "      <th>0</th>\n",
       "      <td>0.0</td>\n",
       "      <td>0.401121</td>\n",
       "      <td>NaN</td>\n",
       "      <td>NaN</td>\n",
       "      <td>NaN</td>\n",
       "      <td>NaN</td>\n",
       "      <td>NaN</td>\n",
       "      <td>NaN</td>\n",
       "    </tr>\n",
       "    <tr>\n",
       "      <th>1</th>\n",
       "      <td>0.5</td>\n",
       "      <td>NaN</td>\n",
       "      <td>0.750735</td>\n",
       "      <td>0.850361</td>\n",
       "      <td>0.087367</td>\n",
       "      <td>0.373413</td>\n",
       "      <td>0.962433</td>\n",
       "      <td>0.246552</td>\n",
       "    </tr>\n",
       "    <tr>\n",
       "      <th>2</th>\n",
       "      <td>0.5</td>\n",
       "      <td>NaN</td>\n",
       "      <td>0.398140</td>\n",
       "      <td>0.691794</td>\n",
       "      <td>0.869835</td>\n",
       "      <td>0.729187</td>\n",
       "      <td>0.012299</td>\n",
       "      <td>0.568176</td>\n",
       "    </tr>\n",
       "    <tr>\n",
       "      <th>3</th>\n",
       "      <td>0.5</td>\n",
       "      <td>NaN</td>\n",
       "      <td>0.361248</td>\n",
       "      <td>0.117665</td>\n",
       "      <td>0.626223</td>\n",
       "      <td>0.426117</td>\n",
       "      <td>0.261841</td>\n",
       "      <td>0.013336</td>\n",
       "    </tr>\n",
       "    <tr>\n",
       "      <th>4</th>\n",
       "      <td>0.0</td>\n",
       "      <td>0.077343</td>\n",
       "      <td>NaN</td>\n",
       "      <td>NaN</td>\n",
       "      <td>NaN</td>\n",
       "      <td>NaN</td>\n",
       "      <td>NaN</td>\n",
       "      <td>NaN</td>\n",
       "    </tr>\n",
       "    <tr>\n",
       "      <th>5</th>\n",
       "      <td>0.5</td>\n",
       "      <td>NaN</td>\n",
       "      <td>0.413881</td>\n",
       "      <td>0.005476</td>\n",
       "      <td>0.560753</td>\n",
       "      <td>0.261627</td>\n",
       "      <td>0.320831</td>\n",
       "      <td>0.600189</td>\n",
       "    </tr>\n",
       "    <tr>\n",
       "      <th>6</th>\n",
       "      <td>0.0</td>\n",
       "      <td>0.627866</td>\n",
       "      <td>NaN</td>\n",
       "      <td>NaN</td>\n",
       "      <td>NaN</td>\n",
       "      <td>NaN</td>\n",
       "      <td>NaN</td>\n",
       "      <td>NaN</td>\n",
       "    </tr>\n",
       "    <tr>\n",
       "      <th>7</th>\n",
       "      <td>0.0</td>\n",
       "      <td>0.092647</td>\n",
       "      <td>NaN</td>\n",
       "      <td>NaN</td>\n",
       "      <td>NaN</td>\n",
       "      <td>NaN</td>\n",
       "      <td>NaN</td>\n",
       "      <td>NaN</td>\n",
       "    </tr>\n",
       "    <tr>\n",
       "      <th>8</th>\n",
       "      <td>0.5</td>\n",
       "      <td>NaN</td>\n",
       "      <td>0.728689</td>\n",
       "      <td>0.566150</td>\n",
       "      <td>0.394355</td>\n",
       "      <td>0.885406</td>\n",
       "      <td>0.691345</td>\n",
       "      <td>0.886993</td>\n",
       "    </tr>\n",
       "    <tr>\n",
       "      <th>9</th>\n",
       "      <td>0.0</td>\n",
       "      <td>0.518386</td>\n",
       "      <td>NaN</td>\n",
       "      <td>NaN</td>\n",
       "      <td>NaN</td>\n",
       "      <td>NaN</td>\n",
       "      <td>NaN</td>\n",
       "      <td>NaN</td>\n",
       "    </tr>\n",
       "  </tbody>\n",
       "</table>\n",
       "</div>"
      ],
      "text/plain": [
       "   backOffPolicy  OptimisticBackoff___acquireSpinCount  \\\n",
       "0            0.0                              0.401121   \n",
       "1            0.5                                   NaN   \n",
       "2            0.5                                   NaN   \n",
       "3            0.5                                   NaN   \n",
       "4            0.0                              0.077343   \n",
       "5            0.5                                   NaN   \n",
       "6            0.0                              0.627866   \n",
       "7            0.0                              0.092647   \n",
       "8            0.5                                   NaN   \n",
       "9            0.0                              0.518386   \n",
       "\n",
       "   ExponentialBackoff___minSpinCount  ExponentialBackoff___maxSpinCount  \\\n",
       "0                                NaN                                NaN   \n",
       "1                           0.750735                           0.850361   \n",
       "2                           0.398140                           0.691794   \n",
       "3                           0.361248                           0.117665   \n",
       "4                                NaN                                NaN   \n",
       "5                           0.413881                           0.005476   \n",
       "6                                NaN                                NaN   \n",
       "7                                NaN                                NaN   \n",
       "8                           0.728689                           0.566150   \n",
       "9                                NaN                                NaN   \n",
       "\n",
       "   ExponentialBackoff___maxBackOffAttempts  \\\n",
       "0                                      NaN   \n",
       "1                                 0.087367   \n",
       "2                                 0.869835   \n",
       "3                                 0.626223   \n",
       "4                                      NaN   \n",
       "5                                 0.560753   \n",
       "6                                      NaN   \n",
       "7                                      NaN   \n",
       "8                                 0.394355   \n",
       "9                                      NaN   \n",
       "\n",
       "   ExponentialBackoff___shortBackOffMilliSeconds  \\\n",
       "0                                            NaN   \n",
       "1                                       0.373413   \n",
       "2                                       0.729187   \n",
       "3                                       0.426117   \n",
       "4                                            NaN   \n",
       "5                                       0.261627   \n",
       "6                                            NaN   \n",
       "7                                            NaN   \n",
       "8                                       0.885406   \n",
       "9                                            NaN   \n",
       "\n",
       "   ExponentialBackoff___longBackOffMilliSeconds  \\\n",
       "0                                           NaN   \n",
       "1                                      0.962433   \n",
       "2                                      0.012299   \n",
       "3                                      0.261841   \n",
       "4                                           NaN   \n",
       "5                                      0.320831   \n",
       "6                                           NaN   \n",
       "7                                           NaN   \n",
       "8                                      0.691345   \n",
       "9                                           NaN   \n",
       "\n",
       "   ExponentialBackoff___longBackOffWaitMilliSeconds  \n",
       "0                                               NaN  \n",
       "1                                          0.246552  \n",
       "2                                          0.568176  \n",
       "3                                          0.013336  \n",
       "4                                               NaN  \n",
       "5                                          0.600189  \n",
       "6                                               NaN  \n",
       "7                                               NaN  \n",
       "8                                          0.886993  \n",
       "9                                               NaN  "
      ]
     },
     "execution_count": 63,
     "metadata": {},
     "output_type": "execute_result"
    }
   ],
   "source": [
    "discrete_to_unit_continuous_adapter = DiscreteToUnitContinuousHypergridAdapter(adaptee=categorical_to_discrete_adapter)\n",
    "unit_continuous_df = discrete_to_unit_continuous_adapter.project_dataframe(original_df, in_place=False)\n",
    "unit_continuous_df"
   ]
  },
  {
   "cell_type": "markdown",
   "metadata": {},
   "source": [
    "Now, each dimension was scaled down to have all values between 0 and 1. And voila, Glowworm swarm optimizer could operate on such a dataframe."
   ]
  },
  {
   "cell_type": "markdown",
   "metadata": {},
   "source": [
    "##### A shorter way\n",
    "We can of course just nest the constructor calls:"
   ]
  },
  {
   "cell_type": "code",
   "execution_count": 64,
   "metadata": {},
   "outputs": [
    {
     "data": {
      "text/html": [
       "<div>\n",
       "<style scoped>\n",
       "    .dataframe tbody tr th:only-of-type {\n",
       "        vertical-align: middle;\n",
       "    }\n",
       "\n",
       "    .dataframe tbody tr th {\n",
       "        vertical-align: top;\n",
       "    }\n",
       "\n",
       "    .dataframe thead th {\n",
       "        text-align: right;\n",
       "    }\n",
       "</style>\n",
       "<table border=\"1\" class=\"dataframe\">\n",
       "  <thead>\n",
       "    <tr style=\"text-align: right;\">\n",
       "      <th></th>\n",
       "      <th>backOffPolicy</th>\n",
       "      <th>OptimisticBackoff___acquireSpinCount</th>\n",
       "      <th>ExponentialBackoff___minSpinCount</th>\n",
       "      <th>ExponentialBackoff___maxSpinCount</th>\n",
       "      <th>ExponentialBackoff___maxBackOffAttempts</th>\n",
       "      <th>ExponentialBackoff___shortBackOffMilliSeconds</th>\n",
       "      <th>ExponentialBackoff___longBackOffMilliSeconds</th>\n",
       "      <th>ExponentialBackoff___longBackOffWaitMilliSeconds</th>\n",
       "    </tr>\n",
       "  </thead>\n",
       "  <tbody>\n",
       "    <tr>\n",
       "      <th>0</th>\n",
       "      <td>0.0</td>\n",
       "      <td>0.401121</td>\n",
       "      <td>NaN</td>\n",
       "      <td>NaN</td>\n",
       "      <td>NaN</td>\n",
       "      <td>NaN</td>\n",
       "      <td>NaN</td>\n",
       "      <td>NaN</td>\n",
       "    </tr>\n",
       "    <tr>\n",
       "      <th>1</th>\n",
       "      <td>0.5</td>\n",
       "      <td>NaN</td>\n",
       "      <td>0.750735</td>\n",
       "      <td>0.850361</td>\n",
       "      <td>0.087367</td>\n",
       "      <td>0.373413</td>\n",
       "      <td>0.962433</td>\n",
       "      <td>0.246552</td>\n",
       "    </tr>\n",
       "    <tr>\n",
       "      <th>2</th>\n",
       "      <td>0.5</td>\n",
       "      <td>NaN</td>\n",
       "      <td>0.398140</td>\n",
       "      <td>0.691794</td>\n",
       "      <td>0.869835</td>\n",
       "      <td>0.729187</td>\n",
       "      <td>0.012299</td>\n",
       "      <td>0.568176</td>\n",
       "    </tr>\n",
       "    <tr>\n",
       "      <th>3</th>\n",
       "      <td>0.5</td>\n",
       "      <td>NaN</td>\n",
       "      <td>0.361248</td>\n",
       "      <td>0.117665</td>\n",
       "      <td>0.626223</td>\n",
       "      <td>0.426117</td>\n",
       "      <td>0.261841</td>\n",
       "      <td>0.013336</td>\n",
       "    </tr>\n",
       "    <tr>\n",
       "      <th>4</th>\n",
       "      <td>0.0</td>\n",
       "      <td>0.077343</td>\n",
       "      <td>NaN</td>\n",
       "      <td>NaN</td>\n",
       "      <td>NaN</td>\n",
       "      <td>NaN</td>\n",
       "      <td>NaN</td>\n",
       "      <td>NaN</td>\n",
       "    </tr>\n",
       "    <tr>\n",
       "      <th>5</th>\n",
       "      <td>0.5</td>\n",
       "      <td>NaN</td>\n",
       "      <td>0.413881</td>\n",
       "      <td>0.005476</td>\n",
       "      <td>0.560753</td>\n",
       "      <td>0.261627</td>\n",
       "      <td>0.320831</td>\n",
       "      <td>0.600189</td>\n",
       "    </tr>\n",
       "    <tr>\n",
       "      <th>6</th>\n",
       "      <td>0.0</td>\n",
       "      <td>0.627866</td>\n",
       "      <td>NaN</td>\n",
       "      <td>NaN</td>\n",
       "      <td>NaN</td>\n",
       "      <td>NaN</td>\n",
       "      <td>NaN</td>\n",
       "      <td>NaN</td>\n",
       "    </tr>\n",
       "    <tr>\n",
       "      <th>7</th>\n",
       "      <td>0.0</td>\n",
       "      <td>0.092647</td>\n",
       "      <td>NaN</td>\n",
       "      <td>NaN</td>\n",
       "      <td>NaN</td>\n",
       "      <td>NaN</td>\n",
       "      <td>NaN</td>\n",
       "      <td>NaN</td>\n",
       "    </tr>\n",
       "    <tr>\n",
       "      <th>8</th>\n",
       "      <td>0.5</td>\n",
       "      <td>NaN</td>\n",
       "      <td>0.728689</td>\n",
       "      <td>0.566150</td>\n",
       "      <td>0.394355</td>\n",
       "      <td>0.885406</td>\n",
       "      <td>0.691345</td>\n",
       "      <td>0.886993</td>\n",
       "    </tr>\n",
       "    <tr>\n",
       "      <th>9</th>\n",
       "      <td>0.0</td>\n",
       "      <td>0.518386</td>\n",
       "      <td>NaN</td>\n",
       "      <td>NaN</td>\n",
       "      <td>NaN</td>\n",
       "      <td>NaN</td>\n",
       "      <td>NaN</td>\n",
       "      <td>NaN</td>\n",
       "    </tr>\n",
       "  </tbody>\n",
       "</table>\n",
       "</div>"
      ],
      "text/plain": [
       "   backOffPolicy  OptimisticBackoff___acquireSpinCount  \\\n",
       "0            0.0                              0.401121   \n",
       "1            0.5                                   NaN   \n",
       "2            0.5                                   NaN   \n",
       "3            0.5                                   NaN   \n",
       "4            0.0                              0.077343   \n",
       "5            0.5                                   NaN   \n",
       "6            0.0                              0.627866   \n",
       "7            0.0                              0.092647   \n",
       "8            0.5                                   NaN   \n",
       "9            0.0                              0.518386   \n",
       "\n",
       "   ExponentialBackoff___minSpinCount  ExponentialBackoff___maxSpinCount  \\\n",
       "0                                NaN                                NaN   \n",
       "1                           0.750735                           0.850361   \n",
       "2                           0.398140                           0.691794   \n",
       "3                           0.361248                           0.117665   \n",
       "4                                NaN                                NaN   \n",
       "5                           0.413881                           0.005476   \n",
       "6                                NaN                                NaN   \n",
       "7                                NaN                                NaN   \n",
       "8                           0.728689                           0.566150   \n",
       "9                                NaN                                NaN   \n",
       "\n",
       "   ExponentialBackoff___maxBackOffAttempts  \\\n",
       "0                                      NaN   \n",
       "1                                 0.087367   \n",
       "2                                 0.869835   \n",
       "3                                 0.626223   \n",
       "4                                      NaN   \n",
       "5                                 0.560753   \n",
       "6                                      NaN   \n",
       "7                                      NaN   \n",
       "8                                 0.394355   \n",
       "9                                      NaN   \n",
       "\n",
       "   ExponentialBackoff___shortBackOffMilliSeconds  \\\n",
       "0                                            NaN   \n",
       "1                                       0.373413   \n",
       "2                                       0.729187   \n",
       "3                                       0.426117   \n",
       "4                                            NaN   \n",
       "5                                       0.261627   \n",
       "6                                            NaN   \n",
       "7                                            NaN   \n",
       "8                                       0.885406   \n",
       "9                                            NaN   \n",
       "\n",
       "   ExponentialBackoff___longBackOffMilliSeconds  \\\n",
       "0                                           NaN   \n",
       "1                                      0.962433   \n",
       "2                                      0.012299   \n",
       "3                                      0.261841   \n",
       "4                                           NaN   \n",
       "5                                      0.320831   \n",
       "6                                           NaN   \n",
       "7                                           NaN   \n",
       "8                                      0.691345   \n",
       "9                                           NaN   \n",
       "\n",
       "   ExponentialBackoff___longBackOffWaitMilliSeconds  \n",
       "0                                               NaN  \n",
       "1                                          0.246552  \n",
       "2                                          0.568176  \n",
       "3                                          0.013336  \n",
       "4                                               NaN  \n",
       "5                                          0.600189  \n",
       "6                                               NaN  \n",
       "7                                               NaN  \n",
       "8                                          0.886993  \n",
       "9                                               NaN  "
      ]
     },
     "execution_count": 64,
     "metadata": {},
     "output_type": "execute_result"
    }
   ],
   "source": [
    "original_to_unit_continuous_adapter = DiscreteToUnitContinuousHypergridAdapter(\n",
    "    adaptee=CategoricalToDiscreteHypergridAdapter(\n",
    "        adaptee=HierarchicalToFlatHypergridAdapter(\n",
    "            adaptee=original_space\n",
    "        )\n",
    "    )\n",
    ")\n",
    "original_to_unit_continuous_adapter.project_dataframe(original_df, in_place=False)"
   ]
  },
  {
   "cell_type": "code",
   "execution_count": 65,
   "metadata": {},
   "outputs": [],
   "source": [
    "# And just to be sure\n",
    "#\n",
    "assert original_to_unit_continuous_adapter.project_dataframe(original_df, in_place=False).equals(unit_continuous_df)"
   ]
  },
  {
   "cell_type": "markdown",
   "metadata": {},
   "source": [
    "##### The shortest way\n",
    "All of the adapters implemented so far, can chain themselves."
   ]
  },
  {
   "cell_type": "code",
   "execution_count": 66,
   "metadata": {},
   "outputs": [
    {
     "data": {
      "text/html": [
       "<div>\n",
       "<style scoped>\n",
       "    .dataframe tbody tr th:only-of-type {\n",
       "        vertical-align: middle;\n",
       "    }\n",
       "\n",
       "    .dataframe tbody tr th {\n",
       "        vertical-align: top;\n",
       "    }\n",
       "\n",
       "    .dataframe thead th {\n",
       "        text-align: right;\n",
       "    }\n",
       "</style>\n",
       "<table border=\"1\" class=\"dataframe\">\n",
       "  <thead>\n",
       "    <tr style=\"text-align: right;\">\n",
       "      <th></th>\n",
       "      <th>backOffPolicy</th>\n",
       "      <th>OptimisticBackoff___acquireSpinCount</th>\n",
       "      <th>ExponentialBackoff___minSpinCount</th>\n",
       "      <th>ExponentialBackoff___maxSpinCount</th>\n",
       "      <th>ExponentialBackoff___maxBackOffAttempts</th>\n",
       "      <th>ExponentialBackoff___shortBackOffMilliSeconds</th>\n",
       "      <th>ExponentialBackoff___longBackOffMilliSeconds</th>\n",
       "      <th>ExponentialBackoff___longBackOffWaitMilliSeconds</th>\n",
       "    </tr>\n",
       "  </thead>\n",
       "  <tbody>\n",
       "    <tr>\n",
       "      <th>0</th>\n",
       "      <td>0.0</td>\n",
       "      <td>0.401121</td>\n",
       "      <td>NaN</td>\n",
       "      <td>NaN</td>\n",
       "      <td>NaN</td>\n",
       "      <td>NaN</td>\n",
       "      <td>NaN</td>\n",
       "      <td>NaN</td>\n",
       "    </tr>\n",
       "    <tr>\n",
       "      <th>1</th>\n",
       "      <td>0.5</td>\n",
       "      <td>NaN</td>\n",
       "      <td>0.750735</td>\n",
       "      <td>0.850361</td>\n",
       "      <td>0.087367</td>\n",
       "      <td>0.373413</td>\n",
       "      <td>0.962433</td>\n",
       "      <td>0.246552</td>\n",
       "    </tr>\n",
       "    <tr>\n",
       "      <th>2</th>\n",
       "      <td>0.5</td>\n",
       "      <td>NaN</td>\n",
       "      <td>0.398140</td>\n",
       "      <td>0.691794</td>\n",
       "      <td>0.869835</td>\n",
       "      <td>0.729187</td>\n",
       "      <td>0.012299</td>\n",
       "      <td>0.568176</td>\n",
       "    </tr>\n",
       "    <tr>\n",
       "      <th>3</th>\n",
       "      <td>0.5</td>\n",
       "      <td>NaN</td>\n",
       "      <td>0.361248</td>\n",
       "      <td>0.117665</td>\n",
       "      <td>0.626223</td>\n",
       "      <td>0.426117</td>\n",
       "      <td>0.261841</td>\n",
       "      <td>0.013336</td>\n",
       "    </tr>\n",
       "    <tr>\n",
       "      <th>4</th>\n",
       "      <td>0.0</td>\n",
       "      <td>0.077343</td>\n",
       "      <td>NaN</td>\n",
       "      <td>NaN</td>\n",
       "      <td>NaN</td>\n",
       "      <td>NaN</td>\n",
       "      <td>NaN</td>\n",
       "      <td>NaN</td>\n",
       "    </tr>\n",
       "    <tr>\n",
       "      <th>5</th>\n",
       "      <td>0.5</td>\n",
       "      <td>NaN</td>\n",
       "      <td>0.413881</td>\n",
       "      <td>0.005476</td>\n",
       "      <td>0.560753</td>\n",
       "      <td>0.261627</td>\n",
       "      <td>0.320831</td>\n",
       "      <td>0.600189</td>\n",
       "    </tr>\n",
       "    <tr>\n",
       "      <th>6</th>\n",
       "      <td>0.0</td>\n",
       "      <td>0.627866</td>\n",
       "      <td>NaN</td>\n",
       "      <td>NaN</td>\n",
       "      <td>NaN</td>\n",
       "      <td>NaN</td>\n",
       "      <td>NaN</td>\n",
       "      <td>NaN</td>\n",
       "    </tr>\n",
       "    <tr>\n",
       "      <th>7</th>\n",
       "      <td>0.0</td>\n",
       "      <td>0.092647</td>\n",
       "      <td>NaN</td>\n",
       "      <td>NaN</td>\n",
       "      <td>NaN</td>\n",
       "      <td>NaN</td>\n",
       "      <td>NaN</td>\n",
       "      <td>NaN</td>\n",
       "    </tr>\n",
       "    <tr>\n",
       "      <th>8</th>\n",
       "      <td>0.5</td>\n",
       "      <td>NaN</td>\n",
       "      <td>0.728689</td>\n",
       "      <td>0.566150</td>\n",
       "      <td>0.394355</td>\n",
       "      <td>0.885406</td>\n",
       "      <td>0.691345</td>\n",
       "      <td>0.886993</td>\n",
       "    </tr>\n",
       "    <tr>\n",
       "      <th>9</th>\n",
       "      <td>0.0</td>\n",
       "      <td>0.518386</td>\n",
       "      <td>NaN</td>\n",
       "      <td>NaN</td>\n",
       "      <td>NaN</td>\n",
       "      <td>NaN</td>\n",
       "      <td>NaN</td>\n",
       "      <td>NaN</td>\n",
       "    </tr>\n",
       "  </tbody>\n",
       "</table>\n",
       "</div>"
      ],
      "text/plain": [
       "   backOffPolicy  OptimisticBackoff___acquireSpinCount  \\\n",
       "0            0.0                              0.401121   \n",
       "1            0.5                                   NaN   \n",
       "2            0.5                                   NaN   \n",
       "3            0.5                                   NaN   \n",
       "4            0.0                              0.077343   \n",
       "5            0.5                                   NaN   \n",
       "6            0.0                              0.627866   \n",
       "7            0.0                              0.092647   \n",
       "8            0.5                                   NaN   \n",
       "9            0.0                              0.518386   \n",
       "\n",
       "   ExponentialBackoff___minSpinCount  ExponentialBackoff___maxSpinCount  \\\n",
       "0                                NaN                                NaN   \n",
       "1                           0.750735                           0.850361   \n",
       "2                           0.398140                           0.691794   \n",
       "3                           0.361248                           0.117665   \n",
       "4                                NaN                                NaN   \n",
       "5                           0.413881                           0.005476   \n",
       "6                                NaN                                NaN   \n",
       "7                                NaN                                NaN   \n",
       "8                           0.728689                           0.566150   \n",
       "9                                NaN                                NaN   \n",
       "\n",
       "   ExponentialBackoff___maxBackOffAttempts  \\\n",
       "0                                      NaN   \n",
       "1                                 0.087367   \n",
       "2                                 0.869835   \n",
       "3                                 0.626223   \n",
       "4                                      NaN   \n",
       "5                                 0.560753   \n",
       "6                                      NaN   \n",
       "7                                      NaN   \n",
       "8                                 0.394355   \n",
       "9                                      NaN   \n",
       "\n",
       "   ExponentialBackoff___shortBackOffMilliSeconds  \\\n",
       "0                                            NaN   \n",
       "1                                       0.373413   \n",
       "2                                       0.729187   \n",
       "3                                       0.426117   \n",
       "4                                            NaN   \n",
       "5                                       0.261627   \n",
       "6                                            NaN   \n",
       "7                                            NaN   \n",
       "8                                       0.885406   \n",
       "9                                            NaN   \n",
       "\n",
       "   ExponentialBackoff___longBackOffMilliSeconds  \\\n",
       "0                                           NaN   \n",
       "1                                      0.962433   \n",
       "2                                      0.012299   \n",
       "3                                      0.261841   \n",
       "4                                           NaN   \n",
       "5                                      0.320831   \n",
       "6                                           NaN   \n",
       "7                                           NaN   \n",
       "8                                      0.691345   \n",
       "9                                           NaN   \n",
       "\n",
       "   ExponentialBackoff___longBackOffWaitMilliSeconds  \n",
       "0                                               NaN  \n",
       "1                                          0.246552  \n",
       "2                                          0.568176  \n",
       "3                                          0.013336  \n",
       "4                                               NaN  \n",
       "5                                          0.600189  \n",
       "6                                               NaN  \n",
       "7                                               NaN  \n",
       "8                                          0.886993  \n",
       "9                                               NaN  "
      ]
     },
     "execution_count": 66,
     "metadata": {},
     "output_type": "execute_result"
    }
   ],
   "source": [
    "adapter = DiscreteToUnitContinuousHypergridAdapter(adaptee=original_space)\n",
    "projected_df = adapter.project_dataframe(original_df, in_place=False)\n",
    "projected_df"
   ]
  },
  {
   "cell_type": "code",
   "execution_count": 67,
   "metadata": {},
   "outputs": [],
   "source": [
    "# And just to be sure\n",
    "#\n",
    "assert projected_df.equals(unit_continuous_df)"
   ]
  },
  {
   "cell_type": "markdown",
   "metadata": {},
   "source": [
    "#### Demonstrating Invertibility\n",
    "The second property that almost all adapters must have is being invertible (with the exceptions listed before)."
   ]
  },
  {
   "cell_type": "code",
   "execution_count": 68,
   "metadata": {},
   "outputs": [
    {
     "data": {
      "text/html": [
       "<div>\n",
       "<style scoped>\n",
       "    .dataframe tbody tr th:only-of-type {\n",
       "        vertical-align: middle;\n",
       "    }\n",
       "\n",
       "    .dataframe tbody tr th {\n",
       "        vertical-align: top;\n",
       "    }\n",
       "\n",
       "    .dataframe thead th {\n",
       "        text-align: right;\n",
       "    }\n",
       "</style>\n",
       "<table border=\"1\" class=\"dataframe\">\n",
       "  <thead>\n",
       "    <tr style=\"text-align: right;\">\n",
       "      <th></th>\n",
       "      <th>backOffPolicy</th>\n",
       "      <th>OptimisticBackoff.acquireSpinCount</th>\n",
       "      <th>ExponentialBackoff.minSpinCount</th>\n",
       "      <th>ExponentialBackoff.maxSpinCount</th>\n",
       "      <th>ExponentialBackoff.maxBackOffAttempts</th>\n",
       "      <th>ExponentialBackoff.shortBackOffMilliSeconds</th>\n",
       "      <th>ExponentialBackoff.longBackOffMilliSeconds</th>\n",
       "      <th>ExponentialBackoff.longBackOffWaitMilliSeconds</th>\n",
       "    </tr>\n",
       "  </thead>\n",
       "  <tbody>\n",
       "    <tr>\n",
       "      <th>0</th>\n",
       "      <td>Optimistic</td>\n",
       "      <td>420607.0</td>\n",
       "      <td>NaN</td>\n",
       "      <td>NaN</td>\n",
       "      <td>NaN</td>\n",
       "      <td>NaN</td>\n",
       "      <td>NaN</td>\n",
       "      <td>NaN</td>\n",
       "    </tr>\n",
       "    <tr>\n",
       "      <th>1</th>\n",
       "      <td>ExponentialBackOff</td>\n",
       "      <td>NaN</td>\n",
       "      <td>787204.0</td>\n",
       "      <td>891669.0</td>\n",
       "      <td>91612.0</td>\n",
       "      <td>12237.0</td>\n",
       "      <td>31538.0</td>\n",
       "      <td>8080.0</td>\n",
       "    </tr>\n",
       "    <tr>\n",
       "      <th>2</th>\n",
       "      <td>ExponentialBackOff</td>\n",
       "      <td>NaN</td>\n",
       "      <td>417481.0</td>\n",
       "      <td>725400.0</td>\n",
       "      <td>912089.0</td>\n",
       "      <td>23895.0</td>\n",
       "      <td>404.0</td>\n",
       "      <td>18619.0</td>\n",
       "    </tr>\n",
       "    <tr>\n",
       "      <th>3</th>\n",
       "      <td>ExponentialBackOff</td>\n",
       "      <td>NaN</td>\n",
       "      <td>378797.0</td>\n",
       "      <td>123382.0</td>\n",
       "      <td>656643.0</td>\n",
       "      <td>13964.0</td>\n",
       "      <td>8581.0</td>\n",
       "      <td>438.0</td>\n",
       "    </tr>\n",
       "    <tr>\n",
       "      <th>4</th>\n",
       "      <td>Optimistic</td>\n",
       "      <td>81101.0</td>\n",
       "      <td>NaN</td>\n",
       "      <td>NaN</td>\n",
       "      <td>NaN</td>\n",
       "      <td>NaN</td>\n",
       "      <td>NaN</td>\n",
       "      <td>NaN</td>\n",
       "    </tr>\n",
       "    <tr>\n",
       "      <th>5</th>\n",
       "      <td>ExponentialBackOff</td>\n",
       "      <td>NaN</td>\n",
       "      <td>433987.0</td>\n",
       "      <td>5743.0</td>\n",
       "      <td>587993.0</td>\n",
       "      <td>8574.0</td>\n",
       "      <td>10514.0</td>\n",
       "      <td>19668.0</td>\n",
       "    </tr>\n",
       "    <tr>\n",
       "      <th>6</th>\n",
       "      <td>Optimistic</td>\n",
       "      <td>658366.0</td>\n",
       "      <td>NaN</td>\n",
       "      <td>NaN</td>\n",
       "      <td>NaN</td>\n",
       "      <td>NaN</td>\n",
       "      <td>NaN</td>\n",
       "      <td>NaN</td>\n",
       "    </tr>\n",
       "    <tr>\n",
       "      <th>7</th>\n",
       "      <td>Optimistic</td>\n",
       "      <td>97148.0</td>\n",
       "      <td>NaN</td>\n",
       "      <td>NaN</td>\n",
       "      <td>NaN</td>\n",
       "      <td>NaN</td>\n",
       "      <td>NaN</td>\n",
       "      <td>NaN</td>\n",
       "    </tr>\n",
       "    <tr>\n",
       "      <th>8</th>\n",
       "      <td>ExponentialBackOff</td>\n",
       "      <td>NaN</td>\n",
       "      <td>764087.0</td>\n",
       "      <td>593652.0</td>\n",
       "      <td>413512.0</td>\n",
       "      <td>29014.0</td>\n",
       "      <td>22655.0</td>\n",
       "      <td>29066.0</td>\n",
       "    </tr>\n",
       "    <tr>\n",
       "      <th>9</th>\n",
       "      <td>Optimistic</td>\n",
       "      <td>543568.0</td>\n",
       "      <td>NaN</td>\n",
       "      <td>NaN</td>\n",
       "      <td>NaN</td>\n",
       "      <td>NaN</td>\n",
       "      <td>NaN</td>\n",
       "      <td>NaN</td>\n",
       "    </tr>\n",
       "  </tbody>\n",
       "</table>\n",
       "</div>"
      ],
      "text/plain": [
       "        backOffPolicy  OptimisticBackoff.acquireSpinCount  \\\n",
       "0          Optimistic                            420607.0   \n",
       "1  ExponentialBackOff                                 NaN   \n",
       "2  ExponentialBackOff                                 NaN   \n",
       "3  ExponentialBackOff                                 NaN   \n",
       "4          Optimistic                             81101.0   \n",
       "5  ExponentialBackOff                                 NaN   \n",
       "6          Optimistic                            658366.0   \n",
       "7          Optimistic                             97148.0   \n",
       "8  ExponentialBackOff                                 NaN   \n",
       "9          Optimistic                            543568.0   \n",
       "\n",
       "   ExponentialBackoff.minSpinCount  ExponentialBackoff.maxSpinCount  \\\n",
       "0                              NaN                              NaN   \n",
       "1                         787204.0                         891669.0   \n",
       "2                         417481.0                         725400.0   \n",
       "3                         378797.0                         123382.0   \n",
       "4                              NaN                              NaN   \n",
       "5                         433987.0                           5743.0   \n",
       "6                              NaN                              NaN   \n",
       "7                              NaN                              NaN   \n",
       "8                         764087.0                         593652.0   \n",
       "9                              NaN                              NaN   \n",
       "\n",
       "   ExponentialBackoff.maxBackOffAttempts  \\\n",
       "0                                    NaN   \n",
       "1                                91612.0   \n",
       "2                               912089.0   \n",
       "3                               656643.0   \n",
       "4                                    NaN   \n",
       "5                               587993.0   \n",
       "6                                    NaN   \n",
       "7                                    NaN   \n",
       "8                               413512.0   \n",
       "9                                    NaN   \n",
       "\n",
       "   ExponentialBackoff.shortBackOffMilliSeconds  \\\n",
       "0                                          NaN   \n",
       "1                                      12237.0   \n",
       "2                                      23895.0   \n",
       "3                                      13964.0   \n",
       "4                                          NaN   \n",
       "5                                       8574.0   \n",
       "6                                          NaN   \n",
       "7                                          NaN   \n",
       "8                                      29014.0   \n",
       "9                                          NaN   \n",
       "\n",
       "   ExponentialBackoff.longBackOffMilliSeconds  \\\n",
       "0                                         NaN   \n",
       "1                                     31538.0   \n",
       "2                                       404.0   \n",
       "3                                      8581.0   \n",
       "4                                         NaN   \n",
       "5                                     10514.0   \n",
       "6                                         NaN   \n",
       "7                                         NaN   \n",
       "8                                     22655.0   \n",
       "9                                         NaN   \n",
       "\n",
       "   ExponentialBackoff.longBackOffWaitMilliSeconds  \n",
       "0                                             NaN  \n",
       "1                                          8080.0  \n",
       "2                                         18619.0  \n",
       "3                                           438.0  \n",
       "4                                             NaN  \n",
       "5                                         19668.0  \n",
       "6                                             NaN  \n",
       "7                                             NaN  \n",
       "8                                         29066.0  \n",
       "9                                             NaN  "
      ]
     },
     "execution_count": 68,
     "metadata": {},
     "output_type": "execute_result"
    }
   ],
   "source": [
    "unprojected_df = adapter.unproject_dataframe(projected_df, in_place=False)\n",
    "unprojected_df"
   ]
  },
  {
   "cell_type": "code",
   "execution_count": 69,
   "metadata": {},
   "outputs": [],
   "source": [
    "# And to be sure we got back what we put in:\n",
    "#\n",
    "assert unprojected_df.equals(original_df)"
   ]
  },
  {
   "cell_type": "markdown",
   "metadata": {},
   "source": [
    "#### Adapting Points\n",
    "Works exactly the same way:"
   ]
  },
  {
   "cell_type": "code",
   "execution_count": 70,
   "metadata": {},
   "outputs": [
    {
     "name": "stdout",
     "output_type": "stream",
     "text": [
      "{\n",
      "  \"backOffPolicy\": \"Optimistic\",\n",
      "  \"OptimisticBackoff.acquireSpinCount\": 101718\n",
      "}\n"
     ]
    }
   ],
   "source": [
    "original_point = original_space.random()\n",
    "print(original_point.to_json(indent=2))"
   ]
  },
  {
   "cell_type": "code",
   "execution_count": 71,
   "metadata": {},
   "outputs": [
    {
     "name": "stdout",
     "output_type": "stream",
     "text": [
      "{\n",
      "  \"backOffPolicy\": 0.0,\n",
      "  \"OptimisticBackoff___acquireSpinCount\": 0.09700489044189453\n",
      "}\n"
     ]
    }
   ],
   "source": [
    "projected_point = adapter.project_point(original_point)\n",
    "print(projected_point.to_json(indent=2))"
   ]
  },
  {
   "cell_type": "code",
   "execution_count": 72,
   "metadata": {},
   "outputs": [
    {
     "name": "stdout",
     "output_type": "stream",
     "text": [
      "{\n",
      "  \"backOffPolicy\": \"Optimistic\",\n",
      "  \"OptimisticBackoff.acquireSpinCount\": 101718\n",
      "}\n"
     ]
    }
   ],
   "source": [
    "unprojected_point = adapter.unproject_point(projected_point)\n",
    "print(unprojected_point.to_json(indent=2))"
   ]
  },
  {
   "cell_type": "code",
   "execution_count": 73,
   "metadata": {},
   "outputs": [],
   "source": [
    "# And finally to be sure:\n",
    "#\n",
    "assert unprojected_point == original_point"
   ]
  }
 ],
 "metadata": {
  "kernelspec": {
   "display_name": "Python 3",
   "language": "python",
   "name": "python3"
  },
  "language_info": {
   "codemirror_mode": {
    "name": "ipython",
    "version": 3
   },
   "file_extension": ".py",
   "mimetype": "text/x-python",
   "name": "python",
   "nbconvert_exporter": "python",
   "pygments_lexer": "ipython3",
   "version": "3.7.4"
  }
 },
 "nbformat": 4,
 "nbformat_minor": 2
}
