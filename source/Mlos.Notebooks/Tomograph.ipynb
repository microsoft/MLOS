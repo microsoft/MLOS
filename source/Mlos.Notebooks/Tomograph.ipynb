{
 "cells": [
  {
   "cell_type": "markdown",
   "metadata": {},
   "source": [
    "# Goal\n",
    "\n",
    "The goal of this notebook is to demonstrate the usage of the new, multi-objective, and interactive version of the Tomograph.\n",
    "\n",
    "## Goals for the Tomograph2\n",
    "\n",
    "1. Move away from matplotlib to either plotly, or bokeh. \n",
    "2. Make sure that:\n",
    "    1. All scales are the same so that they are comparable.\n",
    "    2. We should be able to plot not just predictions but also individual observations as a scatterplot. \n",
    "    3. We should be able to link the points across multiple charts to investigate them more deeply (bokeh seems to be the winner here)\n",
    "    4. We should be able to connect multiple tomographs to the same optimizer, as any given analysis might focus on different aspects and each aspect should have it's own graphs.\n",
    "3. The Tomograph produces a set of heatmaps that belong to 2D cross-sections of the higher-dimensional hypercube. All these cross-sections share a single point (often the optimum). The user should be able to:\n",
    "    1. Select one of the predefined points (different types of optima, maybe optima for different contexts)\n",
    "    2. View the resulting cross sections and sensitivity analysis for such a point\n",
    "    3. Be able to use sliders to adjust the point so that they can easily \"walk the hypercube\"\n",
    "    \n",
    "\n",
    "Plotly has the advantage of also enabling 3D visualizations of the pareto frontier and generates surface plots etc. But bokeh has built-in support for linking data. \n",
    "\n",
    "Given what we need, we will start with bokeh, for dabl-style and tomograph plots, and then switch to plotly for parameter interactions, and 3D pareto visualizations."
   ]
  },
  {
   "cell_type": "markdown",
   "metadata": {},
   "source": [
    "https://docs.bokeh.org/en/latest/index.html"
   ]
  },
  {
   "cell_type": "code",
   "execution_count": null,
   "metadata": {},
   "outputs": [],
   "source": [
    "from IPython.core.display import display, HTML\n",
    "display(HTML(\"<style>.container { width:100% !important; }</style>\"))"
   ]
  },
  {
   "cell_type": "markdown",
   "metadata": {
    "scrolled": true
   },
   "source": [
    "# Create and train the Optimizer"
   ]
  },
  {
   "cell_type": "code",
   "execution_count": null,
   "metadata": {
    "scrolled": false
   },
   "outputs": [],
   "source": [
    "from mlos.OptimizerEvaluationTools.ObjectiveFunctionFactory import ObjectiveFunctionFactory, objective_function_config_store\n",
    "\n",
    "#objective_function_config = objective_function_config_store.get_config_by_name(\"multi_objective_2_mutually_exclusive_polynomials\")\n",
    "#objective_function_config = objective_function_config_store.get_config_by_name(\"three_level_quadratic\")\n",
    "#objective_function_config = objective_function_config_store.get_config_by_name(\"2d_hypersphere_minimize_none\")\n",
    "objective_function_config = objective_function_config_store.get_config_by_name(\"multi_objective_waves_3_params_2_objectives_half_pi_phase_difference\")\n",
    "\n",
    "objective_function = ObjectiveFunctionFactory.create_objective_function(objective_function_config)\n",
    "optimization_problem = objective_function.default_optimization_problem"
   ]
  },
  {
   "cell_type": "code",
   "execution_count": null,
   "metadata": {
    "scrolled": true
   },
   "outputs": [],
   "source": [
    "from mlos.Optimizers.BayesianOptimizerFactory import BayesianOptimizerFactory, bayesian_optimizer_config_store\n",
    "optimizer_factory = BayesianOptimizerFactory()\n",
    "\n",
    "if len(optimization_problem.objectives) == 1:\n",
    "    optimizer_config = bayesian_optimizer_config_store.default\n",
    "else:\n",
    "    optimizer_config = bayesian_optimizer_config_store.get_config_by_name(\"default_with_random_near_incumbent_config\")\n",
    "    \n",
    "optimizer = optimizer_factory.create_local_optimizer(\n",
    "    optimizer_config=optimizer_config,\n",
    "    optimization_problem=optimization_problem\n",
    ")"
   ]
  },
  {
   "cell_type": "code",
   "execution_count": null,
   "metadata": {},
   "outputs": [],
   "source": [
    "params_df = objective_function.parameter_space.random_dataframe(num_samples=100)\n",
    "objectives_df = objective_function.evaluate_dataframe(params_df)\n",
    "optimizer.register(parameter_values_pandas_frame=params_df, target_values_pandas_frame=objectives_df)"
   ]
  },
  {
   "cell_type": "markdown",
   "metadata": {},
   "source": [
    "# Plot observations using ModelTomograph2"
   ]
  },
  {
   "cell_type": "code",
   "execution_count": null,
   "metadata": {
    "scrolled": false
   },
   "outputs": [],
   "source": [
    "from bokeh.io import output_notebook, show\n",
    "from mlos.OptimizerMonitoring.Tomograph.ModelTomograph2 import ModelTomograph2    \n",
    "    \n",
    "output_notebook()\n",
    "tomograph = ModelTomograph2(optimizer=optimizer)\n",
    "report = tomograph.get_report()\n",
    "show(report)"
   ]
  },
  {
   "cell_type": "code",
   "execution_count": null,
   "metadata": {},
   "outputs": [],
   "source": [
    "# Let's run through a bunch of iterations.\n",
    "#\n",
    "for _ in range(100):\n",
    "    suggestion_df = optimizer.suggest().to_dataframe()\n",
    "    objectives_df = objective_function.evaluate_dataframe(suggestion_df)\n",
    "    optimizer.register(suggestion_df, objectives_df)\n",
    "    "
   ]
  },
  {
   "cell_type": "code",
   "execution_count": null,
   "metadata": {
    "scrolled": false
   },
   "outputs": [],
   "source": [
    "show(tomograph.get_report())"
   ]
  }
 ],
 "metadata": {
  "kernelspec": {
   "display_name": "Python 3",
   "language": "python",
   "name": "python3"
  },
  "language_info": {
   "codemirror_mode": {
    "name": "ipython",
    "version": 3
   },
   "file_extension": ".py",
   "mimetype": "text/x-python",
   "name": "python",
   "nbconvert_exporter": "python",
   "pygments_lexer": "ipython3",
   "version": "3.8.6"
  }
 },
 "nbformat": 4,
 "nbformat_minor": 4
}
