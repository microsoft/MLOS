{
 "cells": [
  {
   "attachments": {},
   "cell_type": "markdown",
   "metadata": {},
   "source": [
    "# Bayesian Optimization Example Using `mlos_core`"
   ]
  },
  {
   "cell_type": "code",
   "execution_count": 40,
   "metadata": {},
   "outputs": [],
   "source": [
    "import matplotlib.pyplot as plt\n",
    "import numpy as np\n",
    "import pandas as pd"
   ]
  },
  {
   "cell_type": "code",
   "execution_count": 41,
   "metadata": {},
   "outputs": [],
   "source": [
    "# Define a fake \"performance\" function.\n",
    "# In an actual application, we would not have access to this function directly.\n",
    "# Instead, we could only measure the outcome by running an experiment, such as timing\n",
    "# a particular run of the system.\n",
    "def f(x):\n",
    "    return (6*x-2)**2*np.sin(12*x-4)"
   ]
  },
  {
   "cell_type": "code",
   "execution_count": 42,
   "metadata": {},
   "outputs": [
    {
     "data": {
      "text/plain": [
       "Text(0, 0.5, 'Objective (i.e. performance)')"
      ]
     },
     "execution_count": 42,
     "metadata": {},
     "output_type": "execute_result"
    },
    {
     "data": {
      "image/png": "[encoded data removed]",
      "text/plain": [
       "<Figure size 432x288 with 1 Axes>"
      ]
     },
     "metadata": {
      "needs_background": "light"
     },
     "output_type": "display_data"
    }
   ],
   "source": [
    "# define a domain to evaluate\n",
    "line = np.linspace(0, 1)\n",
    "# evaluate the function\n",
    "values = f(line)\n",
    "# plot the function\n",
    "plt.plot(line, values)\n",
    "plt.xlabel(\"Input (parameter)\")\n",
    "plt.ylabel(\"Objective (i.e. performance)\")"
   ]
  },
  {
   "cell_type": "code",
   "execution_count": 43,
   "metadata": {},
   "outputs": [
    {
     "data": {
      "text/plain": [
       "x, Type: UniformFloat, Range: [0.0, 1.0], Default: 0.5"
      ]
     },
     "execution_count": 43,
     "metadata": {},
     "output_type": "execute_result"
    }
   ],
   "source": [
    "import ConfigSpace as CS\n",
    "\n",
    "# Start defining a ConfigurationSpace for the Optimizer to search.\n",
    "input_space = CS.ConfigurationSpace(seed=1234)\n",
    "\n",
    "# Add a single continuous input dimension between 0 and 1.\n",
    "input_space.add_hyperparameter(CS.UniformFloatHyperparameter(name='x', lower=0, upper=1))"
   ]
  },
  {
   "cell_type": "code",
   "execution_count": 44,
   "metadata": {},
   "outputs": [],
   "source": [
    "import mlos_core"
   ]
  },
  {
   "cell_type": "code",
   "execution_count": 45,
   "metadata": {},
   "outputs": [],
   "source": [
    "# Choose an optimizer.\n",
    "\n",
    "#optimizer = mlos_core.optimizers.RandomOptimizer(parameter_space=input_space)\n",
    "\n",
    "# optimizer = mlos_core.optimizers.FlamlOptimizer(parameter_space=input_space)\n",
    "\n",
    "# optimizer = mlos_core.optimizers.SmacOptimizer(parameter_space=input_space)\n",
    "\n",
    "optimizer = mlos_core.optimizers.EmukitOptimizer(parameter_space=input_space)"
   ]
  },
  {
   "cell_type": "code",
   "execution_count": 46,
   "metadata": {},
   "outputs": [
    {
     "data": {
      "text/plain": [
       "EmukitOptimizer(parameter_space=Configuration space object:\n",
       "  Hyperparameters:\n",
       "    x, Type: UniformFloat, Range: [0.0, 1.0], Default: 0.5\n",
       ")"
      ]
     },
     "execution_count": 46,
     "metadata": {},
     "output_type": "execute_result"
    }
   ],
   "source": [
    "# Inspect the chosen optimizer\n",
    "optimizer"
   ]
  },
  {
   "attachments": {},
   "cell_type": "markdown",
   "metadata": {},
   "source": [
    "Now, we can run the actual optimization which will carry out the steps outlined above."
   ]
  },
  {
   "cell_type": "code",
   "execution_count": 47,
   "metadata": {},
   "outputs": [
    {
     "name": "stdout",
     "output_type": "stream",
     "text": [
      "          x\n",
      "0  0.749606 \n",
      " 0   -5.990244\n",
      "Name: x, dtype: float64\n",
      "         x\n",
      "0  0.85683 \n",
      " 0   -0.01203\n",
      "Name: x, dtype: float64\n",
      "          x\n",
      "0  0.399354 \n",
      " 0    0.111714\n",
      "Name: x, dtype: float64\n",
      "          x\n",
      "0  0.931236 \n",
      " 0    10.013951\n",
      "Name: x, dtype: float64\n",
      "          x\n",
      "0  0.304241 \n",
      " 0   -0.010422\n",
      "Name: x, dtype: float64\n",
      "          x\n",
      "0  0.763036 \n",
      " 0   -6.002567\n",
      "Name: x, dtype: float64\n",
      "          x\n",
      "0  0.161687 \n",
      " 0   -0.936365\n",
      "Name: x, dtype: float64\n",
      "          x\n",
      "0  0.402348 \n",
      " 0    0.126318\n",
      "Name: x, dtype: float64\n",
      "          x\n",
      "0  0.137106 \n",
      " 0   -0.981619\n",
      "Name: x, dtype: float64\n",
      "          x\n",
      "0  0.308416 \n",
      " 0   -0.006584\n",
      "Name: x, dtype: float64\n",
      "          x\n",
      "0  0.651748 \n",
      " 0   -2.293312\n",
      "Name: x, dtype: float64\n",
      "     x\n",
      "0  0.0 \n",
      " 0    3.02721\n",
      "Name: x, dtype: float64\n",
      "          x\n",
      "0  0.757222 \n",
      " 0   -6.02074\n",
      "Name: x, dtype: float64\n",
      "          x\n",
      "0  0.757268 \n",
      " 0   -6.02074\n",
      "Name: x, dtype: float64\n",
      "          x\n",
      "0  0.757265 \n",
      " 0   -6.02074\n",
      "Name: x, dtype: float64\n"
     ]
    }
   ],
   "source": [
    "def run_optimization(optimizer):\n",
    "    # get a new config value suggestion to try from the optimizer.\n",
    "    suggested_value = optimizer.suggest()\n",
    "    # suggested value are dictionary-like, keys are input space parameter names\n",
    "    # evaluate target function\n",
    "    target_value = f(suggested_value['x'])\n",
    "    print(suggested_value, \"\\n\", target_value)\n",
    "    optimizer.register(suggested_value, target_value)\n",
    "\n",
    "# run for some iterations\n",
    "n_iterations = 15\n",
    "for i in range(n_iterations):\n",
    "    run_optimization(optimizer)"
   ]
  },
  {
   "attachments": {},
   "cell_type": "markdown",
   "metadata": {},
   "source": [
    "After 15 iterations, the model is likely to have captured the general shape, but probably not have found the actual optimum:"
   ]
  },
  {
   "cell_type": "code",
   "execution_count": 48,
   "metadata": {},
   "outputs": [
    {
     "data": {
      "text/html": [
       "<div>\n",
       "<style scoped>\n",
       "    .dataframe tbody tr th:only-of-type {\n",
       "        vertical-align: middle;\n",
       "    }\n",
       "\n",
       "    .dataframe tbody tr th {\n",
       "        vertical-align: top;\n",
       "    }\n",
       "\n",
       "    .dataframe thead th {\n",
       "        text-align: right;\n",
       "    }\n",
       "</style>\n",
       "<table border=\"1\" class=\"dataframe\">\n",
       "  <thead>\n",
       "    <tr style=\"text-align: right;\">\n",
       "      <th></th>\n",
       "      <th>x</th>\n",
       "      <th>score</th>\n",
       "    </tr>\n",
       "  </thead>\n",
       "  <tbody>\n",
       "    <tr>\n",
       "      <th>0</th>\n",
       "      <td>0.749606</td>\n",
       "      <td>-5.990244</td>\n",
       "    </tr>\n",
       "    <tr>\n",
       "      <th>0</th>\n",
       "      <td>0.856830</td>\n",
       "      <td>-0.012030</td>\n",
       "    </tr>\n",
       "    <tr>\n",
       "      <th>0</th>\n",
       "      <td>0.399354</td>\n",
       "      <td>0.111714</td>\n",
       "    </tr>\n",
       "    <tr>\n",
       "      <th>0</th>\n",
       "      <td>0.931236</td>\n",
       "      <td>10.013951</td>\n",
       "    </tr>\n",
       "    <tr>\n",
       "      <th>0</th>\n",
       "      <td>0.304241</td>\n",
       "      <td>-0.010422</td>\n",
       "    </tr>\n",
       "    <tr>\n",
       "      <th>0</th>\n",
       "      <td>0.763036</td>\n",
       "      <td>-6.002567</td>\n",
       "    </tr>\n",
       "    <tr>\n",
       "      <th>0</th>\n",
       "      <td>0.161687</td>\n",
       "      <td>-0.936365</td>\n",
       "    </tr>\n",
       "    <tr>\n",
       "      <th>0</th>\n",
       "      <td>0.402348</td>\n",
       "      <td>0.126318</td>\n",
       "    </tr>\n",
       "    <tr>\n",
       "      <th>0</th>\n",
       "      <td>0.137106</td>\n",
       "      <td>-0.981619</td>\n",
       "    </tr>\n",
       "    <tr>\n",
       "      <th>0</th>\n",
       "      <td>0.308416</td>\n",
       "      <td>-0.006584</td>\n",
       "    </tr>\n",
       "    <tr>\n",
       "      <th>0</th>\n",
       "      <td>0.651748</td>\n",
       "      <td>-2.293312</td>\n",
       "    </tr>\n",
       "    <tr>\n",
       "      <th>0</th>\n",
       "      <td>0.000000</td>\n",
       "      <td>3.027210</td>\n",
       "    </tr>\n",
       "    <tr>\n",
       "      <th>0</th>\n",
       "      <td>0.757222</td>\n",
       "      <td>-6.020740</td>\n",
       "    </tr>\n",
       "    <tr>\n",
       "      <th>0</th>\n",
       "      <td>0.757268</td>\n",
       "      <td>-6.020740</td>\n",
       "    </tr>\n",
       "    <tr>\n",
       "      <th>0</th>\n",
       "      <td>0.757265</td>\n",
       "      <td>-6.020740</td>\n",
       "    </tr>\n",
       "  </tbody>\n",
       "</table>\n",
       "</div>"
      ],
      "text/plain": [
       "          x      score\n",
       "0  0.749606  -5.990244\n",
       "0  0.856830  -0.012030\n",
       "0  0.399354   0.111714\n",
       "0  0.931236  10.013951\n",
       "0  0.304241  -0.010422\n",
       "0  0.763036  -6.002567\n",
       "0  0.161687  -0.936365\n",
       "0  0.402348   0.126318\n",
       "0  0.137106  -0.981619\n",
       "0  0.308416  -0.006584\n",
       "0  0.651748  -2.293312\n",
       "0  0.000000   3.027210\n",
       "0  0.757222  -6.020740\n",
       "0  0.757268  -6.020740\n",
       "0  0.757265  -6.020740"
      ]
     },
     "execution_count": 48,
     "metadata": {},
     "output_type": "execute_result"
    }
   ],
   "source": [
    "optimizer.get_observations()"
   ]
  },
  {
   "cell_type": "code",
   "execution_count": 49,
   "metadata": {},
   "outputs": [
    {
     "data": {
      "image/png": "[encoded data removed]",
      "text/plain": [
       "<Figure size 432x288 with 1 Axes>"
      ]
     },
     "metadata": {
      "needs_background": "light"
     },
     "output_type": "display_data"
    }
   ],
   "source": [
    "# evaluate the surrogate function\n",
    "#\n",
    "surrogate_predictions = optimizer.surrogate_predict(line.reshape(-1, 1))\n",
    "\n",
    "# plot the observations\n",
    "#\n",
    "observations = optimizer.get_observations()\n",
    "plt.scatter(observations.x, observations.score, label='observed points')\n",
    "\n",
    "# plot the true function (usually unknown)\n",
    "#\n",
    "plt.plot(line, values, label='true function')\n",
    "\n",
    "# plot the surrogate\n",
    "#\n",
    "# alpha = optimizer_config.experiment_designer_config.confidence_bound_utility_function_config.alpha\n",
    "# t_values = t.ppf(1 - alpha / 2.0, surrogate_predictions['predicted_value_degrees_of_freedom'])\n",
    "# ci_radii = t_values * np.sqrt(surrogate_predictions['predicted_value_variance'])\n",
    "# value = surrogate_predictions['predicted_value']\n",
    "plt.plot(line, surrogate_predictions, label='surrogate predictions')\n",
    "#plt.fill_between(line, value - ci_radii, value + ci_radii, alpha=.1)\n",
    "#plt.plot(line, -optimizer.experiment_designer.utility_function(optimization_problem.construct_feature_dataframe(pd.DataFrame({'x': line}))), ':', label='utility_function')\n",
    "plt.ylabel(\"Objective function f (performance)\")\n",
    "plt.xlabel(\"Input variable\")\n",
    "plt.legend()\n",
    "plt.show()"
   ]
  },
  {
   "attachments": {},
   "cell_type": "markdown",
   "metadata": {},
   "source": [
    "We can find the best value according to the current surrogate with the ``optimum`` method:"
   ]
  },
  {
   "cell_type": "code",
   "execution_count": 50,
   "metadata": {},
   "outputs": [
    {
     "data": {
      "text/html": [
       "<div>\n",
       "<style scoped>\n",
       "    .dataframe tbody tr th:only-of-type {\n",
       "        vertical-align: middle;\n",
       "    }\n",
       "\n",
       "    .dataframe tbody tr th {\n",
       "        vertical-align: top;\n",
       "    }\n",
       "\n",
       "    .dataframe thead th {\n",
       "        text-align: right;\n",
       "    }\n",
       "</style>\n",
       "<table border=\"1\" class=\"dataframe\">\n",
       "  <thead>\n",
       "    <tr style=\"text-align: right;\">\n",
       "      <th></th>\n",
       "      <th>x</th>\n",
       "      <th>score</th>\n",
       "    </tr>\n",
       "  </thead>\n",
       "  <tbody>\n",
       "    <tr>\n",
       "      <th>0</th>\n",
       "      <td>0.757265</td>\n",
       "      <td>-6.02074</td>\n",
       "    </tr>\n",
       "  </tbody>\n",
       "</table>\n",
       "</div>"
      ],
      "text/plain": [
       "          x    score\n",
       "0  0.757265 -6.02074"
      ]
     },
     "execution_count": 50,
     "metadata": {},
     "output_type": "execute_result"
    }
   ],
   "source": [
    "optimizer.get_best_observation()"
   ]
  },
  {
   "attachments": {},
   "cell_type": "markdown",
   "metadata": {},
   "source": [
    "We can run more iterations to improve the surrogate model and the optimum that is found:"
   ]
  },
  {
   "cell_type": "code",
   "execution_count": 51,
   "metadata": {},
   "outputs": [
    {
     "name": "stdout",
     "output_type": "stream",
     "text": [
      "          x\n",
      "0  0.757268 \n",
      " 0   -6.02074\n",
      "Name: x, dtype: float64\n",
      "          x\n",
      "0  0.757279 \n",
      " 0   -6.02074\n",
      "Name: x, dtype: float64\n",
      "          x\n",
      "0  0.757249 \n",
      " 0   -6.02074\n",
      "Name: x, dtype: float64\n",
      "          x\n",
      "0  0.757263 \n",
      " 0   -6.02074\n",
      "Name: x, dtype: float64\n",
      "          x\n",
      "0  0.757251 \n",
      " 0   -6.02074\n",
      "Name: x, dtype: float64\n",
      "          x\n",
      "0  0.757199 \n",
      " 0   -6.020739\n",
      "Name: x, dtype: float64\n",
      "          x\n",
      "0  0.756909 \n",
      " 0   -6.020678\n",
      "Name: x, dtype: float64\n",
      "          x\n",
      "0  0.757341 \n",
      " 0   -6.020735\n",
      "Name: x, dtype: float64\n",
      "          x\n",
      "0  0.757308 \n",
      " 0   -6.020738\n",
      "Name: x, dtype: float64\n",
      "          x\n",
      "0  0.757588 \n",
      " 0   -6.020679\n",
      "Name: x, dtype: float64\n",
      "          x\n",
      "0  0.757245 \n",
      " 0   -6.02074\n",
      "Name: x, dtype: float64\n",
      "         x\n",
      "0  0.75723 \n",
      " 0   -6.02074\n",
      "Name: x, dtype: float64\n",
      "          x\n",
      "0  0.757232 \n",
      " 0   -6.02074\n",
      "Name: x, dtype: float64\n",
      "          x\n",
      "0  0.757198 \n",
      " 0   -6.020739\n",
      "Name: x, dtype: float64\n",
      "          x\n",
      "0  0.757247 \n",
      " 0   -6.02074\n",
      "Name: x, dtype: float64\n",
      "          x\n",
      "0  0.756861 \n",
      " 0   -6.02066\n",
      "Name: x, dtype: float64\n",
      "          x\n",
      "0  0.757269 \n",
      " 0   -6.02074\n",
      "Name: x, dtype: float64\n",
      "          x\n",
      "0  0.757272 \n",
      " 0   -6.02074\n",
      "Name: x, dtype: float64\n",
      "          x\n",
      "0  0.756987 \n",
      " 0   -6.020704\n",
      "Name: x, dtype: float64\n",
      "          x\n",
      "0  0.757005 \n",
      " 0   -6.020708\n",
      "Name: x, dtype: float64\n",
      "         x\n",
      "0  0.75734 \n",
      " 0   -6.020736\n",
      "Name: x, dtype: float64\n",
      "          x\n",
      "0  0.756433 \n",
      " 0   -6.020385\n",
      "Name: x, dtype: float64\n",
      "          x\n",
      "0  0.543304 \n",
      " 0    0.924707\n",
      "Name: x, dtype: float64\n",
      "          x\n",
      "0  0.758033 \n",
      " 0   -6.020411\n",
      "Name: x, dtype: float64\n",
      "          x\n",
      "0  0.756176 \n",
      " 0   -6.020128\n",
      "Name: x, dtype: float64\n"
     ]
    },
    {
     "name": "stderr",
     "output_type": "stream",
     "text": [
      " /home/bpkroth/.conda/envs/mlos_core/lib/python3.9/site-packages/paramz/transformations.py:111: RuntimeWarning:overflow encountered in expm1\n"
     ]
    },
    {
     "name": "stdout",
     "output_type": "stream",
     "text": [
      "          x\n",
      "0  0.757255 \n",
      " 0   -6.02074\n",
      "Name: x, dtype: float64\n",
      "          x\n",
      "0  0.756916 \n",
      " 0   -6.020681\n",
      "Name: x, dtype: float64\n"
     ]
    },
    {
     "name": "stderr",
     "output_type": "stream",
     "text": [
      " /home/bpkroth/.conda/envs/mlos_core/lib/python3.9/site-packages/paramz/transformations.py:111: RuntimeWarning:overflow encountered in expm1\n",
      " /home/bpkroth/.conda/envs/mlos_core/lib/python3.9/site-packages/paramz/transformations.py:111: RuntimeWarning:overflow encountered in expm1\n"
     ]
    },
    {
     "name": "stdout",
     "output_type": "stream",
     "text": [
      "          x\n",
      "0  0.757262 \n",
      " 0   -6.02074\n",
      "Name: x, dtype: float64\n"
     ]
    },
    {
     "name": "stderr",
     "output_type": "stream",
     "text": [
      " /home/bpkroth/.conda/envs/mlos_core/lib/python3.9/site-packages/paramz/transformations.py:111: RuntimeWarning:overflow encountered in expm1\n"
     ]
    },
    {
     "name": "stdout",
     "output_type": "stream",
     "text": [
      "          x\n",
      "0  0.757289 \n",
      " 0   -6.020739\n",
      "Name: x, dtype: float64\n",
      "          x\n",
      "0  0.758055 \n",
      " 0   -6.020392\n",
      "Name: x, dtype: float64\n",
      "          x\n",
      "0  0.758255 \n",
      " 0   -6.020198\n",
      "Name: x, dtype: float64\n"
     ]
    },
    {
     "name": "stderr",
     "output_type": "stream",
     "text": [
      " /home/bpkroth/.conda/envs/mlos_core/lib/python3.9/site-packages/paramz/transformations.py:111: RuntimeWarning:overflow encountered in expm1\n",
      " /home/bpkroth/.conda/envs/mlos_core/lib/python3.9/site-packages/paramz/transformations.py:111: RuntimeWarning:overflow encountered in expm1\n",
      " /home/bpkroth/.conda/envs/mlos_core/lib/python3.9/site-packages/paramz/transformations.py:111: RuntimeWarning:overflow encountered in expm1\n"
     ]
    },
    {
     "name": "stdout",
     "output_type": "stream",
     "text": [
      "          x\n",
      "0  0.756999 \n",
      " 0   -6.020707\n",
      "Name: x, dtype: float64\n",
      "          x\n",
      "0  0.756967 \n",
      " 0   -6.020698\n",
      "Name: x, dtype: float64\n",
      "          x\n",
      "0  0.756791 \n",
      " 0   -6.020629\n",
      "Name: x, dtype: float64\n"
     ]
    },
    {
     "name": "stderr",
     "output_type": "stream",
     "text": [
      " /home/bpkroth/.conda/envs/mlos_core/lib/python3.9/site-packages/paramz/transformations.py:111: RuntimeWarning:overflow encountered in expm1\n",
      " /home/bpkroth/.conda/envs/mlos_core/lib/python3.9/site-packages/paramz/transformations.py:111: RuntimeWarning:overflow encountered in expm1\n",
      " /home/bpkroth/.conda/envs/mlos_core/lib/python3.9/site-packages/paramz/transformations.py:111: RuntimeWarning:overflow encountered in expm1\n"
     ]
    },
    {
     "name": "stdout",
     "output_type": "stream",
     "text": [
      "          x\n",
      "0  0.757265 \n",
      " 0   -6.02074\n",
      "Name: x, dtype: float64\n",
      "          x\n",
      "0  0.757843 \n",
      " 0   -6.020551\n",
      "Name: x, dtype: float64\n"
     ]
    },
    {
     "name": "stderr",
     "output_type": "stream",
     "text": [
      " /home/bpkroth/.conda/envs/mlos_core/lib/python3.9/site-packages/paramz/transformations.py:111: RuntimeWarning:overflow encountered in expm1\n",
      " /home/bpkroth/.conda/envs/mlos_core/lib/python3.9/site-packages/paramz/transformations.py:111: RuntimeWarning:overflow encountered in expm1\n"
     ]
    },
    {
     "name": "stdout",
     "output_type": "stream",
     "text": [
      "          x\n",
      "0  0.757404 \n",
      " 0   -6.020727\n",
      "Name: x, dtype: float64\n",
      "          x\n",
      "0  0.757109 \n",
      " 0   -6.02073\n",
      "Name: x, dtype: float64\n"
     ]
    },
    {
     "name": "stderr",
     "output_type": "stream",
     "text": [
      " /home/bpkroth/.conda/envs/mlos_core/lib/python3.9/site-packages/paramz/transformations.py:111: RuntimeWarning:overflow encountered in expm1\n",
      " /home/bpkroth/.conda/envs/mlos_core/lib/python3.9/site-packages/paramz/transformations.py:111: RuntimeWarning:overflow encountered in expm1\n"
     ]
    },
    {
     "name": "stdout",
     "output_type": "stream",
     "text": [
      "         x\n",
      "0  0.75725 \n",
      " 0   -6.02074\n",
      "Name: x, dtype: float64\n",
      "         x\n",
      "0  0.75664 \n",
      " 0   -6.020543\n",
      "Name: x, dtype: float64\n",
      "          x\n",
      "0  0.757261 \n",
      " 0   -6.02074\n",
      "Name: x, dtype: float64\n",
      "          x\n",
      "0  0.758124 \n",
      " 0   -6.02033\n",
      "Name: x, dtype: float64\n"
     ]
    },
    {
     "name": "stderr",
     "output_type": "stream",
     "text": [
      " /home/bpkroth/.conda/envs/mlos_core/lib/python3.9/site-packages/paramz/transformations.py:111: RuntimeWarning:overflow encountered in expm1\n",
      " /home/bpkroth/.conda/envs/mlos_core/lib/python3.9/site-packages/paramz/transformations.py:111: RuntimeWarning:overflow encountered in expm1\n",
      " /home/bpkroth/.conda/envs/mlos_core/lib/python3.9/site-packages/paramz/transformations.py:111: RuntimeWarning:overflow encountered in expm1\n",
      " /home/bpkroth/.conda/envs/mlos_core/lib/python3.9/site-packages/paramz/transformations.py:111: RuntimeWarning:overflow encountered in expm1\n"
     ]
    },
    {
     "name": "stdout",
     "output_type": "stream",
     "text": [
      "          x\n",
      "0  0.757954 \n",
      " 0   -6.020474\n",
      "Name: x, dtype: float64\n",
      "          x\n",
      "0  0.757142 \n",
      " 0   -6.020734\n",
      "Name: x, dtype: float64\n"
     ]
    },
    {
     "name": "stderr",
     "output_type": "stream",
     "text": [
      " /home/bpkroth/.conda/envs/mlos_core/lib/python3.9/site-packages/paramz/transformations.py:111: RuntimeWarning:overflow encountered in expm1\n",
      " /home/bpkroth/.conda/envs/mlos_core/lib/python3.9/site-packages/paramz/transformations.py:111: RuntimeWarning:overflow encountered in expm1\n"
     ]
    },
    {
     "name": "stdout",
     "output_type": "stream",
     "text": [
      "         x\n",
      "0  0.75725 \n",
      " 0   -6.02074\n",
      "Name: x, dtype: float64\n",
      "          x\n",
      "0  0.756811 \n",
      " 0   -6.020638\n",
      "Name: x, dtype: float64\n",
      "          x\n",
      "0  0.756975 \n",
      " 0   -6.0207\n",
      "Name: x, dtype: float64\n"
     ]
    },
    {
     "name": "stderr",
     "output_type": "stream",
     "text": [
      " /home/bpkroth/.conda/envs/mlos_core/lib/python3.9/site-packages/paramz/transformations.py:111: RuntimeWarning:overflow encountered in expm1\n",
      " /home/bpkroth/.conda/envs/mlos_core/lib/python3.9/site-packages/paramz/transformations.py:111: RuntimeWarning:overflow encountered in expm1\n",
      " /home/bpkroth/.conda/envs/mlos_core/lib/python3.9/site-packages/paramz/transformations.py:111: RuntimeWarning:overflow encountered in expm1\n"
     ]
    },
    {
     "name": "stdout",
     "output_type": "stream",
     "text": [
      "          x\n",
      "0  0.757143 \n",
      " 0   -6.020734\n",
      "Name: x, dtype: float64\n",
      "          x\n",
      "0  0.756874 \n",
      " 0   -6.020665\n",
      "Name: x, dtype: float64\n"
     ]
    },
    {
     "name": "stderr",
     "output_type": "stream",
     "text": [
      " /home/bpkroth/.conda/envs/mlos_core/lib/python3.9/site-packages/paramz/transformations.py:111: RuntimeWarning:overflow encountered in expm1\n",
      " /home/bpkroth/.conda/envs/mlos_core/lib/python3.9/site-packages/paramz/transformations.py:111: RuntimeWarning:overflow encountered in expm1\n"
     ]
    },
    {
     "name": "stdout",
     "output_type": "stream",
     "text": [
      "          x\n",
      "0  0.756967 \n",
      " 0   -6.020698\n",
      "Name: x, dtype: float64\n"
     ]
    },
    {
     "name": "stderr",
     "output_type": "stream",
     "text": [
      " /home/bpkroth/.conda/envs/mlos_core/lib/python3.9/site-packages/paramz/transformations.py:111: RuntimeWarning:overflow encountered in expm1\n"
     ]
    }
   ],
   "source": [
    "# run for more iterations\n",
    "n_iterations = 50\n",
    "for i in range(n_iterations):\n",
    "    run_optimization(optimizer)"
   ]
  },
  {
   "attachments": {},
   "cell_type": "markdown",
   "metadata": {},
   "source": [
    "There is some improvement in the optimum:"
   ]
  },
  {
   "cell_type": "code",
   "execution_count": 52,
   "metadata": {},
   "outputs": [
    {
     "data": {
      "text/html": [
       "<div>\n",
       "<style scoped>\n",
       "    .dataframe tbody tr th:only-of-type {\n",
       "        vertical-align: middle;\n",
       "    }\n",
       "\n",
       "    .dataframe tbody tr th {\n",
       "        vertical-align: top;\n",
       "    }\n",
       "\n",
       "    .dataframe thead th {\n",
       "        text-align: right;\n",
       "    }\n",
       "</style>\n",
       "<table border=\"1\" class=\"dataframe\">\n",
       "  <thead>\n",
       "    <tr style=\"text-align: right;\">\n",
       "      <th></th>\n",
       "      <th>x</th>\n",
       "      <th>score</th>\n",
       "    </tr>\n",
       "  </thead>\n",
       "  <tbody>\n",
       "    <tr>\n",
       "      <th>0</th>\n",
       "      <td>0.757249</td>\n",
       "      <td>-6.02074</td>\n",
       "    </tr>\n",
       "  </tbody>\n",
       "</table>\n",
       "</div>"
      ],
      "text/plain": [
       "          x    score\n",
       "0  0.757249 -6.02074"
      ]
     },
     "execution_count": 52,
     "metadata": {},
     "output_type": "execute_result"
    }
   ],
   "source": [
    "optimizer.get_best_observation()"
   ]
  },
  {
   "attachments": {},
   "cell_type": "markdown",
   "metadata": {},
   "source": [
    "We can now visualize the surrogate model and optimization process again. The points are colored according to the iteration number, with dark blue points being early in the process and yellow points being later. You can see that at the end of the optimization, the points start to cluster around the optimum."
   ]
  },
  {
   "cell_type": "code",
   "execution_count": 53,
   "metadata": {},
   "outputs": [
    {
     "data": {
      "text/plain": [
       "<matplotlib.legend.Legend at 0x7fe3d3cc3100>"
      ]
     },
     "execution_count": 53,
     "metadata": {},
     "output_type": "execute_result"
    },
    {
     "data": {
      "image/png": "[encoded data removed]",
      "text/plain": [
       "<Figure size 432x288 with 2 Axes>"
      ]
     },
     "metadata": {
      "needs_background": "light"
     },
     "output_type": "display_data"
    }
   ],
   "source": [
    "# evaluate the surrogate function\n",
    "#\n",
    "surrogate_predictions = optimizer.surrogate_predict(line.reshape(-1, 1))\n",
    "\n",
    "# plot the observations\n",
    "#\n",
    "observations = optimizer.get_observations()\n",
    "plt.scatter(observations.x, observations.score, label='observed points')\n",
    "\n",
    "# plot true function (usually unknown)\n",
    "#\n",
    "plt.plot(line, values, label='true function')\n",
    "\n",
    "# plot the surrogate\n",
    "#\n",
    "#ci_raduii = surrogate_predictions['prediction_ci']\n",
    "plt.plot(line, surrogate_predictions, label='surrogate predictions')\n",
    "#plt.fill_between(line, value - ci_radii, value + ci_radii, alpha=.1)\n",
    "#plt.plot(line, -optimizer.utility_function(pd.DataFrame({'x': line})), ':', label='utility_function')\n",
    "\n",
    "ax = plt.gca()\n",
    "ax.set_ylabel(\"Objective function f\")\n",
    "ax.set_xlabel(\"Input variable\")\n",
    "bins_axes = ax.twinx()\n",
    "bins_axes.set_ylabel(\"Points sampled\")\n",
    "pd.DataFrame(observations.x).hist(bins=20, ax=bins_axes, alpha=.3, color='k', label=\"count of query points\")\n",
    "plt.legend()"
   ]
  }
 ],
 "metadata": {
  "interpreter": {
   "hash": "dcb43bafd5ce954ead015d0d89e27da6852c23ac7a7b5a1213fc2fecbe919e66"
  },
  "kernelspec": {
   "display_name": "Python [conda env:mlos_core] *",
   "language": "python",
   "name": "python3"
  },
  "language_info": {
   "codemirror_mode": {
    "name": "ipython",
    "version": 3
   },
   "file_extension": ".py",
   "mimetype": "text/x-python",
   "name": "python",
   "nbconvert_exporter": "python",
   "pygments_lexer": "ipython3",
   "version": "3.9.7"
  }
 },
 "nbformat": 4,
 "nbformat_minor": 4
}
