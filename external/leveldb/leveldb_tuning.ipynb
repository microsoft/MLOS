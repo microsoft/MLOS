{
 "metadata": {
  "language_info": {
   "codemirror_mode": {
    "name": "ipython",
    "version": 3
   },
   "file_extension": ".py",
   "mimetype": "text/x-python",
   "name": "python",
   "nbconvert_exporter": "python",
   "pygments_lexer": "ipython3",
   "version": 3
  },
  "orig_nbformat": 2
 },
 "nbformat": 4,
 "nbformat_minor": 2,
 "cells": [
  {
   "source": [
    "# LevelDB parameter tuning using MLOS"
   ],
   "cell_type": "markdown",
   "metadata": {}
  },
  {
   "source": [
    "## What is Level DB\n",
    "\n",
    "LevelDB is a key value store built using Log structured merge trees (LSMs) [Wiki] (https://en.wikipedia.org/wiki/Log-structured_merge-tree). LevelDB mainly supports the read, write, delete and range query (sorted iteration) operations. \n",
    "\n",
    "Typical to any database system, levelDB also comes with a bunch of parameters which can be tuned according to the workload to get the best performance. Before going to the parameters, we'll briefly describe the working of levelDB. The source code, the architecture and a simple example of how to use levelDB can be found [here](https://github.com/google/leveldb)."
   ],
   "cell_type": "markdown",
   "metadata": {}
  },
  {
   "source": [
    "## LevelDB working\n",
    "<p align=\"center\">\n",
    "  <img width=\"460\" height=\"300\" src=images/leveldb-architecture.png>\n",
    "  <img width=\"460\" height=\"100\" src=images/memtablesstable.png>\n",
    "</p>\n",
    "![Memtable and SSTable structrue](images/memtablesstable.png) "
   ],
   "cell_type": "markdown",
   "metadata": {}
  },
  {
   "source": [
    "Reference\n",
    "---\n",
    "https://wiesen.github.io/post/leveldb-storage-memtable/\n",
    "---"
   ],
   "cell_type": "markdown",
   "metadata": {}
  },
  {
   "cell_type": "code",
   "execution_count": null,
   "metadata": {},
   "outputs": [],
   "source": []
  }
 ]
}