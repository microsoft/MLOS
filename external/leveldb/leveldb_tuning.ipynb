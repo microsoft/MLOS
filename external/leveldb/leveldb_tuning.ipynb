{
 "metadata": {
  "language_info": {
   "codemirror_mode": {
    "name": "ipython",
    "version": 3
   },
   "file_extension": ".py",
   "mimetype": "text/x-python",
   "name": "python",
   "nbconvert_exporter": "python",
   "pygments_lexer": "ipython3",
   "version": "3.6.9-final"
  },
  "orig_nbformat": 2,
  "kernelspec": {
   "name": "Python 3.6.9 64-bit",
   "display_name": "Python 3.6.9 64-bit",
   "metadata": {
    "interpreter": {
     "hash": "31f2aee4e71d21fbe5cf8b01ff0e069b9275f58929596ceb00d14d90e3e16cd6"
    }
   }
  }
 },
 "nbformat": 4,
 "nbformat_minor": 2,
 "cells": [
  {
   "source": [
    "# LevelDB parameter tuning using MLOS"
   ],
   "cell_type": "markdown",
   "metadata": {}
  },
  {
   "source": [
    "## What is Level DB\n",
    "\n",
    "LevelDB is a key value store built using Log structured merge trees (LSMs) [Wiki] (https://en.wikipedia.org/wiki/Log-structured_merge-tree). LevelDB mainly supports the read, write, delete and range query (sorted iteration) operations. \n",
    "\n",
    "Typical to any database system, levelDB also comes with a bunch of parameters which can be tuned according to the workload to get the best performance. Before going to the parameters, we'll briefly describe the working of levelDB. The source code, the architecture and a simple example of how to use levelDB can be found [here](https://github.com/google/leveldb)."
   ],
   "cell_type": "markdown",
   "metadata": {}
  },
  {
   "source": [
    "## LevelDB working\n",
    "<p align=\"center\">\n",
    "  <img width=\"460\" height=\"300\" src=images/leveldb-architecture.png>\n",
    "  <img width=\"460\" height=\"100\" src=images/memtablesstable.png>\n",
    "</p>\n",
    "\n",
    "As shown the diagram above, the main components of LevelDB are the MemTable,the SSTable files and the log file. LeveDB is primarily optimized for writes. \n",
    "MemTable is an in memory data structure to which incoming writes are added after they are appended to the log file. MemTables are typically implemented using skip lists or B+ trees. The parameter write_buffer_size (paramter input at DB initialization) can be used to control the size of the MemTable and the log file. \n",
    "\n",
    "Once the MemTable reaches the write_buffer_size (Default 4MB), a new MemTable and log file are created and the original MemTable is made immutable. This immutable MemTable is converted to a new SSTable in the background to be added to the Level 0 of the LSM tree. \n",
    "\n",
    "SSTable: It is a file in which the key value pairs are stored sorted by keys. The size of SSTable is controlled by the parameter called max_file_size (Default 2MB).\n",
    "\n",
    "Once the number of SSTable at Level 0 reaches a certain threshold controlled by the paramter kL0_CompactionTrigger (Default 4), these files are merged with higher level overlapping files. If no files are present in the higher level, the files are combined using merge sort techniques and added to higher level. A new file is created for every 2 MB of data by default. \n",
    "\n",
    "For higher levels from 1 to the maximum number of levels, compaction process (merging process) is triggered when the level gets filled. \n",
    "\n",
    "A detailed explanation of the working of LeveDB is presented [here](https://github.com/google/leveldb/blob/master/doc/impl.md).\n"
   ],
   "cell_type": "markdown",
   "metadata": {}
  },
  {
   "source": [
    "## LevelDB paramter tuning using MLOS\n",
    "\n",
    "In this lab we will be tuning some of the important paramters of LevelDB and observe how it affects the performance. The parameters that we will be tuning are write_buffer_size and max_file_size to try to optimize the throughput and latency of LevelDB for Sequential and random workloads. "
   ],
   "cell_type": "markdown",
   "metadata": {}
  },
  {
   "source": [
    "## LevelDB installation: Instruction on Ubuntu 18.04\n",
    "\n",
    "Follow the commands below to get, compile and install LevelDB\n",
    "\n",
    "- sudo apt update\n",
    "- sudo apt-get install cmake\n",
    "- git clone --recurse-submodules https://github.com/google/leveldb.git\n",
    "- mkdir -p build && cd build\n",
    "- cmake -DCMAKE_BUILD_TYPE=Release .. && cmake --build .\n",
    "\n",
    "Now, from the ~/leveldb/build directory, you should be able to execute ./db_bench, the microbenchmark which can be used to measure the performance of LevelDB for different workloads. \n",
    "\n",
    "Please take a look at the db_bench.cc file in the ~/leveldb/benchmarks directory and get an idea about the input parameters and workloads that are possible. \n",
    "\n",
    "An example command to run a workload that does random writes of 1M values with value size 100 B is:\n",
    "./db_bench --benchmarks=fillrandom --val_size=100 --num=1000000"
   ],
   "cell_type": "markdown",
   "metadata": {}
  },
  {
   "cell_type": "code",
   "execution_count": 13,
   "metadata": {
    "tags": []
   },
   "outputs": [
    {
     "output_type": "stream",
     "name": "stdout",
     "text": "3.851 28.7\n"
    }
   ],
   "source": [
    "# Please change the leveldb_path to the build directory of your leveldb installation\n",
    "leveldb_path = \"/users/nithinv/leveldb/build/\"\n",
    "command = \"db_bench --benchmarks=fillrandom\"\n",
    "\n",
    "import subprocess\n",
    "def run_workload():\n",
    "    result = subprocess.check_output(leveldb_path + command, shell=True)\n",
    "    stats = (str(result).split(\":\")[-1]).split(\";\")\n",
    "    latency, throughput = float(stats[0].strip().split(\" \")[0]), float(stats[1].strip().split(\" \")[0])\n",
    "    print(latency, throughput)\n",
    "    return latency, throughput\n",
    "\n",
    "def initialize_optimizer():\n",
    "    pass\n",
    "\n",
    "def run_optimizer():\n",
    "    # Parameter 1: write_buffer_size: min_value = 64 KB, max_value = 1 GB\n",
    "    # Parameter 2: max_file_size: min_value = 1 MB, max_value = 1 GB\n",
    "    # Optimization parameters: latency and throughput, both returned by run_workload\n",
    "    pass\n",
    "\n",
    "run_workload()"
   ]
  },
  {
   "source": [
    "### Reference\n",
    "https://wiesen.github.io/post/leveldb-storage-memtable/\n",
    "\n",
    "https://www.igvita.com/2012/02/06/sstable-and-log-structured-storage-leveldb/"
   ],
   "cell_type": "markdown",
   "metadata": {}
  },
  {
   "cell_type": "code",
   "execution_count": null,
   "metadata": {},
   "outputs": [],
   "source": []
  }
 ]
}