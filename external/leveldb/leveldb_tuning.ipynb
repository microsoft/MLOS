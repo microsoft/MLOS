{
 "metadata": {
  "language_info": {
   "codemirror_mode": {
    "name": "ipython",
    "version": 3
   },
   "file_extension": ".py",
   "mimetype": "text/x-python",
   "name": "python",
   "nbconvert_exporter": "python",
   "pygments_lexer": "ipython3",
   "version": 3
  },
  "orig_nbformat": 2
 },
 "nbformat": 4,
 "nbformat_minor": 2,
 "cells": [
  {
   "source": [
    "# LevelDB parameter tuning using MLOS"
   ],
   "cell_type": "markdown",
   "metadata": {}
  },
  {
   "source": [
    "## What is Level DB\n",
    "\n",
    "LevelDB is a key value store built using Log structured merge trees (LSMs) [Wiki] (https://en.wikipedia.org/wiki/Log-structured_merge-tree). LevelDB mainly supports the read, write, delete and range query (sorted iteration) operations. \n",
    "\n",
    "Typical to any database system, levelDB also comes with a bunch of parameters which can be tuned according to the workload to get the best performance. Before going to the parameters, we'll briefly describe the working of levelDB. The source code, the architecture and a simple example of how to use levelDB can be found [here](https://github.com/google/leveldb)."
   ],
   "cell_type": "markdown",
   "metadata": {}
  },
  {
   "source": [
    "## LevelDB working\n",
    "<p align=\"center\">\n",
    "  <img width=\"460\" height=\"300\" src=images/leveldb-architecture.png>\n",
    "  <img width=\"460\" height=\"100\" src=images/memtablesstable.png>\n",
    "</p>\n",
    "\n",
    "As shown the diagram above, the main components of LevelDB are the MemTable,the SSTable files and the log file. LeveDB is primarily optimized for writes. \n",
    "MemTable is an in memory data structure to which incoming writes are added after they are appended to the log file. MemTables are typically implemented using skip lists or B+ trees. The parameter write_buffer_size (paramter input at DB initialization) can be used to control the size of the MemTable and the log file. \n",
    "\n",
    "Once the MemTable reaches the write_buffer_size (Default 4MB), a new MemTable and log file are created and the original MemTable is made immutable. This immutable MemTable is converted to a new SSTable in the background to be added to the Level 0 of the LSM tree. \n",
    "\n",
    "SSTable: It is a file in which the key value pairs are stored sorted by keys. The size of SSTable is controlled by the parameter called max_file_size (Default 2MB).\n",
    "\n",
    "Once the number of SSTable at Level 0 reaches a certain threshold controlled by the paramter kL0_CompactionTrigger (Default 4), these files are merged with higher level overlapping files. If no files are present in the higher level, the files are combined using merge sort techniques and added to higher level. A new file is created for every 2 MB of data by default. \n",
    "\n",
    "For higher levels from 1 to the maximum number of levels, compaction process (merging process) is triggered when the level gets filled. \n",
    "\n",
    "A detailed explanation of the working of LeveDB is presented [here](https://github.com/google/leveldb/blob/master/doc/impl.md).\n"
   ],
   "cell_type": "markdown",
   "metadata": {}
  },
  {
   "source": [
    "## LevelDB paramter tuning using MLOS\n",
    "\n",
    "In this lab we will be tuning some of the important paramters of LevelDB and observe how it affects the performance. The parameters that we will be tuning are write_buffer_size and max_file_size to try to optimize the throughput and latency of LevelDB for Sequential and random workloads. "
   ],
   "cell_type": "markdown",
   "metadata": {}
  },
  {
   "source": [
    "### Reference\n",
    "https://wiesen.github.io/post/leveldb-storage-memtable/\n",
    "\n",
    "https://www.igvita.com/2012/02/06/sstable-and-log-structured-storage-leveldb/"
   ],
   "cell_type": "markdown",
   "metadata": {}
  },
  {
   "cell_type": "code",
   "execution_count": null,
   "metadata": {},
   "outputs": [],
   "source": []
  }
 ]
}